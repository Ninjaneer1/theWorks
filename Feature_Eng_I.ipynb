{
 "cells": [
  {
   "cell_type": "code",
   "execution_count": 1,
   "metadata": {},
   "outputs": [
    {
     "data": {
      "application/javascript": [
       "\n",
       "            setTimeout(function() {\n",
       "                var nbb_cell_id = 1;\n",
       "                var nbb_unformatted_code = \"%reload_ext nb_black\";\n",
       "                var nbb_formatted_code = \"%reload_ext nb_black\";\n",
       "                var nbb_cells = Jupyter.notebook.get_cells();\n",
       "                for (var i = 0; i < nbb_cells.length; ++i) {\n",
       "                    if (nbb_cells[i].input_prompt_number == nbb_cell_id) {\n",
       "                        if (nbb_cells[i].get_text() == nbb_unformatted_code) {\n",
       "                             nbb_cells[i].set_text(nbb_formatted_code);\n",
       "                        }\n",
       "                        break;\n",
       "                    }\n",
       "                }\n",
       "            }, 500);\n",
       "            "
      ],
      "text/plain": [
       "<IPython.core.display.Javascript object>"
      ]
     },
     "metadata": {},
     "output_type": "display_data"
    }
   ],
   "source": [
    "%reload_ext nb_black"
   ]
  },
  {
   "cell_type": "code",
   "execution_count": 2,
   "metadata": {},
   "outputs": [
    {
     "data": {
      "application/javascript": [
       "\n",
       "            setTimeout(function() {\n",
       "                var nbb_cell_id = 2;\n",
       "                var nbb_unformatted_code = \"import pandas as pd\\nimport numpy as np\\nimport seaborn as sns\\nimport matplotlib.pyplot as plt\\nimport config\\nfrom scipy.stats.stats import ttest_ind\\n\\n%matplotlib inline\\nfrom sqlalchemy import create_engine\\nimport warnings\\n\\nwarnings.filterwarnings(\\\"ignore\\\")\";\n",
       "                var nbb_formatted_code = \"import pandas as pd\\nimport numpy as np\\nimport seaborn as sns\\nimport matplotlib.pyplot as plt\\nimport config\\nfrom scipy.stats.stats import ttest_ind\\n\\n%matplotlib inline\\nfrom sqlalchemy import create_engine\\nimport warnings\\n\\nwarnings.filterwarnings(\\\"ignore\\\")\";\n",
       "                var nbb_cells = Jupyter.notebook.get_cells();\n",
       "                for (var i = 0; i < nbb_cells.length; ++i) {\n",
       "                    if (nbb_cells[i].input_prompt_number == nbb_cell_id) {\n",
       "                        if (nbb_cells[i].get_text() == nbb_unformatted_code) {\n",
       "                             nbb_cells[i].set_text(nbb_formatted_code);\n",
       "                        }\n",
       "                        break;\n",
       "                    }\n",
       "                }\n",
       "            }, 500);\n",
       "            "
      ],
      "text/plain": [
       "<IPython.core.display.Javascript object>"
      ]
     },
     "metadata": {},
     "output_type": "display_data"
    }
   ],
   "source": [
    "import pandas as pd\n",
    "import numpy as np\n",
    "import seaborn as sns\n",
    "import matplotlib.pyplot as plt\n",
    "import config\n",
    "from scipy.stats.stats import ttest_ind\n",
    "\n",
    "%matplotlib inline\n",
    "from sqlalchemy import create_engine\n",
    "import warnings\n",
    "\n",
    "warnings.filterwarnings(\"ignore\")"
   ]
  },
  {
   "cell_type": "code",
   "execution_count": 3,
   "metadata": {},
   "outputs": [
    {
     "data": {
      "application/javascript": [
       "\n",
       "            setTimeout(function() {\n",
       "                var nbb_cell_id = 3;\n",
       "                var nbb_unformatted_code = \"postgres_user = config.user\\npostgres_pw = config.password\\npostgres_host = config.host\\npostgres_port = config.port\\npostgres_db = \\\"studentsperformance\\\"\\n\\nengine = create_engine(\\n    \\\"postgresql://{}:{}@{}:{}/{}\\\".format(\\n        postgres_user, postgres_pw, postgres_host, postgres_port, postgres_db\\n    )\\n)\\n\\ndf = pd.read_sql_query(\\\"select * from studentsperformance\\\", con=engine)\\n\\n# No need for an open connection,\\n# because you're only doing a single query\\nengine.dispose()\";\n",
       "                var nbb_formatted_code = \"postgres_user = config.user\\npostgres_pw = config.password\\npostgres_host = config.host\\npostgres_port = config.port\\npostgres_db = \\\"studentsperformance\\\"\\n\\nengine = create_engine(\\n    \\\"postgresql://{}:{}@{}:{}/{}\\\".format(\\n        postgres_user, postgres_pw, postgres_host, postgres_port, postgres_db\\n    )\\n)\\n\\ndf = pd.read_sql_query(\\\"select * from studentsperformance\\\", con=engine)\\n\\n# No need for an open connection,\\n# because you're only doing a single query\\nengine.dispose()\";\n",
       "                var nbb_cells = Jupyter.notebook.get_cells();\n",
       "                for (var i = 0; i < nbb_cells.length; ++i) {\n",
       "                    if (nbb_cells[i].input_prompt_number == nbb_cell_id) {\n",
       "                        if (nbb_cells[i].get_text() == nbb_unformatted_code) {\n",
       "                             nbb_cells[i].set_text(nbb_formatted_code);\n",
       "                        }\n",
       "                        break;\n",
       "                    }\n",
       "                }\n",
       "            }, 500);\n",
       "            "
      ],
      "text/plain": [
       "<IPython.core.display.Javascript object>"
      ]
     },
     "metadata": {},
     "output_type": "display_data"
    }
   ],
   "source": [
    "postgres_user = config.user\n",
    "postgres_pw = config.password\n",
    "postgres_host = config.host\n",
    "postgres_port = config.port\n",
    "postgres_db = \"studentsperformance\"\n",
    "\n",
    "engine = create_engine(\n",
    "    \"postgresql://{}:{}@{}:{}/{}\".format(\n",
    "        postgres_user, postgres_pw, postgres_host, postgres_port, postgres_db\n",
    "    )\n",
    ")\n",
    "\n",
    "df = pd.read_sql_query(\"select * from studentsperformance\", con=engine)\n",
    "\n",
    "# No need for an open connection,\n",
    "# because you're only doing a single query\n",
    "engine.dispose()"
   ]
  },
  {
   "cell_type": "markdown",
   "metadata": {},
   "source": [
    "## 1. Are the exam score variables distributed normally? If not, apply Box-Cox transformation. Does anything change?"
   ]
  },
  {
   "cell_type": "code",
   "execution_count": 4,
   "metadata": {},
   "outputs": [
    {
     "data": {
      "application/javascript": [
       "\n",
       "            setTimeout(function() {\n",
       "                var nbb_cell_id = 4;\n",
       "                var nbb_unformatted_code = \"from scipy.stats import boxcox\";\n",
       "                var nbb_formatted_code = \"from scipy.stats import boxcox\";\n",
       "                var nbb_cells = Jupyter.notebook.get_cells();\n",
       "                for (var i = 0; i < nbb_cells.length; ++i) {\n",
       "                    if (nbb_cells[i].input_prompt_number == nbb_cell_id) {\n",
       "                        if (nbb_cells[i].get_text() == nbb_unformatted_code) {\n",
       "                             nbb_cells[i].set_text(nbb_formatted_code);\n",
       "                        }\n",
       "                        break;\n",
       "                    }\n",
       "                }\n",
       "            }, 500);\n",
       "            "
      ],
      "text/plain": [
       "<IPython.core.display.Javascript object>"
      ]
     },
     "metadata": {},
     "output_type": "display_data"
    }
   ],
   "source": [
    "from scipy.stats import boxcox"
   ]
  },
  {
   "cell_type": "code",
   "execution_count": 5,
   "metadata": {},
   "outputs": [
    {
     "data": {
      "image/png": "[encoded data removed]",
      "text/plain": [
       "<Figure size 1296x720 with 6 Axes>"
      ]
     },
     "metadata": {
      "needs_background": "light"
     },
     "output_type": "display_data"
    },
    {
     "data": {
      "application/javascript": [
       "\n",
       "            setTimeout(function() {\n",
       "                var nbb_cell_id = 5;\n",
       "                var nbb_unformatted_code = \"math_boxcox,_ = boxcox(df[df['math score'] > 0]['math score'])\\nreading_boxcox,_ = boxcox(df['reading score'])\\nwriting_boxcox,_ = boxcox(df['writing score'])\\nplt.figure(figsize=(18,10))\\n\\nplt.subplot(231)\\nplt.hist(df['math score'])\\nplt.title('histogram of math score')\\n\\nplt.subplot(232)\\nplt.hist(df['math score'])\\nplt.title('histogram of reading score')\\n\\nplt.subplot(233)\\nplt.hist(df['math score'])\\nplt.title('histogram of writing score')\\n\\nplt.subplot(234)\\nplt.hist(math_boxcox)\\nplt.title('histogram of math score (Box-Cox transformed)')\\n\\nplt.subplot(235)\\nplt.hist(reading_boxcox)\\nplt.title('histogram of reading score(Box-Cox transformed)')\\n\\nplt.subplot(236)\\nplt.hist(writing_boxcox)\\nplt.title('histogram of writing score(Box-Cox transformed)')\\n\\nplt.show()\\n\\n    \";\n",
       "                var nbb_formatted_code = \"math_boxcox, _ = boxcox(df[df[\\\"math score\\\"] > 0][\\\"math score\\\"])\\nreading_boxcox, _ = boxcox(df[\\\"reading score\\\"])\\nwriting_boxcox, _ = boxcox(df[\\\"writing score\\\"])\\nplt.figure(figsize=(18, 10))\\n\\nplt.subplot(231)\\nplt.hist(df[\\\"math score\\\"])\\nplt.title(\\\"histogram of math score\\\")\\n\\nplt.subplot(232)\\nplt.hist(df[\\\"math score\\\"])\\nplt.title(\\\"histogram of reading score\\\")\\n\\nplt.subplot(233)\\nplt.hist(df[\\\"math score\\\"])\\nplt.title(\\\"histogram of writing score\\\")\\n\\nplt.subplot(234)\\nplt.hist(math_boxcox)\\nplt.title(\\\"histogram of math score (Box-Cox transformed)\\\")\\n\\nplt.subplot(235)\\nplt.hist(reading_boxcox)\\nplt.title(\\\"histogram of reading score(Box-Cox transformed)\\\")\\n\\nplt.subplot(236)\\nplt.hist(writing_boxcox)\\nplt.title(\\\"histogram of writing score(Box-Cox transformed)\\\")\\n\\nplt.show()\";\n",
       "                var nbb_cells = Jupyter.notebook.get_cells();\n",
       "                for (var i = 0; i < nbb_cells.length; ++i) {\n",
       "                    if (nbb_cells[i].input_prompt_number == nbb_cell_id) {\n",
       "                        if (nbb_cells[i].get_text() == nbb_unformatted_code) {\n",
       "                             nbb_cells[i].set_text(nbb_formatted_code);\n",
       "                        }\n",
       "                        break;\n",
       "                    }\n",
       "                }\n",
       "            }, 500);\n",
       "            "
      ],
      "text/plain": [
       "<IPython.core.display.Javascript object>"
      ]
     },
     "metadata": {},
     "output_type": "display_data"
    }
   ],
   "source": [
    "math_boxcox, _ = boxcox(df[df[\"math score\"] > 0][\"math score\"])\n",
    "reading_boxcox, _ = boxcox(df[\"reading score\"])\n",
    "writing_boxcox, _ = boxcox(df[\"writing score\"])\n",
    "plt.figure(figsize=(18, 10))\n",
    "\n",
    "plt.subplot(231)\n",
    "plt.hist(df[\"math score\"])\n",
    "plt.title(\"histogram of math score\")\n",
    "\n",
    "plt.subplot(232)\n",
    "plt.hist(df[\"math score\"])\n",
    "plt.title(\"histogram of reading score\")\n",
    "\n",
    "plt.subplot(233)\n",
    "plt.hist(df[\"math score\"])\n",
    "plt.title(\"histogram of writing score\")\n",
    "\n",
    "plt.subplot(234)\n",
    "plt.hist(math_boxcox)\n",
    "plt.title(\"histogram of math score (Box-Cox transformed)\")\n",
    "\n",
    "plt.subplot(235)\n",
    "plt.hist(reading_boxcox)\n",
    "plt.title(\"histogram of reading score(Box-Cox transformed)\")\n",
    "\n",
    "plt.subplot(236)\n",
    "plt.hist(writing_boxcox)\n",
    "plt.title(\"histogram of writing score(Box-Cox transformed)\")\n",
    "\n",
    "plt.show()"
   ]
  },
  {
   "cell_type": "markdown",
   "metadata": {},
   "source": [
    "This did make them a little more normal, but a Jarque-Bera and Normality tests will be done to quantify their normality."
   ]
  },
  {
   "cell_type": "code",
   "execution_count": 6,
   "metadata": {},
   "outputs": [
    {
     "name": "stdout",
     "output_type": "stream",
     "text": [
      "Jarque-Bera test stat is 15.912256686712709 and p value is 0.0003505075386818213\n",
      "Normality test stat is 15.408960513931822 and p value is 0.00045080293869937836\n",
      "Jarque-Bera test stat is 11.383300575987892 and p value is 0.0033740202672214448\n",
      "Normality test stat is 11.11741279628622 and p value is 0.003853758403576582\n",
      "Jarque-Bera test stat is 13.98509448257235 and p value is 0.0009187033894586527\n",
      "Normality test stat is 13.606450837263859 and p value is 0.0011101885439899974\n"
     ]
    },
    {
     "data": {
      "application/javascript": [
       "\n",
       "            setTimeout(function() {\n",
       "                var nbb_cell_id = 6;\n",
       "                var nbb_unformatted_code = \"from scipy.stats import jarque_bera\\nfrom scipy.stats import normaltest\\n\\njb_stats = jarque_bera(df['math score'])\\nnorm_stats = normaltest(df['math score'])\\n\\nprint(\\\"Jarque-Bera test stat is {0} and p value is {1}\\\".format(jb_stats[0], jb_stats[1]))\\nprint('Normality test stat is {0} and p value is {1}'.format(norm_stats[0], norm_stats[1]))\\n\\njb_stats = jarque_bera(df['reading score'])\\nnorm_stats = normaltest(df['reading score'])\\n\\nprint(\\\"Jarque-Bera test stat is {0} and p value is {1}\\\".format(jb_stats[0], jb_stats[1]))\\nprint('Normality test stat is {0} and p value is {1}'.format(norm_stats[0], norm_stats[1]))\\n\\njb_stats = jarque_bera(df['writing score'])\\nnorm_stats = normaltest(df['writing score'])\\n\\nprint(\\\"Jarque-Bera test stat is {0} and p value is {1}\\\".format(jb_stats[0], jb_stats[1]))\\nprint('Normality test stat is {0} and p value is {1}'.format(norm_stats[0], norm_stats[1]))\";\n",
       "                var nbb_formatted_code = \"from scipy.stats import jarque_bera\\nfrom scipy.stats import normaltest\\n\\njb_stats = jarque_bera(df[\\\"math score\\\"])\\nnorm_stats = normaltest(df[\\\"math score\\\"])\\n\\nprint(\\n    \\\"Jarque-Bera test stat is {0} and p value is {1}\\\".format(jb_stats[0], jb_stats[1])\\n)\\nprint(\\n    \\\"Normality test stat is {0} and p value is {1}\\\".format(norm_stats[0], norm_stats[1])\\n)\\n\\njb_stats = jarque_bera(df[\\\"reading score\\\"])\\nnorm_stats = normaltest(df[\\\"reading score\\\"])\\n\\nprint(\\n    \\\"Jarque-Bera test stat is {0} and p value is {1}\\\".format(jb_stats[0], jb_stats[1])\\n)\\nprint(\\n    \\\"Normality test stat is {0} and p value is {1}\\\".format(norm_stats[0], norm_stats[1])\\n)\\n\\njb_stats = jarque_bera(df[\\\"writing score\\\"])\\nnorm_stats = normaltest(df[\\\"writing score\\\"])\\n\\nprint(\\n    \\\"Jarque-Bera test stat is {0} and p value is {1}\\\".format(jb_stats[0], jb_stats[1])\\n)\\nprint(\\n    \\\"Normality test stat is {0} and p value is {1}\\\".format(norm_stats[0], norm_stats[1])\\n)\";\n",
       "                var nbb_cells = Jupyter.notebook.get_cells();\n",
       "                for (var i = 0; i < nbb_cells.length; ++i) {\n",
       "                    if (nbb_cells[i].input_prompt_number == nbb_cell_id) {\n",
       "                        if (nbb_cells[i].get_text() == nbb_unformatted_code) {\n",
       "                             nbb_cells[i].set_text(nbb_formatted_code);\n",
       "                        }\n",
       "                        break;\n",
       "                    }\n",
       "                }\n",
       "            }, 500);\n",
       "            "
      ],
      "text/plain": [
       "<IPython.core.display.Javascript object>"
      ]
     },
     "metadata": {},
     "output_type": "display_data"
    }
   ],
   "source": [
    "from scipy.stats import jarque_bera\n",
    "from scipy.stats import normaltest\n",
    "\n",
    "jb_stats = jarque_bera(df['math score'])\n",
    "norm_stats = normaltest(df['math score'])\n",
    "\n",
    "print(\"Jarque-Bera test stat is {0} and p value is {1}\".format(jb_stats[0], jb_stats[1]))\n",
    "print('Normality test stat is {0} and p value is {1}'.format(norm_stats[0], norm_stats[1]))\n",
    "\n",
    "jb_stats = jarque_bera(df['reading score'])\n",
    "norm_stats = normaltest(df['reading score'])\n",
    "\n",
    "print(\"Jarque-Bera test stat is {0} and p value is {1}\".format(jb_stats[0], jb_stats[1]))\n",
    "print('Normality test stat is {0} and p value is {1}'.format(norm_stats[0], norm_stats[1]))\n",
    "\n",
    "jb_stats = jarque_bera(df['writing score'])\n",
    "norm_stats = normaltest(df['writing score'])\n",
    "\n",
    "print(\"Jarque-Bera test stat is {0} and p value is {1}\".format(jb_stats[0], jb_stats[1]))\n",
    "print('Normality test stat is {0} and p value is {1}'.format(norm_stats[0], norm_stats[1]))"
   ]
  },
  {
   "cell_type": "code",
   "execution_count": 7,
   "metadata": {},
   "outputs": [
    {
     "name": "stdout",
     "output_type": "stream",
     "text": [
      "Jarque-Bera test stat is 1.7200982636836308 and p value is 0.42314129209599327\n",
      "Normality test stat is 1.8323075851586939 and p value is 0.4000547794685686\n",
      "Jarque-Bera test stat is 4.119778573559666 and p value is 0.127468081515408\n",
      "Normality test stat is 5.282274606965809 and p value is 0.07128015626992971\n",
      "Jarque-Bera test stat is 4.746478090042761 and p value is 0.09317842784043195\n",
      "Normality test stat is 6.267311355052559 and p value is 0.04355827085003712\n"
     ]
    },
    {
     "data": {
      "application/javascript": [
       "\n",
       "            setTimeout(function() {\n",
       "                var nbb_cell_id = 7;\n",
       "                var nbb_unformatted_code = \"jb_stats = jarque_bera(math_boxcox)\\nnorm_stats = normaltest(math_boxcox)\\n\\nprint(\\\"Jarque-Bera test stat is {0} and p value is {1}\\\".format(jb_stats[0], jb_stats[1]))\\nprint('Normality test stat is {0} and p value is {1}'.format(norm_stats[0], norm_stats[1]))\\n\\njb_stats = jarque_bera(reading_boxcox)\\nnorm_stats = normaltest(reading_boxcox)\\n\\nprint(\\\"Jarque-Bera test stat is {0} and p value is {1}\\\".format(jb_stats[0], jb_stats[1]))\\nprint('Normality test stat is {0} and p value is {1}'.format(norm_stats[0], norm_stats[1]))\\n\\njb_stats = jarque_bera(writing_boxcox)\\nnorm_stats = normaltest(writing_boxcox)\\n\\nprint(\\\"Jarque-Bera test stat is {0} and p value is {1}\\\".format(jb_stats[0], jb_stats[1]))\\nprint('Normality test stat is {0} and p value is {1}'.format(norm_stats[0], norm_stats[1]))\";\n",
       "                var nbb_formatted_code = \"jb_stats = jarque_bera(math_boxcox)\\nnorm_stats = normaltest(math_boxcox)\\n\\nprint(\\n    \\\"Jarque-Bera test stat is {0} and p value is {1}\\\".format(jb_stats[0], jb_stats[1])\\n)\\nprint(\\n    \\\"Normality test stat is {0} and p value is {1}\\\".format(norm_stats[0], norm_stats[1])\\n)\\n\\njb_stats = jarque_bera(reading_boxcox)\\nnorm_stats = normaltest(reading_boxcox)\\n\\nprint(\\n    \\\"Jarque-Bera test stat is {0} and p value is {1}\\\".format(jb_stats[0], jb_stats[1])\\n)\\nprint(\\n    \\\"Normality test stat is {0} and p value is {1}\\\".format(norm_stats[0], norm_stats[1])\\n)\\n\\njb_stats = jarque_bera(writing_boxcox)\\nnorm_stats = normaltest(writing_boxcox)\\n\\nprint(\\n    \\\"Jarque-Bera test stat is {0} and p value is {1}\\\".format(jb_stats[0], jb_stats[1])\\n)\\nprint(\\n    \\\"Normality test stat is {0} and p value is {1}\\\".format(norm_stats[0], norm_stats[1])\\n)\";\n",
       "                var nbb_cells = Jupyter.notebook.get_cells();\n",
       "                for (var i = 0; i < nbb_cells.length; ++i) {\n",
       "                    if (nbb_cells[i].input_prompt_number == nbb_cell_id) {\n",
       "                        if (nbb_cells[i].get_text() == nbb_unformatted_code) {\n",
       "                             nbb_cells[i].set_text(nbb_formatted_code);\n",
       "                        }\n",
       "                        break;\n",
       "                    }\n",
       "                }\n",
       "            }, 500);\n",
       "            "
      ],
      "text/plain": [
       "<IPython.core.display.Javascript object>"
      ]
     },
     "metadata": {},
     "output_type": "display_data"
    }
   ],
   "source": [
    "jb_stats = jarque_bera(math_boxcox)\n",
    "norm_stats = normaltest(math_boxcox)\n",
    "\n",
    "print(\n",
    "    \"Jarque-Bera test stat is {0} and p value is {1}\".format(jb_stats[0], jb_stats[1])\n",
    ")\n",
    "print(\n",
    "    \"Normality test stat is {0} and p value is {1}\".format(norm_stats[0], norm_stats[1])\n",
    ")\n",
    "\n",
    "jb_stats = jarque_bera(reading_boxcox)\n",
    "norm_stats = normaltest(reading_boxcox)\n",
    "\n",
    "print(\n",
    "    \"Jarque-Bera test stat is {0} and p value is {1}\".format(jb_stats[0], jb_stats[1])\n",
    ")\n",
    "print(\n",
    "    \"Normality test stat is {0} and p value is {1}\".format(norm_stats[0], norm_stats[1])\n",
    ")\n",
    "\n",
    "jb_stats = jarque_bera(writing_boxcox)\n",
    "norm_stats = normaltest(writing_boxcox)\n",
    "\n",
    "print(\n",
    "    \"Jarque-Bera test stat is {0} and p value is {1}\".format(jb_stats[0], jb_stats[1])\n",
    ")\n",
    "print(\n",
    "    \"Normality test stat is {0} and p value is {1}\".format(norm_stats[0], norm_stats[1])\n",
    ")"
   ]
  },
  {
   "cell_type": "markdown",
   "metadata": {},
   "source": [
    "The Box-Cox transform clearly made the distributions more normal. "
   ]
  },
  {
   "cell_type": "markdown",
   "metadata": {},
   "source": [
    "## 2. Say, we want to use a single variable for the exam scores as our target. For this purpose, create a new variable by taking a weighted average of the exam scores. Check whether this new variable is normally distributed or not. If it's not normally distributed, apply Box-Cox transformation and check whether the transformed variable is normally distributed."
   ]
  },
  {
   "cell_type": "code",
   "execution_count": 8,
   "metadata": {},
   "outputs": [
    {
     "data": {
      "image/png": "[encoded data removed]",
      "text/plain": [
       "<Figure size 432x288 with 1 Axes>"
      ]
     },
     "metadata": {
      "needs_background": "light"
     },
     "output_type": "display_data"
    },
    {
     "data": {
      "application/javascript": [
       "\n",
       "            setTimeout(function() {\n",
       "                var nbb_cell_id = 8;\n",
       "                var nbb_unformatted_code = \"exam_score = df['math score'] + df['reading score'] + df['writing score']\\n\\nplt.hist(exam_score)\\nplt.title('total score distribution')\\nplt.show()\";\n",
       "                var nbb_formatted_code = \"exam_score = df[\\\"math score\\\"] + df[\\\"reading score\\\"] + df[\\\"writing score\\\"]\\n\\nplt.hist(exam_score)\\nplt.title(\\\"total score distribution\\\")\\nplt.show()\";\n",
       "                var nbb_cells = Jupyter.notebook.get_cells();\n",
       "                for (var i = 0; i < nbb_cells.length; ++i) {\n",
       "                    if (nbb_cells[i].input_prompt_number == nbb_cell_id) {\n",
       "                        if (nbb_cells[i].get_text() == nbb_unformatted_code) {\n",
       "                             nbb_cells[i].set_text(nbb_formatted_code);\n",
       "                        }\n",
       "                        break;\n",
       "                    }\n",
       "                }\n",
       "            }, 500);\n",
       "            "
      ],
      "text/plain": [
       "<IPython.core.display.Javascript object>"
      ]
     },
     "metadata": {},
     "output_type": "display_data"
    }
   ],
   "source": [
    "exam_score = df[\"math score\"] + df[\"reading score\"] + df[\"writing score\"]\n",
    "\n",
    "plt.hist(exam_score)\n",
    "plt.title(\"total score distribution\")\n",
    "plt.show()"
   ]
  },
  {
   "cell_type": "code",
   "execution_count": 9,
   "metadata": {},
   "outputs": [
    {
     "name": "stdout",
     "output_type": "stream",
     "text": [
      "Jarque-Bera test stat is 15.45338791308548 and p value is 0.00044089934264401887\n",
      "Normality test stat is 15.18672132723161 and p value is 0.0005037851534493755\n"
     ]
    },
    {
     "data": {
      "application/javascript": [
       "\n",
       "            setTimeout(function() {\n",
       "                var nbb_cell_id = 9;\n",
       "                var nbb_unformatted_code = \"jb_stats = jarque_bera(exam_score)\\nnorm_stats = normaltest(exam_score)\\n\\nprint('Jarque-Bera test stat is {} and p value is {}'.format(jb_stats[0], jb_stats[1]))\\nprint('Normality test stat is {} and p value is {}'.format(norm_stats[0], norm_stats[1]))\";\n",
       "                var nbb_formatted_code = \"jb_stats = jarque_bera(exam_score)\\nnorm_stats = normaltest(exam_score)\\n\\nprint(\\\"Jarque-Bera test stat is {} and p value is {}\\\".format(jb_stats[0], jb_stats[1]))\\nprint(\\n    \\\"Normality test stat is {} and p value is {}\\\".format(norm_stats[0], norm_stats[1])\\n)\";\n",
       "                var nbb_cells = Jupyter.notebook.get_cells();\n",
       "                for (var i = 0; i < nbb_cells.length; ++i) {\n",
       "                    if (nbb_cells[i].input_prompt_number == nbb_cell_id) {\n",
       "                        if (nbb_cells[i].get_text() == nbb_unformatted_code) {\n",
       "                             nbb_cells[i].set_text(nbb_formatted_code);\n",
       "                        }\n",
       "                        break;\n",
       "                    }\n",
       "                }\n",
       "            }, 500);\n",
       "            "
      ],
      "text/plain": [
       "<IPython.core.display.Javascript object>"
      ]
     },
     "metadata": {},
     "output_type": "display_data"
    }
   ],
   "source": [
    "jb_stats = jarque_bera(exam_score)\n",
    "norm_stats = normaltest(exam_score)\n",
    "\n",
    "print(\"Jarque-Bera test stat is {} and p value is {}\".format(jb_stats[0], jb_stats[1]))\n",
    "print(\n",
    "    \"Normality test stat is {} and p value is {}\".format(norm_stats[0], norm_stats[1])\n",
    ")"
   ]
  },
  {
   "cell_type": "markdown",
   "metadata": {},
   "source": [
    "The new variable, \"exam_score,\" is not normaly distributed."
   ]
  },
  {
   "cell_type": "code",
   "execution_count": 10,
   "metadata": {},
   "outputs": [
    {
     "data": {
      "image/png": "[encoded data removed]",
      "text/plain": [
       "<Figure size 432x288 with 1 Axes>"
      ]
     },
     "metadata": {
      "needs_background": "light"
     },
     "output_type": "display_data"
    },
    {
     "name": "stdout",
     "output_type": "stream",
     "text": [
      "Jarque-Bera test stat is 2.4353990325812584 and p value is 0.29591012092521685\n",
      "Normality test stat is 2.7798577887622127 and p value is 0.24909301591503355\n"
     ]
    },
    {
     "data": {
      "application/javascript": [
       "\n",
       "            setTimeout(function() {\n",
       "                var nbb_cell_id = 10;\n",
       "                var nbb_unformatted_code = \"exam_score_boxcox,_ = boxcox(exam_score)\\n\\nplt.hist(exam_score_boxcox)\\nplt.title(\\\"exam score with boxcox transform\\\")\\nplt.show()\\n\\njb_stats = jarque_bera(exam_score_boxcox)\\nnorm_stats = normaltest(exam_score_boxcox)\\n\\nprint(\\\"Jarque-Bera test stat is {} and p value is {}\\\".format(jb_stats[0], jb_stats[1]))\\nprint(\\n    \\\"Normality test stat is {} and p value is {}\\\".format(norm_stats[0], norm_stats[1])\\n)\";\n",
       "                var nbb_formatted_code = \"exam_score_boxcox, _ = boxcox(exam_score)\\n\\nplt.hist(exam_score_boxcox)\\nplt.title(\\\"exam score with boxcox transform\\\")\\nplt.show()\\n\\njb_stats = jarque_bera(exam_score_boxcox)\\nnorm_stats = normaltest(exam_score_boxcox)\\n\\nprint(\\\"Jarque-Bera test stat is {} and p value is {}\\\".format(jb_stats[0], jb_stats[1]))\\nprint(\\n    \\\"Normality test stat is {} and p value is {}\\\".format(norm_stats[0], norm_stats[1])\\n)\";\n",
       "                var nbb_cells = Jupyter.notebook.get_cells();\n",
       "                for (var i = 0; i < nbb_cells.length; ++i) {\n",
       "                    if (nbb_cells[i].input_prompt_number == nbb_cell_id) {\n",
       "                        if (nbb_cells[i].get_text() == nbb_unformatted_code) {\n",
       "                             nbb_cells[i].set_text(nbb_formatted_code);\n",
       "                        }\n",
       "                        break;\n",
       "                    }\n",
       "                }\n",
       "            }, 500);\n",
       "            "
      ],
      "text/plain": [
       "<IPython.core.display.Javascript object>"
      ]
     },
     "metadata": {},
     "output_type": "display_data"
    }
   ],
   "source": [
    "exam_score_boxcox, _ = boxcox(exam_score)\n",
    "\n",
    "plt.hist(exam_score_boxcox)\n",
    "plt.title(\"exam score with boxcox transform\")\n",
    "plt.show()\n",
    "\n",
    "jb_stats = jarque_bera(exam_score_boxcox)\n",
    "norm_stats = normaltest(exam_score_boxcox)\n",
    "\n",
    "print(\"Jarque-Bera test stat is {} and p value is {}\".format(jb_stats[0], jb_stats[1]))\n",
    "print(\n",
    "    \"Normality test stat is {} and p value is {}\".format(norm_stats[0], norm_stats[1])\n",
    ")"
   ]
  },
  {
   "cell_type": "markdown",
   "metadata": {},
   "source": [
    "The new variable is now normally distributed after the Box-Cox transform, and the Jarque-Bera and Normality tests confirm this."
   ]
  },
  {
   "cell_type": "markdown",
   "metadata": {},
   "source": [
    "## 3. Which variables do seem to be related with the target variable (the newly created variable in the previous question)? If our goal is to explain the determinants of the success in the exams, which variables in our dataset might be useful?"
   ]
  },
  {
   "cell_type": "code",
   "execution_count": 12,
   "metadata": {},
   "outputs": [
    {
     "data": {
      "image/png": "[encoded data removed]",
      "text/plain": [
       "<Figure size 1296x720 with 5 Axes>"
      ]
     },
     "metadata": {
      "needs_background": "light"
     },
     "output_type": "display_data"
    },
    {
     "data": {
      "application/javascript": [
       "\n",
       "            setTimeout(function() {\n",
       "                var nbb_cell_id = 12;\n",
       "                var nbb_unformatted_code = \"df['exam score'] = exam_score\\n\\nplt.figure(figsize = (18,10))\\n\\nplt.subplot(231)\\nplt.bar(df.groupby('race/ethnicity')['exam score'].mean().index, df.groupby('race/ethnicity')['exam score'].mean())\\nplt.title('average exam score wrt. race/ethnicity')\\nplt.xticks(rotation = 'vertical')\\n\\nplt.subplot(232)\\nplt.bar(df.groupby('gender')['exam score'].mean().index, df.groupby('gender')['exam score'].mean())\\nplt.title('average exam score wrt. gender')\\nplt.xticks(rotation = 'vertical')\\n\\nplt.subplot(233)\\nplt.bar(df.groupby('lunch')['exam score'].mean().index, df.groupby('lunch')['exam score'].mean())\\nplt.title('average exam score wrt. lunch')\\nplt.xticks(rotation = 'vertical')\\n\\nplt.subplot(234)\\nplt.bar(df.groupby('parental level of education')['exam score'].mean().index, df.groupby('parental level of education')['exam score'].mean())\\nplt.title('average exam score wrt. parental level of education')\\nplt.xticks(rotation = 'vertical')\\n\\nplt.subplot(235)\\nplt.bar(df.groupby('test preparation course')['exam score'].mean().index, df.groupby('test preparation course')['exam score'].mean())\\nplt.title('average exam score wrt. test preparation course')\\nplt.xticks(rotation = 'vertical')\\n\\nplt.tight_layout()\\nplt.show()\";\n",
       "                var nbb_formatted_code = \"df[\\\"exam score\\\"] = exam_score\\n\\nplt.figure(figsize=(18, 10))\\n\\nplt.subplot(231)\\nplt.bar(\\n    df.groupby(\\\"race/ethnicity\\\")[\\\"exam score\\\"].mean().index,\\n    df.groupby(\\\"race/ethnicity\\\")[\\\"exam score\\\"].mean(),\\n)\\nplt.title(\\\"average exam score wrt. race/ethnicity\\\")\\nplt.xticks(rotation=\\\"vertical\\\")\\n\\nplt.subplot(232)\\nplt.bar(\\n    df.groupby(\\\"gender\\\")[\\\"exam score\\\"].mean().index,\\n    df.groupby(\\\"gender\\\")[\\\"exam score\\\"].mean(),\\n)\\nplt.title(\\\"average exam score wrt. gender\\\")\\nplt.xticks(rotation=\\\"vertical\\\")\\n\\nplt.subplot(233)\\nplt.bar(\\n    df.groupby(\\\"lunch\\\")[\\\"exam score\\\"].mean().index,\\n    df.groupby(\\\"lunch\\\")[\\\"exam score\\\"].mean(),\\n)\\nplt.title(\\\"average exam score wrt. lunch\\\")\\nplt.xticks(rotation=\\\"vertical\\\")\\n\\nplt.subplot(234)\\nplt.bar(\\n    df.groupby(\\\"parental level of education\\\")[\\\"exam score\\\"].mean().index,\\n    df.groupby(\\\"parental level of education\\\")[\\\"exam score\\\"].mean(),\\n)\\nplt.title(\\\"average exam score wrt. parental level of education\\\")\\nplt.xticks(rotation=\\\"vertical\\\")\\n\\nplt.subplot(235)\\nplt.bar(\\n    df.groupby(\\\"test preparation course\\\")[\\\"exam score\\\"].mean().index,\\n    df.groupby(\\\"test preparation course\\\")[\\\"exam score\\\"].mean(),\\n)\\nplt.title(\\\"average exam score wrt. test preparation course\\\")\\nplt.xticks(rotation=\\\"vertical\\\")\\n\\nplt.tight_layout()\\nplt.show()\";\n",
       "                var nbb_cells = Jupyter.notebook.get_cells();\n",
       "                for (var i = 0; i < nbb_cells.length; ++i) {\n",
       "                    if (nbb_cells[i].input_prompt_number == nbb_cell_id) {\n",
       "                        if (nbb_cells[i].get_text() == nbb_unformatted_code) {\n",
       "                             nbb_cells[i].set_text(nbb_formatted_code);\n",
       "                        }\n",
       "                        break;\n",
       "                    }\n",
       "                }\n",
       "            }, 500);\n",
       "            "
      ],
      "text/plain": [
       "<IPython.core.display.Javascript object>"
      ]
     },
     "metadata": {},
     "output_type": "display_data"
    }
   ],
   "source": [
    "df['exam score'] = exam_score\n",
    "\n",
    "plt.figure(figsize = (18,10))\n",
    "\n",
    "plt.subplot(231)\n",
    "plt.bar(df.groupby('race/ethnicity')['exam score'].mean().index, df.groupby('race/ethnicity')['exam score'].mean())\n",
    "plt.title('average exam score wrt. race/ethnicity')\n",
    "plt.xticks(rotation = 'vertical')\n",
    "\n",
    "plt.subplot(232)\n",
    "plt.bar(df.groupby('gender')['exam score'].mean().index, df.groupby('gender')['exam score'].mean())\n",
    "plt.title('average exam score wrt. gender')\n",
    "plt.xticks(rotation = 'vertical')\n",
    "\n",
    "plt.subplot(233)\n",
    "plt.bar(df.groupby('lunch')['exam score'].mean().index, df.groupby('lunch')['exam score'].mean())\n",
    "plt.title('average exam score wrt. lunch')\n",
    "plt.xticks(rotation = 'vertical')\n",
    "\n",
    "plt.subplot(234)\n",
    "plt.bar(df.groupby('parental level of education')['exam score'].mean().index, df.groupby('parental level of education')['exam score'].mean())\n",
    "plt.title('average exam score wrt. parental level of education')\n",
    "plt.xticks(rotation = 'vertical')\n",
    "\n",
    "plt.subplot(235)\n",
    "plt.bar(df.groupby('test preparation course')['exam score'].mean().index, df.groupby('test preparation course')['exam score'].mean())\n",
    "plt.title('average exam score wrt. test preparation course')\n",
    "plt.xticks(rotation = 'vertical')\n",
    "\n",
    "plt.tight_layout()\n",
    "plt.show()\n"
   ]
  },
  {
   "cell_type": "markdown",
   "metadata": {},
   "source": [
    "* The average exam score in each 'race/ethnicity' group is different, and increases moving from A -> E. This may be useful\n",
    "* Females score higher the males.\n",
    "* Student with standard lunch score higher than free/reduced lunch. This information my be useful, but it is important to be cautious not make assumptions like (nutrition or socioeconomic standing is the reason for the difference)\n",
    "* Parental education level does seem to make a difference.\n",
    "* Preperation is also a determining factor.\n",
    "* all of these categories may be useful in determination of success, but the lunch variable should be used with caution."
   ]
  },
  {
   "cell_type": "code",
   "execution_count": null,
   "metadata": {},
   "outputs": [],
   "source": []
  }
 ],
 "metadata": {
  "kernelspec": {
   "display_name": "Python 3",
   "language": "python",
   "name": "python3"
  },
  "language_info": {
   "codemirror_mode": {
    "name": "ipython",
    "version": 3
   },
   "file_extension": ".py",
   "mimetype": "text/x-python",
   "name": "python",
   "nbconvert_exporter": "python",
   "pygments_lexer": "ipython3",
   "version": "3.8.3"
  }
 },
 "nbformat": 4,
 "nbformat_minor": 4
}
