{
 "cells": [
  {
   "cell_type": "code",
   "execution_count": 1,
   "metadata": {},
   "outputs": [
    {
     "data": {
      "application/javascript": [
       "\n",
       "            setTimeout(function() {\n",
       "                var nbb_cell_id = 1;\n",
       "                var nbb_unformatted_code = \"%reload_ext nb_black\";\n",
       "                var nbb_formatted_code = \"%reload_ext nb_black\";\n",
       "                var nbb_cells = Jupyter.notebook.get_cells();\n",
       "                for (var i = 0; i < nbb_cells.length; ++i) {\n",
       "                    if (nbb_cells[i].input_prompt_number == nbb_cell_id) {\n",
       "                        if (nbb_cells[i].get_text() == nbb_unformatted_code) {\n",
       "                             nbb_cells[i].set_text(nbb_formatted_code);\n",
       "                        }\n",
       "                        break;\n",
       "                    }\n",
       "                }\n",
       "            }, 500);\n",
       "            "
      ],
      "text/plain": [
       "<IPython.core.display.Javascript object>"
      ]
     },
     "metadata": {},
     "output_type": "display_data"
    }
   ],
   "source": [
    "%reload_ext nb_black"
   ]
  },
  {
   "cell_type": "markdown",
   "metadata": {},
   "source": [
    "### 1. Apply GMM to the heart disease data by setting n_components=2. Get ARI and silhoutte scores for your solution and compare it with those of the k-means and hierarchical clustering solutions that you implemented in the assignments of the previous checkpoints. Which algorithm does perform better?"
   ]
  },
  {
   "cell_type": "code",
   "execution_count": 2,
   "metadata": {},
   "outputs": [
    {
     "data": {
      "application/javascript": [
       "\n",
       "            setTimeout(function() {\n",
       "                var nbb_cell_id = 2;\n",
       "                var nbb_unformatted_code = \"import numpy as np\\nimport pandas as pd\\nimport matplotlib.pyplot as plt\\nimport seaborn as sns\\nfrom sklearn.preprocessing import StandardScaler\\nfrom sklearn.mixture import GaussianMixture\\nfrom sklearn import metrics\\nfrom sqlalchemy import create_engine\\nimport warnings\\nwarnings.filterwarnings('ignore')\\nimport config\";\n",
       "                var nbb_formatted_code = \"import numpy as np\\nimport pandas as pd\\nimport matplotlib.pyplot as plt\\nimport seaborn as sns\\nfrom sklearn.preprocessing import StandardScaler\\nfrom sklearn.mixture import GaussianMixture\\nfrom sklearn import metrics\\nfrom sqlalchemy import create_engine\\nimport warnings\\n\\nwarnings.filterwarnings(\\\"ignore\\\")\\nimport config\";\n",
       "                var nbb_cells = Jupyter.notebook.get_cells();\n",
       "                for (var i = 0; i < nbb_cells.length; ++i) {\n",
       "                    if (nbb_cells[i].input_prompt_number == nbb_cell_id) {\n",
       "                        if (nbb_cells[i].get_text() == nbb_unformatted_code) {\n",
       "                             nbb_cells[i].set_text(nbb_formatted_code);\n",
       "                        }\n",
       "                        break;\n",
       "                    }\n",
       "                }\n",
       "            }, 500);\n",
       "            "
      ],
      "text/plain": [
       "<IPython.core.display.Javascript object>"
      ]
     },
     "metadata": {},
     "output_type": "display_data"
    }
   ],
   "source": [
    "import numpy as np\n",
    "import pandas as pd\n",
    "import matplotlib.pyplot as plt\n",
    "import seaborn as sns\n",
    "from sklearn.preprocessing import StandardScaler\n",
    "from sklearn.mixture import GaussianMixture\n",
    "from sklearn import metrics\n",
    "from sqlalchemy import create_engine\n",
    "import warnings\n",
    "warnings.filterwarnings('ignore')\n",
    "import config\n"
   ]
  },
  {
   "cell_type": "code",
   "execution_count": 3,
   "metadata": {},
   "outputs": [
    {
     "data": {
      "application/javascript": [
       "\n",
       "            setTimeout(function() {\n",
       "                var nbb_cell_id = 3;\n",
       "                var nbb_unformatted_code = \"postgres_user = config.user\\npostgres_pw = config.password\\npostgres_host = config.host\\npostgres_port = config.port\\npostgres_db = \\\"heartdisease\\\"\\n\\nengine = create_engine(\\n    \\\"postgresql://{}:{}@{}:{}/{}\\\".format(\\n        postgres_user, postgres_pw, postgres_host, postgres_port, postgres_db\\n    )\\n)\\n\\ndf = pd.read_sql_query(\\\"select * from heartdisease\\\", con=engine)\\n\\n# No need for an open connection,\\n# because you're only doing a single query\\nengine.dispose()\\n\\n# Define the features and the outcome\\nX = df.iloc[:, :13]\\ny = df.iloc[:, 13]\\n\\n# Replace missing values (marked by ?) with a 0\\nX = X.replace(to_replace=\\\"?\\\", value=0)\\n\\n# make y binary\\ny = np.where(y > 0, 0, 1)\\n\\n# Scale the data\\nscaler = StandardScaler()\\nscaled = scaler.fit_transform(X)\";\n",
       "                var nbb_formatted_code = \"postgres_user = config.user\\npostgres_pw = config.password\\npostgres_host = config.host\\npostgres_port = config.port\\npostgres_db = \\\"heartdisease\\\"\\n\\nengine = create_engine(\\n    \\\"postgresql://{}:{}@{}:{}/{}\\\".format(\\n        postgres_user, postgres_pw, postgres_host, postgres_port, postgres_db\\n    )\\n)\\n\\ndf = pd.read_sql_query(\\\"select * from heartdisease\\\", con=engine)\\n\\n# No need for an open connection,\\n# because you're only doing a single query\\nengine.dispose()\\n\\n# Define the features and the outcome\\nX = df.iloc[:, :13]\\ny = df.iloc[:, 13]\\n\\n# Replace missing values (marked by ?) with a 0\\nX = X.replace(to_replace=\\\"?\\\", value=0)\\n\\n# make y binary\\ny = np.where(y > 0, 0, 1)\\n\\n# Scale the data\\nscaler = StandardScaler()\\nscaled = scaler.fit_transform(X)\";\n",
       "                var nbb_cells = Jupyter.notebook.get_cells();\n",
       "                for (var i = 0; i < nbb_cells.length; ++i) {\n",
       "                    if (nbb_cells[i].input_prompt_number == nbb_cell_id) {\n",
       "                        if (nbb_cells[i].get_text() == nbb_unformatted_code) {\n",
       "                             nbb_cells[i].set_text(nbb_formatted_code);\n",
       "                        }\n",
       "                        break;\n",
       "                    }\n",
       "                }\n",
       "            }, 500);\n",
       "            "
      ],
      "text/plain": [
       "<IPython.core.display.Javascript object>"
      ]
     },
     "metadata": {},
     "output_type": "display_data"
    }
   ],
   "source": [
    "postgres_user = config.user\n",
    "postgres_pw = config.password\n",
    "postgres_host = config.host\n",
    "postgres_port = config.port\n",
    "postgres_db = \"heartdisease\"\n",
    "\n",
    "engine = create_engine(\n",
    "    \"postgresql://{}:{}@{}:{}/{}\".format(\n",
    "        postgres_user, postgres_pw, postgres_host, postgres_port, postgres_db\n",
    "    )\n",
    ")\n",
    "\n",
    "df = pd.read_sql_query(\"select * from heartdisease\", con=engine)\n",
    "\n",
    "# No need for an open connection,\n",
    "# because you're only doing a single query\n",
    "engine.dispose()\n",
    "\n",
    "# Define the features and the outcome\n",
    "X = df.iloc[:, :13]\n",
    "y = df.iloc[:, 13]\n",
    "\n",
    "# Replace missing values (marked by ?) with a 0\n",
    "X = X.replace(to_replace=\"?\", value=0)\n",
    "\n",
    "# make y binary\n",
    "y = np.where(y > 0, 0, 1)\n",
    "\n",
    "# Scale the data\n",
    "scaler = StandardScaler()\n",
    "scaled = scaler.fit_transform(X)"
   ]
  },
  {
   "cell_type": "code",
   "execution_count": 7,
   "metadata": {},
   "outputs": [
    {
     "name": "stdout",
     "output_type": "stream",
     "text": [
      "ARI score: 0.4207322145049338\n",
      "Silhouette Score 0.16118591340148433\n"
     ]
    },
    {
     "data": {
      "application/javascript": [
       "\n",
       "            setTimeout(function() {\n",
       "                var nbb_cell_id = 7;\n",
       "                var nbb_unformatted_code = \"gmm_cluster = GaussianMixture(n_components=2, random_state=1234)\\n\\nclusters = gmm_cluster.fit_predict(scaled)\\n\\nprint(\\\"ARI score: {}\\\".format(metrics.adjusted_rand_score(y, clusters)))\\nprint('Silhouette Score {}'.format(metrics.silhouette_score(scaled, clusters, metric='euclidean')))\";\n",
       "                var nbb_formatted_code = \"gmm_cluster = GaussianMixture(n_components=2, random_state=1234)\\n\\nclusters = gmm_cluster.fit_predict(scaled)\\n\\nprint(\\\"ARI score: {}\\\".format(metrics.adjusted_rand_score(y, clusters)))\\nprint(\\n    \\\"Silhouette Score {}\\\".format(\\n        metrics.silhouette_score(scaled, clusters, metric=\\\"euclidean\\\")\\n    )\\n)\";\n",
       "                var nbb_cells = Jupyter.notebook.get_cells();\n",
       "                for (var i = 0; i < nbb_cells.length; ++i) {\n",
       "                    if (nbb_cells[i].input_prompt_number == nbb_cell_id) {\n",
       "                        if (nbb_cells[i].get_text() == nbb_unformatted_code) {\n",
       "                             nbb_cells[i].set_text(nbb_formatted_code);\n",
       "                        }\n",
       "                        break;\n",
       "                    }\n",
       "                }\n",
       "            }, 500);\n",
       "            "
      ],
      "text/plain": [
       "<IPython.core.display.Javascript object>"
      ]
     },
     "metadata": {},
     "output_type": "display_data"
    }
   ],
   "source": [
    "gmm_cluster = GaussianMixture(n_components=2, random_state=1234)\n",
    "\n",
    "clusters = gmm_cluster.fit_predict(scaled)\n",
    "\n",
    "print(\"ARI score: {}\".format(metrics.adjusted_rand_score(y, clusters)))\n",
    "print('Silhouette Score {}'.format(metrics.silhouette_score(scaled, clusters, metric='euclidean')))\n"
   ]
  },
  {
   "cell_type": "markdown",
   "metadata": {},
   "source": [
    "GMM scores lower than k-means and hierarchical clustering in both the ARI and silhouette scores."
   ]
  },
  {
   "cell_type": "markdown",
   "metadata": {},
   "source": [
    "### 2. GMM implementation of scikit-learn has a parameter called covariance_type. This parameter determines the type of covariance parameters to use. Specifically, there are four types you can specify"
   ]
  },
  {
   "cell_type": "markdown",
   "metadata": {},
   "source": [
    "* full: This is the default. Each component has its own general covariance matrix.\n",
    "* tied: All components share the same general covariance matrix.\n",
    "* diag: Each component has its own diagonal covariance matrix.\n",
    "* spherical: Each component has its own single variance.\n",
    "\n",
    "Try all of these. Which one does perform better in terms of ARI and silhouette scores?"
   ]
  },
  {
   "cell_type": "code",
   "execution_count": 10,
   "metadata": {},
   "outputs": [
    {
     "name": "stdout",
     "output_type": "stream",
     "text": [
      "ARI score with covariance_type=full: 0.18389186035089963\n",
      "Silhouette score with covariance_type=full: 0.13628813153331445\n",
      "------------------------------------------------------\n",
      "ARI score with covariance_type=tied: 0.18389186035089963\n",
      "Silhouette score with covariance_type=tied: 0.13628813153331445\n",
      "------------------------------------------------------\n",
      "ARI score with covariance_type=diag: 0.18389186035089963\n",
      "Silhouette score with covariance_type=diag: 0.13628813153331445\n",
      "------------------------------------------------------\n",
      "ARI score with covariance_type=spherical: 0.20765243525722465\n",
      "Silhouette score with covariance_type=spherical: 0.12468753110276876\n",
      "------------------------------------------------------\n"
     ]
    },
    {
     "data": {
      "application/javascript": [
       "\n",
       "            setTimeout(function() {\n",
       "                var nbb_cell_id = 10;\n",
       "                var nbb_unformatted_code = \"# Define the GMM\\ngmm_cluster = GaussianMixture(n_components=2, random_state=123, covariance_type=\\\"full\\\")\\n\\n# Fit model\\nclusters = gmm_cluster.fit_predict(scaled)\\n\\nprint(\\n    \\\"ARI score with covariance_type=full: {}\\\".format(\\n        metrics.adjusted_rand_score(y, clusters)\\n    )\\n)\\n\\nprint(\\n    \\\"Silhouette score with covariance_type=full: {}\\\".format(\\n        metrics.silhouette_score(scaled, clusters, metric=\\\"euclidean\\\")\\n    )\\n)\\nprint(\\\"------------------------------------------------------\\\")\\n\\n# Define the GMM\\ngmm_cluster = GaussianMixture(n_components=2, random_state=123, covariance_type=\\\"tied\\\")\\n\\n# Fit model\\nclusters = gmm_cluster.fit_predict(scaled)\\n\\nprint(\\n    \\\"ARI score with covariance_type=tied: {}\\\".format(\\n        metrics.adjusted_rand_score(y, clusters)\\n    )\\n)\\n\\nprint(\\n    \\\"Silhouette score with covariance_type=tied: {}\\\".format(\\n        metrics.silhouette_score(scaled, clusters, metric=\\\"euclidean\\\")\\n    )\\n)\\nprint(\\\"------------------------------------------------------\\\")\\n\\n# Define the GMM\\ngmm_cluster = GaussianMixture(n_components=2, random_state=123, covariance_type=\\\"diag\\\")\\n\\n# Fit model\\nclusters = gmm_cluster.fit_predict(scaled)\\n\\nprint(\\n    \\\"ARI score with covariance_type=diag: {}\\\".format(\\n        metrics.adjusted_rand_score(y, clusters)\\n    )\\n)\\n\\nprint(\\n    \\\"Silhouette score with covariance_type=diag: {}\\\".format(\\n        metrics.silhouette_score(scaled, clusters, metric=\\\"euclidean\\\")\\n    )\\n)\\nprint(\\\"------------------------------------------------------\\\")\\n\\n\\n# Define the GMM\\ngmm_cluster = GaussianMixture(\\n    n_components=2, random_state=123, covariance_type=\\\"spherical\\\"\\n)\\n\\n# Fit model\\nclusters = gmm_cluster.fit_predict(scaled)\\n\\nprint(\\n    \\\"ARI score with covariance_type=spherical: {}\\\".format(\\n        metrics.adjusted_rand_score(y, clusters)\\n    )\\n)\\n\\nprint(\\n    \\\"Silhouette score with covariance_type=spherical: {}\\\".format(\\n        metrics.silhouette_score(scaled, clusters, metric=\\\"euclidean\\\")\\n    )\\n)\\nprint(\\\"------------------------------------------------------\\\")\";\n",
       "                var nbb_formatted_code = \"# Define the GMM\\ngmm_cluster = GaussianMixture(n_components=2, random_state=123, covariance_type=\\\"full\\\")\\n\\n# Fit model\\nclusters = gmm_cluster.fit_predict(scaled)\\n\\nprint(\\n    \\\"ARI score with covariance_type=full: {}\\\".format(\\n        metrics.adjusted_rand_score(y, clusters)\\n    )\\n)\\n\\nprint(\\n    \\\"Silhouette score with covariance_type=full: {}\\\".format(\\n        metrics.silhouette_score(scaled, clusters, metric=\\\"euclidean\\\")\\n    )\\n)\\nprint(\\\"------------------------------------------------------\\\")\\n\\n# Define the GMM\\ngmm_cluster = GaussianMixture(n_components=2, random_state=123, covariance_type=\\\"tied\\\")\\n\\n# Fit model\\nclusters = gmm_cluster.fit_predict(scaled)\\n\\nprint(\\n    \\\"ARI score with covariance_type=tied: {}\\\".format(\\n        metrics.adjusted_rand_score(y, clusters)\\n    )\\n)\\n\\nprint(\\n    \\\"Silhouette score with covariance_type=tied: {}\\\".format(\\n        metrics.silhouette_score(scaled, clusters, metric=\\\"euclidean\\\")\\n    )\\n)\\nprint(\\\"------------------------------------------------------\\\")\\n\\n# Define the GMM\\ngmm_cluster = GaussianMixture(n_components=2, random_state=123, covariance_type=\\\"diag\\\")\\n\\n# Fit model\\nclusters = gmm_cluster.fit_predict(scaled)\\n\\nprint(\\n    \\\"ARI score with covariance_type=diag: {}\\\".format(\\n        metrics.adjusted_rand_score(y, clusters)\\n    )\\n)\\n\\nprint(\\n    \\\"Silhouette score with covariance_type=diag: {}\\\".format(\\n        metrics.silhouette_score(scaled, clusters, metric=\\\"euclidean\\\")\\n    )\\n)\\nprint(\\\"------------------------------------------------------\\\")\\n\\n\\n# Define the GMM\\ngmm_cluster = GaussianMixture(\\n    n_components=2, random_state=123, covariance_type=\\\"spherical\\\"\\n)\\n\\n# Fit model\\nclusters = gmm_cluster.fit_predict(scaled)\\n\\nprint(\\n    \\\"ARI score with covariance_type=spherical: {}\\\".format(\\n        metrics.adjusted_rand_score(y, clusters)\\n    )\\n)\\n\\nprint(\\n    \\\"Silhouette score with covariance_type=spherical: {}\\\".format(\\n        metrics.silhouette_score(scaled, clusters, metric=\\\"euclidean\\\")\\n    )\\n)\\nprint(\\\"------------------------------------------------------\\\")\";\n",
       "                var nbb_cells = Jupyter.notebook.get_cells();\n",
       "                for (var i = 0; i < nbb_cells.length; ++i) {\n",
       "                    if (nbb_cells[i].input_prompt_number == nbb_cell_id) {\n",
       "                        if (nbb_cells[i].get_text() == nbb_unformatted_code) {\n",
       "                             nbb_cells[i].set_text(nbb_formatted_code);\n",
       "                        }\n",
       "                        break;\n",
       "                    }\n",
       "                }\n",
       "            }, 500);\n",
       "            "
      ],
      "text/plain": [
       "<IPython.core.display.Javascript object>"
      ]
     },
     "metadata": {},
     "output_type": "display_data"
    }
   ],
   "source": [
    "# Define the GMM\n",
    "gmm_cluster = GaussianMixture(n_components=2, random_state=123, covariance_type=\"full\")\n",
    "\n",
    "# Fit model\n",
    "clusters = gmm_cluster.fit_predict(scaled)\n",
    "\n",
    "print(\n",
    "    \"ARI score with covariance_type=full: {}\".format(\n",
    "        metrics.adjusted_rand_score(y, clusters)\n",
    "    )\n",
    ")\n",
    "\n",
    "print(\n",
    "    \"Silhouette score with covariance_type=full: {}\".format(\n",
    "        metrics.silhouette_score(scaled, clusters, metric=\"euclidean\")\n",
    "    )\n",
    ")\n",
    "print(\"------------------------------------------------------\")\n",
    "\n",
    "# Define the GMM\n",
    "gmm_cluster = GaussianMixture(n_components=2, random_state=123, covariance_type=\"tied\")\n",
    "\n",
    "# Fit model\n",
    "clusters = gmm_cluster.fit_predict(scaled)\n",
    "\n",
    "print(\n",
    "    \"ARI score with covariance_type=tied: {}\".format(\n",
    "        metrics.adjusted_rand_score(y, clusters)\n",
    "    )\n",
    ")\n",
    "\n",
    "print(\n",
    "    \"Silhouette score with covariance_type=tied: {}\".format(\n",
    "        metrics.silhouette_score(scaled, clusters, metric=\"euclidean\")\n",
    "    )\n",
    ")\n",
    "print(\"------------------------------------------------------\")\n",
    "\n",
    "# Define the GMM\n",
    "gmm_cluster = GaussianMixture(n_components=2, random_state=123, covariance_type=\"diag\")\n",
    "\n",
    "# Fit model\n",
    "clusters = gmm_cluster.fit_predict(scaled)\n",
    "\n",
    "print(\n",
    "    \"ARI score with covariance_type=diag: {}\".format(\n",
    "        metrics.adjusted_rand_score(y, clusters)\n",
    "    )\n",
    ")\n",
    "\n",
    "print(\n",
    "    \"Silhouette score with covariance_type=diag: {}\".format(\n",
    "        metrics.silhouette_score(scaled, clusters, metric=\"euclidean\")\n",
    "    )\n",
    ")\n",
    "print(\"------------------------------------------------------\")\n",
    "\n",
    "\n",
    "# Define the GMM\n",
    "gmm_cluster = GaussianMixture(\n",
    "    n_components=2, random_state=123, covariance_type=\"spherical\"\n",
    ")\n",
    "\n",
    "# Fit model\n",
    "clusters = gmm_cluster.fit_predict(scaled)\n",
    "\n",
    "print(\n",
    "    \"ARI score with covariance_type=spherical: {}\".format(\n",
    "        metrics.adjusted_rand_score(y, clusters)\n",
    "    )\n",
    ")\n",
    "\n",
    "print(\n",
    "    \"Silhouette score with covariance_type=spherical: {}\".format(\n",
    "        metrics.silhouette_score(scaled, clusters, metric=\"euclidean\")\n",
    "    )\n",
    ")\n",
    "print(\"------------------------------------------------------\")"
   ]
  },
  {
   "cell_type": "markdown",
   "metadata": {},
   "source": [
    "The GMM clustering with spherical covariance type produced the highest ARI score, it also produced the lowest silhouette score. The GMM algorithm using the other two covariance types scored the same."
   ]
  },
  {
   "cell_type": "code",
   "execution_count": null,
   "metadata": {},
   "outputs": [],
   "source": []
  }
 ],
 "metadata": {
  "kernelspec": {
   "display_name": "Python 3",
   "language": "python",
   "name": "python3"
  },
  "language_info": {
   "codemirror_mode": {
    "name": "ipython",
    "version": 3
   },
   "file_extension": ".py",
   "mimetype": "text/x-python",
   "name": "python",
   "nbconvert_exporter": "python",
   "pygments_lexer": "ipython3",
   "version": "3.8.3"
  }
 },
 "nbformat": 4,
 "nbformat_minor": 4
}
