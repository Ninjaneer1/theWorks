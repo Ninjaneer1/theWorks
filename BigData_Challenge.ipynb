{
 "cells": [
  {
   "cell_type": "code",
   "execution_count": 3,
   "metadata": {},
   "outputs": [
    {
     "data": {
      "application/javascript": [
       "\n",
       "            setTimeout(function() {\n",
       "                var nbb_cell_id = 3;\n",
       "                var nbb_unformatted_code = \"%reload_ext nb_black\";\n",
       "                var nbb_formatted_code = \"%reload_ext nb_black\";\n",
       "                var nbb_cells = Jupyter.notebook.get_cells();\n",
       "                for (var i = 0; i < nbb_cells.length; ++i) {\n",
       "                    if (nbb_cells[i].input_prompt_number == nbb_cell_id) {\n",
       "                        if (nbb_cells[i].get_text() == nbb_unformatted_code) {\n",
       "                             nbb_cells[i].set_text(nbb_formatted_code);\n",
       "                        }\n",
       "                        break;\n",
       "                    }\n",
       "                }\n",
       "            }, 500);\n",
       "            "
      ],
      "text/plain": [
       "<IPython.core.display.Javascript object>"
      ]
     },
     "metadata": {},
     "output_type": "display_data"
    }
   ],
   "source": [
    "%reload_ext nb_black"
   ]
  },
  {
   "cell_type": "markdown",
   "metadata": {
    "hideCode": false,
    "hidePrompt": false
   },
   "source": [
    "# Bikes 🚲\n",
    "\n",
    "----\n",
    "\n",
    "The data from today is about bike sharing demand from [a previously held Kaggle competition](https://www.kaggle.com/c/bike-sharing-demand/data).  Below is a bit of documentation from the competition.\n",
    "\n",
    "---\n",
    "\n",
    "> You are provided hourly rental data spanning two years. For this competition, the training set is comprised of the first 19 days of each month, while the test set is the 20th to the end of the month. You must predict the total count of bikes rented during each hour covered by the test set, using only information available prior to the rental period.\n",
    ">\n",
    "> Data Fields\n",
    "> ```\n",
    "> datetime - hourly date + timestamp  \n",
    "> season -  1 = spring, 2 = summer, 3 = fall, 4 = winter \n",
    "> holiday - whether the day is considered a holiday\n",
    "> workingday - whether the day is neither a weekend nor holiday\n",
    "> weather - 1: Clear, \n",
    ">              Few clouds,\n",
    ">              Partly cloudy, \n",
    ">              Partly cloudy\n",
    ">           2: Mist + Cloudy, \n",
    ">              Mist + Broken clouds, \n",
    ">              Mist + Few clouds,\n",
    ">              Mist\n",
    ">           3: Light Snow,\n",
    ">              Light Rain + Thunderstorm + Scattered clouds, \n",
    ">              Light Rain + Scattered clouds\n",
    ">           4: Heavy Rain + Ice Pallets + Thunderstorm + Mist, \n",
    ">              Snow + Fog \n",
    "> temp - temperature in Celsius\n",
    "> atemp - \"feels like\" temperature in Celsius\n",
    "> humidity - relative humidity\n",
    "> windspeed - wind speed\n",
    "> casual - number of non-registered user rentals initiated\n",
    "> registered - number of registered user rentals initiated\n",
    "> count - number of total rentals\n",
    "> ```\n",
    "\n",
    "From this list of column descriptions.\n",
    "\n",
    "* What columns are categorical?  Which of these do you think we'll need to one-hot-encode?\n",
    "* Do you see any columns that you expect to be multicollinear?\n",
    "\n",
    "In the Kaggle competition the challenge was to predict the `count` column.  The `casual` and `registered` columns aren't allowed to be used since that information is really just the `count` column broken out into its components (i.e. `count = casual + registered`)."
   ]
  },
  {
   "cell_type": "code",
   "execution_count": 4,
   "metadata": {
    "hideCode": false,
    "hidePrompt": false
   },
   "outputs": [
    {
     "data": {
      "application/javascript": [
       "\n",
       "            setTimeout(function() {\n",
       "                var nbb_cell_id = 4;\n",
       "                var nbb_unformatted_code = \"import warnings\\n\\nimport pandas as pd\\nimport numpy as np\\n\\nfrom sklearn.model_selection import GridSearchCV\\nfrom sklearn.preprocessing import OneHotEncoder, StandardScaler\\nfrom sklearn.compose import ColumnTransformer\\nfrom sklearn.pipeline import Pipeline\\n\\nfrom category_encoders import LeaveOneOutEncoder\\n\\n# Import supervised model types here:\\nfrom sklearn.linear_model import LinearRegression, ElasticNet\\nfrom sklearn.neighbors import KNeighborsRegressor\\nfrom sklearn.ensemble import RandomForestRegressor\\nfrom sklearn.svm import SVR\\nfrom xgboost import XGBRegressor\\n\\n# Import dask modules here:\\nimport joblib\\nfrom dask.distributed import Client, progress\\nfrom dask_ml.model_selection import train_test_split\\nimport dask.dataframe as dd\\nimport dask.array as da\\nimport statsmodels.api as sm\\nfrom statsmodels.stats.outliers_influence import variance_inflation_factor\\n\\nimport seaborn as sns\\nimport matplotlib.pyplot as plt\\n\\n%matplotlib inline\";\n",
       "                var nbb_formatted_code = \"import warnings\\n\\nimport pandas as pd\\nimport numpy as np\\n\\nfrom sklearn.model_selection import GridSearchCV\\nfrom sklearn.preprocessing import OneHotEncoder, StandardScaler\\nfrom sklearn.compose import ColumnTransformer\\nfrom sklearn.pipeline import Pipeline\\n\\nfrom category_encoders import LeaveOneOutEncoder\\n\\n# Import supervised model types here:\\nfrom sklearn.linear_model import LinearRegression, ElasticNet\\nfrom sklearn.neighbors import KNeighborsRegressor\\nfrom sklearn.ensemble import RandomForestRegressor\\nfrom sklearn.svm import SVR\\nfrom xgboost import XGBRegressor\\n\\n# Import dask modules here:\\nimport joblib\\nfrom dask.distributed import Client, progress\\nfrom dask_ml.model_selection import train_test_split\\nimport dask.dataframe as dd\\nimport dask.array as da\\nimport statsmodels.api as sm\\nfrom statsmodels.stats.outliers_influence import variance_inflation_factor\\n\\nimport seaborn as sns\\nimport matplotlib.pyplot as plt\\n\\n%matplotlib inline\";\n",
       "                var nbb_cells = Jupyter.notebook.get_cells();\n",
       "                for (var i = 0; i < nbb_cells.length; ++i) {\n",
       "                    if (nbb_cells[i].input_prompt_number == nbb_cell_id) {\n",
       "                        if (nbb_cells[i].get_text() == nbb_unformatted_code) {\n",
       "                             nbb_cells[i].set_text(nbb_formatted_code);\n",
       "                        }\n",
       "                        break;\n",
       "                    }\n",
       "                }\n",
       "            }, 500);\n",
       "            "
      ],
      "text/plain": [
       "<IPython.core.display.Javascript object>"
      ]
     },
     "metadata": {},
     "output_type": "display_data"
    }
   ],
   "source": [
    "import warnings\n",
    "\n",
    "import pandas as pd\n",
    "import numpy as np\n",
    "\n",
    "from sklearn.model_selection import GridSearchCV\n",
    "from sklearn.preprocessing import OneHotEncoder, StandardScaler\n",
    "from sklearn.compose import ColumnTransformer\n",
    "from sklearn.pipeline import Pipeline\n",
    "\n",
    "from category_encoders import LeaveOneOutEncoder\n",
    "\n",
    "# Import supervised model types here:\n",
    "from sklearn.linear_model import LinearRegression, ElasticNet\n",
    "from sklearn.neighbors import KNeighborsRegressor\n",
    "from sklearn.ensemble import RandomForestRegressor\n",
    "from sklearn.svm import SVR\n",
    "from xgboost import XGBRegressor\n",
    "\n",
    "# Import dask modules here:\n",
    "import joblib\n",
    "from dask.distributed import Client, progress\n",
    "from dask_ml.model_selection import train_test_split\n",
    "import dask.dataframe as dd\n",
    "import dask.array as da\n",
    "import statsmodels.api as sm\n",
    "from statsmodels.stats.outliers_influence import variance_inflation_factor\n",
    "\n",
    "import seaborn as sns\n",
    "import matplotlib.pyplot as plt\n",
    "\n",
    "%matplotlib inline"
   ]
  },
  {
   "cell_type": "code",
   "execution_count": 5,
   "metadata": {},
   "outputs": [
    {
     "data": {
      "application/javascript": [
       "\n",
       "            setTimeout(function() {\n",
       "                var nbb_cell_id = 5;\n",
       "                var nbb_unformatted_code = \"def print_vif(x):\\n    \\\"\\\"\\\"Utility for checking multicollinearity assumption\\n\\n    :param x: input features to check using VIF. This is assumed to be a pandas.DataFrame\\n    :return: nothing is returned the VIFs are printed as a pandas series\\n    \\\"\\\"\\\"\\n    # Silence numpy FutureWarning about .ptp\\n    with warnings.catch_warnings():\\n        warnings.simplefilter(\\\"ignore\\\")\\n        x = sm.add_constant(x)\\n\\n    vifs = []\\n    for i in range(x.shape[1]):\\n        vif = variance_inflation_factor(x.values, i)\\n        vifs.append(vif)\\n\\n    print(\\\"VIF results\\\\n-------------------------------\\\")\\n    print(pd.Series(vifs, index=x.columns))\\n    print(\\\"-------------------------------\\\\n\\\")\";\n",
       "                var nbb_formatted_code = \"def print_vif(x):\\n    \\\"\\\"\\\"Utility for checking multicollinearity assumption\\n\\n    :param x: input features to check using VIF. This is assumed to be a pandas.DataFrame\\n    :return: nothing is returned the VIFs are printed as a pandas series\\n    \\\"\\\"\\\"\\n    # Silence numpy FutureWarning about .ptp\\n    with warnings.catch_warnings():\\n        warnings.simplefilter(\\\"ignore\\\")\\n        x = sm.add_constant(x)\\n\\n    vifs = []\\n    for i in range(x.shape[1]):\\n        vif = variance_inflation_factor(x.values, i)\\n        vifs.append(vif)\\n\\n    print(\\\"VIF results\\\\n-------------------------------\\\")\\n    print(pd.Series(vifs, index=x.columns))\\n    print(\\\"-------------------------------\\\\n\\\")\";\n",
       "                var nbb_cells = Jupyter.notebook.get_cells();\n",
       "                for (var i = 0; i < nbb_cells.length; ++i) {\n",
       "                    if (nbb_cells[i].input_prompt_number == nbb_cell_id) {\n",
       "                        if (nbb_cells[i].get_text() == nbb_unformatted_code) {\n",
       "                             nbb_cells[i].set_text(nbb_formatted_code);\n",
       "                        }\n",
       "                        break;\n",
       "                    }\n",
       "                }\n",
       "            }, 500);\n",
       "            "
      ],
      "text/plain": [
       "<IPython.core.display.Javascript object>"
      ]
     },
     "metadata": {},
     "output_type": "display_data"
    }
   ],
   "source": [
    "def print_vif(x):\n",
    "    \"\"\"Utility for checking multicollinearity assumption\n",
    "\n",
    "    :param x: input features to check using VIF. This is assumed to be a pandas.DataFrame\n",
    "    :return: nothing is returned the VIFs are printed as a pandas series\n",
    "    \"\"\"\n",
    "    # Silence numpy FutureWarning about .ptp\n",
    "    with warnings.catch_warnings():\n",
    "        warnings.simplefilter(\"ignore\")\n",
    "        x = sm.add_constant(x)\n",
    "\n",
    "    vifs = []\n",
    "    for i in range(x.shape[1]):\n",
    "        vif = variance_inflation_factor(x.values, i)\n",
    "        vifs.append(vif)\n",
    "\n",
    "    print(\"VIF results\\n-------------------------------\")\n",
    "    print(pd.Series(vifs, index=x.columns))\n",
    "    print(\"-------------------------------\\n\")"
   ]
  },
  {
   "cell_type": "markdown",
   "metadata": {
    "hideCode": false,
    "hidePrompt": false
   },
   "source": [
    "### Let's do some general EDA"
   ]
  },
  {
   "cell_type": "code",
   "execution_count": 6,
   "metadata": {},
   "outputs": [
    {
     "data": {
      "text/html": [
       "<table style=\"border: 2px solid white;\">\n",
       "<tr>\n",
       "<td style=\"vertical-align: top; border: 0px solid white\">\n",
       "<h3 style=\"text-align: left;\">Client</h3>\n",
       "<ul style=\"text-align: left; list-style: none; margin: 0; padding: 0;\">\n",
       "  <li><b>Scheduler: </b>tcp://127.0.0.1:58619</li>\n",
       "  <li><b>Dashboard: </b><a href='http://127.0.0.1:8787/status' target='_blank'>http://127.0.0.1:8787/status</a></li>\n",
       "</ul>\n",
       "</td>\n",
       "<td style=\"vertical-align: top; border: 0px solid white\">\n",
       "<h3 style=\"text-align: left;\">Cluster</h3>\n",
       "<ul style=\"text-align: left; list-style:none; margin: 0; padding: 0;\">\n",
       "  <li><b>Workers: </b>4</li>\n",
       "  <li><b>Cores: </b>8</li>\n",
       "  <li><b>Memory: </b>8.00 GB</li>\n",
       "</ul>\n",
       "</td>\n",
       "</tr>\n",
       "</table>"
      ],
      "text/plain": [
       "<Client: 'tcp://127.0.0.1:58619' processes=4 threads=8, memory=8.00 GB>"
      ]
     },
     "execution_count": 6,
     "metadata": {},
     "output_type": "execute_result"
    },
    {
     "data": {
      "application/javascript": [
       "\n",
       "            setTimeout(function() {\n",
       "                var nbb_cell_id = 6;\n",
       "                var nbb_unformatted_code = \"client = Client(n_workers=4, threads_per_worker=2, memory_limit=\\\"2GB\\\")\\nclient\";\n",
       "                var nbb_formatted_code = \"client = Client(n_workers=4, threads_per_worker=2, memory_limit=\\\"2GB\\\")\\nclient\";\n",
       "                var nbb_cells = Jupyter.notebook.get_cells();\n",
       "                for (var i = 0; i < nbb_cells.length; ++i) {\n",
       "                    if (nbb_cells[i].input_prompt_number == nbb_cell_id) {\n",
       "                        if (nbb_cells[i].get_text() == nbb_unformatted_code) {\n",
       "                             nbb_cells[i].set_text(nbb_formatted_code);\n",
       "                        }\n",
       "                        break;\n",
       "                    }\n",
       "                }\n",
       "            }, 500);\n",
       "            "
      ],
      "text/plain": [
       "<IPython.core.display.Javascript object>"
      ]
     },
     "metadata": {},
     "output_type": "display_data"
    }
   ],
   "source": [
    "client = Client(n_workers=4, threads_per_worker=2, memory_limit=\"2GB\")\n",
    "client"
   ]
  },
  {
   "cell_type": "code",
   "execution_count": 7,
   "metadata": {
    "hideCode": false,
    "hidePrompt": false
   },
   "outputs": [
    {
     "data": {
      "text/html": [
       "<div><strong>Dask DataFrame Structure:</strong></div>\n",
       "<div>\n",
       "<style scoped>\n",
       "    .dataframe tbody tr th:only-of-type {\n",
       "        vertical-align: middle;\n",
       "    }\n",
       "\n",
       "    .dataframe tbody tr th {\n",
       "        vertical-align: top;\n",
       "    }\n",
       "\n",
       "    .dataframe thead th {\n",
       "        text-align: right;\n",
       "    }\n",
       "</style>\n",
       "<table border=\"1\" class=\"dataframe\">\n",
       "  <thead>\n",
       "    <tr style=\"text-align: right;\">\n",
       "      <th></th>\n",
       "      <th>datetime</th>\n",
       "      <th>season</th>\n",
       "      <th>holiday</th>\n",
       "      <th>workingday</th>\n",
       "      <th>weather</th>\n",
       "      <th>temp</th>\n",
       "      <th>atemp</th>\n",
       "      <th>humidity</th>\n",
       "      <th>windspeed</th>\n",
       "      <th>casual</th>\n",
       "      <th>registered</th>\n",
       "      <th>count</th>\n",
       "    </tr>\n",
       "    <tr>\n",
       "      <th>npartitions=1</th>\n",
       "      <th></th>\n",
       "      <th></th>\n",
       "      <th></th>\n",
       "      <th></th>\n",
       "      <th></th>\n",
       "      <th></th>\n",
       "      <th></th>\n",
       "      <th></th>\n",
       "      <th></th>\n",
       "      <th></th>\n",
       "      <th></th>\n",
       "      <th></th>\n",
       "    </tr>\n",
       "  </thead>\n",
       "  <tbody>\n",
       "    <tr>\n",
       "      <th></th>\n",
       "      <td>object</td>\n",
       "      <td>int64</td>\n",
       "      <td>int64</td>\n",
       "      <td>int64</td>\n",
       "      <td>int64</td>\n",
       "      <td>float64</td>\n",
       "      <td>float64</td>\n",
       "      <td>int64</td>\n",
       "      <td>float64</td>\n",
       "      <td>int64</td>\n",
       "      <td>int64</td>\n",
       "      <td>int64</td>\n",
       "    </tr>\n",
       "    <tr>\n",
       "      <th></th>\n",
       "      <td>...</td>\n",
       "      <td>...</td>\n",
       "      <td>...</td>\n",
       "      <td>...</td>\n",
       "      <td>...</td>\n",
       "      <td>...</td>\n",
       "      <td>...</td>\n",
       "      <td>...</td>\n",
       "      <td>...</td>\n",
       "      <td>...</td>\n",
       "      <td>...</td>\n",
       "      <td>...</td>\n",
       "    </tr>\n",
       "  </tbody>\n",
       "</table>\n",
       "</div>\n",
       "<div>Dask Name: read-csv, 1 tasks</div>"
      ],
      "text/plain": [
       "Dask DataFrame Structure:\n",
       "              datetime season holiday workingday weather     temp    atemp humidity windspeed casual registered  count\n",
       "npartitions=1                                                                                                         \n",
       "                object  int64   int64      int64   int64  float64  float64    int64   float64  int64      int64  int64\n",
       "                   ...    ...     ...        ...     ...      ...      ...      ...       ...    ...        ...    ...\n",
       "Dask Name: read-csv, 1 tasks"
      ]
     },
     "execution_count": 7,
     "metadata": {},
     "output_type": "execute_result"
    },
    {
     "data": {
      "application/javascript": [
       "\n",
       "            setTimeout(function() {\n",
       "                var nbb_cell_id = 7;\n",
       "                var nbb_unformatted_code = \"# data from https://www.kaggle.com/c/bike-sharing-demand/data\\ndata_url = \\\"https://docs.google.com/spreadsheets/d/1GJrx_Y3cvD1sWLg_zF_mMZZ0iZ_If2E02VIkyCi3PTc/export?format=csv\\\"\\n# df = pd.read_csv(data_url)\\n# df_og = df.copy()\\n\\ndf = dd.read_csv(data_url)\\n\\ndf\";\n",
       "                var nbb_formatted_code = \"# data from https://www.kaggle.com/c/bike-sharing-demand/data\\ndata_url = \\\"https://docs.google.com/spreadsheets/d/1GJrx_Y3cvD1sWLg_zF_mMZZ0iZ_If2E02VIkyCi3PTc/export?format=csv\\\"\\n# df = pd.read_csv(data_url)\\n# df_og = df.copy()\\n\\ndf = dd.read_csv(data_url)\\n\\ndf\";\n",
       "                var nbb_cells = Jupyter.notebook.get_cells();\n",
       "                for (var i = 0; i < nbb_cells.length; ++i) {\n",
       "                    if (nbb_cells[i].input_prompt_number == nbb_cell_id) {\n",
       "                        if (nbb_cells[i].get_text() == nbb_unformatted_code) {\n",
       "                             nbb_cells[i].set_text(nbb_formatted_code);\n",
       "                        }\n",
       "                        break;\n",
       "                    }\n",
       "                }\n",
       "            }, 500);\n",
       "            "
      ],
      "text/plain": [
       "<IPython.core.display.Javascript object>"
      ]
     },
     "metadata": {},
     "output_type": "display_data"
    }
   ],
   "source": [
    "# data from https://www.kaggle.com/c/bike-sharing-demand/data\n",
    "data_url = \"https://docs.google.com/spreadsheets/d/1GJrx_Y3cvD1sWLg_zF_mMZZ0iZ_If2E02VIkyCi3PTc/export?format=csv\"\n",
    "# df = pd.read_csv(data_url)\n",
    "# df_og = df.copy()\n",
    "\n",
    "df = dd.read_csv(data_url)\n",
    "\n",
    "df"
   ]
  },
  {
   "cell_type": "markdown",
   "metadata": {},
   "source": [
    "The column `datetime` itself isn't very useful.  Why is that and how might we get some useful info out of the column?"
   ]
  },
  {
   "cell_type": "code",
   "execution_count": 5,
   "metadata": {},
   "outputs": [
    {
     "data": {
      "text/html": [
       "<div><strong>Dask DataFrame Structure:</strong></div>\n",
       "<div>\n",
       "<style scoped>\n",
       "    .dataframe tbody tr th:only-of-type {\n",
       "        vertical-align: middle;\n",
       "    }\n",
       "\n",
       "    .dataframe tbody tr th {\n",
       "        vertical-align: top;\n",
       "    }\n",
       "\n",
       "    .dataframe thead th {\n",
       "        text-align: right;\n",
       "    }\n",
       "</style>\n",
       "<table border=\"1\" class=\"dataframe\">\n",
       "  <thead>\n",
       "    <tr style=\"text-align: right;\">\n",
       "      <th></th>\n",
       "      <th>datetime</th>\n",
       "      <th>season</th>\n",
       "      <th>holiday</th>\n",
       "      <th>workingday</th>\n",
       "      <th>weather</th>\n",
       "      <th>temp</th>\n",
       "      <th>atemp</th>\n",
       "      <th>humidity</th>\n",
       "      <th>windspeed</th>\n",
       "      <th>casual</th>\n",
       "      <th>registered</th>\n",
       "      <th>count</th>\n",
       "      <th>hour</th>\n",
       "      <th>weekday_num</th>\n",
       "      <th>weekday_name</th>\n",
       "    </tr>\n",
       "    <tr>\n",
       "      <th>npartitions=1</th>\n",
       "      <th></th>\n",
       "      <th></th>\n",
       "      <th></th>\n",
       "      <th></th>\n",
       "      <th></th>\n",
       "      <th></th>\n",
       "      <th></th>\n",
       "      <th></th>\n",
       "      <th></th>\n",
       "      <th></th>\n",
       "      <th></th>\n",
       "      <th></th>\n",
       "      <th></th>\n",
       "      <th></th>\n",
       "      <th></th>\n",
       "    </tr>\n",
       "  </thead>\n",
       "  <tbody>\n",
       "    <tr>\n",
       "      <th></th>\n",
       "      <td>datetime64[ns]</td>\n",
       "      <td>int64</td>\n",
       "      <td>int64</td>\n",
       "      <td>int64</td>\n",
       "      <td>int64</td>\n",
       "      <td>float64</td>\n",
       "      <td>float64</td>\n",
       "      <td>int64</td>\n",
       "      <td>float64</td>\n",
       "      <td>int64</td>\n",
       "      <td>int64</td>\n",
       "      <td>int64</td>\n",
       "      <td>int64</td>\n",
       "      <td>int64</td>\n",
       "      <td>object</td>\n",
       "    </tr>\n",
       "    <tr>\n",
       "      <th></th>\n",
       "      <td>...</td>\n",
       "      <td>...</td>\n",
       "      <td>...</td>\n",
       "      <td>...</td>\n",
       "      <td>...</td>\n",
       "      <td>...</td>\n",
       "      <td>...</td>\n",
       "      <td>...</td>\n",
       "      <td>...</td>\n",
       "      <td>...</td>\n",
       "      <td>...</td>\n",
       "      <td>...</td>\n",
       "      <td>...</td>\n",
       "      <td>...</td>\n",
       "      <td>...</td>\n",
       "    </tr>\n",
       "  </tbody>\n",
       "</table>\n",
       "</div>\n",
       "<div>Dask Name: assign, 13 tasks</div>"
      ],
      "text/plain": [
       "Dask DataFrame Structure:\n",
       "                     datetime season holiday workingday weather     temp    atemp humidity windspeed casual registered  count   hour weekday_num weekday_name\n",
       "npartitions=1                                                                                                                                                \n",
       "               datetime64[ns]  int64   int64      int64   int64  float64  float64    int64   float64  int64      int64  int64  int64       int64       object\n",
       "                          ...    ...     ...        ...     ...      ...      ...      ...       ...    ...        ...    ...    ...         ...          ...\n",
       "Dask Name: assign, 13 tasks"
      ]
     },
     "execution_count": 5,
     "metadata": {},
     "output_type": "execute_result"
    },
    {
     "data": {
      "application/javascript": [
       "\n",
       "            setTimeout(function() {\n",
       "                var nbb_cell_id = 5;\n",
       "                var nbb_unformatted_code = \"df[\\\"datetime\\\"] = dd.to_datetime(df[\\\"datetime\\\"])\\ndf[\\\"hour\\\"] = df[\\\"datetime\\\"].dt.hour\\ndf[\\\"weekday_num\\\"] = df[\\\"datetime\\\"].dt.weekday\\ndf[\\\"weekday_name\\\"] = df[\\\"datetime\\\"].dt.day_name()\\ndf\";\n",
       "                var nbb_formatted_code = \"df[\\\"datetime\\\"] = dd.to_datetime(df[\\\"datetime\\\"])\\ndf[\\\"hour\\\"] = df[\\\"datetime\\\"].dt.hour\\ndf[\\\"weekday_num\\\"] = df[\\\"datetime\\\"].dt.weekday\\ndf[\\\"weekday_name\\\"] = df[\\\"datetime\\\"].dt.day_name()\\ndf\";\n",
       "                var nbb_cells = Jupyter.notebook.get_cells();\n",
       "                for (var i = 0; i < nbb_cells.length; ++i) {\n",
       "                    if (nbb_cells[i].input_prompt_number == nbb_cell_id) {\n",
       "                        if (nbb_cells[i].get_text() == nbb_unformatted_code) {\n",
       "                             nbb_cells[i].set_text(nbb_formatted_code);\n",
       "                        }\n",
       "                        break;\n",
       "                    }\n",
       "                }\n",
       "            }, 500);\n",
       "            "
      ],
      "text/plain": [
       "<IPython.core.display.Javascript object>"
      ]
     },
     "metadata": {},
     "output_type": "display_data"
    }
   ],
   "source": [
    "df[\"datetime\"] = dd.to_datetime(df[\"datetime\"])\n",
    "df[\"hour\"] = df[\"datetime\"].dt.hour\n",
    "df[\"weekday_num\"] = df[\"datetime\"].dt.weekday\n",
    "df[\"weekday_name\"] = df[\"datetime\"].dt.day_name()\n",
    "df"
   ]
  },
  {
   "cell_type": "markdown",
   "metadata": {},
   "source": [
    "Drop the datetime column"
   ]
  },
  {
   "cell_type": "code",
   "execution_count": 6,
   "metadata": {},
   "outputs": [
    {
     "data": {
      "application/javascript": [
       "\n",
       "            setTimeout(function() {\n",
       "                var nbb_cell_id = 6;\n",
       "                var nbb_unformatted_code = \"df = df.drop(columns=\\\"datetime\\\")\";\n",
       "                var nbb_formatted_code = \"df = df.drop(columns=\\\"datetime\\\")\";\n",
       "                var nbb_cells = Jupyter.notebook.get_cells();\n",
       "                for (var i = 0; i < nbb_cells.length; ++i) {\n",
       "                    if (nbb_cells[i].input_prompt_number == nbb_cell_id) {\n",
       "                        if (nbb_cells[i].get_text() == nbb_unformatted_code) {\n",
       "                             nbb_cells[i].set_text(nbb_formatted_code);\n",
       "                        }\n",
       "                        break;\n",
       "                    }\n",
       "                }\n",
       "            }, 500);\n",
       "            "
      ],
      "text/plain": [
       "<IPython.core.display.Javascript object>"
      ]
     },
     "metadata": {},
     "output_type": "display_data"
    }
   ],
   "source": [
    "df = df.drop(columns=\"datetime\")"
   ]
  },
  {
   "cell_type": "markdown",
   "metadata": {},
   "source": [
    "Investigate the column datatypes to make sure there's nothing unexpected"
   ]
  },
  {
   "cell_type": "code",
   "execution_count": null,
   "metadata": {
    "hideCode": false,
    "hidePrompt": false
   },
   "outputs": [],
   "source": [
    "# df.info().compute()\n",
    "# df.info()\n",
    "# df.describe()\n",
    "df.describe().compute()"
   ]
  },
  {
   "cell_type": "markdown",
   "metadata": {},
   "source": [
    "Do we have missing values we need to handle?"
   ]
  },
  {
   "cell_type": "code",
   "execution_count": null,
   "metadata": {
    "hideCode": false,
    "hidePrompt": false
   },
   "outputs": [],
   "source": [
    "df.isna().mean().compute()"
   ]
  },
  {
   "cell_type": "markdown",
   "metadata": {},
   "source": [
    "Calculate summary statistics.  When doing this, pay extra attention to our response variable, `count`."
   ]
  },
  {
   "cell_type": "code",
   "execution_count": null,
   "metadata": {},
   "outputs": [],
   "source": [
    "df.describe().compute()[\"count\"]"
   ]
  },
  {
   "cell_type": "markdown",
   "metadata": {
    "hideCode": false,
    "hidePrompt": false
   },
   "source": [
    "Plot a `scatter_matrix`/`pairplot` of our dataframe"
   ]
  },
  {
   "cell_type": "code",
   "execution_count": null,
   "metadata": {
    "hideCode": false,
    "hidePrompt": false,
    "scrolled": false
   },
   "outputs": [],
   "source": [
    "# sns.pairplot(df.compute())\n",
    "# plt.show()"
   ]
  },
  {
   "cell_type": "markdown",
   "metadata": {},
   "source": [
    "Some things to point out.\n",
    "\n",
    "* Its not the strongest thing, but, temperature seems to have an effect on rentals (the higher the temp the more rentals).  This effect seems more prominent in the casual rentals.\n",
    "* Both humidity and windspeed seem to have negative effects.  When they're low, there doesn't seem to be a big correlation, but when these factors are high we see a drop off in rentals.\n",
    "* We won't be using this information, but note the plots between casual & count.  We see a pretty distinct v-shape, this is indicative of an interaction happening somewhere.  That is, there seems to be 2 distinct groups of data, we could try and explore and find a reason for this split.\n",
    "* Our response variable `count` is a very positively skewed distribution.  This indicates that we might want to perform a transformation to it.  For now we'll leave it, and come back to this."
   ]
  },
  {
   "cell_type": "markdown",
   "metadata": {},
   "source": [
    "Plot the distribution of the response"
   ]
  },
  {
   "cell_type": "code",
   "execution_count": 7,
   "metadata": {},
   "outputs": [
    {
     "data": {
      "image/png": "[encoded data removed]",
      "text/plain": [
       "<Figure size 432x288 with 1 Axes>"
      ]
     },
     "metadata": {
      "needs_background": "light"
     },
     "output_type": "display_data"
    },
    {
     "data": {
      "application/javascript": [
       "\n",
       "            setTimeout(function() {\n",
       "                var nbb_cell_id = 7;\n",
       "                var nbb_unformatted_code = \"df[\\\"count\\\"].compute().hist()\\nplt.show()\";\n",
       "                var nbb_formatted_code = \"df[\\\"count\\\"].compute().hist()\\nplt.show()\";\n",
       "                var nbb_cells = Jupyter.notebook.get_cells();\n",
       "                for (var i = 0; i < nbb_cells.length; ++i) {\n",
       "                    if (nbb_cells[i].input_prompt_number == nbb_cell_id) {\n",
       "                        if (nbb_cells[i].get_text() == nbb_unformatted_code) {\n",
       "                             nbb_cells[i].set_text(nbb_formatted_code);\n",
       "                        }\n",
       "                        break;\n",
       "                    }\n",
       "                }\n",
       "            }, 500);\n",
       "            "
      ],
      "text/plain": [
       "<IPython.core.display.Javascript object>"
      ]
     },
     "metadata": {},
     "output_type": "display_data"
    }
   ],
   "source": [
    "df[\"count\"].compute().hist()\n",
    "plt.show()"
   ]
  },
  {
   "cell_type": "markdown",
   "metadata": {
    "hideCode": false,
    "hidePrompt": false
   },
   "source": [
    "## Prep data for modeling"
   ]
  },
  {
   "cell_type": "code",
   "execution_count": 8,
   "metadata": {},
   "outputs": [
    {
     "data": {
      "application/javascript": [
       "\n",
       "            setTimeout(function() {\n",
       "                var nbb_cell_id = 8;\n",
       "                var nbb_unformatted_code = \"drop_cols = [\\n    \\\"count\\\",\\n    \\\"registered\\\",\\n    \\\"casual\\\",\\n    \\\"weekday_num\\\",\\n    \\\"atemp\\\",\\n    \\\"workingday\\\",\\n]\\n\\nX = df.drop(columns=drop_cols)\\ny = da.log(df[\\\"count\\\"])\";\n",
       "                var nbb_formatted_code = \"drop_cols = [\\n    \\\"count\\\",\\n    \\\"registered\\\",\\n    \\\"casual\\\",\\n    \\\"weekday_num\\\",\\n    \\\"atemp\\\",\\n    \\\"workingday\\\",\\n]\\n\\nX = df.drop(columns=drop_cols)\\ny = da.log(df[\\\"count\\\"])\";\n",
       "                var nbb_cells = Jupyter.notebook.get_cells();\n",
       "                for (var i = 0; i < nbb_cells.length; ++i) {\n",
       "                    if (nbb_cells[i].input_prompt_number == nbb_cell_id) {\n",
       "                        if (nbb_cells[i].get_text() == nbb_unformatted_code) {\n",
       "                             nbb_cells[i].set_text(nbb_formatted_code);\n",
       "                        }\n",
       "                        break;\n",
       "                    }\n",
       "                }\n",
       "            }, 500);\n",
       "            "
      ],
      "text/plain": [
       "<IPython.core.display.Javascript object>"
      ]
     },
     "metadata": {},
     "output_type": "display_data"
    }
   ],
   "source": [
    "drop_cols = [\n",
    "    \"count\",\n",
    "    \"registered\",\n",
    "    \"casual\",\n",
    "    \"weekday_num\",\n",
    "    \"atemp\",\n",
    "    \"workingday\",\n",
    "]\n",
    "\n",
    "X = df.drop(columns=drop_cols)\n",
    "y = da.log(df[\"count\"])"
   ]
  },
  {
   "cell_type": "code",
   "execution_count": 11,
   "metadata": {
    "scrolled": false
   },
   "outputs": [
    {
     "data": {
      "application/javascript": [
       "\n",
       "            setTimeout(function() {\n",
       "                var nbb_cell_id = 11;\n",
       "                var nbb_unformatted_code = \"X_train, X_test, y_train, y_test = train_test_split(\\n    X, y, test_size=0.2, shuffle=True, random_state=42\\n)\";\n",
       "                var nbb_formatted_code = \"X_train, X_test, y_train, y_test = train_test_split(\\n    X, y, test_size=0.2, shuffle=True, random_state=42\\n)\";\n",
       "                var nbb_cells = Jupyter.notebook.get_cells();\n",
       "                for (var i = 0; i < nbb_cells.length; ++i) {\n",
       "                    if (nbb_cells[i].input_prompt_number == nbb_cell_id) {\n",
       "                        if (nbb_cells[i].get_text() == nbb_unformatted_code) {\n",
       "                             nbb_cells[i].set_text(nbb_formatted_code);\n",
       "                        }\n",
       "                        break;\n",
       "                    }\n",
       "                }\n",
       "            }, 500);\n",
       "            "
      ],
      "text/plain": [
       "<IPython.core.display.Javascript object>"
      ]
     },
     "metadata": {},
     "output_type": "display_data"
    }
   ],
   "source": [
    "X_train, X_test, y_train, y_test = train_test_split(\n",
    "    X, y, test_size=0.2, shuffle=True, random_state=42\n",
    ")"
   ]
  },
  {
   "cell_type": "code",
   "execution_count": 12,
   "metadata": {},
   "outputs": [
    {
     "data": {
      "text/plain": [
       "dask.dataframe.core.DataFrame"
      ]
     },
     "execution_count": 12,
     "metadata": {},
     "output_type": "execute_result"
    },
    {
     "data": {
      "application/javascript": [
       "\n",
       "            setTimeout(function() {\n",
       "                var nbb_cell_id = 12;\n",
       "                var nbb_unformatted_code = \"type(X_train)\";\n",
       "                var nbb_formatted_code = \"type(X_train)\";\n",
       "                var nbb_cells = Jupyter.notebook.get_cells();\n",
       "                for (var i = 0; i < nbb_cells.length; ++i) {\n",
       "                    if (nbb_cells[i].input_prompt_number == nbb_cell_id) {\n",
       "                        if (nbb_cells[i].get_text() == nbb_unformatted_code) {\n",
       "                             nbb_cells[i].set_text(nbb_formatted_code);\n",
       "                        }\n",
       "                        break;\n",
       "                    }\n",
       "                }\n",
       "            }, 500);\n",
       "            "
      ],
      "text/plain": [
       "<IPython.core.display.Javascript object>"
      ]
     },
     "metadata": {},
     "output_type": "display_data"
    }
   ],
   "source": [
    "type(X_train)"
   ]
  },
  {
   "cell_type": "code",
   "execution_count": null,
   "metadata": {},
   "outputs": [],
   "source": [
    "X_train.head(2)"
   ]
  },
  {
   "cell_type": "code",
   "execution_count": 17,
   "metadata": {},
   "outputs": [
    {
     "data": {
      "application/javascript": [
       "\n",
       "            setTimeout(function() {\n",
       "                var nbb_cell_id = 17;\n",
       "                var nbb_unformatted_code = \"# TODO: evaluate season being a nominal category\\n# TODO: evaluate weather being a nominal category\\n\\nnum_cols = [\\n    \\\"season\\\",\\n    \\\"weather\\\",\\n    \\\"temp\\\",\\n    \\\"humidity\\\",\\n    \\\"windspeed\\\",\\n]\\n\\nbin_cols = [\\\"holiday\\\"]\\n\\ncat_cols = [\\\"hour\\\", \\\"weekday_name\\\"]\\ndrop_cats = [0, \\\"Monday\\\"]\";\n",
       "                var nbb_formatted_code = \"# TODO: evaluate season being a nominal category\\n# TODO: evaluate weather being a nominal category\\n\\nnum_cols = [\\n    \\\"season\\\",\\n    \\\"weather\\\",\\n    \\\"temp\\\",\\n    \\\"humidity\\\",\\n    \\\"windspeed\\\",\\n]\\n\\nbin_cols = [\\\"holiday\\\"]\\n\\ncat_cols = [\\\"hour\\\", \\\"weekday_name\\\"]\\ndrop_cats = [0, \\\"Monday\\\"]\";\n",
       "                var nbb_cells = Jupyter.notebook.get_cells();\n",
       "                for (var i = 0; i < nbb_cells.length; ++i) {\n",
       "                    if (nbb_cells[i].input_prompt_number == nbb_cell_id) {\n",
       "                        if (nbb_cells[i].get_text() == nbb_unformatted_code) {\n",
       "                             nbb_cells[i].set_text(nbb_formatted_code);\n",
       "                        }\n",
       "                        break;\n",
       "                    }\n",
       "                }\n",
       "            }, 500);\n",
       "            "
      ],
      "text/plain": [
       "<IPython.core.display.Javascript object>"
      ]
     },
     "metadata": {},
     "output_type": "display_data"
    }
   ],
   "source": [
    "num_cols = [\n",
    "    \"season\",\n",
    "    \"weather\",\n",
    "    \"temp\",\n",
    "    \"humidity\",\n",
    "    \"windspeed\",\n",
    "]\n",
    "\n",
    "bin_cols = [\"holiday\"]\n",
    "\n",
    "cat_cols = [\"hour\", \"weekday_name\"]\n",
    "drop_cats = [0, \"Monday\"]"
   ]
  },
  {
   "cell_type": "markdown",
   "metadata": {},
   "source": [
    "## Train a model to predict `count`"
   ]
  },
  {
   "cell_type": "code",
   "execution_count": 13,
   "metadata": {},
   "outputs": [
    {
     "data": {
      "application/javascript": [
       "\n",
       "            setTimeout(function() {\n",
       "                var nbb_cell_id = 13;\n",
       "                var nbb_unformatted_code = \"i = 1\";\n",
       "                var nbb_formatted_code = \"i = 1\";\n",
       "                var nbb_cells = Jupyter.notebook.get_cells();\n",
       "                for (var i = 0; i < nbb_cells.length; ++i) {\n",
       "                    if (nbb_cells[i].input_prompt_number == nbb_cell_id) {\n",
       "                        if (nbb_cells[i].get_text() == nbb_unformatted_code) {\n",
       "                             nbb_cells[i].set_text(nbb_formatted_code);\n",
       "                        }\n",
       "                        break;\n",
       "                    }\n",
       "                }\n",
       "            }, 500);\n",
       "            "
      ],
      "text/plain": [
       "<IPython.core.display.Javascript object>"
      ]
     },
     "metadata": {},
     "output_type": "display_data"
    }
   ],
   "source": [
    "i = 1"
   ]
  },
  {
   "cell_type": "code",
   "execution_count": 18,
   "metadata": {},
   "outputs": [
    {
     "data": {
      "application/javascript": [
       "\n",
       "            setTimeout(function() {\n",
       "                var nbb_cell_id = 18;\n",
       "                var nbb_unformatted_code = \"# fmt: off\\npreprocessing = ColumnTransformer([\\n    (\\\"scale\\\", StandardScaler(), num_cols),\\n    (\\\"encode_cats\\\", OneHotEncoder(drop=drop_cats), cat_cols),\\n], remainder=\\\"passthrough\\\")\";\n",
       "                var nbb_formatted_code = \"# fmt: off\\npreprocessing = ColumnTransformer([\\n    (\\\"scale\\\", StandardScaler(), num_cols),\\n    (\\\"encode_cats\\\", OneHotEncoder(drop=drop_cats), cat_cols),\\n], remainder=\\\"passthrough\\\")\";\n",
       "                var nbb_cells = Jupyter.notebook.get_cells();\n",
       "                for (var i = 0; i < nbb_cells.length; ++i) {\n",
       "                    if (nbb_cells[i].input_prompt_number == nbb_cell_id) {\n",
       "                        if (nbb_cells[i].get_text() == nbb_unformatted_code) {\n",
       "                             nbb_cells[i].set_text(nbb_formatted_code);\n",
       "                        }\n",
       "                        break;\n",
       "                    }\n",
       "                }\n",
       "            }, 500);\n",
       "            "
      ],
      "text/plain": [
       "<IPython.core.display.Javascript object>"
      ]
     },
     "metadata": {},
     "output_type": "display_data"
    }
   ],
   "source": [
    "# fmt: off\n",
    "preprocessing = ColumnTransformer([\n",
    "    (\"scale\", StandardScaler(), num_cols),\n",
    "    (\"encode_cats\", OneHotEncoder(drop=drop_cats), cat_cols),\n",
    "], remainder=\"passthrough\")"
   ]
  },
  {
   "cell_type": "code",
   "execution_count": 19,
   "metadata": {
    "scrolled": true
   },
   "outputs": [
    {
     "data": {
      "application/javascript": [
       "\n",
       "            setTimeout(function() {\n",
       "                var nbb_cell_id = 19;\n",
       "                var nbb_unformatted_code = \"estimators = [\\n    XGBRegressor(),\\n    KNeighborsRegressor(),\\n    RandomForestRegressor(),\\n    SVR(),\\n    ElasticNet(),\\n]\";\n",
       "                var nbb_formatted_code = \"estimators = [\\n    XGBRegressor(),\\n    KNeighborsRegressor(),\\n    RandomForestRegressor(),\\n    SVR(),\\n    ElasticNet(),\\n]\";\n",
       "                var nbb_cells = Jupyter.notebook.get_cells();\n",
       "                for (var i = 0; i < nbb_cells.length; ++i) {\n",
       "                    if (nbb_cells[i].input_prompt_number == nbb_cell_id) {\n",
       "                        if (nbb_cells[i].get_text() == nbb_unformatted_code) {\n",
       "                             nbb_cells[i].set_text(nbb_formatted_code);\n",
       "                        }\n",
       "                        break;\n",
       "                    }\n",
       "                }\n",
       "            }, 500);\n",
       "            "
      ],
      "text/plain": [
       "<IPython.core.display.Javascript object>"
      ]
     },
     "metadata": {},
     "output_type": "display_data"
    }
   ],
   "source": [
    "estimators = [\n",
    "    XGBRegressor(),\n",
    "    KNeighborsRegressor(),\n",
    "    RandomForestRegressor(),\n",
    "    SVR(),\n",
    "    ElasticNet(),\n",
    "]"
   ]
  },
  {
   "cell_type": "code",
   "execution_count": 20,
   "metadata": {},
   "outputs": [
    {
     "data": {
      "application/javascript": [
       "\n",
       "            setTimeout(function() {\n",
       "                var nbb_cell_id = 20;\n",
       "                var nbb_unformatted_code = \"# fmt: off\\npipeline = Pipeline([\\n    (\\\"preprocessing\\\", preprocessing),\\n    ('model', estimators[i]),\\n])\";\n",
       "                var nbb_formatted_code = \"# fmt: off\\npipeline = Pipeline([\\n    (\\\"preprocessing\\\", preprocessing),\\n    ('model', estimators[i]),\\n])\";\n",
       "                var nbb_cells = Jupyter.notebook.get_cells();\n",
       "                for (var i = 0; i < nbb_cells.length; ++i) {\n",
       "                    if (nbb_cells[i].input_prompt_number == nbb_cell_id) {\n",
       "                        if (nbb_cells[i].get_text() == nbb_unformatted_code) {\n",
       "                             nbb_cells[i].set_text(nbb_formatted_code);\n",
       "                        }\n",
       "                        break;\n",
       "                    }\n",
       "                }\n",
       "            }, 500);\n",
       "            "
      ],
      "text/plain": [
       "<IPython.core.display.Javascript object>"
      ]
     },
     "metadata": {},
     "output_type": "display_data"
    }
   ],
   "source": [
    "# fmt: off\n",
    "pipeline = Pipeline([\n",
    "    (\"preprocessing\", preprocessing),\n",
    "    ('model', estimators[i]),\n",
    "])"
   ]
  },
  {
   "cell_type": "code",
   "execution_count": null,
   "metadata": {},
   "outputs": [],
   "source": [
    "# fmt: off\n",
    "# single model cell.\n",
    "# \n",
    "# pipeline = Pipeline([\n",
    "#     (\"preprocessing\", preprocessing),\n",
    "#     ('model', estimators[i]),\n",
    "# ])\n",
    "# grids = [\n",
    "#     {\n",
    "#         \"model__max_depth\": [3, 5, 10],\n",
    "#         \"model__subsample\": [0.5, 0.75, 1],\n",
    "#     }"
   ]
  },
  {
   "cell_type": "code",
   "execution_count": 21,
   "metadata": {},
   "outputs": [
    {
     "data": {
      "application/javascript": [
       "\n",
       "            setTimeout(function() {\n",
       "                var nbb_cell_id = 21;\n",
       "                var nbb_unformatted_code = \"grids = [\\n    {\\n        \\\"model__max_depth\\\": [3, 5, 10],\\n        \\\"model__subsample\\\": [0.5, 0.75, 1],\\n    },\\n    {\\\"model__n_neighbors\\\": [3, 5, 7], \\\"model__weights\\\": [\\\"uniform\\\", \\\"distance\\\"]},\\n    {\\\"model__n_estimators\\\": [30, 50, 100, 150], \\\"model__max_depth\\\": [5, 10, 15, 20]},\\n    {\\\"model__kernel\\\": [\\\"linear\\\", \\\"rbf\\\"], \\\"model__epsilon\\\": [0.5, 1.0, 2.0]},\\n    {\\\"model__alpha\\\": [0.5, 1, 1.5, 2], \\\"model__l1_ratio\\\": [0.25, 0.5, 0.75, 1.0]},\\n]\";\n",
       "                var nbb_formatted_code = \"grids = [\\n    {\\n        \\\"model__max_depth\\\": [3, 5, 10],\\n        \\\"model__subsample\\\": [0.5, 0.75, 1],\\n    },\\n    {\\\"model__n_neighbors\\\": [3, 5, 7], \\\"model__weights\\\": [\\\"uniform\\\", \\\"distance\\\"]},\\n    {\\\"model__n_estimators\\\": [30, 50, 100, 150], \\\"model__max_depth\\\": [5, 10, 15, 20]},\\n    {\\\"model__kernel\\\": [\\\"linear\\\", \\\"rbf\\\"], \\\"model__epsilon\\\": [0.5, 1.0, 2.0]},\\n    {\\\"model__alpha\\\": [0.5, 1, 1.5, 2], \\\"model__l1_ratio\\\": [0.25, 0.5, 0.75, 1.0]},\\n]\";\n",
       "                var nbb_cells = Jupyter.notebook.get_cells();\n",
       "                for (var i = 0; i < nbb_cells.length; ++i) {\n",
       "                    if (nbb_cells[i].input_prompt_number == nbb_cell_id) {\n",
       "                        if (nbb_cells[i].get_text() == nbb_unformatted_code) {\n",
       "                             nbb_cells[i].set_text(nbb_formatted_code);\n",
       "                        }\n",
       "                        break;\n",
       "                    }\n",
       "                }\n",
       "            }, 500);\n",
       "            "
      ],
      "text/plain": [
       "<IPython.core.display.Javascript object>"
      ]
     },
     "metadata": {},
     "output_type": "display_data"
    }
   ],
   "source": [
    "grids = [\n",
    "    {\n",
    "        \"model__max_depth\": [3, 5, 10],\n",
    "        \"model__subsample\": [0.5, 0.75, 1],\n",
    "    },\n",
    "    {\"model__n_neighbors\": [3, 5, 7], \"model__weights\": [\"uniform\", \"distance\"]},\n",
    "    {\"model__n_estimators\": [30, 50, 100, 150], \"model__max_depth\": [5, 10, 15, 20]},\n",
    "    {\"model__kernel\": [\"linear\", \"rbf\"], \"model__epsilon\": [0.5, 1.0, 2.0]},\n",
    "    {\"model__alpha\": [0.5, 1, 1.5, 2], \"model__l1_ratio\": [0.25, 0.5, 0.75, 1.0]},\n",
    "]"
   ]
  },
  {
   "cell_type": "code",
   "execution_count": 22,
   "metadata": {},
   "outputs": [
    {
     "data": {
      "application/javascript": [
       "\n",
       "            setTimeout(function() {\n",
       "                var nbb_cell_id = 22;\n",
       "                var nbb_unformatted_code = \"pipeline_cv = GridSearchCV(pipeline, grids[i], verbose=1, n_jobs=-1, cv=2)\";\n",
       "                var nbb_formatted_code = \"pipeline_cv = GridSearchCV(pipeline, grids[i], verbose=1, n_jobs=-1, cv=2)\";\n",
       "                var nbb_cells = Jupyter.notebook.get_cells();\n",
       "                for (var i = 0; i < nbb_cells.length; ++i) {\n",
       "                    if (nbb_cells[i].input_prompt_number == nbb_cell_id) {\n",
       "                        if (nbb_cells[i].get_text() == nbb_unformatted_code) {\n",
       "                             nbb_cells[i].set_text(nbb_formatted_code);\n",
       "                        }\n",
       "                        break;\n",
       "                    }\n",
       "                }\n",
       "            }, 500);\n",
       "            "
      ],
      "text/plain": [
       "<IPython.core.display.Javascript object>"
      ]
     },
     "metadata": {},
     "output_type": "display_data"
    }
   ],
   "source": [
    "pipeline_cv = GridSearchCV(pipeline, grids[i], verbose=1, n_jobs=-1, cv=2)"
   ]
  },
  {
   "cell_type": "code",
   "execution_count": 23,
   "metadata": {
    "scrolled": true
   },
   "outputs": [
    {
     "name": "stdout",
     "output_type": "stream",
     "text": [
      "Fitting 2 folds for each of 6 candidates, totalling 12 fits\n"
     ]
    },
    {
     "name": "stderr",
     "output_type": "stream",
     "text": [
      "[Parallel(n_jobs=-1)]: Using backend DaskDistributedBackend with 8 concurrent workers.\n",
      "[Parallel(n_jobs=-1)]: Done  10 out of  12 | elapsed:   56.2s remaining:   11.2s\n",
      "[Parallel(n_jobs=-1)]: Done  12 out of  12 | elapsed:   58.4s finished\n"
     ]
    },
    {
     "name": "stdout",
     "output_type": "stream",
     "text": [
      "Train Score: 0.99976885166609\n",
      "Test Score: 0.7654990358135848\n"
     ]
    },
    {
     "data": {
      "application/javascript": [
       "\n",
       "            setTimeout(function() {\n",
       "                var nbb_cell_id = 23;\n",
       "                var nbb_unformatted_code = \"with joblib.parallel_backend(\\\"dask\\\"):\\n    pipeline_cv.fit(X_train.compute(), y_train.compute())\\n\\nprint(f\\\"Train Score: {pipeline_cv.score(X_train.compute(), y_train.compute())}\\\")\\nprint(f\\\"Test Score: {pipeline_cv.score(X_test.compute(), y_test.compute())}\\\")\";\n",
       "                var nbb_formatted_code = \"with joblib.parallel_backend(\\\"dask\\\"):\\n    pipeline_cv.fit(X_train.compute(), y_train.compute())\\n\\nprint(f\\\"Train Score: {pipeline_cv.score(X_train.compute(), y_train.compute())}\\\")\\nprint(f\\\"Test Score: {pipeline_cv.score(X_test.compute(), y_test.compute())}\\\")\";\n",
       "                var nbb_cells = Jupyter.notebook.get_cells();\n",
       "                for (var i = 0; i < nbb_cells.length; ++i) {\n",
       "                    if (nbb_cells[i].input_prompt_number == nbb_cell_id) {\n",
       "                        if (nbb_cells[i].get_text() == nbb_unformatted_code) {\n",
       "                             nbb_cells[i].set_text(nbb_formatted_code);\n",
       "                        }\n",
       "                        break;\n",
       "                    }\n",
       "                }\n",
       "            }, 500);\n",
       "            "
      ],
      "text/plain": [
       "<IPython.core.display.Javascript object>"
      ]
     },
     "metadata": {},
     "output_type": "display_data"
    }
   ],
   "source": [
    "with joblib.parallel_backend(\"dask\"):\n",
    "    pipeline_cv.fit(X_train.compute(), y_train.compute())\n",
    "\n",
    "print(f\"Train Score: {pipeline_cv.score(X_train.compute(), y_train.compute())}\")\n",
    "print(f\"Test Score: {pipeline_cv.score(X_test.compute(), y_test.compute())}\")"
   ]
  },
  {
   "cell_type": "code",
   "execution_count": 1,
   "metadata": {},
   "outputs": [],
   "source": [
    "def get_best_model(x, y, x_test, y_test):\n",
    "\n",
    "    \"\"\"Function returns train/test scores and top-scoring\n",
    "    parameters of the ones that are listed below\"\"\"\n",
    "\n",
    "    train_scores = []\n",
    "    test_scores = []\n",
    "    best_params = []\n",
    "\n",
    "    estimators = [\n",
    "        #         XGBRegressor(),\n",
    "        KNeighborsRegressor(),\n",
    "        RandomForestRegressor(),\n",
    "        SVR(),\n",
    "        ElasticNet(),\n",
    "    ]\n",
    "\n",
    "    preprocessing = ColumnTransformer(\n",
    "        [\n",
    "            (\"scale\", StandardScaler(), num_cols),\n",
    "            (\"encode_cats\", OneHotEncoder(drop=drop_cats), cat_cols),\n",
    "        ],\n",
    "        remainder=\"passthrough\",\n",
    "    )\n",
    "\n",
    "    grids = [\n",
    "        #         {\n",
    "        #             \"model__max_depth\": [3, 5, 10],\n",
    "        #             \"model__n_estimators\": [30, 50, 100, 150],\n",
    "        #             \"model__subsample\": [0.1, 0.25, 0.5, 0.75, 1],\n",
    "        #         },\n",
    "        {\"model__n_neighbors\": [3, 5, 7], \"model__weights\": [\"uniform\", \"distance\"]},\n",
    "        {\n",
    "            \"model__n_estimators\": [30, 50, 100, 150],\n",
    "            \"model__max_depth\": [5, 10, 15, 20],\n",
    "        },\n",
    "        {\"model__kernel\": [\"linear\", \"rbf\"], \"model__epsilon\": [0.5, 1.0, 2.0]},\n",
    "        {\"model__alpha\": [0.5, 1, 1.5], \"model__l1_ratio\": [0.5, 0.75, 1.0]},\n",
    "    ]\n",
    "    for i, estimator in enumerate(estimators):\n",
    "        pipeline = Pipeline(\n",
    "            [\n",
    "                (\"preprocessing\", preprocessing),\n",
    "                (\"model\", estimator),\n",
    "            ]\n",
    "        )\n",
    "        pipeline_cv = GridSearchCV(\n",
    "            pipeline, param_grid=grids[i], verbose=1, n_jobs=-1, cv=2\n",
    "        )\n",
    "\n",
    "        with joblib.parallel_backend(\"dask\"):\n",
    "            pipeline_cv.fit(x.compute(), y.compute())\n",
    "\n",
    "        train_scores.append(pipeline_cv.score(x.compute(), y.compute()))\n",
    "        test_scores.append(pipeline_cv.score(x_test.compute(), y_test.compute()))\n",
    "        best_params.append(pipeline_cv.best_params_)\n",
    "    scores_df = pd.DataFrame(\n",
    "        [estimators, train_scores, test_scores],\n",
    "        columns=[\"Algorithm\", \"Training Scores\", \"Testing Scores\"],\n",
    "    )\n",
    "\n",
    "    return scores_df"
   ]
  },
  {
   "cell_type": "code",
   "execution_count": 2,
   "metadata": {
    "scrolled": false
   },
   "outputs": [
    {
     "ename": "NameError",
     "evalue": "name 'X_train' is not defined",
     "output_type": "error",
     "traceback": [
      "\u001b[1;31m---------------------------------------------------------------------------\u001b[0m",
      "\u001b[1;31mNameError\u001b[0m                                 Traceback (most recent call last)",
      "\u001b[1;32m<ipython-input-2-98184cf398ed>\u001b[0m in \u001b[0;36m<module>\u001b[1;34m\u001b[0m\n\u001b[1;32m----> 1\u001b[1;33m \u001b[0mget_best_model\u001b[0m\u001b[1;33m(\u001b[0m\u001b[0mx\u001b[0m\u001b[1;33m=\u001b[0m\u001b[0mX_train\u001b[0m\u001b[1;33m,\u001b[0m \u001b[0my\u001b[0m\u001b[1;33m=\u001b[0m\u001b[0my_train\u001b[0m\u001b[1;33m,\u001b[0m \u001b[0mx_test\u001b[0m\u001b[1;33m=\u001b[0m\u001b[0mX_test\u001b[0m\u001b[1;33m,\u001b[0m \u001b[0my_test\u001b[0m\u001b[1;33m=\u001b[0m\u001b[0my_test\u001b[0m\u001b[1;33m)\u001b[0m\u001b[1;33m\u001b[0m\u001b[1;33m\u001b[0m\u001b[0m\n\u001b[0m",
      "\u001b[1;31mNameError\u001b[0m: name 'X_train' is not defined"
     ]
    }
   ],
   "source": [
    "get_best_model(x=X_train, y=y_train, x_test=X_test, y_test=y_test)"
   ]
  },
  {
   "cell_type": "code",
   "execution_count": null,
   "metadata": {},
   "outputs": [],
   "source": [
    "pipeline_cv.best_estimator_"
   ]
  },
  {
   "cell_type": "code",
   "execution_count": null,
   "metadata": {
    "scrolled": true
   },
   "outputs": [],
   "source": [
    "pipeline_cv.best_estimator_[\"model\"].feature_importances_"
   ]
  },
  {
   "cell_type": "markdown",
   "metadata": {},
   "source": [
    "## Evaluate perfomance and adjust your strategy as needed"
   ]
  },
  {
   "cell_type": "code",
   "execution_count": null,
   "metadata": {},
   "outputs": [],
   "source": [
    "y_pred = pipeline_cv.predict(X_test.compute())"
   ]
  },
  {
   "cell_type": "code",
   "execution_count": null,
   "metadata": {},
   "outputs": [],
   "source": [
    "y_test.head()"
   ]
  },
  {
   "cell_type": "code",
   "execution_count": null,
   "metadata": {},
   "outputs": [],
   "source": [
    "dir(y_test)\n"
   ]
  },
  {
   "cell_type": "code",
   "execution_count": null,
   "metadata": {},
   "outputs": [],
   "source": [
    "y_test_exp = da.exp(y_test)\n",
    "y_pred_exp = da.exp(y_pred)"
   ]
  },
  {
   "cell_type": "code",
   "execution_count": null,
   "metadata": {},
   "outputs": [],
   "source": [
    "mae = da.mean(da.absolute(y_pred_exp.compute() - y_test_exp.compute()))\n",
    "mape = da.mean(\n",
    "    da.absolute((y_pred_exp.compute() - y_test_exp.compute()) / y_test_exp.compute())\n",
    ")\n",
    "\n",
    "print(f\"MAE: {mae.compute():.2f}\")\n",
    "print(f\"MAPE: {100 * mape.compute:.2f}%\")"
   ]
  },
  {
   "cell_type": "code",
   "execution_count": null,
   "metadata": {},
   "outputs": [],
   "source": [
    "ymin = y_test.min()\n",
    "ymax = y_test.max()\n",
    "\n",
    "plt.scatter(y_test, y_pred)\n",
    "plt.plot([ymin, ymax], [ymin, ymax], c=\"red\")\n",
    "plt.show()"
   ]
  },
  {
   "cell_type": "code",
   "execution_count": null,
   "metadata": {},
   "outputs": [],
   "source": [
    "pred_df = df_og.loc[X_test.index, :].copy()\n",
    "pred_df[\"y_true\"] = y_test_exp\n",
    "pred_df[\"y_pred\"] = y_pred_exp\n",
    "pred_df[\"resid\"] = pred_df[\"y_pred\"] - pred_df[\"y_true\"]\n",
    "pred_df[\"abs_resid\"] = pred_df[\"resid\"].abs()\n",
    "\n",
    "pred_df = pred_df.sort_values(\"abs_resid\", ascending=False)\n",
    "pred_df.head(5)"
   ]
  }
 ],
 "metadata": {
  "hide_code_all_hidden": true,
  "kernelspec": {
   "display_name": "Python 3",
   "language": "python",
   "name": "python3"
  },
  "language_info": {
   "codemirror_mode": {
    "name": "ipython",
    "version": 3
   },
   "file_extension": ".py",
   "mimetype": "text/x-python",
   "name": "python",
   "nbconvert_exporter": "python",
   "pygments_lexer": "ipython3",
   "version": "3.8.3"
  }
 },
 "nbformat": 4,
 "nbformat_minor": 2
}
