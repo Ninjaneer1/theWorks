{
 "cells": [
  {
   "cell_type": "code",
   "execution_count": 3,
   "metadata": {},
   "outputs": [
    {
     "data": {
      "application/javascript": [
       "\n",
       "            setTimeout(function() {\n",
       "                var nbb_cell_id = 3;\n",
       "                var nbb_unformatted_code = \"%reload_ext nb_black\";\n",
       "                var nbb_formatted_code = \"%reload_ext nb_black\";\n",
       "                var nbb_cells = Jupyter.notebook.get_cells();\n",
       "                for (var i = 0; i < nbb_cells.length; ++i) {\n",
       "                    if (nbb_cells[i].input_prompt_number == nbb_cell_id) {\n",
       "                        if (nbb_cells[i].get_text() == nbb_unformatted_code) {\n",
       "                             nbb_cells[i].set_text(nbb_formatted_code);\n",
       "                        }\n",
       "                        break;\n",
       "                    }\n",
       "                }\n",
       "            }, 500);\n",
       "            "
      ],
      "text/plain": [
       "<IPython.core.display.Javascript object>"
      ]
     },
     "metadata": {},
     "output_type": "display_data"
    }
   ],
   "source": [
    "%reload_ext nb_black"
   ]
  },
  {
   "cell_type": "code",
   "execution_count": 1,
   "metadata": {
    "run_control": {
     "frozen": false,
     "read_only": false
    }
   },
   "outputs": [],
   "source": [
    "import itertools\n",
    "import pandas as pd\n",
    "import numpy as np\n",
    "import matplotlib.pyplot as plt\n",
    "%matplotlib inline\n",
    "\n",
    "from sklearn.metrics import confusion_matrix, precision_score, recall_score\n",
    "from sklearn import ensemble"
   ]
  },
  {
   "cell_type": "markdown",
   "metadata": {},
   "source": [
    "### Gradient boost guided example\n",
    "\n",
    "Now that you've walked through gradient boost by hand, try it with scikit-learn. You'll still use the *European Social Survey* data, but now with a categorical outcome: whether or not someone lives with a partner."
   ]
  },
  {
   "cell_type": "code",
   "execution_count": 2,
   "metadata": {},
   "outputs": [],
   "source": [
    "df = pd.read_csv((\n",
    "    \"https://raw.githubusercontent.com/Thinkful-Ed/data-201-resources/\"\n",
    "    \"master/ESS_practice_data/ESSdata_Thinkful.csv\")).dropna()\n",
    "\n",
    "# Define outcome and predictors.\n",
    "# Set the outcomes to `0` and `1`.\n",
    "y = df['partner'] - 1\n",
    "X = df.loc[:, ~df.columns.isin(['partner', 'cntry', 'idno'])]\n",
    "\n",
    "# Make the categorical variable `country` into dummies.\n",
    "X = pd.concat([X, pd.get_dummies(df['cntry'])], axis=1)\n",
    "\n",
    "# Create training and test sets.\n",
    "offset = int(X.shape[0] * 0.8)\n",
    "\n",
    "# Put 80% of the data in the training set.\n",
    "X_train, y_train = X[:offset], y[:offset]\n",
    "\n",
    "# And put 20% in the test set.\n",
    "X_test, y_test = X[offset:], y[offset:]"
   ]
  },
  {
   "cell_type": "markdown",
   "metadata": {},
   "source": [
    "Because you're now working with a binary outcome, you've switched to a classifier. Now your loss function can't be the residuals. Your options are `deviance` and `exponential`. The `deviance` loss function is used for logistic regression, and you'll try that here."
   ]
  },
  {
   "cell_type": "code",
   "execution_count": 161,
   "metadata": {},
   "outputs": [
    {
     "data": {
      "application/javascript": [
       "\n",
       "            setTimeout(function() {\n",
       "                var nbb_cell_id = 161;\n",
       "                var nbb_unformatted_code = \"# You'll make 500 iterations, use 2-deep trees, and set your loss function.\\n\\n# It's best to update this table for the drill\\n# at the end of the checkpoint.\\n\\n# params = {\\\"n_estimators\\\": 500, \\\"max_depth\\\": 2, \\\"loss\\\": \\\"deviance\\\"}\\n# orginal params\\n\\n# params = {\\\"n_estimators\\\": 750, \\\"max_depth\\\": 3, \\\"loss\\\": \\\"exponential\\\",'subsample':0.5}\\n# accuracy: down, precision: down, recall: up\\n\\n# params = {\\\"n_estimators\\\": 750, \\\"max_depth\\\": 3, \\\"loss\\\": \\\"exponential\\\", \\\"subsample\\\": 0.75}\\n# accuracy: up, precision: up, recall: up\\n\\n# params = {\\\"n_estimators\\\": 750, \\\"max_depth\\\": 3, \\\"loss\\\": \\\"deviance\\\",\\\"subsample\\\": 0.25, \\\"learning_rate\\\": 0.8}\\n# accuracy: DOWN, precision: DOWN, recall: UP\\n# lower subsample and higher learning_rate results in HIGH recall\\n# and BIG drop in accurracy and precision\\n\\n\\n# params = {\\\"n_estimators\\\": 750, \\\"max_depth\\\": 3, \\\"loss\\\": \\\"deviance\\\", \\\"subsample\\\": 0.75, \\\"learning_rate\\\": 0.8,}\\n# accuracy: down, precision: down, recall: up\\n\\n# params = {\\\"n_estimators\\\": 1000, \\\"max_depth\\\": 2, \\\"loss\\\": \\\"deviance\\\"}\\n# accuracy: down, precision: up, recall: down\\n\\n# params = {\\\"n_estimators\\\": 1000, \\\"max_depth\\\": 2, \\\"loss\\\": \\\"exponential\\\"}\\n# accuracy: down, precision: down, recall: up\\n\\n# params = {\\\"n_estimators\\\": 1000, \\\"max_depth\\\": 4, \\\"loss\\\": \\\"deviance\\\", \\\"subsample\\\": 0.75}\\n# accuracy: down, precision: down, recall: up\\n\\nparams = {\\n    \\\"n_estimators\\\": 1500,\\n    \\\"max_depth\\\": 2,\\n    \\\"loss\\\": \\\"deviance\\\",\\n    \\\"subsample\\\": 0.9,\\n    \\\"learning_rate\\\": 0.225,\\n}\\n\\n\\n# Initialize and fit the model.\\nclf = ensemble.GradientBoostingClassifier(**params)\\nclf.fit(X_train, y_train)\\n\\npredict_train = clf.predict(X_train)\\npredict_test = clf.predict(X_test)\";\n",
       "                var nbb_formatted_code = \"# You'll make 500 iterations, use 2-deep trees, and set your loss function.\\n\\n# It's best to update this table for the drill\\n# at the end of the checkpoint.\\n\\n# params = {\\\"n_estimators\\\": 500, \\\"max_depth\\\": 2, \\\"loss\\\": \\\"deviance\\\"}\\n# orginal params\\n\\n# params = {\\\"n_estimators\\\": 750, \\\"max_depth\\\": 3, \\\"loss\\\": \\\"exponential\\\",'subsample':0.5}\\n# accuracy: down, precision: down, recall: up\\n\\n# params = {\\\"n_estimators\\\": 750, \\\"max_depth\\\": 3, \\\"loss\\\": \\\"exponential\\\", \\\"subsample\\\": 0.75}\\n# accuracy: up, precision: up, recall: up\\n\\n# params = {\\\"n_estimators\\\": 750, \\\"max_depth\\\": 3, \\\"loss\\\": \\\"deviance\\\",\\\"subsample\\\": 0.25, \\\"learning_rate\\\": 0.8}\\n# accuracy: DOWN, precision: DOWN, recall: UP\\n# lower subsample and higher learning_rate results in HIGH recall\\n# and BIG drop in accurracy and precision\\n\\n\\n# params = {\\\"n_estimators\\\": 750, \\\"max_depth\\\": 3, \\\"loss\\\": \\\"deviance\\\", \\\"subsample\\\": 0.75, \\\"learning_rate\\\": 0.8,}\\n# accuracy: down, precision: down, recall: up\\n\\n# params = {\\\"n_estimators\\\": 1000, \\\"max_depth\\\": 2, \\\"loss\\\": \\\"deviance\\\"}\\n# accuracy: down, precision: up, recall: down\\n\\n# params = {\\\"n_estimators\\\": 1000, \\\"max_depth\\\": 2, \\\"loss\\\": \\\"exponential\\\"}\\n# accuracy: down, precision: down, recall: up\\n\\n# params = {\\\"n_estimators\\\": 1000, \\\"max_depth\\\": 4, \\\"loss\\\": \\\"deviance\\\", \\\"subsample\\\": 0.75}\\n# accuracy: down, precision: down, recall: up\\n\\nparams = {\\n    \\\"n_estimators\\\": 1500,\\n    \\\"max_depth\\\": 2,\\n    \\\"loss\\\": \\\"deviance\\\",\\n    \\\"subsample\\\": 0.9,\\n    \\\"learning_rate\\\": 0.225,\\n}\\n\\n\\n# Initialize and fit the model.\\nclf = ensemble.GradientBoostingClassifier(**params)\\nclf.fit(X_train, y_train)\\n\\npredict_train = clf.predict(X_train)\\npredict_test = clf.predict(X_test)\";\n",
       "                var nbb_cells = Jupyter.notebook.get_cells();\n",
       "                for (var i = 0; i < nbb_cells.length; ++i) {\n",
       "                    if (nbb_cells[i].input_prompt_number == nbb_cell_id) {\n",
       "                        if (nbb_cells[i].get_text() == nbb_unformatted_code) {\n",
       "                             nbb_cells[i].set_text(nbb_formatted_code);\n",
       "                        }\n",
       "                        break;\n",
       "                    }\n",
       "                }\n",
       "            }, 500);\n",
       "            "
      ],
      "text/plain": [
       "<IPython.core.display.Javascript object>"
      ]
     },
     "metadata": {},
     "output_type": "display_data"
    }
   ],
   "source": [
    "# You'll make 500 iterations, use 2-deep trees, and set your loss function.\n",
    "\n",
    "# It's best to update this table for the drill\n",
    "# at the end of the checkpoint.\n",
    "\n",
    "# params = {\"n_estimators\": 500, \"max_depth\": 2, \"loss\": \"deviance\"}\n",
    "# orginal params\n",
    "\n",
    "# params = {\"n_estimators\": 750, \"max_depth\": 3, \"loss\": \"exponential\",'subsample':0.5}\n",
    "# accuracy: down, precision: down, recall: up\n",
    "\n",
    "# params = {\"n_estimators\": 750, \"max_depth\": 3, \"loss\": \"exponential\", \"subsample\": 0.75}\n",
    "# accuracy: up, precision: up, recall: up\n",
    "\n",
    "# params = {\"n_estimators\": 750, \"max_depth\": 3, \"loss\": \"deviance\",\"subsample\": 0.25, \"learning_rate\": 0.8}\n",
    "# accuracy: DOWN, precision: DOWN, recall: UP\n",
    "# lower subsample and higher learning_rate results in HIGH recall\n",
    "# and BIG drop in accurracy and precision\n",
    "\n",
    "\n",
    "# params = {\"n_estimators\": 750, \"max_depth\": 3, \"loss\": \"deviance\", \"subsample\": 0.75, \"learning_rate\": 0.8,}\n",
    "# accuracy: down, precision: down, recall: up\n",
    "\n",
    "# params = {\"n_estimators\": 1000, \"max_depth\": 2, \"loss\": \"deviance\"}\n",
    "# accuracy: down, precision: up, recall: down\n",
    "\n",
    "# params = {\"n_estimators\": 1000, \"max_depth\": 2, \"loss\": \"exponential\"}\n",
    "# accuracy: down, precision: down, recall: up\n",
    "\n",
    "# params = {\"n_estimators\": 1000, \"max_depth\": 4, \"loss\": \"deviance\", \"subsample\": 0.75}\n",
    "# accuracy: down, precision: down, recall: up\n",
    "\n",
    "params = {\n",
    "    \"n_estimators\": 1500,\n",
    "    \"max_depth\": 2,\n",
    "    \"loss\": \"deviance\",\n",
    "    \"subsample\": 0.9,\n",
    "    \"learning_rate\": 0.225,\n",
    "}\n",
    "\n",
    "\n",
    "# Initialize and fit the model.\n",
    "clf = ensemble.GradientBoostingClassifier(**params)\n",
    "clf.fit(X_train, y_train)\n",
    "\n",
    "predict_train = clf.predict(X_train)\n",
    "predict_test = clf.predict(X_test)"
   ]
  },
  {
   "cell_type": "markdown",
   "metadata": {},
   "source": [
    "### Evaluation of model: Confusion matrix plot\n",
    "\n",
    "This plot is based on an example from [scikit-learn's documentation](https://scikit-learn.org/0.18/auto_examples/model_selection/plot_confusion_matrix.html)."
   ]
  },
  {
   "cell_type": "code",
   "execution_count": 15,
   "metadata": {},
   "outputs": [
    {
     "data": {
      "application/javascript": [
       "\n",
       "            setTimeout(function() {\n",
       "                var nbb_cell_id = 15;\n",
       "                var nbb_unformatted_code = \"def plot_confusion_matrix(\\n    cm, classes, normalize, title=\\\"Confusion matrix\\\", cmap=plt.cm.Blues\\n):\\n    \\\"\\\"\\\"\\n    This function prints and plots the confusion matrix.\\n    Normalization can be applied by setting `normalize=True`.\\n    \\\"\\\"\\\"\\n    if normalize:\\n        cm = cm.astype(\\\"float\\\") / cm.sum(axis=1)[:, np.newaxis]\\n        print(\\\"Normalized confusion matrix\\\")\\n    else:\\n        print(\\\"Confusion matrix, without normalization\\\")\\n\\n    plt.imshow(cm, interpolation=\\\"nearest\\\", cmap=cmap)\\n    plt.title(title)\\n    plt.colorbar()\\n    tick_marks = np.arange(len(classes))\\n    plt.xticks(tick_marks, classes)\\n    plt.yticks(tick_marks, classes)\\n    fmt = \\\".2f\\\" if normalize else \\\"d\\\"\\n    thresh = cm.max() / 2.0\\n    for i, j in itertools.product(range(cm.shape[0]), range(cm.shape[1])):\\n        plt.text(\\n            j,\\n            i,\\n            format(cm[i, j], fmt),\\n            horizontalalignment=\\\"center\\\",\\n            verticalalignment=\\\"center\\\",\\n            color=\\\"white\\\" if cm[i, j] > thresh else \\\"black\\\",\\n        )\\n    plt.ylabel(\\\"True label\\\")\\n    plt.xlabel(\\\"Predicted label\\\")\";\n",
       "                var nbb_formatted_code = \"def plot_confusion_matrix(\\n    cm, classes, normalize, title=\\\"Confusion matrix\\\", cmap=plt.cm.Blues\\n):\\n    \\\"\\\"\\\"\\n    This function prints and plots the confusion matrix.\\n    Normalization can be applied by setting `normalize=True`.\\n    \\\"\\\"\\\"\\n    if normalize:\\n        cm = cm.astype(\\\"float\\\") / cm.sum(axis=1)[:, np.newaxis]\\n        print(\\\"Normalized confusion matrix\\\")\\n    else:\\n        print(\\\"Confusion matrix, without normalization\\\")\\n\\n    plt.imshow(cm, interpolation=\\\"nearest\\\", cmap=cmap)\\n    plt.title(title)\\n    plt.colorbar()\\n    tick_marks = np.arange(len(classes))\\n    plt.xticks(tick_marks, classes)\\n    plt.yticks(tick_marks, classes)\\n    fmt = \\\".2f\\\" if normalize else \\\"d\\\"\\n    thresh = cm.max() / 2.0\\n    for i, j in itertools.product(range(cm.shape[0]), range(cm.shape[1])):\\n        plt.text(\\n            j,\\n            i,\\n            format(cm[i, j], fmt),\\n            horizontalalignment=\\\"center\\\",\\n            verticalalignment=\\\"center\\\",\\n            color=\\\"white\\\" if cm[i, j] > thresh else \\\"black\\\",\\n        )\\n    plt.ylabel(\\\"True label\\\")\\n    plt.xlabel(\\\"Predicted label\\\")\";\n",
       "                var nbb_cells = Jupyter.notebook.get_cells();\n",
       "                for (var i = 0; i < nbb_cells.length; ++i) {\n",
       "                    if (nbb_cells[i].input_prompt_number == nbb_cell_id) {\n",
       "                        if (nbb_cells[i].get_text() == nbb_unformatted_code) {\n",
       "                             nbb_cells[i].set_text(nbb_formatted_code);\n",
       "                        }\n",
       "                        break;\n",
       "                    }\n",
       "                }\n",
       "            }, 500);\n",
       "            "
      ],
      "text/plain": [
       "<IPython.core.display.Javascript object>"
      ]
     },
     "metadata": {},
     "output_type": "display_data"
    }
   ],
   "source": [
    "def plot_confusion_matrix(\n",
    "    cm, classes, normalize, title=\"Confusion matrix\", cmap=plt.cm.Blues\n",
    "):\n",
    "    \"\"\"\n",
    "    This function prints and plots the confusion matrix.\n",
    "    Normalization can be applied by setting `normalize=True`.\n",
    "    \"\"\"\n",
    "    if normalize:\n",
    "        cm = cm.astype(\"float\") / cm.sum(axis=1)[:, np.newaxis]\n",
    "        print(\"Normalized confusion matrix\")\n",
    "    else:\n",
    "        print(\"Confusion matrix, without normalization\")\n",
    "\n",
    "    plt.imshow(cm, interpolation=\"nearest\", cmap=cmap)\n",
    "    plt.title(title)\n",
    "    plt.colorbar()\n",
    "    tick_marks = np.arange(len(classes))\n",
    "    plt.xticks(tick_marks, classes)\n",
    "    plt.yticks(tick_marks, classes)\n",
    "    fmt = \".2f\" if normalize else \"d\"\n",
    "    thresh = cm.max() / 2.0\n",
    "    for i, j in itertools.product(range(cm.shape[0]), range(cm.shape[1])):\n",
    "        plt.text(\n",
    "            j,\n",
    "            i,\n",
    "            format(cm[i, j], fmt),\n",
    "            horizontalalignment=\"center\",\n",
    "            verticalalignment=\"center\",\n",
    "            color=\"white\" if cm[i, j] > thresh else \"black\",\n",
    "        )\n",
    "    plt.ylabel(\"True label\")\n",
    "    plt.xlabel(\"Predicted label\")"
   ]
  },
  {
   "cell_type": "code",
   "execution_count": 6,
   "metadata": {
    "scrolled": true
   },
   "outputs": [
    {
     "name": "stdout",
     "output_type": "stream",
     "text": [
      "Confusion matrix, without normalization\n"
     ]
    },
    {
     "data": {
      "image/png": "[encoded data removed]",
      "text/plain": [
       "<Figure size 432x288 with 2 Axes>"
      ]
     },
     "metadata": {
      "needs_background": "light"
     },
     "output_type": "display_data"
    },
    {
     "data": {
      "application/javascript": [
       "\n",
       "            setTimeout(function() {\n",
       "                var nbb_cell_id = 6;\n",
       "                var nbb_unformatted_code = \"cm = confusion_matrix(y_test, predict_test)\\nplot_confusion_matrix(cm,[0,1],False)\";\n",
       "                var nbb_formatted_code = \"cm = confusion_matrix(y_test, predict_test)\\nplot_confusion_matrix(cm, [0, 1], False)\";\n",
       "                var nbb_cells = Jupyter.notebook.get_cells();\n",
       "                for (var i = 0; i < nbb_cells.length; ++i) {\n",
       "                    if (nbb_cells[i].input_prompt_number == nbb_cell_id) {\n",
       "                        if (nbb_cells[i].get_text() == nbb_unformatted_code) {\n",
       "                             nbb_cells[i].set_text(nbb_formatted_code);\n",
       "                        }\n",
       "                        break;\n",
       "                    }\n",
       "                }\n",
       "            }, 500);\n",
       "            "
      ],
      "text/plain": [
       "<IPython.core.display.Javascript object>"
      ]
     },
     "metadata": {},
     "output_type": "display_data"
    }
   ],
   "source": [
    "cm = confusion_matrix(y_test, predict_test)\n",
    "plot_confusion_matrix(cm, [0, 1], False)"
   ]
  },
  {
   "cell_type": "code",
   "execution_count": 22,
   "metadata": {
    "scrolled": true
   },
   "outputs": [
    {
     "name": "stdout",
     "output_type": "stream",
     "text": [
      "Confusion matrix, without normalization\n"
     ]
    },
    {
     "data": {
      "image/png": "[encoded data removed]",
      "text/plain": [
       "<Figure size 432x288 with 2 Axes>"
      ]
     },
     "metadata": {
      "needs_background": "light"
     },
     "output_type": "display_data"
    },
    {
     "data": {
      "application/javascript": [
       "\n",
       "            setTimeout(function() {\n",
       "                var nbb_cell_id = 22;\n",
       "                var nbb_unformatted_code = \"cm1 = confusion_matrix(y_test, predict_test)\\nplot_confusion_matrix(cm1, [0, 1], False)\";\n",
       "                var nbb_formatted_code = \"cm1 = confusion_matrix(y_test, predict_test)\\nplot_confusion_matrix(cm1, [0, 1], False)\";\n",
       "                var nbb_cells = Jupyter.notebook.get_cells();\n",
       "                for (var i = 0; i < nbb_cells.length; ++i) {\n",
       "                    if (nbb_cells[i].input_prompt_number == nbb_cell_id) {\n",
       "                        if (nbb_cells[i].get_text() == nbb_unformatted_code) {\n",
       "                             nbb_cells[i].set_text(nbb_formatted_code);\n",
       "                        }\n",
       "                        break;\n",
       "                    }\n",
       "                }\n",
       "            }, 500);\n",
       "            "
      ],
      "text/plain": [
       "<IPython.core.display.Javascript object>"
      ]
     },
     "metadata": {},
     "output_type": "display_data"
    }
   ],
   "source": [
    "cm1 = confusion_matrix(y_test, predict_test)\n",
    "plot_confusion_matrix(cm1, [0, 1], False)"
   ]
  },
  {
   "cell_type": "code",
   "execution_count": 23,
   "metadata": {
    "scrolled": false
   },
   "outputs": [
    {
     "name": "stdout",
     "output_type": "stream",
     "text": [
      "Confusion matrix, without normalization\n"
     ]
    },
    {
     "data": {
      "image/png": "[encoded data removed]",
      "text/plain": [
       "<Figure size 432x288 with 2 Axes>"
      ]
     },
     "metadata": {
      "needs_background": "light"
     },
     "output_type": "display_data"
    },
    {
     "data": {
      "application/javascript": [
       "\n",
       "            setTimeout(function() {\n",
       "                var nbb_cell_id = 23;\n",
       "                var nbb_unformatted_code = \"cm2 = confusion_matrix(y_test, predict_test)\\nplot_confusion_matrix(cm2, [0, 1], False)\";\n",
       "                var nbb_formatted_code = \"cm2 = confusion_matrix(y_test, predict_test)\\nplot_confusion_matrix(cm2, [0, 1], False)\";\n",
       "                var nbb_cells = Jupyter.notebook.get_cells();\n",
       "                for (var i = 0; i < nbb_cells.length; ++i) {\n",
       "                    if (nbb_cells[i].input_prompt_number == nbb_cell_id) {\n",
       "                        if (nbb_cells[i].get_text() == nbb_unformatted_code) {\n",
       "                             nbb_cells[i].set_text(nbb_formatted_code);\n",
       "                        }\n",
       "                        break;\n",
       "                    }\n",
       "                }\n",
       "            }, 500);\n",
       "            "
      ],
      "text/plain": [
       "<IPython.core.display.Javascript object>"
      ]
     },
     "metadata": {},
     "output_type": "display_data"
    }
   ],
   "source": [
    "cm2 = confusion_matrix(y_test, predict_test)\n",
    "plot_confusion_matrix(cm2, [0, 1], False)"
   ]
  },
  {
   "cell_type": "code",
   "execution_count": 29,
   "metadata": {},
   "outputs": [
    {
     "name": "stdout",
     "output_type": "stream",
     "text": [
      "Confusion matrix, without normalization\n"
     ]
    },
    {
     "data": {
      "image/png": "[encoded data removed]",
      "text/plain": [
       "<Figure size 432x288 with 2 Axes>"
      ]
     },
     "metadata": {
      "needs_background": "light"
     },
     "output_type": "display_data"
    },
    {
     "data": {
      "application/javascript": [
       "\n",
       "            setTimeout(function() {\n",
       "                var nbb_cell_id = 29;\n",
       "                var nbb_unformatted_code = \"cm3 = confusion_matrix(y_test, predict_test)\\nplot_confusion_matrix(cm3, [0, 1], False)\";\n",
       "                var nbb_formatted_code = \"cm3 = confusion_matrix(y_test, predict_test)\\nplot_confusion_matrix(cm3, [0, 1], False)\";\n",
       "                var nbb_cells = Jupyter.notebook.get_cells();\n",
       "                for (var i = 0; i < nbb_cells.length; ++i) {\n",
       "                    if (nbb_cells[i].input_prompt_number == nbb_cell_id) {\n",
       "                        if (nbb_cells[i].get_text() == nbb_unformatted_code) {\n",
       "                             nbb_cells[i].set_text(nbb_formatted_code);\n",
       "                        }\n",
       "                        break;\n",
       "                    }\n",
       "                }\n",
       "            }, 500);\n",
       "            "
      ],
      "text/plain": [
       "<IPython.core.display.Javascript object>"
      ]
     },
     "metadata": {},
     "output_type": "display_data"
    }
   ],
   "source": [
    "cm3 = confusion_matrix(y_test, predict_test)\n",
    "plot_confusion_matrix(cm3, [0, 1], False)"
   ]
  },
  {
   "cell_type": "code",
   "execution_count": 7,
   "metadata": {
    "scrolled": true
   },
   "outputs": [
    {
     "name": "stdout",
     "output_type": "stream",
     "text": [
      "Normalized confusion matrix\n"
     ]
    },
    {
     "data": {
      "image/png": "[encoded data removed]",
      "text/plain": [
       "<Figure size 432x288 with 2 Axes>"
      ]
     },
     "metadata": {
      "needs_background": "light"
     },
     "output_type": "display_data"
    },
    {
     "data": {
      "application/javascript": [
       "\n",
       "            setTimeout(function() {\n",
       "                var nbb_cell_id = 7;\n",
       "                var nbb_unformatted_code = \"cm = confusion_matrix(y_test, predict_test)\\nplot_confusion_matrix(cm,[0,1],True)\";\n",
       "                var nbb_formatted_code = \"cm = confusion_matrix(y_test, predict_test)\\nplot_confusion_matrix(cm, [0, 1], True)\";\n",
       "                var nbb_cells = Jupyter.notebook.get_cells();\n",
       "                for (var i = 0; i < nbb_cells.length; ++i) {\n",
       "                    if (nbb_cells[i].input_prompt_number == nbb_cell_id) {\n",
       "                        if (nbb_cells[i].get_text() == nbb_unformatted_code) {\n",
       "                             nbb_cells[i].set_text(nbb_formatted_code);\n",
       "                        }\n",
       "                        break;\n",
       "                    }\n",
       "                }\n",
       "            }, 500);\n",
       "            "
      ],
      "text/plain": [
       "<IPython.core.display.Javascript object>"
      ]
     },
     "metadata": {},
     "output_type": "display_data"
    }
   ],
   "source": [
    "cm = confusion_matrix(y_test, predict_test)\n",
    "plot_confusion_matrix(cm, [0, 1], True)"
   ]
  },
  {
   "cell_type": "code",
   "execution_count": 24,
   "metadata": {
    "scrolled": true
   },
   "outputs": [
    {
     "name": "stdout",
     "output_type": "stream",
     "text": [
      "Normalized confusion matrix\n"
     ]
    },
    {
     "data": {
      "image/png": "[encoded data removed]",
      "text/plain": [
       "<Figure size 432x288 with 2 Axes>"
      ]
     },
     "metadata": {
      "needs_background": "light"
     },
     "output_type": "display_data"
    },
    {
     "data": {
      "application/javascript": [
       "\n",
       "            setTimeout(function() {\n",
       "                var nbb_cell_id = 24;\n",
       "                var nbb_unformatted_code = \"cm2 = confusion_matrix(y_test, predict_test)\\nplot_confusion_matrix(cm2, [0, 1], True)\";\n",
       "                var nbb_formatted_code = \"cm2 = confusion_matrix(y_test, predict_test)\\nplot_confusion_matrix(cm2, [0, 1], True)\";\n",
       "                var nbb_cells = Jupyter.notebook.get_cells();\n",
       "                for (var i = 0; i < nbb_cells.length; ++i) {\n",
       "                    if (nbb_cells[i].input_prompt_number == nbb_cell_id) {\n",
       "                        if (nbb_cells[i].get_text() == nbb_unformatted_code) {\n",
       "                             nbb_cells[i].set_text(nbb_formatted_code);\n",
       "                        }\n",
       "                        break;\n",
       "                    }\n",
       "                }\n",
       "            }, 500);\n",
       "            "
      ],
      "text/plain": [
       "<IPython.core.display.Javascript object>"
      ]
     },
     "metadata": {},
     "output_type": "display_data"
    }
   ],
   "source": [
    "cm2 = confusion_matrix(y_test, predict_test)\n",
    "plot_confusion_matrix(cm2, [0, 1], True)"
   ]
  },
  {
   "cell_type": "code",
   "execution_count": 30,
   "metadata": {
    "scrolled": true
   },
   "outputs": [
    {
     "name": "stdout",
     "output_type": "stream",
     "text": [
      "Normalized confusion matrix\n"
     ]
    },
    {
     "data": {
      "image/png": "[encoded data removed]",
      "text/plain": [
       "<Figure size 432x288 with 2 Axes>"
      ]
     },
     "metadata": {
      "needs_background": "light"
     },
     "output_type": "display_data"
    },
    {
     "data": {
      "application/javascript": [
       "\n",
       "            setTimeout(function() {\n",
       "                var nbb_cell_id = 30;\n",
       "                var nbb_unformatted_code = \"cm3 = confusion_matrix(y_test, predict_test)\\nplot_confusion_matrix(cm3, [0, 1], True)\";\n",
       "                var nbb_formatted_code = \"cm3 = confusion_matrix(y_test, predict_test)\\nplot_confusion_matrix(cm3, [0, 1], True)\";\n",
       "                var nbb_cells = Jupyter.notebook.get_cells();\n",
       "                for (var i = 0; i < nbb_cells.length; ++i) {\n",
       "                    if (nbb_cells[i].input_prompt_number == nbb_cell_id) {\n",
       "                        if (nbb_cells[i].get_text() == nbb_unformatted_code) {\n",
       "                             nbb_cells[i].set_text(nbb_formatted_code);\n",
       "                        }\n",
       "                        break;\n",
       "                    }\n",
       "                }\n",
       "            }, 500);\n",
       "            "
      ],
      "text/plain": [
       "<IPython.core.display.Javascript object>"
      ]
     },
     "metadata": {},
     "output_type": "display_data"
    }
   ],
   "source": [
    "cm3 = confusion_matrix(y_test, predict_test)\n",
    "plot_confusion_matrix(cm3, [0, 1], True)"
   ]
  },
  {
   "cell_type": "code",
   "execution_count": 35,
   "metadata": {},
   "outputs": [
    {
     "name": "stdout",
     "output_type": "stream",
     "text": [
      "Normalized confusion matrix\n"
     ]
    },
    {
     "data": {
      "image/png": "[encoded data removed]",
      "text/plain": [
       "<Figure size 432x288 with 2 Axes>"
      ]
     },
     "metadata": {
      "needs_background": "light"
     },
     "output_type": "display_data"
    },
    {
     "data": {
      "application/javascript": [
       "\n",
       "            setTimeout(function() {\n",
       "                var nbb_cell_id = 35;\n",
       "                var nbb_unformatted_code = \"cm4 = confusion_matrix(y_test, predict_test)\\nplot_confusion_matrix(cm4, [0, 1], True)\";\n",
       "                var nbb_formatted_code = \"cm4 = confusion_matrix(y_test, predict_test)\\nplot_confusion_matrix(cm4, [0, 1], True)\";\n",
       "                var nbb_cells = Jupyter.notebook.get_cells();\n",
       "                for (var i = 0; i < nbb_cells.length; ++i) {\n",
       "                    if (nbb_cells[i].input_prompt_number == nbb_cell_id) {\n",
       "                        if (nbb_cells[i].get_text() == nbb_unformatted_code) {\n",
       "                             nbb_cells[i].set_text(nbb_formatted_code);\n",
       "                        }\n",
       "                        break;\n",
       "                    }\n",
       "                }\n",
       "            }, 500);\n",
       "            "
      ],
      "text/plain": [
       "<IPython.core.display.Javascript object>"
      ]
     },
     "metadata": {},
     "output_type": "display_data"
    }
   ],
   "source": [
    "cm4 = confusion_matrix(y_test, predict_test)\n",
    "plot_confusion_matrix(cm4, [0, 1], True)"
   ]
  },
  {
   "cell_type": "markdown",
   "metadata": {},
   "source": [
    "#### Accuracy"
   ]
  },
  {
   "cell_type": "code",
   "execution_count": 158,
   "metadata": {},
   "outputs": [
    {
     "data": {
      "text/plain": [
       "0.6957055214723926"
      ]
     },
     "execution_count": 158,
     "metadata": {},
     "output_type": "execute_result"
    },
    {
     "data": {
      "application/javascript": [
       "\n",
       "            setTimeout(function() {\n",
       "                var nbb_cell_id = 158;\n",
       "                var nbb_unformatted_code = \"# 0.747239263803681\\n# 0.7239263803680982\\n# 0.7337423312883435\\n# 0.38282208588957056\\n# 0.6680981595092025\\n# 0.7423312883435583\\n# 0.7404907975460123\\n# 0.7141104294478527\\n# 0.7411042944785277\\n\\nclf.score(X_test, y_test)\";\n",
       "                var nbb_formatted_code = \"# 0.747239263803681\\n# 0.7239263803680982\\n# 0.7337423312883435\\n# 0.38282208588957056\\n# 0.6680981595092025\\n# 0.7423312883435583\\n# 0.7404907975460123\\n# 0.7141104294478527\\n# 0.7411042944785277\\n\\nclf.score(X_test, y_test)\";\n",
       "                var nbb_cells = Jupyter.notebook.get_cells();\n",
       "                for (var i = 0; i < nbb_cells.length; ++i) {\n",
       "                    if (nbb_cells[i].input_prompt_number == nbb_cell_id) {\n",
       "                        if (nbb_cells[i].get_text() == nbb_unformatted_code) {\n",
       "                             nbb_cells[i].set_text(nbb_formatted_code);\n",
       "                        }\n",
       "                        break;\n",
       "                    }\n",
       "                }\n",
       "            }, 500);\n",
       "            "
      ],
      "text/plain": [
       "<IPython.core.display.Javascript object>"
      ]
     },
     "metadata": {},
     "output_type": "display_data"
    }
   ],
   "source": [
    "# 0.747239263803681\n",
    "# 0.7239263803680982\n",
    "# 0.7337423312883435\n",
    "# 0.38282208588957056\n",
    "# 0.6680981595092025\n",
    "# 0.7423312883435583\n",
    "# 0.7404907975460123\n",
    "# 0.7141104294478527\n",
    "# 0.7411042944785277\n",
    "\n",
    "clf.score(X_test, y_test)"
   ]
  },
  {
   "cell_type": "markdown",
   "metadata": {},
   "source": [
    "#### Precision"
   ]
  },
  {
   "cell_type": "code",
   "execution_count": 159,
   "metadata": {},
   "outputs": [
    {
     "data": {
      "text/plain": [
       "0.5979381443298969"
      ]
     },
     "execution_count": 159,
     "metadata": {},
     "output_type": "execute_result"
    },
    {
     "data": {
      "application/javascript": [
       "\n",
       "            setTimeout(function() {\n",
       "                var nbb_cell_id = 159;\n",
       "                var nbb_unformatted_code = \"# 0.7035647279549718\\n# 0.6524701873935264\\n# 0.6695652173913044\\n# 0.38137193203272496\\n# 0.553921568627451\\n# 0.7181628392484343\\n# 0.6845878136200717\\n# 0.6347107438016529\\n# 0.6885245901639344\\n\\ny_pred = clf.predict(X_test)\\nprecision_score(y_test, y_pred)\";\n",
       "                var nbb_formatted_code = \"# 0.7035647279549718\\n# 0.6524701873935264\\n# 0.6695652173913044\\n# 0.38137193203272496\\n# 0.553921568627451\\n# 0.7181628392484343\\n# 0.6845878136200717\\n# 0.6347107438016529\\n# 0.6885245901639344\\n\\ny_pred = clf.predict(X_test)\\nprecision_score(y_test, y_pred)\";\n",
       "                var nbb_cells = Jupyter.notebook.get_cells();\n",
       "                for (var i = 0; i < nbb_cells.length; ++i) {\n",
       "                    if (nbb_cells[i].input_prompt_number == nbb_cell_id) {\n",
       "                        if (nbb_cells[i].get_text() == nbb_unformatted_code) {\n",
       "                             nbb_cells[i].set_text(nbb_formatted_code);\n",
       "                        }\n",
       "                        break;\n",
       "                    }\n",
       "                }\n",
       "            }, 500);\n",
       "            "
      ],
      "text/plain": [
       "<IPython.core.display.Javascript object>"
      ]
     },
     "metadata": {},
     "output_type": "display_data"
    }
   ],
   "source": [
    "# 0.7035647279549718\n",
    "# 0.6524701873935264\n",
    "# 0.6695652173913044\n",
    "# 0.38137193203272496\n",
    "# 0.553921568627451\n",
    "# 0.7181628392484343\n",
    "# 0.6845878136200717\n",
    "# 0.6347107438016529\n",
    "# 0.6885245901639344\n",
    "\n",
    "y_pred = clf.predict(X_test)\n",
    "precision_score(y_test, y_pred)"
   ]
  },
  {
   "cell_type": "markdown",
   "metadata": {},
   "source": [
    "#### Recall"
   ]
  },
  {
   "cell_type": "code",
   "execution_count": 160,
   "metadata": {
    "scrolled": true
   },
   "outputs": [
    {
     "data": {
      "text/plain": [
       "0.6454689984101749"
      ]
     },
     "execution_count": 160,
     "metadata": {},
     "output_type": "execute_result"
    },
    {
     "data": {
      "application/javascript": [
       "\n",
       "            setTimeout(function() {\n",
       "                var nbb_cell_id = 160;\n",
       "                var nbb_unformatted_code = \"# 0.5961844197138315\\n# 0.6089030206677265\\n# 0.6120826709062003\\n# 0.9634340222575517\\n# 0.7186009538950715\\n# 0.5468998410174881\\n# 0.6073131955484896\\n# 0.6104928457869634\\n# 0.6009538950715422\\n\\nrecall_score(y_test, y_pred)\";\n",
       "                var nbb_formatted_code = \"# 0.5961844197138315\\n# 0.6089030206677265\\n# 0.6120826709062003\\n# 0.9634340222575517\\n# 0.7186009538950715\\n# 0.5468998410174881\\n# 0.6073131955484896\\n# 0.6104928457869634\\n# 0.6009538950715422\\n\\nrecall_score(y_test, y_pred)\";\n",
       "                var nbb_cells = Jupyter.notebook.get_cells();\n",
       "                for (var i = 0; i < nbb_cells.length; ++i) {\n",
       "                    if (nbb_cells[i].input_prompt_number == nbb_cell_id) {\n",
       "                        if (nbb_cells[i].get_text() == nbb_unformatted_code) {\n",
       "                             nbb_cells[i].set_text(nbb_formatted_code);\n",
       "                        }\n",
       "                        break;\n",
       "                    }\n",
       "                }\n",
       "            }, 500);\n",
       "            "
      ],
      "text/plain": [
       "<IPython.core.display.Javascript object>"
      ]
     },
     "metadata": {},
     "output_type": "display_data"
    }
   ],
   "source": [
    "# 0.5961844197138315\n",
    "# 0.6089030206677265\n",
    "# 0.6120826709062003\n",
    "# 0.9634340222575517\n",
    "# 0.7186009538950715\n",
    "# 0.5468998410174881\n",
    "# 0.6073131955484896\n",
    "# 0.6104928457869634\n",
    "# 0.6009538950715422\n",
    "\n",
    "recall_score(y_test, y_pred)"
   ]
  },
  {
   "cell_type": "markdown",
   "metadata": {},
   "source": [
    "Unlike decision trees, gradient boost solutions aren't terribly easy to interpret on the surface. But they aren't quite black boxes either. You can get a measure of how important various features are by counting how many times a feature is used over the course of many decision trees."
   ]
  },
  {
   "cell_type": "code",
   "execution_count": 11,
   "metadata": {},
   "outputs": [
    {
     "data": {
      "image/png": "[encoded data removed]",
      "text/plain": [
       "<Figure size 432x288 with 1 Axes>"
      ]
     },
     "metadata": {
      "needs_background": "light"
     },
     "output_type": "display_data"
    },
    {
     "data": {
      "application/javascript": [
       "\n",
       "            setTimeout(function() {\n",
       "                var nbb_cell_id = 11;\n",
       "                var nbb_unformatted_code = \"feature_importance = clf.feature_importances_\\n\\n# Make importances relative to max importance.\\nfeature_importance = 100.0 * (feature_importance / feature_importance.max())\\nsorted_idx = np.argsort(feature_importance)\\npos = np.arange(sorted_idx.shape[0]) + .5\\nplt.subplot(1, 2, 2)\\nplt.barh(pos, feature_importance[sorted_idx], align='center')\\nplt.yticks(pos, X.columns[sorted_idx])\\nplt.xlabel('Relative Importance')\\nplt.title('Variable Importance')\\nplt.show()\";\n",
       "                var nbb_formatted_code = \"feature_importance = clf.feature_importances_\\n\\n# Make importances relative to max importance.\\nfeature_importance = 100.0 * (feature_importance / feature_importance.max())\\nsorted_idx = np.argsort(feature_importance)\\npos = np.arange(sorted_idx.shape[0]) + 0.5\\nplt.subplot(1, 2, 2)\\nplt.barh(pos, feature_importance[sorted_idx], align=\\\"center\\\")\\nplt.yticks(pos, X.columns[sorted_idx])\\nplt.xlabel(\\\"Relative Importance\\\")\\nplt.title(\\\"Variable Importance\\\")\\nplt.show()\";\n",
       "                var nbb_cells = Jupyter.notebook.get_cells();\n",
       "                for (var i = 0; i < nbb_cells.length; ++i) {\n",
       "                    if (nbb_cells[i].input_prompt_number == nbb_cell_id) {\n",
       "                        if (nbb_cells[i].get_text() == nbb_unformatted_code) {\n",
       "                             nbb_cells[i].set_text(nbb_formatted_code);\n",
       "                        }\n",
       "                        break;\n",
       "                    }\n",
       "                }\n",
       "            }, 500);\n",
       "            "
      ],
      "text/plain": [
       "<IPython.core.display.Javascript object>"
      ]
     },
     "metadata": {},
     "output_type": "display_data"
    }
   ],
   "source": [
    "feature_importance = clf.feature_importances_\n",
    "\n",
    "# Make importances relative to max importance.\n",
    "feature_importance = 100.0 * (feature_importance / feature_importance.max())\n",
    "sorted_idx = np.argsort(feature_importance)\n",
    "pos = np.arange(sorted_idx.shape[0]) + 0.5\n",
    "plt.subplot(1, 2, 2)\n",
    "plt.barh(pos, feature_importance[sorted_idx], align=\"center\")\n",
    "plt.yticks(pos, X.columns[sorted_idx])\n",
    "plt.xlabel(\"Relative Importance\")\n",
    "plt.title(\"Variable Importance\")\n",
    "plt.show()"
   ]
  },
  {
   "cell_type": "markdown",
   "metadata": {},
   "source": [
    "It appears that age and happiness are the most important features in predicting whether or not someone lives with a partner."
   ]
  },
  {
   "cell_type": "markdown",
   "metadata": {
    "collapsed": true
   },
   "source": [
    "### Drill: Improve this gradient boost model\n",
    "\n",
    "This model is already doing all right, but there is definitely room for improvement. Your task is to see how low you can get the error rates to go in the test set, based on your model in the training set. Here are some strategies that you might use:\n",
    "\n",
    "* Creating new features\n",
    "* Applying more overfitting-prevention strategies like subsampling\n",
    "* Making more iterations\n",
    "* Trying a different loss function\n",
    "* Changing the structure of the weak learner by allowing more leaves in the tree or using other modifications\n",
    "\n",
    "You can learn more about the parameters for the gradient boost model [in scikit-learn's documentation](https://scikit-learn.org/stable/modules/generated/sklearn.ensemble.GradientBoostingClassifier.html). You can update the *params* table featured earlier, before you initialized and fit the model.\n",
    "\n",
    "Here are a few of the parameters that you could tune:\n",
    " - `learning_rate`\n",
    " - `max_depth`\n",
    " - `n_estimators`\n",
    " - `loss`\n",
    " - `subsample`\n",
    " - `min_samples_split`\n",
    " \n",
    "You can then use the same metrics to evaluate your results.\n",
    "          \n",
    "Have fun!"
   ]
  },
  {
   "cell_type": "markdown",
   "metadata": {},
   "source": [
    "Increased iterations can improve accuracy and precision a little. Lower supsampling with higher learning_rates results in a drastic change from lower recall/higher accuracy and precision to higher recall and lower accuracy and precision."
   ]
  },
  {
   "cell_type": "code",
   "execution_count": 183,
   "metadata": {},
   "outputs": [
    {
     "data": {
      "application/javascript": [
       "\n",
       "            setTimeout(function() {\n",
       "                var nbb_cell_id = 183;\n",
       "                var nbb_unformatted_code = \"# fmt: off\\nparams = {\\n    \\\"model__subsample\\\": [0.1, 0.25, 1.0],\\n    \\\"model__min_samples_split\\\": [2, 3, 4],\\n    \\\"model__max_depth\\\": [2,4,6],\\n}\\nn_trees = 500\\nlearning_rate = 2 / n_trees\";\n",
       "                var nbb_formatted_code = \"# fmt: off\\nparams = {\\n    \\\"model__subsample\\\": [0.1, 0.25, 1.0],\\n    \\\"model__min_samples_split\\\": [2, 3, 4],\\n    \\\"model__max_depth\\\": [2,4,6],\\n}\\nn_trees = 500\\nlearning_rate = 2 / n_trees\";\n",
       "                var nbb_cells = Jupyter.notebook.get_cells();\n",
       "                for (var i = 0; i < nbb_cells.length; ++i) {\n",
       "                    if (nbb_cells[i].input_prompt_number == nbb_cell_id) {\n",
       "                        if (nbb_cells[i].get_text() == nbb_unformatted_code) {\n",
       "                             nbb_cells[i].set_text(nbb_formatted_code);\n",
       "                        }\n",
       "                        break;\n",
       "                    }\n",
       "                }\n",
       "            }, 500);\n",
       "            "
      ],
      "text/plain": [
       "<IPython.core.display.Javascript object>"
      ]
     },
     "metadata": {},
     "output_type": "display_data"
    }
   ],
   "source": [
    "# fmt: off\n",
    "params = {\n",
    "    \"model__subsample\": [0.1, 0.25, 1.0],\n",
    "    \"model__min_samples_split\": [2, 3, 4],\n",
    "    \"model__max_depth\": [2,4,6],\n",
    "}\n",
    "n_trees = 500\n",
    "learning_rate = 2 / n_trees"
   ]
  },
  {
   "cell_type": "code",
   "execution_count": 165,
   "metadata": {},
   "outputs": [
    {
     "data": {
      "application/javascript": [
       "\n",
       "            setTimeout(function() {\n",
       "                var nbb_cell_id = 165;\n",
       "                var nbb_unformatted_code = \"from sklearn.pipeline import Pipeline\\nfrom sklearn.model_selection import GridSearchCV\";\n",
       "                var nbb_formatted_code = \"from sklearn.pipeline import Pipeline\\nfrom sklearn.model_selection import GridSearchCV\";\n",
       "                var nbb_cells = Jupyter.notebook.get_cells();\n",
       "                for (var i = 0; i < nbb_cells.length; ++i) {\n",
       "                    if (nbb_cells[i].input_prompt_number == nbb_cell_id) {\n",
       "                        if (nbb_cells[i].get_text() == nbb_unformatted_code) {\n",
       "                             nbb_cells[i].set_text(nbb_formatted_code);\n",
       "                        }\n",
       "                        break;\n",
       "                    }\n",
       "                }\n",
       "            }, 500);\n",
       "            "
      ],
      "text/plain": [
       "<IPython.core.display.Javascript object>"
      ]
     },
     "metadata": {},
     "output_type": "display_data"
    }
   ],
   "source": [
    "from sklearn.pipeline import Pipeline\n",
    "from sklearn.model_selection import GridSearchCV"
   ]
  },
  {
   "cell_type": "code",
   "execution_count": 181,
   "metadata": {},
   "outputs": [
    {
     "data": {
      "application/javascript": [
       "\n",
       "            setTimeout(function() {\n",
       "                var nbb_cell_id = 181;\n",
       "                var nbb_unformatted_code = \"pipeline = Pipeline(\\n    [\\n        (\\n            \\\"model\\\",\\n            ensemble.GradientBoostingClassifier(\\n                n_estimators=n_trees, learning_rate=learning_rate\\n            ),\\n        ),\\n    ]\\n)\";\n",
       "                var nbb_formatted_code = \"pipeline = Pipeline(\\n    [\\n        (\\n            \\\"model\\\",\\n            ensemble.GradientBoostingClassifier(\\n                n_estimators=n_trees, learning_rate=learning_rate\\n            ),\\n        ),\\n    ]\\n)\";\n",
       "                var nbb_cells = Jupyter.notebook.get_cells();\n",
       "                for (var i = 0; i < nbb_cells.length; ++i) {\n",
       "                    if (nbb_cells[i].input_prompt_number == nbb_cell_id) {\n",
       "                        if (nbb_cells[i].get_text() == nbb_unformatted_code) {\n",
       "                             nbb_cells[i].set_text(nbb_formatted_code);\n",
       "                        }\n",
       "                        break;\n",
       "                    }\n",
       "                }\n",
       "            }, 500);\n",
       "            "
      ],
      "text/plain": [
       "<IPython.core.display.Javascript object>"
      ]
     },
     "metadata": {},
     "output_type": "display_data"
    }
   ],
   "source": [
    "pipeline = Pipeline(\n",
    "    [\n",
    "        (\n",
    "            \"model\",\n",
    "            ensemble.GradientBoostingClassifier(\n",
    "                n_estimators=n_trees, learning_rate=learning_rate\n",
    "            ),\n",
    "        ),\n",
    "    ]\n",
    ")"
   ]
  },
  {
   "cell_type": "code",
   "execution_count": 182,
   "metadata": {},
   "outputs": [
    {
     "data": {
      "application/javascript": [
       "\n",
       "            setTimeout(function() {\n",
       "                var nbb_cell_id = 182;\n",
       "                var nbb_unformatted_code = \"pipeline_cv = GridSearchCV(pipeline, params, verbose=1, n_jobs=-1, cv=2)\";\n",
       "                var nbb_formatted_code = \"pipeline_cv = GridSearchCV(pipeline, params, verbose=1, n_jobs=-1, cv=2)\";\n",
       "                var nbb_cells = Jupyter.notebook.get_cells();\n",
       "                for (var i = 0; i < nbb_cells.length; ++i) {\n",
       "                    if (nbb_cells[i].input_prompt_number == nbb_cell_id) {\n",
       "                        if (nbb_cells[i].get_text() == nbb_unformatted_code) {\n",
       "                             nbb_cells[i].set_text(nbb_formatted_code);\n",
       "                        }\n",
       "                        break;\n",
       "                    }\n",
       "                }\n",
       "            }, 500);\n",
       "            "
      ],
      "text/plain": [
       "<IPython.core.display.Javascript object>"
      ]
     },
     "metadata": {},
     "output_type": "display_data"
    }
   ],
   "source": [
    "pipeline_cv = GridSearchCV(pipeline, params, verbose=1, n_jobs=-1, cv=2)"
   ]
  },
  {
   "cell_type": "code",
   "execution_count": 184,
   "metadata": {
    "scrolled": true
   },
   "outputs": [
    {
     "name": "stdout",
     "output_type": "stream",
     "text": [
      "Fitting 2 folds for each of 27 candidates, totalling 54 fits\n"
     ]
    },
    {
     "name": "stderr",
     "output_type": "stream",
     "text": [
      "[Parallel(n_jobs=-1)]: Using backend LokyBackend with 4 concurrent workers.\n",
      "[Parallel(n_jobs=-1)]: Done  42 tasks      | elapsed:  2.7min\n",
      "[Parallel(n_jobs=-1)]: Done  54 out of  54 | elapsed:  4.1min finished\n"
     ]
    },
    {
     "data": {
      "text/plain": [
       "GridSearchCV(cv=2,\n",
       "             estimator=Pipeline(steps=[('model',\n",
       "                                        GradientBoostingClassifier(learning_rate=0.002,\n",
       "                                                                   n_estimators=1000))]),\n",
       "             n_jobs=-1,\n",
       "             param_grid={'model__max_depth': [2, 4, 6],\n",
       "                         'model__min_samples_split': [2, 3, 4],\n",
       "                         'model__subsample': [0.1, 0.25, 1.0]},\n",
       "             verbose=1)"
      ]
     },
     "execution_count": 184,
     "metadata": {},
     "output_type": "execute_result"
    },
    {
     "data": {
      "application/javascript": [
       "\n",
       "            setTimeout(function() {\n",
       "                var nbb_cell_id = 184;\n",
       "                var nbb_unformatted_code = \"pipeline_cv.fit(X_train, y_train)\";\n",
       "                var nbb_formatted_code = \"pipeline_cv.fit(X_train, y_train)\";\n",
       "                var nbb_cells = Jupyter.notebook.get_cells();\n",
       "                for (var i = 0; i < nbb_cells.length; ++i) {\n",
       "                    if (nbb_cells[i].input_prompt_number == nbb_cell_id) {\n",
       "                        if (nbb_cells[i].get_text() == nbb_unformatted_code) {\n",
       "                             nbb_cells[i].set_text(nbb_formatted_code);\n",
       "                        }\n",
       "                        break;\n",
       "                    }\n",
       "                }\n",
       "            }, 500);\n",
       "            "
      ],
      "text/plain": [
       "<IPython.core.display.Javascript object>"
      ]
     },
     "metadata": {},
     "output_type": "display_data"
    }
   ],
   "source": [
    "pipeline_cv.fit(X_train, y_train)\n"
   ]
  },
  {
   "cell_type": "code",
   "execution_count": 186,
   "metadata": {},
   "outputs": [
    {
     "data": {
      "text/plain": [
       "0.743558282208589"
      ]
     },
     "execution_count": 186,
     "metadata": {},
     "output_type": "execute_result"
    },
    {
     "data": {
      "application/javascript": [
       "\n",
       "            setTimeout(function() {\n",
       "                var nbb_cell_id = 186;\n",
       "                var nbb_unformatted_code = \"pipeline_cv.score(X_test, y_test)\";\n",
       "                var nbb_formatted_code = \"pipeline_cv.score(X_test, y_test)\";\n",
       "                var nbb_cells = Jupyter.notebook.get_cells();\n",
       "                for (var i = 0; i < nbb_cells.length; ++i) {\n",
       "                    if (nbb_cells[i].input_prompt_number == nbb_cell_id) {\n",
       "                        if (nbb_cells[i].get_text() == nbb_unformatted_code) {\n",
       "                             nbb_cells[i].set_text(nbb_formatted_code);\n",
       "                        }\n",
       "                        break;\n",
       "                    }\n",
       "                }\n",
       "            }, 500);\n",
       "            "
      ],
      "text/plain": [
       "<IPython.core.display.Javascript object>"
      ]
     },
     "metadata": {},
     "output_type": "display_data"
    }
   ],
   "source": [
    "pipeline_cv.score(X_test, y_test)\n",
    "\n"
   ]
  },
  {
   "cell_type": "code",
   "execution_count": 187,
   "metadata": {},
   "outputs": [
    {
     "data": {
      "text/plain": [
       "0.7769028871391076"
      ]
     },
     "execution_count": 187,
     "metadata": {},
     "output_type": "execute_result"
    },
    {
     "data": {
      "application/javascript": [
       "\n",
       "            setTimeout(function() {\n",
       "                var nbb_cell_id = 187;\n",
       "                var nbb_unformatted_code = \"y_pred = pipeline_cv.predict(X_test)\\nprecision_score(y_test, y_pred)\";\n",
       "                var nbb_formatted_code = \"y_pred = pipeline_cv.predict(X_test)\\nprecision_score(y_test, y_pred)\";\n",
       "                var nbb_cells = Jupyter.notebook.get_cells();\n",
       "                for (var i = 0; i < nbb_cells.length; ++i) {\n",
       "                    if (nbb_cells[i].input_prompt_number == nbb_cell_id) {\n",
       "                        if (nbb_cells[i].get_text() == nbb_unformatted_code) {\n",
       "                             nbb_cells[i].set_text(nbb_formatted_code);\n",
       "                        }\n",
       "                        break;\n",
       "                    }\n",
       "                }\n",
       "            }, 500);\n",
       "            "
      ],
      "text/plain": [
       "<IPython.core.display.Javascript object>"
      ]
     },
     "metadata": {},
     "output_type": "display_data"
    }
   ],
   "source": [
    "y_pred = pipeline_cv.predict(X_test)\n",
    "precision_score(y_test, y_pred)"
   ]
  },
  {
   "cell_type": "code",
   "execution_count": 188,
   "metadata": {},
   "outputs": [
    {
     "data": {
      "text/plain": [
       "0.47058823529411764"
      ]
     },
     "execution_count": 188,
     "metadata": {},
     "output_type": "execute_result"
    },
    {
     "data": {
      "application/javascript": [
       "\n",
       "            setTimeout(function() {\n",
       "                var nbb_cell_id = 188;\n",
       "                var nbb_unformatted_code = \"recall_score(y_test, y_pred)\";\n",
       "                var nbb_formatted_code = \"recall_score(y_test, y_pred)\";\n",
       "                var nbb_cells = Jupyter.notebook.get_cells();\n",
       "                for (var i = 0; i < nbb_cells.length; ++i) {\n",
       "                    if (nbb_cells[i].input_prompt_number == nbb_cell_id) {\n",
       "                        if (nbb_cells[i].get_text() == nbb_unformatted_code) {\n",
       "                             nbb_cells[i].set_text(nbb_formatted_code);\n",
       "                        }\n",
       "                        break;\n",
       "                    }\n",
       "                }\n",
       "            }, 500);\n",
       "            "
      ],
      "text/plain": [
       "<IPython.core.display.Javascript object>"
      ]
     },
     "metadata": {},
     "output_type": "display_data"
    }
   ],
   "source": [
    "recall_score(y_test, y_pred)"
   ]
  },
  {
   "cell_type": "code",
   "execution_count": 189,
   "metadata": {},
   "outputs": [
    {
     "data": {
      "text/plain": [
       "{'model__max_depth': 4, 'model__min_samples_split': 2, 'model__subsample': 0.1}"
      ]
     },
     "execution_count": 189,
     "metadata": {},
     "output_type": "execute_result"
    },
    {
     "data": {
      "application/javascript": [
       "\n",
       "            setTimeout(function() {\n",
       "                var nbb_cell_id = 189;\n",
       "                var nbb_unformatted_code = \"pipeline_cv.best_params_\";\n",
       "                var nbb_formatted_code = \"pipeline_cv.best_params_\";\n",
       "                var nbb_cells = Jupyter.notebook.get_cells();\n",
       "                for (var i = 0; i < nbb_cells.length; ++i) {\n",
       "                    if (nbb_cells[i].input_prompt_number == nbb_cell_id) {\n",
       "                        if (nbb_cells[i].get_text() == nbb_unformatted_code) {\n",
       "                             nbb_cells[i].set_text(nbb_formatted_code);\n",
       "                        }\n",
       "                        break;\n",
       "                    }\n",
       "                }\n",
       "            }, 500);\n",
       "            "
      ],
      "text/plain": [
       "<IPython.core.display.Javascript object>"
      ]
     },
     "metadata": {},
     "output_type": "display_data"
    }
   ],
   "source": [
    "pipeline_cv.best_params_"
   ]
  },
  {
   "cell_type": "markdown",
   "metadata": {},
   "source": [
    "* Params: {'n_estimators':1000, 'learning_rate': 0.002, 'model__max_depth': 4, 'model__min_samples_split': 3, 'model__subsample': 0.25}\n",
    "    * Accuracy: 0.7447852760736197\n",
    "    * Precision: 0.7870619946091644\n",
    "    * Recall Score: 0.4642289348171701\n",
    "* Params: {'n_estimators':500, 'learning_rate': 0.004, 'model__max_depth': 4, 'model__min_samples_split': 2, 'model__subsample': 0.1}\n",
    "    * Accuracy: 0.743558282208589\n",
    "    * Precision: 0.7769028871391076\n",
    "    * Recall Score: 0.47058823529411764\n",
    "    "
   ]
  },
  {
   "cell_type": "code",
   "execution_count": null,
   "metadata": {},
   "outputs": [],
   "source": []
  }
 ],
 "metadata": {
  "hide_input": false,
  "kernelspec": {
   "display_name": "Python 3",
   "language": "python",
   "name": "python3"
  },
  "language_info": {
   "codemirror_mode": {
    "name": "ipython",
    "version": 3
   },
   "file_extension": ".py",
   "mimetype": "text/x-python",
   "name": "python",
   "nbconvert_exporter": "python",
   "pygments_lexer": "ipython3",
   "version": "3.8.3"
  },
  "toc": {
   "colors": {
    "hover_highlight": "#DAA520",
    "running_highlight": "#FF0000",
    "selected_highlight": "#FFD700"
   },
   "moveMenuLeft": true,
   "nav_menu": {
    "height": "59px",
    "width": "252px"
   },
   "navigate_menu": true,
   "number_sections": true,
   "sideBar": true,
   "threshold": 4,
   "toc_cell": false,
   "toc_section_display": "block",
   "toc_window_display": false
  }
 },
 "nbformat": 4,
 "nbformat_minor": 2
}
