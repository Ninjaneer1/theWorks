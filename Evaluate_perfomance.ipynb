{
 "cells": [
  {
   "cell_type": "code",
   "execution_count": 1,
   "metadata": {},
   "outputs": [
    {
     "data": {
      "application/javascript": [
       "\n",
       "            setTimeout(function() {\n",
       "                var nbb_cell_id = 1;\n",
       "                var nbb_unformatted_code = \"%reload_ext nb_black\";\n",
       "                var nbb_formatted_code = \"%reload_ext nb_black\";\n",
       "                var nbb_cells = Jupyter.notebook.get_cells();\n",
       "                for (var i = 0; i < nbb_cells.length; ++i) {\n",
       "                    if (nbb_cells[i].input_prompt_number == nbb_cell_id) {\n",
       "                        if (nbb_cells[i].get_text() == nbb_unformatted_code) {\n",
       "                             nbb_cells[i].set_text(nbb_formatted_code);\n",
       "                        }\n",
       "                        break;\n",
       "                    }\n",
       "                }\n",
       "            }, 500);\n",
       "            "
      ],
      "text/plain": [
       "<IPython.core.display.Javascript object>"
      ]
     },
     "metadata": {},
     "output_type": "display_data"
    }
   ],
   "source": [
    "%reload_ext nb_black%reload_ext nb_black"
   ]
  },
  {
   "cell_type": "markdown",
   "metadata": {},
   "source": [
    "## 1. Weather model"
   ]
  },
  {
   "cell_type": "markdown",
   "metadata": {},
   "source": [
    "For this assignment, you'll revisit the historical temperature dataset. To complete this assignment, submit a link to a Jupyter Notebook containing your solutions to the following tasks:"
   ]
  },
  {
   "cell_type": "markdown",
   "metadata": {},
   "source": [
    "* First, load the dataset from the weatherinszeged table from Thinkful's database.\n",
    "* As in the previous checkpoint, build a linear regression model where your target variable is the difference between the apparenttemperature and the temperature. As explanatory variables, use humidity and windspeed. Now, estimate your model using OLS. What are the R-squared and adjusted R-squared values? Do you think they are satisfactory? Why?\n",
    "* Next, include the interaction of humidity and windspeed to the model above and estimate the model using OLS. Now, what is the R-squared of this model? Does this model improve upon the previous one?\n",
    "* Add visibility as an additional explanatory variable to the first model and estimate it. Did R-squared increase? What about adjusted R-squared? Compare the differences put on the table by the interaction term and the visibility in terms of the improvement in the adjusted R-squared. Which one is more useful?\n",
    "* Choose the best one from the three models above with respect to their AIC and BIC scores. Validate your choice by discussing your justification with your mentor."
   ]
  },
  {
   "cell_type": "code",
   "execution_count": 2,
   "metadata": {},
   "outputs": [
    {
     "data": {
      "application/javascript": [
       "\n",
       "            setTimeout(function() {\n",
       "                var nbb_cell_id = 2;\n",
       "                var nbb_unformatted_code = \"import matplotlib.pyplot as plt\\nimport seaborn as sns\\nimport numpy as np\\nimport pandas as pd\\nfrom sklearn import linear_model\\n\\nfrom sqlalchemy import create_engine\\nimport statsmodels.api as sm\\n\\n\\nimport warnings\\n\\n# warnings.filterwarnings(action=\\\"ignore\\\")\\n\\nimport config\";\n",
       "                var nbb_formatted_code = \"import matplotlib.pyplot as plt\\nimport seaborn as sns\\nimport numpy as np\\nimport pandas as pd\\nfrom sklearn import linear_model\\n\\nfrom sqlalchemy import create_engine\\nimport statsmodels.api as sm\\n\\n\\nimport warnings\\n\\n# warnings.filterwarnings(action=\\\"ignore\\\")\\n\\nimport config\";\n",
       "                var nbb_cells = Jupyter.notebook.get_cells();\n",
       "                for (var i = 0; i < nbb_cells.length; ++i) {\n",
       "                    if (nbb_cells[i].input_prompt_number == nbb_cell_id) {\n",
       "                        if (nbb_cells[i].get_text() == nbb_unformatted_code) {\n",
       "                             nbb_cells[i].set_text(nbb_formatted_code);\n",
       "                        }\n",
       "                        break;\n",
       "                    }\n",
       "                }\n",
       "            }, 500);\n",
       "            "
      ],
      "text/plain": [
       "<IPython.core.display.Javascript object>"
      ]
     },
     "metadata": {},
     "output_type": "display_data"
    }
   ],
   "source": [
    "import matplotlib.pyplot as plt\n",
    "import seaborn as sns\n",
    "import numpy as np\n",
    "import pandas as pd\n",
    "from sklearn import linear_model\n",
    "\n",
    "from sqlalchemy import create_engine\n",
    "import statsmodels.api as sm\n",
    "\n",
    "\n",
    "import warnings\n",
    "\n",
    "# warnings.filterwarnings(action=\"ignore\")\n",
    "\n",
    "import config"
   ]
  },
  {
   "cell_type": "code",
   "execution_count": 3,
   "metadata": {},
   "outputs": [
    {
     "data": {
      "application/javascript": [
       "\n",
       "            setTimeout(function() {\n",
       "                var nbb_cell_id = 3;\n",
       "                var nbb_unformatted_code = \"postgres_user = config.user\\npostgres_pw = config.password\\npostgres_host = config.host\\npostgres_port = config.port\\npostgres_db = \\\"weatherinszeged\\\"\\n\\nengine = create_engine(\\n    \\\"postgresql://{}:{}@{}:{}/{}\\\".format(\\n        postgres_user, postgres_pw, postgres_host, postgres_port, postgres_db\\n    )\\n)\\n\\ndf = pd.read_sql_query(\\\"select * from weatherinszeged\\\", con=engine)\\n\\n# No need for an open connection,\\n# because you're only doing a single query\\nengine.dispose()\";\n",
       "                var nbb_formatted_code = \"postgres_user = config.user\\npostgres_pw = config.password\\npostgres_host = config.host\\npostgres_port = config.port\\npostgres_db = \\\"weatherinszeged\\\"\\n\\nengine = create_engine(\\n    \\\"postgresql://{}:{}@{}:{}/{}\\\".format(\\n        postgres_user, postgres_pw, postgres_host, postgres_port, postgres_db\\n    )\\n)\\n\\ndf = pd.read_sql_query(\\\"select * from weatherinszeged\\\", con=engine)\\n\\n# No need for an open connection,\\n# because you're only doing a single query\\nengine.dispose()\";\n",
       "                var nbb_cells = Jupyter.notebook.get_cells();\n",
       "                for (var i = 0; i < nbb_cells.length; ++i) {\n",
       "                    if (nbb_cells[i].input_prompt_number == nbb_cell_id) {\n",
       "                        if (nbb_cells[i].get_text() == nbb_unformatted_code) {\n",
       "                             nbb_cells[i].set_text(nbb_formatted_code);\n",
       "                        }\n",
       "                        break;\n",
       "                    }\n",
       "                }\n",
       "            }, 500);\n",
       "            "
      ],
      "text/plain": [
       "<IPython.core.display.Javascript object>"
      ]
     },
     "metadata": {},
     "output_type": "display_data"
    }
   ],
   "source": [
    "postgres_user = config.user\n",
    "postgres_pw = config.password\n",
    "postgres_host = config.host\n",
    "postgres_port = config.port\n",
    "postgres_db = \"weatherinszeged\"\n",
    "\n",
    "engine = create_engine(\n",
    "    \"postgresql://{}:{}@{}:{}/{}\".format(\n",
    "        postgres_user, postgres_pw, postgres_host, postgres_port, postgres_db\n",
    "    )\n",
    ")\n",
    "\n",
    "df = pd.read_sql_query(\"select * from weatherinszeged\", con=engine)\n",
    "\n",
    "# No need for an open connection,\n",
    "# because you're only doing a single query\n",
    "engine.dispose()"
   ]
  },
  {
   "cell_type": "code",
   "execution_count": 5,
   "metadata": {},
   "outputs": [
    {
     "data": {
      "text/html": [
       "<table class=\"simpletable\">\n",
       "<caption>OLS Regression Results</caption>\n",
       "<tr>\n",
       "  <th>Dep. Variable:</th>     <td>temp_difference</td> <th>  R-squared:         </th>  <td>   0.288</td>  \n",
       "</tr>\n",
       "<tr>\n",
       "  <th>Model:</th>                   <td>OLS</td>       <th>  Adj. R-squared:    </th>  <td>   0.288</td>  \n",
       "</tr>\n",
       "<tr>\n",
       "  <th>Method:</th>             <td>Least Squares</td>  <th>  F-statistic:       </th>  <td>1.949e+04</td> \n",
       "</tr>\n",
       "<tr>\n",
       "  <th>Date:</th>             <td>Thu, 17 Dec 2020</td> <th>  Prob (F-statistic):</th>   <td>  0.00</td>   \n",
       "</tr>\n",
       "<tr>\n",
       "  <th>Time:</th>                 <td>15:20:27</td>     <th>  Log-Likelihood:    </th> <td>-1.7046e+05</td>\n",
       "</tr>\n",
       "<tr>\n",
       "  <th>No. Observations:</th>      <td> 96453</td>      <th>  AIC:               </th>  <td>3.409e+05</td> \n",
       "</tr>\n",
       "<tr>\n",
       "  <th>Df Residuals:</th>          <td> 96450</td>      <th>  BIC:               </th>  <td>3.409e+05</td> \n",
       "</tr>\n",
       "<tr>\n",
       "  <th>Df Model:</th>              <td>     2</td>      <th>                     </th>      <td> </td>     \n",
       "</tr>\n",
       "<tr>\n",
       "  <th>Covariance Type:</th>      <td>nonrobust</td>    <th>                     </th>      <td> </td>     \n",
       "</tr>\n",
       "</table>\n",
       "<table class=\"simpletable\">\n",
       "<tr>\n",
       "      <td></td>         <th>coef</th>     <th>std err</th>      <th>t</th>      <th>P>|t|</th>  <th>[0.025</th>    <th>0.975]</th>  \n",
       "</tr>\n",
       "<tr>\n",
       "  <th>const</th>     <td>    2.4381</td> <td>    0.021</td> <td>  115.948</td> <td> 0.000</td> <td>    2.397</td> <td>    2.479</td>\n",
       "</tr>\n",
       "<tr>\n",
       "  <th>humidity</th>  <td>   -3.0292</td> <td>    0.024</td> <td> -126.479</td> <td> 0.000</td> <td>   -3.076</td> <td>   -2.982</td>\n",
       "</tr>\n",
       "<tr>\n",
       "  <th>windspeed</th> <td>   -0.1193</td> <td>    0.001</td> <td> -176.164</td> <td> 0.000</td> <td>   -0.121</td> <td>   -0.118</td>\n",
       "</tr>\n",
       "</table>\n",
       "<table class=\"simpletable\">\n",
       "<tr>\n",
       "  <th>Omnibus:</th>       <td>3935.747</td> <th>  Durbin-Watson:     </th> <td>   0.267</td>\n",
       "</tr>\n",
       "<tr>\n",
       "  <th>Prob(Omnibus):</th>  <td> 0.000</td>  <th>  Jarque-Bera (JB):  </th> <td>4613.311</td>\n",
       "</tr>\n",
       "<tr>\n",
       "  <th>Skew:</th>           <td>-0.478</td>  <th>  Prob(JB):          </th> <td>    0.00</td>\n",
       "</tr>\n",
       "<tr>\n",
       "  <th>Kurtosis:</th>       <td> 3.484</td>  <th>  Cond. No.          </th> <td>    88.1</td>\n",
       "</tr>\n",
       "</table><br/><br/>Warnings:<br/>[1] Standard Errors assume that the covariance matrix of the errors is correctly specified."
      ],
      "text/plain": [
       "<class 'statsmodels.iolib.summary.Summary'>\n",
       "\"\"\"\n",
       "                            OLS Regression Results                            \n",
       "==============================================================================\n",
       "Dep. Variable:        temp_difference   R-squared:                       0.288\n",
       "Model:                            OLS   Adj. R-squared:                  0.288\n",
       "Method:                 Least Squares   F-statistic:                 1.949e+04\n",
       "Date:                Thu, 17 Dec 2020   Prob (F-statistic):               0.00\n",
       "Time:                        15:20:27   Log-Likelihood:            -1.7046e+05\n",
       "No. Observations:               96453   AIC:                         3.409e+05\n",
       "Df Residuals:                   96450   BIC:                         3.409e+05\n",
       "Df Model:                           2                                         \n",
       "Covariance Type:            nonrobust                                         \n",
       "==============================================================================\n",
       "                 coef    std err          t      P>|t|      [0.025      0.975]\n",
       "------------------------------------------------------------------------------\n",
       "const          2.4381      0.021    115.948      0.000       2.397       2.479\n",
       "humidity      -3.0292      0.024   -126.479      0.000      -3.076      -2.982\n",
       "windspeed     -0.1193      0.001   -176.164      0.000      -0.121      -0.118\n",
       "==============================================================================\n",
       "Omnibus:                     3935.747   Durbin-Watson:                   0.267\n",
       "Prob(Omnibus):                  0.000   Jarque-Bera (JB):             4613.311\n",
       "Skew:                          -0.478   Prob(JB):                         0.00\n",
       "Kurtosis:                       3.484   Cond. No.                         88.1\n",
       "==============================================================================\n",
       "\n",
       "Warnings:\n",
       "[1] Standard Errors assume that the covariance matrix of the errors is correctly specified.\n",
       "\"\"\""
      ]
     },
     "execution_count": 5,
     "metadata": {},
     "output_type": "execute_result"
    },
    {
     "data": {
      "application/javascript": [
       "\n",
       "            setTimeout(function() {\n",
       "                var nbb_cell_id = 5;\n",
       "                var nbb_unformatted_code = \"df['temp_difference'] = df.apparenttemperature - df.temperature\\ny = df['temp_difference']\\nX = df[[\\\"humidity\\\", \\\"windspeed\\\"]]\\nX = sm.add_constant(X)\\nmodel = sm.OLS(y, X).fit()\\nmodel.summary()\";\n",
       "                var nbb_formatted_code = \"df[\\\"temp_difference\\\"] = df.apparenttemperature - df.temperature\\ny = df[\\\"temp_difference\\\"]\\nX = df[[\\\"humidity\\\", \\\"windspeed\\\"]]\\nX = sm.add_constant(X)\\nmodel = sm.OLS(y, X).fit()\\nmodel.summary()\";\n",
       "                var nbb_cells = Jupyter.notebook.get_cells();\n",
       "                for (var i = 0; i < nbb_cells.length; ++i) {\n",
       "                    if (nbb_cells[i].input_prompt_number == nbb_cell_id) {\n",
       "                        if (nbb_cells[i].get_text() == nbb_unformatted_code) {\n",
       "                             nbb_cells[i].set_text(nbb_formatted_code);\n",
       "                        }\n",
       "                        break;\n",
       "                    }\n",
       "                }\n",
       "            }, 500);\n",
       "            "
      ],
      "text/plain": [
       "<IPython.core.display.Javascript object>"
      ]
     },
     "metadata": {},
     "output_type": "display_data"
    }
   ],
   "source": [
    "df[\"temp_difference\"] = df.apparenttemperature - df.temperature\n",
    "y = df[\"temp_difference\"]\n",
    "X = df[[\"humidity\", \"windspeed\"]]\n",
    "X = sm.add_constant(X)\n",
    "model = sm.OLS(y, X).fit()\n",
    "model.summary()"
   ]
  },
  {
   "cell_type": "markdown",
   "metadata": {},
   "source": [
    "This R-squared value is .288. not very high. This model can only explain 28.8% of the variance in the target variable."
   ]
  },
  {
   "cell_type": "code",
   "execution_count": 6,
   "metadata": {},
   "outputs": [
    {
     "data": {
      "text/html": [
       "<table class=\"simpletable\">\n",
       "<caption>OLS Regression Results</caption>\n",
       "<tr>\n",
       "  <th>Dep. Variable:</th>     <td>temp_difference</td> <th>  R-squared:         </th>  <td>   0.341</td>  \n",
       "</tr>\n",
       "<tr>\n",
       "  <th>Model:</th>                   <td>OLS</td>       <th>  Adj. R-squared:    </th>  <td>   0.341</td>  \n",
       "</tr>\n",
       "<tr>\n",
       "  <th>Method:</th>             <td>Least Squares</td>  <th>  F-statistic:       </th>  <td>1.666e+04</td> \n",
       "</tr>\n",
       "<tr>\n",
       "  <th>Date:</th>             <td>Thu, 17 Dec 2020</td> <th>  Prob (F-statistic):</th>   <td>  0.00</td>   \n",
       "</tr>\n",
       "<tr>\n",
       "  <th>Time:</th>                 <td>15:25:42</td>     <th>  Log-Likelihood:    </th> <td>-1.6669e+05</td>\n",
       "</tr>\n",
       "<tr>\n",
       "  <th>No. Observations:</th>      <td> 96453</td>      <th>  AIC:               </th>  <td>3.334e+05</td> \n",
       "</tr>\n",
       "<tr>\n",
       "  <th>Df Residuals:</th>          <td> 96449</td>      <th>  BIC:               </th>  <td>3.334e+05</td> \n",
       "</tr>\n",
       "<tr>\n",
       "  <th>Df Model:</th>              <td>     3</td>      <th>                     </th>      <td> </td>     \n",
       "</tr>\n",
       "<tr>\n",
       "  <th>Covariance Type:</th>      <td>nonrobust</td>    <th>                     </th>      <td> </td>     \n",
       "</tr>\n",
       "</table>\n",
       "<table class=\"simpletable\">\n",
       "<tr>\n",
       "            <td></td>              <th>coef</th>     <th>std err</th>      <th>t</th>      <th>P>|t|</th>  <th>[0.025</th>    <th>0.975]</th>  \n",
       "</tr>\n",
       "<tr>\n",
       "  <th>const</th>                <td>    0.0839</td> <td>    0.033</td> <td>    2.511</td> <td> 0.012</td> <td>    0.018</td> <td>    0.149</td>\n",
       "</tr>\n",
       "<tr>\n",
       "  <th>humidity</th>             <td>    0.1775</td> <td>    0.043</td> <td>    4.133</td> <td> 0.000</td> <td>    0.093</td> <td>    0.262</td>\n",
       "</tr>\n",
       "<tr>\n",
       "  <th>windspeed</th>            <td>    0.0905</td> <td>    0.002</td> <td>   36.797</td> <td> 0.000</td> <td>    0.086</td> <td>    0.095</td>\n",
       "</tr>\n",
       "<tr>\n",
       "  <th>hum_wind_interaction</th> <td>   -0.2971</td> <td>    0.003</td> <td>  -88.470</td> <td> 0.000</td> <td>   -0.304</td> <td>   -0.291</td>\n",
       "</tr>\n",
       "</table>\n",
       "<table class=\"simpletable\">\n",
       "<tr>\n",
       "  <th>Omnibus:</th>       <td>4849.937</td> <th>  Durbin-Watson:     </th> <td>   0.265</td>\n",
       "</tr>\n",
       "<tr>\n",
       "  <th>Prob(Omnibus):</th>  <td> 0.000</td>  <th>  Jarque-Bera (JB):  </th> <td>9295.404</td>\n",
       "</tr>\n",
       "<tr>\n",
       "  <th>Skew:</th>           <td>-0.378</td>  <th>  Prob(JB):          </th> <td>    0.00</td>\n",
       "</tr>\n",
       "<tr>\n",
       "  <th>Kurtosis:</th>       <td> 4.320</td>  <th>  Cond. No.          </th> <td>    193.</td>\n",
       "</tr>\n",
       "</table><br/><br/>Warnings:<br/>[1] Standard Errors assume that the covariance matrix of the errors is correctly specified."
      ],
      "text/plain": [
       "<class 'statsmodels.iolib.summary.Summary'>\n",
       "\"\"\"\n",
       "                            OLS Regression Results                            \n",
       "==============================================================================\n",
       "Dep. Variable:        temp_difference   R-squared:                       0.341\n",
       "Model:                            OLS   Adj. R-squared:                  0.341\n",
       "Method:                 Least Squares   F-statistic:                 1.666e+04\n",
       "Date:                Thu, 17 Dec 2020   Prob (F-statistic):               0.00\n",
       "Time:                        15:25:42   Log-Likelihood:            -1.6669e+05\n",
       "No. Observations:               96453   AIC:                         3.334e+05\n",
       "Df Residuals:                   96449   BIC:                         3.334e+05\n",
       "Df Model:                           3                                         \n",
       "Covariance Type:            nonrobust                                         \n",
       "========================================================================================\n",
       "                           coef    std err          t      P>|t|      [0.025      0.975]\n",
       "----------------------------------------------------------------------------------------\n",
       "const                    0.0839      0.033      2.511      0.012       0.018       0.149\n",
       "humidity                 0.1775      0.043      4.133      0.000       0.093       0.262\n",
       "windspeed                0.0905      0.002     36.797      0.000       0.086       0.095\n",
       "hum_wind_interaction    -0.2971      0.003    -88.470      0.000      -0.304      -0.291\n",
       "==============================================================================\n",
       "Omnibus:                     4849.937   Durbin-Watson:                   0.265\n",
       "Prob(Omnibus):                  0.000   Jarque-Bera (JB):             9295.404\n",
       "Skew:                          -0.378   Prob(JB):                         0.00\n",
       "Kurtosis:                       4.320   Cond. No.                         193.\n",
       "==============================================================================\n",
       "\n",
       "Warnings:\n",
       "[1] Standard Errors assume that the covariance matrix of the errors is correctly specified.\n",
       "\"\"\""
      ]
     },
     "execution_count": 6,
     "metadata": {},
     "output_type": "execute_result"
    },
    {
     "data": {
      "application/javascript": [
       "\n",
       "            setTimeout(function() {\n",
       "                var nbb_cell_id = 6;\n",
       "                var nbb_unformatted_code = \"df['hum_wind_interaction'] = df.humidity * df.windspeed\\nX = df[[\\\"humidity\\\", \\\"windspeed\\\", 'hum_wind_interaction']]\\nX = sm.add_constant(X)\\nmodel = sm.OLS(y, X).fit()\\nmodel.summary()\";\n",
       "                var nbb_formatted_code = \"df[\\\"hum_wind_interaction\\\"] = df.humidity * df.windspeed\\nX = df[[\\\"humidity\\\", \\\"windspeed\\\", \\\"hum_wind_interaction\\\"]]\\nX = sm.add_constant(X)\\nmodel = sm.OLS(y, X).fit()\\nmodel.summary()\";\n",
       "                var nbb_cells = Jupyter.notebook.get_cells();\n",
       "                for (var i = 0; i < nbb_cells.length; ++i) {\n",
       "                    if (nbb_cells[i].input_prompt_number == nbb_cell_id) {\n",
       "                        if (nbb_cells[i].get_text() == nbb_unformatted_code) {\n",
       "                             nbb_cells[i].set_text(nbb_formatted_code);\n",
       "                        }\n",
       "                        break;\n",
       "                    }\n",
       "                }\n",
       "            }, 500);\n",
       "            "
      ],
      "text/plain": [
       "<IPython.core.display.Javascript object>"
      ]
     },
     "metadata": {},
     "output_type": "display_data"
    }
   ],
   "source": [
    "df[\"hum_wind_interaction\"] = df.humidity * df.windspeed\n",
    "X = df[[\"humidity\", \"windspeed\", \"hum_wind_interaction\"]]\n",
    "X = sm.add_constant(X)\n",
    "model = sm.OLS(y, X).fit()\n",
    "model.summary()"
   ]
  },
  {
   "cell_type": "markdown",
   "metadata": {},
   "source": [
    "This model's R-squared and Adjusted R-squared values are 0.341. This means that 34.1% of the variance in the target can be explained. Doing a little better."
   ]
  },
  {
   "cell_type": "code",
   "execution_count": 8,
   "metadata": {},
   "outputs": [
    {
     "data": {
      "text/html": [
       "<table class=\"simpletable\">\n",
       "<caption>OLS Regression Results</caption>\n",
       "<tr>\n",
       "  <th>Dep. Variable:</th>     <td>temp_difference</td> <th>  R-squared:         </th>  <td>   0.304</td>  \n",
       "</tr>\n",
       "<tr>\n",
       "  <th>Model:</th>                   <td>OLS</td>       <th>  Adj. R-squared:    </th>  <td>   0.303</td>  \n",
       "</tr>\n",
       "<tr>\n",
       "  <th>Method:</th>             <td>Least Squares</td>  <th>  F-statistic:       </th>  <td>1.401e+04</td> \n",
       "</tr>\n",
       "<tr>\n",
       "  <th>Date:</th>             <td>Thu, 17 Dec 2020</td> <th>  Prob (F-statistic):</th>   <td>  0.00</td>   \n",
       "</tr>\n",
       "<tr>\n",
       "  <th>Time:</th>                 <td>15:32:00</td>     <th>  Log-Likelihood:    </th> <td>-1.6938e+05</td>\n",
       "</tr>\n",
       "<tr>\n",
       "  <th>No. Observations:</th>      <td> 96453</td>      <th>  AIC:               </th>  <td>3.388e+05</td> \n",
       "</tr>\n",
       "<tr>\n",
       "  <th>Df Residuals:</th>          <td> 96449</td>      <th>  BIC:               </th>  <td>3.388e+05</td> \n",
       "</tr>\n",
       "<tr>\n",
       "  <th>Df Model:</th>              <td>     3</td>      <th>                     </th>      <td> </td>     \n",
       "</tr>\n",
       "<tr>\n",
       "  <th>Covariance Type:</th>      <td>nonrobust</td>    <th>                     </th>      <td> </td>     \n",
       "</tr>\n",
       "</table>\n",
       "<table class=\"simpletable\">\n",
       "<tr>\n",
       "       <td></td>         <th>coef</th>     <th>std err</th>      <th>t</th>      <th>P>|t|</th>  <th>[0.025</th>    <th>0.975]</th>  \n",
       "</tr>\n",
       "<tr>\n",
       "  <th>const</th>      <td>    1.5756</td> <td>    0.028</td> <td>   56.605</td> <td> 0.000</td> <td>    1.521</td> <td>    1.630</td>\n",
       "</tr>\n",
       "<tr>\n",
       "  <th>humidity</th>   <td>   -2.6066</td> <td>    0.025</td> <td> -102.784</td> <td> 0.000</td> <td>   -2.656</td> <td>   -2.557</td>\n",
       "</tr>\n",
       "<tr>\n",
       "  <th>windspeed</th>  <td>   -0.1199</td> <td>    0.001</td> <td> -179.014</td> <td> 0.000</td> <td>   -0.121</td> <td>   -0.119</td>\n",
       "</tr>\n",
       "<tr>\n",
       "  <th>visibility</th> <td>    0.0540</td> <td>    0.001</td> <td>   46.614</td> <td> 0.000</td> <td>    0.052</td> <td>    0.056</td>\n",
       "</tr>\n",
       "</table>\n",
       "<table class=\"simpletable\">\n",
       "<tr>\n",
       "  <th>Omnibus:</th>       <td>3833.895</td> <th>  Durbin-Watson:     </th> <td>   0.282</td>\n",
       "</tr>\n",
       "<tr>\n",
       "  <th>Prob(Omnibus):</th>  <td> 0.000</td>  <th>  Jarque-Bera (JB):  </th> <td>4584.022</td>\n",
       "</tr>\n",
       "<tr>\n",
       "  <th>Skew:</th>           <td>-0.459</td>  <th>  Prob(JB):          </th> <td>    0.00</td>\n",
       "</tr>\n",
       "<tr>\n",
       "  <th>Kurtosis:</th>       <td> 3.545</td>  <th>  Cond. No.          </th> <td>    131.</td>\n",
       "</tr>\n",
       "</table><br/><br/>Warnings:<br/>[1] Standard Errors assume that the covariance matrix of the errors is correctly specified."
      ],
      "text/plain": [
       "<class 'statsmodels.iolib.summary.Summary'>\n",
       "\"\"\"\n",
       "                            OLS Regression Results                            \n",
       "==============================================================================\n",
       "Dep. Variable:        temp_difference   R-squared:                       0.304\n",
       "Model:                            OLS   Adj. R-squared:                  0.303\n",
       "Method:                 Least Squares   F-statistic:                 1.401e+04\n",
       "Date:                Thu, 17 Dec 2020   Prob (F-statistic):               0.00\n",
       "Time:                        15:32:00   Log-Likelihood:            -1.6938e+05\n",
       "No. Observations:               96453   AIC:                         3.388e+05\n",
       "Df Residuals:                   96449   BIC:                         3.388e+05\n",
       "Df Model:                           3                                         \n",
       "Covariance Type:            nonrobust                                         \n",
       "==============================================================================\n",
       "                 coef    std err          t      P>|t|      [0.025      0.975]\n",
       "------------------------------------------------------------------------------\n",
       "const          1.5756      0.028     56.605      0.000       1.521       1.630\n",
       "humidity      -2.6066      0.025   -102.784      0.000      -2.656      -2.557\n",
       "windspeed     -0.1199      0.001   -179.014      0.000      -0.121      -0.119\n",
       "visibility     0.0540      0.001     46.614      0.000       0.052       0.056\n",
       "==============================================================================\n",
       "Omnibus:                     3833.895   Durbin-Watson:                   0.282\n",
       "Prob(Omnibus):                  0.000   Jarque-Bera (JB):             4584.022\n",
       "Skew:                          -0.459   Prob(JB):                         0.00\n",
       "Kurtosis:                       3.545   Cond. No.                         131.\n",
       "==============================================================================\n",
       "\n",
       "Warnings:\n",
       "[1] Standard Errors assume that the covariance matrix of the errors is correctly specified.\n",
       "\"\"\""
      ]
     },
     "execution_count": 8,
     "metadata": {},
     "output_type": "execute_result"
    },
    {
     "data": {
      "application/javascript": [
       "\n",
       "            setTimeout(function() {\n",
       "                var nbb_cell_id = 8;\n",
       "                var nbb_unformatted_code = \"X = df[[\\\"humidity\\\", \\\"windspeed\\\", \\\"visibility\\\"]]\\nX = sm.add_constant(X)\\nmodel = sm.OLS(y, X).fit()\\nmodel.summary()\";\n",
       "                var nbb_formatted_code = \"X = df[[\\\"humidity\\\", \\\"windspeed\\\", \\\"visibility\\\"]]\\nX = sm.add_constant(X)\\nmodel = sm.OLS(y, X).fit()\\nmodel.summary()\";\n",
       "                var nbb_cells = Jupyter.notebook.get_cells();\n",
       "                for (var i = 0; i < nbb_cells.length; ++i) {\n",
       "                    if (nbb_cells[i].input_prompt_number == nbb_cell_id) {\n",
       "                        if (nbb_cells[i].get_text() == nbb_unformatted_code) {\n",
       "                             nbb_cells[i].set_text(nbb_formatted_code);\n",
       "                        }\n",
       "                        break;\n",
       "                    }\n",
       "                }\n",
       "            }, 500);\n",
       "            "
      ],
      "text/plain": [
       "<IPython.core.display.Javascript object>"
      ]
     },
     "metadata": {},
     "output_type": "display_data"
    }
   ],
   "source": [
    "X = df[[\"humidity\", \"windspeed\", \"visibility\"]]\n",
    "X = sm.add_constant(X)\n",
    "model = sm.OLS(y, X).fit()\n",
    "model.summary()"
   ]
  },
  {
   "cell_type": "markdown",
   "metadata": {},
   "source": [
    "It appears that the best model, with an R-squared and Adjusted R-squared values of 0.341 and 0.341 repectively, is the model with the iteraction variable. The R^2 and Adjusted R^2 for the model with 'visibility' added as an explanatory variable is 0.304 and 0.303."
   ]
  },
  {
   "cell_type": "markdown",
   "metadata": {},
   "source": [
    "It appears that based on the AIC and BIC, the best model is the 2nd one, the model with the interaction variable. This also agrees with the R^2 scores to determine the best model."
   ]
  },
  {
   "cell_type": "code",
   "execution_count": 14,
   "metadata": {},
   "outputs": [
    {
     "data": {
      "application/javascript": [
       "\n",
       "            setTimeout(function() {\n",
       "                var nbb_cell_id = 14;\n",
       "                var nbb_unformatted_code = \"postgres_user = config.user\\npostgres_pw = config.password\\npostgres_host = config.host\\npostgres_port = config.port\\npostgres_db = \\\"houseprices\\\"\\n\\nengine = create_engine(\\n    \\\"postgresql://{}:{}@{}:{}/{}\\\".format(\\n        postgres_user, postgres_pw, postgres_host, postgres_port, postgres_db\\n    )\\n)\\n\\ndf = pd.read_sql_query(\\\"select * from houseprices\\\", con=engine)\\n\\n# No need for an open connection,\\n# because you're only doing a single query\\nengine.dispose()\";\n",
       "                var nbb_formatted_code = \"postgres_user = config.user\\npostgres_pw = config.password\\npostgres_host = config.host\\npostgres_port = config.port\\npostgres_db = \\\"houseprices\\\"\\n\\nengine = create_engine(\\n    \\\"postgresql://{}:{}@{}:{}/{}\\\".format(\\n        postgres_user, postgres_pw, postgres_host, postgres_port, postgres_db\\n    )\\n)\\n\\ndf = pd.read_sql_query(\\\"select * from houseprices\\\", con=engine)\\n\\n# No need for an open connection,\\n# because you're only doing a single query\\nengine.dispose()\";\n",
       "                var nbb_cells = Jupyter.notebook.get_cells();\n",
       "                for (var i = 0; i < nbb_cells.length; ++i) {\n",
       "                    if (nbb_cells[i].input_prompt_number == nbb_cell_id) {\n",
       "                        if (nbb_cells[i].get_text() == nbb_unformatted_code) {\n",
       "                             nbb_cells[i].set_text(nbb_formatted_code);\n",
       "                        }\n",
       "                        break;\n",
       "                    }\n",
       "                }\n",
       "            }, 500);\n",
       "            "
      ],
      "text/plain": [
       "<IPython.core.display.Javascript object>"
      ]
     },
     "metadata": {},
     "output_type": "display_data"
    }
   ],
   "source": [
    "postgres_user = config.user\n",
    "postgres_pw = config.password\n",
    "postgres_host = config.host\n",
    "postgres_port = config.port\n",
    "postgres_db = \"houseprices\"\n",
    "\n",
    "engine = create_engine(\n",
    "    \"postgresql://{}:{}@{}:{}/{}\".format(\n",
    "        postgres_user, postgres_pw, postgres_host, postgres_port, postgres_db\n",
    "    )\n",
    ")\n",
    "\n",
    "df = pd.read_sql_query(\"select * from houseprices\", con=engine)\n",
    "\n",
    "# No need for an open connection,\n",
    "# because you're only doing a single query\n",
    "engine.dispose()"
   ]
  },
  {
   "cell_type": "code",
   "execution_count": 15,
   "metadata": {},
   "outputs": [
    {
     "data": {
      "application/javascript": [
       "\n",
       "            setTimeout(function() {\n",
       "                var nbb_cell_id = 15;\n",
       "                var nbb_unformatted_code = \"df = pd.concat(\\n    [df, pd.get_dummies(df.condition1, prefix=\\\"condition1\\\", drop_first=True)], axis=1\\n)\\ndf = pd.concat(\\n    [df, pd.get_dummies(df.condition2, prefix=\\\"condition2\\\", drop_first=True)], axis=1\\n)\\ndummy_cols = list(\\n    pd.get_dummies(df.condition1, prefix=\\\"condition1\\\", drop_first=True).columns\\n)\\ndummy_cols = dummy_cols + list(\\n    pd.get_dummies(df.condition2, prefix=\\\"condition2\\\", drop_first=True).columns\\n)\";\n",
       "                var nbb_formatted_code = \"df = pd.concat(\\n    [df, pd.get_dummies(df.condition1, prefix=\\\"condition1\\\", drop_first=True)], axis=1\\n)\\ndf = pd.concat(\\n    [df, pd.get_dummies(df.condition2, prefix=\\\"condition2\\\", drop_first=True)], axis=1\\n)\\ndummy_cols = list(\\n    pd.get_dummies(df.condition1, prefix=\\\"condition1\\\", drop_first=True).columns\\n)\\ndummy_cols = dummy_cols + list(\\n    pd.get_dummies(df.condition2, prefix=\\\"condition2\\\", drop_first=True).columns\\n)\";\n",
       "                var nbb_cells = Jupyter.notebook.get_cells();\n",
       "                for (var i = 0; i < nbb_cells.length; ++i) {\n",
       "                    if (nbb_cells[i].input_prompt_number == nbb_cell_id) {\n",
       "                        if (nbb_cells[i].get_text() == nbb_unformatted_code) {\n",
       "                             nbb_cells[i].set_text(nbb_formatted_code);\n",
       "                        }\n",
       "                        break;\n",
       "                    }\n",
       "                }\n",
       "            }, 500);\n",
       "            "
      ],
      "text/plain": [
       "<IPython.core.display.Javascript object>"
      ]
     },
     "metadata": {},
     "output_type": "display_data"
    }
   ],
   "source": [
    "df = pd.concat(\n",
    "    [df, pd.get_dummies(df.condition1, prefix=\"condition1\", drop_first=True)], axis=1\n",
    ")\n",
    "df = pd.concat(\n",
    "    [df, pd.get_dummies(df.condition2, prefix=\"condition2\", drop_first=True)], axis=1\n",
    ")\n",
    "dummy_cols = list(\n",
    "    pd.get_dummies(df.condition1, prefix=\"condition1\", drop_first=True).columns\n",
    ")\n",
    "dummy_cols = dummy_cols + list(\n",
    "    pd.get_dummies(df.condition2, prefix=\"condition2\", drop_first=True).columns\n",
    ")"
   ]
  },
  {
   "cell_type": "code",
   "execution_count": 16,
   "metadata": {},
   "outputs": [
    {
     "data": {
      "application/javascript": [
       "\n",
       "            setTimeout(function() {\n",
       "                var nbb_cell_id = 16;\n",
       "                var nbb_unformatted_code = \"X = df[\\n    [\\n        \\\"overallqual\\\",\\n        \\\"grlivarea\\\",\\n        \\\"garagecars\\\",\\n        \\\"totalbsmtsf\\\",\\n    ]\\n    + dummy_cols\\n]\";\n",
       "                var nbb_formatted_code = \"X = df[\\n    [\\n        \\\"overallqual\\\",\\n        \\\"grlivarea\\\",\\n        \\\"garagecars\\\",\\n        \\\"totalbsmtsf\\\",\\n    ]\\n    + dummy_cols\\n]\";\n",
       "                var nbb_cells = Jupyter.notebook.get_cells();\n",
       "                for (var i = 0; i < nbb_cells.length; ++i) {\n",
       "                    if (nbb_cells[i].input_prompt_number == nbb_cell_id) {\n",
       "                        if (nbb_cells[i].get_text() == nbb_unformatted_code) {\n",
       "                             nbb_cells[i].set_text(nbb_formatted_code);\n",
       "                        }\n",
       "                        break;\n",
       "                    }\n",
       "                }\n",
       "            }, 500);\n",
       "            "
      ],
      "text/plain": [
       "<IPython.core.display.Javascript object>"
      ]
     },
     "metadata": {},
     "output_type": "display_data"
    }
   ],
   "source": [
    "X = df[\n",
    "    [\n",
    "        \"overallqual\",\n",
    "        \"grlivarea\",\n",
    "        \"garagecars\",\n",
    "        \"totalbsmtsf\",\n",
    "    ]\n",
    "    + dummy_cols\n",
    "]"
   ]
  },
  {
   "cell_type": "code",
   "execution_count": 17,
   "metadata": {},
   "outputs": [
    {
     "data": {
      "text/html": [
       "<table class=\"simpletable\">\n",
       "<caption>OLS Regression Results</caption>\n",
       "<tr>\n",
       "  <th>Dep. Variable:</th>        <td>saleprice</td>    <th>  R-squared:         </th> <td>   0.770</td> \n",
       "</tr>\n",
       "<tr>\n",
       "  <th>Model:</th>                   <td>OLS</td>       <th>  Adj. R-squared:    </th> <td>   0.769</td> \n",
       "</tr>\n",
       "<tr>\n",
       "  <th>Method:</th>             <td>Least Squares</td>  <th>  F-statistic:       </th> <td>   808.7</td> \n",
       "</tr>\n",
       "<tr>\n",
       "  <th>Date:</th>             <td>Thu, 17 Dec 2020</td> <th>  Prob (F-statistic):</th>  <td>  0.00</td>  \n",
       "</tr>\n",
       "<tr>\n",
       "  <th>Time:</th>                 <td>15:48:23</td>     <th>  Log-Likelihood:    </th> <td> -17473.</td> \n",
       "</tr>\n",
       "<tr>\n",
       "  <th>No. Observations:</th>      <td>  1460</td>      <th>  AIC:               </th> <td>3.496e+04</td>\n",
       "</tr>\n",
       "<tr>\n",
       "  <th>Df Residuals:</th>          <td>  1453</td>      <th>  BIC:               </th> <td>3.500e+04</td>\n",
       "</tr>\n",
       "<tr>\n",
       "  <th>Df Model:</th>              <td>     6</td>      <th>                     </th>     <td> </td>    \n",
       "</tr>\n",
       "<tr>\n",
       "  <th>Covariance Type:</th>      <td>nonrobust</td>    <th>                     </th>     <td> </td>    \n",
       "</tr>\n",
       "</table>\n",
       "<table class=\"simpletable\">\n",
       "<tr>\n",
       "         <td></td>            <th>coef</th>     <th>std err</th>      <th>t</th>      <th>P>|t|</th>  <th>[0.025</th>    <th>0.975]</th>  \n",
       "</tr>\n",
       "<tr>\n",
       "  <th>const</th>           <td>-1.127e+05</td> <td> 5050.643</td> <td>  -22.306</td> <td> 0.000</td> <td>-1.23e+05</td> <td>-1.03e+05</td>\n",
       "</tr>\n",
       "<tr>\n",
       "  <th>overallqual</th>     <td> 2.298e+04</td> <td> 1061.517</td> <td>   21.645</td> <td> 0.000</td> <td> 2.09e+04</td> <td> 2.51e+04</td>\n",
       "</tr>\n",
       "<tr>\n",
       "  <th>grlivarea</th>       <td>   48.4055</td> <td>    2.470</td> <td>   19.596</td> <td> 0.000</td> <td>   43.560</td> <td>   53.251</td>\n",
       "</tr>\n",
       "<tr>\n",
       "  <th>garagecars</th>      <td> 1.815e+04</td> <td> 1716.802</td> <td>   10.573</td> <td> 0.000</td> <td> 1.48e+04</td> <td> 2.15e+04</td>\n",
       "</tr>\n",
       "<tr>\n",
       "  <th>totalbsmtsf</th>     <td>   33.2398</td> <td>    2.796</td> <td>   11.887</td> <td> 0.000</td> <td>   27.755</td> <td>   38.725</td>\n",
       "</tr>\n",
       "<tr>\n",
       "  <th>condition1_Norm</th> <td> 1.512e+04</td> <td> 2968.856</td> <td>    5.092</td> <td> 0.000</td> <td> 9293.822</td> <td> 2.09e+04</td>\n",
       "</tr>\n",
       "<tr>\n",
       "  <th>condition2_PosN</th> <td> -1.37e+05</td> <td> 2.75e+04</td> <td>   -4.981</td> <td> 0.000</td> <td>-1.91e+05</td> <td> -8.3e+04</td>\n",
       "</tr>\n",
       "</table>\n",
       "<table class=\"simpletable\">\n",
       "<tr>\n",
       "  <th>Omnibus:</th>       <td>394.340</td> <th>  Durbin-Watson:     </th> <td>   1.969</td> \n",
       "</tr>\n",
       "<tr>\n",
       "  <th>Prob(Omnibus):</th> <td> 0.000</td>  <th>  Jarque-Bera (JB):  </th> <td>32414.481</td>\n",
       "</tr>\n",
       "<tr>\n",
       "  <th>Skew:</th>          <td>-0.002</td>  <th>  Prob(JB):          </th> <td>    0.00</td> \n",
       "</tr>\n",
       "<tr>\n",
       "  <th>Kurtosis:</th>      <td>26.083</td>  <th>  Cond. No.          </th> <td>5.33e+04</td> \n",
       "</tr>\n",
       "</table><br/><br/>Warnings:<br/>[1] Standard Errors assume that the covariance matrix of the errors is correctly specified.<br/>[2] The condition number is large, 5.33e+04. This might indicate that there are<br/>strong multicollinearity or other numerical problems."
      ],
      "text/plain": [
       "<class 'statsmodels.iolib.summary.Summary'>\n",
       "\"\"\"\n",
       "                            OLS Regression Results                            \n",
       "==============================================================================\n",
       "Dep. Variable:              saleprice   R-squared:                       0.770\n",
       "Model:                            OLS   Adj. R-squared:                  0.769\n",
       "Method:                 Least Squares   F-statistic:                     808.7\n",
       "Date:                Thu, 17 Dec 2020   Prob (F-statistic):               0.00\n",
       "Time:                        15:48:23   Log-Likelihood:                -17473.\n",
       "No. Observations:                1460   AIC:                         3.496e+04\n",
       "Df Residuals:                    1453   BIC:                         3.500e+04\n",
       "Df Model:                           6                                         \n",
       "Covariance Type:            nonrobust                                         \n",
       "===================================================================================\n",
       "                      coef    std err          t      P>|t|      [0.025      0.975]\n",
       "-----------------------------------------------------------------------------------\n",
       "const           -1.127e+05   5050.643    -22.306      0.000   -1.23e+05   -1.03e+05\n",
       "overallqual      2.298e+04   1061.517     21.645      0.000    2.09e+04    2.51e+04\n",
       "grlivarea          48.4055      2.470     19.596      0.000      43.560      53.251\n",
       "garagecars       1.815e+04   1716.802     10.573      0.000    1.48e+04    2.15e+04\n",
       "totalbsmtsf        33.2398      2.796     11.887      0.000      27.755      38.725\n",
       "condition1_Norm  1.512e+04   2968.856      5.092      0.000    9293.822    2.09e+04\n",
       "condition2_PosN  -1.37e+05   2.75e+04     -4.981      0.000   -1.91e+05    -8.3e+04\n",
       "==============================================================================\n",
       "Omnibus:                      394.340   Durbin-Watson:                   1.969\n",
       "Prob(Omnibus):                  0.000   Jarque-Bera (JB):            32414.481\n",
       "Skew:                          -0.002   Prob(JB):                         0.00\n",
       "Kurtosis:                      26.083   Cond. No.                     5.33e+04\n",
       "==============================================================================\n",
       "\n",
       "Warnings:\n",
       "[1] Standard Errors assume that the covariance matrix of the errors is correctly specified.\n",
       "[2] The condition number is large, 5.33e+04. This might indicate that there are\n",
       "strong multicollinearity or other numerical problems.\n",
       "\"\"\""
      ]
     },
     "execution_count": 17,
     "metadata": {},
     "output_type": "execute_result"
    },
    {
     "data": {
      "application/javascript": [
       "\n",
       "            setTimeout(function() {\n",
       "                var nbb_cell_id = 17;\n",
       "                var nbb_unformatted_code = \"droplist = [\\n    \\\"condition1_PosN\\\",\\n    \\\"condition1_RRAn\\\",\\n    \\\"condition1_Feedr\\\",\\n    \\\"condition1_PosA\\\",\\n    \\\"condition1_RRAe\\\",\\n    \\\"condition1_RRNe\\\",\\n    \\\"condition1_RRNn\\\",\\n    \\\"condition2_Feedr\\\",\\n    \\\"condition2_Norm\\\",\\n    \\\"condition2_PosA\\\",\\n    \\\"condition2_RRAe\\\",\\n    \\\"condition2_RRAn\\\",\\n    \\\"condition2_RRNn\\\",\\n]\\ny = df.saleprice\\nX = X.drop(droplist, axis=1)\\nX = sm.add_constant(X)\\nmodel = sm.OLS(y, X).fit()\\nmodel.summary()\";\n",
       "                var nbb_formatted_code = \"droplist = [\\n    \\\"condition1_PosN\\\",\\n    \\\"condition1_RRAn\\\",\\n    \\\"condition1_Feedr\\\",\\n    \\\"condition1_PosA\\\",\\n    \\\"condition1_RRAe\\\",\\n    \\\"condition1_RRNe\\\",\\n    \\\"condition1_RRNn\\\",\\n    \\\"condition2_Feedr\\\",\\n    \\\"condition2_Norm\\\",\\n    \\\"condition2_PosA\\\",\\n    \\\"condition2_RRAe\\\",\\n    \\\"condition2_RRAn\\\",\\n    \\\"condition2_RRNn\\\",\\n]\\ny = df.saleprice\\nX = X.drop(droplist, axis=1)\\nX = sm.add_constant(X)\\nmodel = sm.OLS(y, X).fit()\\nmodel.summary()\";\n",
       "                var nbb_cells = Jupyter.notebook.get_cells();\n",
       "                for (var i = 0; i < nbb_cells.length; ++i) {\n",
       "                    if (nbb_cells[i].input_prompt_number == nbb_cell_id) {\n",
       "                        if (nbb_cells[i].get_text() == nbb_unformatted_code) {\n",
       "                             nbb_cells[i].set_text(nbb_formatted_code);\n",
       "                        }\n",
       "                        break;\n",
       "                    }\n",
       "                }\n",
       "            }, 500);\n",
       "            "
      ],
      "text/plain": [
       "<IPython.core.display.Javascript object>"
      ]
     },
     "metadata": {},
     "output_type": "display_data"
    }
   ],
   "source": [
    "droplist = [\n",
    "    \"condition1_PosN\",\n",
    "    \"condition1_RRAn\",\n",
    "    \"condition1_Feedr\",\n",
    "    \"condition1_PosA\",\n",
    "    \"condition1_RRAe\",\n",
    "    \"condition1_RRNe\",\n",
    "    \"condition1_RRNn\",\n",
    "    \"condition2_Feedr\",\n",
    "    \"condition2_Norm\",\n",
    "    \"condition2_PosA\",\n",
    "    \"condition2_RRAe\",\n",
    "    \"condition2_RRAn\",\n",
    "    \"condition2_RRNn\",\n",
    "]\n",
    "y = df.saleprice\n",
    "X = X.drop(droplist, axis=1)\n",
    "X = sm.add_constant(X)\n",
    "model = sm.OLS(y, X).fit()\n",
    "model.summary()"
   ]
  },
  {
   "cell_type": "markdown",
   "metadata": {},
   "source": [
    "* This is a good model the p-value for the f-stat is really low, < 0.05, meaning the model is useful in explaining variance.\n",
    "* The R^2 and Adj. R^2 agree at 0.770 and 0.769, meaning that about 77% of variance can be explained.\n",
    "* AIC and BIC are both nice low numbers.\n",
    "* This model performs satisfactory.\n",
    "* The model has scored better than any other combination a have tried to far."
   ]
  },
  {
   "cell_type": "code",
   "execution_count": null,
   "metadata": {},
   "outputs": [],
   "source": []
  }
 ],
 "metadata": {
  "kernelspec": {
   "display_name": "Python 3",
   "language": "python",
   "name": "python3"
  },
  "language_info": {
   "codemirror_mode": {
    "name": "ipython",
    "version": 3
   },
   "file_extension": ".py",
   "mimetype": "text/x-python",
   "name": "python",
   "nbconvert_exporter": "python",
   "pygments_lexer": "ipython3",
   "version": "3.8.3"
  }
 },
 "nbformat": 4,
 "nbformat_minor": 4
}
