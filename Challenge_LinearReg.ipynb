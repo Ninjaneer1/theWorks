{
 "cells": [
  {
   "cell_type": "code",
   "execution_count": 1,
   "metadata": {},
   "outputs": [
    {
     "data": {
      "application/javascript": [
       "\n",
       "            setTimeout(function() {\n",
       "                var nbb_cell_id = 1;\n",
       "                var nbb_unformatted_code = \"%reload_ext nb_black\";\n",
       "                var nbb_formatted_code = \"%reload_ext nb_black\";\n",
       "                var nbb_cells = Jupyter.notebook.get_cells();\n",
       "                for (var i = 0; i < nbb_cells.length; ++i) {\n",
       "                    if (nbb_cells[i].input_prompt_number == nbb_cell_id) {\n",
       "                        if (nbb_cells[i].get_text() == nbb_unformatted_code) {\n",
       "                             nbb_cells[i].set_text(nbb_formatted_code);\n",
       "                        }\n",
       "                        break;\n",
       "                    }\n",
       "                }\n",
       "            }, 500);\n",
       "            "
      ],
      "text/plain": [
       "<IPython.core.display.Javascript object>"
      ]
     },
     "metadata": {},
     "output_type": "display_data"
    }
   ],
   "source": [
    "%reload_ext nb_black"
   ]
  },
  {
   "cell_type": "markdown",
   "metadata": {},
   "source": [
    "In this challenge, you are required to improve your model with respect to its prediction performance"
   ]
  },
  {
   "cell_type": "markdown",
   "metadata": {},
   "source": [
    "## Steps"
   ]
  },
  {
   "cell_type": "markdown",
   "metadata": {},
   "source": [
    "1. Load the houseprices data from Thinkful's database.\n",
    "* Do data cleaning, exploratory data analysis, and feature engineering. You can use your previous work in this module. But, make sure that your work is satisfactory.\n",
    "* Now, split your data into train and test sets where 20% of the data resides in the test set.\n",
    "* Build several linear regression models including lasso, ridge, or elastic net, and train them in the training set. Use k-fold cross-validation to select the best hyperparameters if your models include one.\n",
    "* Evaluate your best model on the test set.\n",
    "* So far, you have only used the features in the dataset. However, house prices can be affected by many factors like economic activity and the interest rates at the time they are sold. So, try to find some useful factors that are not included in the dataset. Integrate these factors into your model and assess the prediction performance of your model. Discuss the implications of adding these external variables into your model."
   ]
  },
  {
   "cell_type": "code",
   "execution_count": 2,
   "metadata": {},
   "outputs": [
    {
     "data": {
      "application/javascript": [
       "\n",
       "            setTimeout(function() {\n",
       "                var nbb_cell_id = 2;\n",
       "                var nbb_unformatted_code = \"import numpy as np\\nimport pandas as pd\\nfrom sqlalchemy import create_engine\\n\\nimport matplotlib.pyplot as plt\\nimport seaborn as sns\\n\\nimport statsmodels.api as sm\\nfrom sklearn.linear_model import LinearRegression, LassoCV, RidgeCV, ElasticNetCV\\n\\nfrom sklearn.model_selection import train_test_split, cross_val_score\\nfrom sklearn.metrics import mean_absolute_error\\nfrom statsmodels.tools.eval_measures import mse, rmse\\n\\nimport warnings\\n\\nwarnings.filterwarnings(\\\"ignore\\\")\\nimport config\";\n",
       "                var nbb_formatted_code = \"import numpy as np\\nimport pandas as pd\\nfrom sqlalchemy import create_engine\\n\\nimport matplotlib.pyplot as plt\\nimport seaborn as sns\\n\\nimport statsmodels.api as sm\\nfrom sklearn.linear_model import LinearRegression, LassoCV, RidgeCV, ElasticNetCV\\n\\nfrom sklearn.model_selection import train_test_split, cross_val_score\\nfrom sklearn.metrics import mean_absolute_error\\nfrom statsmodels.tools.eval_measures import mse, rmse\\n\\nimport warnings\\n\\nwarnings.filterwarnings(\\\"ignore\\\")\\nimport config\";\n",
       "                var nbb_cells = Jupyter.notebook.get_cells();\n",
       "                for (var i = 0; i < nbb_cells.length; ++i) {\n",
       "                    if (nbb_cells[i].input_prompt_number == nbb_cell_id) {\n",
       "                        if (nbb_cells[i].get_text() == nbb_unformatted_code) {\n",
       "                             nbb_cells[i].set_text(nbb_formatted_code);\n",
       "                        }\n",
       "                        break;\n",
       "                    }\n",
       "                }\n",
       "            }, 500);\n",
       "            "
      ],
      "text/plain": [
       "<IPython.core.display.Javascript object>"
      ]
     },
     "metadata": {},
     "output_type": "display_data"
    }
   ],
   "source": [
    "import numpy as np\n",
    "import pandas as pd\n",
    "from sqlalchemy import create_engine\n",
    "\n",
    "import matplotlib.pyplot as plt\n",
    "import seaborn as sns\n",
    "\n",
    "import statsmodels.api as sm\n",
    "from sklearn.linear_model import LinearRegression, LassoCV, RidgeCV, ElasticNetCV\n",
    "\n",
    "from sklearn.model_selection import train_test_split, cross_val_score\n",
    "from sklearn.metrics import mean_absolute_error\n",
    "from statsmodels.tools.eval_measures import mse, rmse\n",
    "\n",
    "import warnings\n",
    "\n",
    "warnings.filterwarnings(\"ignore\")\n",
    "import config"
   ]
  },
  {
   "cell_type": "code",
   "execution_count": 3,
   "metadata": {},
   "outputs": [
    {
     "data": {
      "application/javascript": [
       "\n",
       "            setTimeout(function() {\n",
       "                var nbb_cell_id = 3;\n",
       "                var nbb_unformatted_code = \"postgres_user = config.user\\npostgres_pw = config.password\\npostgres_host = config.host\\npostgres_port = config.port\\npostgres_db = \\\"houseprices\\\"\\n\\nengine = create_engine(\\n    \\\"postgresql://{}:{}@{}:{}/{}\\\".format(\\n        postgres_user, postgres_pw, postgres_host, postgres_port, postgres_db\\n    )\\n)\\n\\ndf = pd.read_sql_query(\\\"select * from houseprices\\\", con=engine)\\n\\n# No need for an open connection,\\n# because you're only doing a single query\\nengine.dispose()\";\n",
       "                var nbb_formatted_code = \"postgres_user = config.user\\npostgres_pw = config.password\\npostgres_host = config.host\\npostgres_port = config.port\\npostgres_db = \\\"houseprices\\\"\\n\\nengine = create_engine(\\n    \\\"postgresql://{}:{}@{}:{}/{}\\\".format(\\n        postgres_user, postgres_pw, postgres_host, postgres_port, postgres_db\\n    )\\n)\\n\\ndf = pd.read_sql_query(\\\"select * from houseprices\\\", con=engine)\\n\\n# No need for an open connection,\\n# because you're only doing a single query\\nengine.dispose()\";\n",
       "                var nbb_cells = Jupyter.notebook.get_cells();\n",
       "                for (var i = 0; i < nbb_cells.length; ++i) {\n",
       "                    if (nbb_cells[i].input_prompt_number == nbb_cell_id) {\n",
       "                        if (nbb_cells[i].get_text() == nbb_unformatted_code) {\n",
       "                             nbb_cells[i].set_text(nbb_formatted_code);\n",
       "                        }\n",
       "                        break;\n",
       "                    }\n",
       "                }\n",
       "            }, 500);\n",
       "            "
      ],
      "text/plain": [
       "<IPython.core.display.Javascript object>"
      ]
     },
     "metadata": {},
     "output_type": "display_data"
    }
   ],
   "source": [
    "postgres_user = config.user\n",
    "postgres_pw = config.password\n",
    "postgres_host = config.host\n",
    "postgres_port = config.port\n",
    "postgres_db = \"houseprices\"\n",
    "\n",
    "engine = create_engine(\n",
    "    \"postgresql://{}:{}@{}:{}/{}\".format(\n",
    "        postgres_user, postgres_pw, postgres_host, postgres_port, postgres_db\n",
    "    )\n",
    ")\n",
    "\n",
    "df = pd.read_sql_query(\"select * from houseprices\", con=engine)\n",
    "\n",
    "# No need for an open connection,\n",
    "# because you're only doing a single query\n",
    "engine.dispose()"
   ]
  },
  {
   "cell_type": "code",
   "execution_count": 5,
   "metadata": {},
   "outputs": [
    {
     "data": {
      "text/plain": [
       "(1460, 81)"
      ]
     },
     "execution_count": 5,
     "metadata": {},
     "output_type": "execute_result"
    },
    {
     "data": {
      "application/javascript": [
       "\n",
       "            setTimeout(function() {\n",
       "                var nbb_cell_id = 5;\n",
       "                var nbb_unformatted_code = \"df.shape\";\n",
       "                var nbb_formatted_code = \"df.shape\";\n",
       "                var nbb_cells = Jupyter.notebook.get_cells();\n",
       "                for (var i = 0; i < nbb_cells.length; ++i) {\n",
       "                    if (nbb_cells[i].input_prompt_number == nbb_cell_id) {\n",
       "                        if (nbb_cells[i].get_text() == nbb_unformatted_code) {\n",
       "                             nbb_cells[i].set_text(nbb_formatted_code);\n",
       "                        }\n",
       "                        break;\n",
       "                    }\n",
       "                }\n",
       "            }, 500);\n",
       "            "
      ],
      "text/plain": [
       "<IPython.core.display.Javascript object>"
      ]
     },
     "metadata": {},
     "output_type": "display_data"
    }
   ],
   "source": [
    "df.shape"
   ]
  },
  {
   "cell_type": "code",
   "execution_count": 10,
   "metadata": {},
   "outputs": [
    {
     "name": "stdout",
     "output_type": "stream",
     "text": [
      "<class 'pandas.core.frame.DataFrame'>\n",
      "RangeIndex: 1460 entries, 0 to 1459\n",
      "Data columns (total 38 columns):\n",
      " #   Column         Non-Null Count  Dtype  \n",
      "---  ------         --------------  -----  \n",
      " 0   id             1460 non-null   int64  \n",
      " 1   mssubclass     1460 non-null   int64  \n",
      " 2   lotfrontage    1201 non-null   float64\n",
      " 3   lotarea        1460 non-null   int64  \n",
      " 4   overallqual    1460 non-null   int64  \n",
      " 5   overallcond    1460 non-null   int64  \n",
      " 6   yearbuilt      1460 non-null   int64  \n",
      " 7   yearremodadd   1460 non-null   int64  \n",
      " 8   masvnrarea     1452 non-null   float64\n",
      " 9   bsmtfinsf1     1460 non-null   int64  \n",
      " 10  bsmtfinsf2     1460 non-null   int64  \n",
      " 11  bsmtunfsf      1460 non-null   int64  \n",
      " 12  totalbsmtsf    1460 non-null   int64  \n",
      " 13  firstflrsf     1460 non-null   int64  \n",
      " 14  secondflrsf    1460 non-null   int64  \n",
      " 15  lowqualfinsf   1460 non-null   int64  \n",
      " 16  grlivarea      1460 non-null   int64  \n",
      " 17  bsmtfullbath   1460 non-null   int64  \n",
      " 18  bsmthalfbath   1460 non-null   int64  \n",
      " 19  fullbath       1460 non-null   int64  \n",
      " 20  halfbath       1460 non-null   int64  \n",
      " 21  bedroomabvgr   1460 non-null   int64  \n",
      " 22  kitchenabvgr   1460 non-null   int64  \n",
      " 23  totrmsabvgrd   1460 non-null   int64  \n",
      " 24  fireplaces     1460 non-null   int64  \n",
      " 25  garageyrblt    1379 non-null   float64\n",
      " 26  garagecars     1460 non-null   int64  \n",
      " 27  garagearea     1460 non-null   int64  \n",
      " 28  wooddecksf     1460 non-null   int64  \n",
      " 29  openporchsf    1460 non-null   int64  \n",
      " 30  enclosedporch  1460 non-null   int64  \n",
      " 31  threessnporch  1460 non-null   int64  \n",
      " 32  screenporch    1460 non-null   int64  \n",
      " 33  poolarea       1460 non-null   int64  \n",
      " 34  miscval        1460 non-null   int64  \n",
      " 35  mosold         1460 non-null   int64  \n",
      " 36  yrsold         1460 non-null   int64  \n",
      " 37  saleprice      1460 non-null   int64  \n",
      "dtypes: float64(3), int64(35)\n",
      "memory usage: 433.6 KB\n"
     ]
    },
    {
     "data": {
      "application/javascript": [
       "\n",
       "            setTimeout(function() {\n",
       "                var nbb_cell_id = 10;\n",
       "                var nbb_unformatted_code = \"df_num = df.select_dtypes(include = ['float64', 'int64'])\\ndf_num.info()\";\n",
       "                var nbb_formatted_code = \"df_num = df.select_dtypes(include=[\\\"float64\\\", \\\"int64\\\"])\\ndf_num.info()\";\n",
       "                var nbb_cells = Jupyter.notebook.get_cells();\n",
       "                for (var i = 0; i < nbb_cells.length; ++i) {\n",
       "                    if (nbb_cells[i].input_prompt_number == nbb_cell_id) {\n",
       "                        if (nbb_cells[i].get_text() == nbb_unformatted_code) {\n",
       "                             nbb_cells[i].set_text(nbb_formatted_code);\n",
       "                        }\n",
       "                        break;\n",
       "                    }\n",
       "                }\n",
       "            }, 500);\n",
       "            "
      ],
      "text/plain": [
       "<IPython.core.display.Javascript object>"
      ]
     },
     "metadata": {},
     "output_type": "display_data"
    }
   ],
   "source": [
    "df_num = df.select_dtypes(include=[\"float64\", \"int64\"])\n",
    "df_num.info()"
   ]
  },
  {
   "cell_type": "code",
   "execution_count": 13,
   "metadata": {},
   "outputs": [
    {
     "data": {
      "text/plain": [
       "poolqc          1453\n",
       "miscfeature     1406\n",
       "alley           1369\n",
       "fence           1179\n",
       "fireplacequ      690\n",
       "lotfrontage      259\n",
       "garagecond        81\n",
       "garagetype        81\n",
       "garageyrblt       81\n",
       "garagefinish      81\n",
       "garagequal        81\n",
       "bsmtexposure      38\n",
       "bsmtfintype2      38\n",
       "bsmtfintype1      37\n",
       "bsmtcond          37\n",
       "bsmtqual          37\n",
       "masvnrarea         8\n",
       "masvnrtype         8\n",
       "electrical         1\n",
       "utilities          0\n",
       "dtype: int64"
      ]
     },
     "execution_count": 13,
     "metadata": {},
     "output_type": "execute_result"
    },
    {
     "data": {
      "application/javascript": [
       "\n",
       "            setTimeout(function() {\n",
       "                var nbb_cell_id = 13;\n",
       "                var nbb_unformatted_code = \"df.isnull().sum().sort_values(ascending=False).head(20)\";\n",
       "                var nbb_formatted_code = \"df.isnull().sum().sort_values(ascending=False).head(20)\";\n",
       "                var nbb_cells = Jupyter.notebook.get_cells();\n",
       "                for (var i = 0; i < nbb_cells.length; ++i) {\n",
       "                    if (nbb_cells[i].input_prompt_number == nbb_cell_id) {\n",
       "                        if (nbb_cells[i].get_text() == nbb_unformatted_code) {\n",
       "                             nbb_cells[i].set_text(nbb_formatted_code);\n",
       "                        }\n",
       "                        break;\n",
       "                    }\n",
       "                }\n",
       "            }, 500);\n",
       "            "
      ],
      "text/plain": [
       "<IPython.core.display.Javascript object>"
      ]
     },
     "metadata": {},
     "output_type": "display_data"
    }
   ],
   "source": [
    "df.isnull().sum().sort_values(ascending=False).head(20)"
   ]
  },
  {
   "cell_type": "code",
   "execution_count": 14,
   "metadata": {},
   "outputs": [
    {
     "data": {
      "text/plain": [
       "<matplotlib.axes._subplots.AxesSubplot at 0x1e0d0d3ceb0>"
      ]
     },
     "execution_count": 14,
     "metadata": {},
     "output_type": "execute_result"
    },
    {
     "data": {
      "image/png": "[encoded data removed]",
      "text/plain": [
       "<Figure size 432x288 with 1 Axes>"
      ]
     },
     "metadata": {
      "needs_background": "light"
     },
     "output_type": "display_data"
    },
    {
     "data": {
      "application/javascript": [
       "\n",
       "            setTimeout(function() {\n",
       "                var nbb_cell_id = 14;\n",
       "                var nbb_unformatted_code = \"df.saleprice.hist()\";\n",
       "                var nbb_formatted_code = \"df.saleprice.hist()\";\n",
       "                var nbb_cells = Jupyter.notebook.get_cells();\n",
       "                for (var i = 0; i < nbb_cells.length; ++i) {\n",
       "                    if (nbb_cells[i].input_prompt_number == nbb_cell_id) {\n",
       "                        if (nbb_cells[i].get_text() == nbb_unformatted_code) {\n",
       "                             nbb_cells[i].set_text(nbb_formatted_code);\n",
       "                        }\n",
       "                        break;\n",
       "                    }\n",
       "                }\n",
       "            }, 500);\n",
       "            "
      ],
      "text/plain": [
       "<IPython.core.display.Javascript object>"
      ]
     },
     "metadata": {},
     "output_type": "display_data"
    }
   ],
   "source": [
    "df.saleprice.hist()"
   ]
  },
  {
   "cell_type": "code",
   "execution_count": 22,
   "metadata": {},
   "outputs": [
    {
     "data": {
      "application/javascript": [
       "\n",
       "            setTimeout(function() {\n",
       "                var nbb_cell_id = 22;\n",
       "                var nbb_unformatted_code = \"mortlist = [[1, 2006, 6.285],[2, 2006, 6.409],\\n[3, 2006, 6.476],\\n[4, 2006, 6.628],\\n[5, 2006, 6.745],\\n[6, 2006, 6.825],\\n[7, 2006, 6.887],\\n[8, 2006, 6.636],\\n[9, 2006, 6.496],\\n[10, 2006, 6.465],\\n[11, 2006, 6.356],\\n[12, 2006, 6.223],\\n[1, 2007, 6.326],\\n[2, 2007, 6.377],\\n[3, 2007, 6.273],\\n[4, 2007, 6.357],\\n[5, 2007, 6.384],\\n[6, 2007, 6.736],\\n[7, 2007, 6.855],\\n[8, 2007, 6.971],\\n[9, 2007, 6.827],\\n[10, 2007, 6.722],\\n[11, 2007, 6.562],\\n[12, 2007, 6.526],\\n[1, 2008, 6.244],\\n[2, 2008, 6.409],\\n[3, 2008, 6.624],\\n[4, 2008, 6.540],\\n[5, 2008, 6.572],\\n[6, 2008, 6.876],\\n[7, 2008, 6.922],\\n[8, 2008, 7.008],\\n[9, 2008, 6.646],\\n[10, 2008, 6.839],\\n[11, 2008, 6.686],\\n[12, 2008, 6.025],\\n[1, 2009, 5.786],\\n[2, 2009, 5.809],\\n[3, 2009, 5.653],\\n[4, 2009, 5.469],\\n[5, 2009, 5.473],\\n[6, 2009, 5.922],\\n[7, 2009, 5.712],\\n[8, 2009, 5.678],\\n[9, 2009, 5.514],\\n[10, 2009, 5.401],\\n[11, 2009, 5.329],\\n[12, 2009, 5.337],\\n[1, 2010, 5.485],\\n[2, 2010, 5.396],\\n[3, 2010, 5.321],\\n[4, 2010, 5.405],\\n[5, 2010, 5.242],\\n[6, 2010, 5.130],\\n[7, 2010, 4.957]]\";\n",
       "                var nbb_formatted_code = \"mortlist = [\\n    [1, 2006, 6.285],\\n    [2, 2006, 6.409],\\n    [3, 2006, 6.476],\\n    [4, 2006, 6.628],\\n    [5, 2006, 6.745],\\n    [6, 2006, 6.825],\\n    [7, 2006, 6.887],\\n    [8, 2006, 6.636],\\n    [9, 2006, 6.496],\\n    [10, 2006, 6.465],\\n    [11, 2006, 6.356],\\n    [12, 2006, 6.223],\\n    [1, 2007, 6.326],\\n    [2, 2007, 6.377],\\n    [3, 2007, 6.273],\\n    [4, 2007, 6.357],\\n    [5, 2007, 6.384],\\n    [6, 2007, 6.736],\\n    [7, 2007, 6.855],\\n    [8, 2007, 6.971],\\n    [9, 2007, 6.827],\\n    [10, 2007, 6.722],\\n    [11, 2007, 6.562],\\n    [12, 2007, 6.526],\\n    [1, 2008, 6.244],\\n    [2, 2008, 6.409],\\n    [3, 2008, 6.624],\\n    [4, 2008, 6.540],\\n    [5, 2008, 6.572],\\n    [6, 2008, 6.876],\\n    [7, 2008, 6.922],\\n    [8, 2008, 7.008],\\n    [9, 2008, 6.646],\\n    [10, 2008, 6.839],\\n    [11, 2008, 6.686],\\n    [12, 2008, 6.025],\\n    [1, 2009, 5.786],\\n    [2, 2009, 5.809],\\n    [3, 2009, 5.653],\\n    [4, 2009, 5.469],\\n    [5, 2009, 5.473],\\n    [6, 2009, 5.922],\\n    [7, 2009, 5.712],\\n    [8, 2009, 5.678],\\n    [9, 2009, 5.514],\\n    [10, 2009, 5.401],\\n    [11, 2009, 5.329],\\n    [12, 2009, 5.337],\\n    [1, 2010, 5.485],\\n    [2, 2010, 5.396],\\n    [3, 2010, 5.321],\\n    [4, 2010, 5.405],\\n    [5, 2010, 5.242],\\n    [6, 2010, 5.130],\\n    [7, 2010, 4.957],\\n]\";\n",
       "                var nbb_cells = Jupyter.notebook.get_cells();\n",
       "                for (var i = 0; i < nbb_cells.length; ++i) {\n",
       "                    if (nbb_cells[i].input_prompt_number == nbb_cell_id) {\n",
       "                        if (nbb_cells[i].get_text() == nbb_unformatted_code) {\n",
       "                             nbb_cells[i].set_text(nbb_formatted_code);\n",
       "                        }\n",
       "                        break;\n",
       "                    }\n",
       "                }\n",
       "            }, 500);\n",
       "            "
      ],
      "text/plain": [
       "<IPython.core.display.Javascript object>"
      ]
     },
     "metadata": {},
     "output_type": "display_data"
    }
   ],
   "source": [
    "mortlist = [\n",
    "    [1, 2006, 6.285],\n",
    "    [2, 2006, 6.409],\n",
    "    [3, 2006, 6.476],\n",
    "    [4, 2006, 6.628],\n",
    "    [5, 2006, 6.745],\n",
    "    [6, 2006, 6.825],\n",
    "    [7, 2006, 6.887],\n",
    "    [8, 2006, 6.636],\n",
    "    [9, 2006, 6.496],\n",
    "    [10, 2006, 6.465],\n",
    "    [11, 2006, 6.356],\n",
    "    [12, 2006, 6.223],\n",
    "    [1, 2007, 6.326],\n",
    "    [2, 2007, 6.377],\n",
    "    [3, 2007, 6.273],\n",
    "    [4, 2007, 6.357],\n",
    "    [5, 2007, 6.384],\n",
    "    [6, 2007, 6.736],\n",
    "    [7, 2007, 6.855],\n",
    "    [8, 2007, 6.971],\n",
    "    [9, 2007, 6.827],\n",
    "    [10, 2007, 6.722],\n",
    "    [11, 2007, 6.562],\n",
    "    [12, 2007, 6.526],\n",
    "    [1, 2008, 6.244],\n",
    "    [2, 2008, 6.409],\n",
    "    [3, 2008, 6.624],\n",
    "    [4, 2008, 6.540],\n",
    "    [5, 2008, 6.572],\n",
    "    [6, 2008, 6.876],\n",
    "    [7, 2008, 6.922],\n",
    "    [8, 2008, 7.008],\n",
    "    [9, 2008, 6.646],\n",
    "    [10, 2008, 6.839],\n",
    "    [11, 2008, 6.686],\n",
    "    [12, 2008, 6.025],\n",
    "    [1, 2009, 5.786],\n",
    "    [2, 2009, 5.809],\n",
    "    [3, 2009, 5.653],\n",
    "    [4, 2009, 5.469],\n",
    "    [5, 2009, 5.473],\n",
    "    [6, 2009, 5.922],\n",
    "    [7, 2009, 5.712],\n",
    "    [8, 2009, 5.678],\n",
    "    [9, 2009, 5.514],\n",
    "    [10, 2009, 5.401],\n",
    "    [11, 2009, 5.329],\n",
    "    [12, 2009, 5.337],\n",
    "    [1, 2010, 5.485],\n",
    "    [2, 2010, 5.396],\n",
    "    [3, 2010, 5.321],\n",
    "    [4, 2010, 5.405],\n",
    "    [5, 2010, 5.242],\n",
    "    [6, 2010, 5.130],\n",
    "    [7, 2010, 4.957],\n",
    "]"
   ]
  },
  {
   "cell_type": "code",
   "execution_count": 54,
   "metadata": {},
   "outputs": [
    {
     "data": {
      "application/javascript": [
       "\n",
       "            setTimeout(function() {\n",
       "                var nbb_cell_id = 54;\n",
       "                var nbb_unformatted_code = \"df['30yrmort_rate'] = 0.00\";\n",
       "                var nbb_formatted_code = \"df[\\\"30yrmort_rate\\\"] = 0.00\";\n",
       "                var nbb_cells = Jupyter.notebook.get_cells();\n",
       "                for (var i = 0; i < nbb_cells.length; ++i) {\n",
       "                    if (nbb_cells[i].input_prompt_number == nbb_cell_id) {\n",
       "                        if (nbb_cells[i].get_text() == nbb_unformatted_code) {\n",
       "                             nbb_cells[i].set_text(nbb_formatted_code);\n",
       "                        }\n",
       "                        break;\n",
       "                    }\n",
       "                }\n",
       "            }, 500);\n",
       "            "
      ],
      "text/plain": [
       "<IPython.core.display.Javascript object>"
      ]
     },
     "metadata": {},
     "output_type": "display_data"
    }
   ],
   "source": [
    "df[\"30yrmort_rate\"] = 0.00"
   ]
  },
  {
   "cell_type": "code",
   "execution_count": 55,
   "metadata": {},
   "outputs": [
    {
     "data": {
      "application/javascript": [
       "\n",
       "            setTimeout(function() {\n",
       "                var nbb_cell_id = 55;\n",
       "                var nbb_unformatted_code = \"for i in range(df.shape[0]):\\n    for j in range(len(mortlist)):\\n        if (df.yrsold[i] == mortlist[j][1]) & (df.mosold[i] == mortlist[j][0]):\\n            df[\\\"30yrmort_rate\\\"][i] = mortlist[j][2]\";\n",
       "                var nbb_formatted_code = \"for i in range(df.shape[0]):\\n    for j in range(len(mortlist)):\\n        if (df.yrsold[i] == mortlist[j][1]) & (df.mosold[i] == mortlist[j][0]):\\n            df[\\\"30yrmort_rate\\\"][i] = mortlist[j][2]\";\n",
       "                var nbb_cells = Jupyter.notebook.get_cells();\n",
       "                for (var i = 0; i < nbb_cells.length; ++i) {\n",
       "                    if (nbb_cells[i].input_prompt_number == nbb_cell_id) {\n",
       "                        if (nbb_cells[i].get_text() == nbb_unformatted_code) {\n",
       "                             nbb_cells[i].set_text(nbb_formatted_code);\n",
       "                        }\n",
       "                        break;\n",
       "                    }\n",
       "                }\n",
       "            }, 500);\n",
       "            "
      ],
      "text/plain": [
       "<IPython.core.display.Javascript object>"
      ]
     },
     "metadata": {},
     "output_type": "display_data"
    }
   ],
   "source": [
    "for i in range(df.shape[0]):\n",
    "    for j in range(len(mortlist)):\n",
    "        if (df.yrsold[i] == mortlist[j][1]) & (df.mosold[i] == mortlist[j][0]):\n",
    "            df[\"30yrmort_rate\"][i] = mortlist[j][2]\n",
    "\n"
   ]
  },
  {
   "cell_type": "code",
   "execution_count": 58,
   "metadata": {},
   "outputs": [
    {
     "data": {
      "image/png": "[encoded data removed]",
      "text/plain": [
       "<Figure size 432x288 with 1 Axes>"
      ]
     },
     "metadata": {
      "needs_background": "light"
     },
     "output_type": "display_data"
    },
    {
     "data": {
      "application/javascript": [
       "\n",
       "            setTimeout(function() {\n",
       "                var nbb_cell_id = 58;\n",
       "                var nbb_unformatted_code = \"sns.scatterplot(x=\\\"30yrmort_rate\\\", y=\\\"saleprice\\\", data=df)\\nplt.show()\";\n",
       "                var nbb_formatted_code = \"sns.scatterplot(x=\\\"30yrmort_rate\\\", y=\\\"saleprice\\\", data=df)\\nplt.show()\";\n",
       "                var nbb_cells = Jupyter.notebook.get_cells();\n",
       "                for (var i = 0; i < nbb_cells.length; ++i) {\n",
       "                    if (nbb_cells[i].input_prompt_number == nbb_cell_id) {\n",
       "                        if (nbb_cells[i].get_text() == nbb_unformatted_code) {\n",
       "                             nbb_cells[i].set_text(nbb_formatted_code);\n",
       "                        }\n",
       "                        break;\n",
       "                    }\n",
       "                }\n",
       "            }, 500);\n",
       "            "
      ],
      "text/plain": [
       "<IPython.core.display.Javascript object>"
      ]
     },
     "metadata": {},
     "output_type": "display_data"
    }
   ],
   "source": [
    "sns.scatterplot(x=\"30yrmort_rate\", y=\"saleprice\", data=df)\n",
    "plt.show()"
   ]
  },
  {
   "cell_type": "code",
   "execution_count": 61,
   "metadata": {},
   "outputs": [
    {
     "data": {
      "text/plain": [
       "<matplotlib.axes._subplots.AxesSubplot at 0x1e0d206c190>"
      ]
     },
     "execution_count": 61,
     "metadata": {},
     "output_type": "execute_result"
    },
    {
     "data": {
      "image/png": "[encoded data removed]",
      "text/plain": [
       "<Figure size 432x288 with 1 Axes>"
      ]
     },
     "metadata": {
      "needs_background": "light"
     },
     "output_type": "display_data"
    },
    {
     "data": {
      "application/javascript": [
       "\n",
       "            setTimeout(function() {\n",
       "                var nbb_cell_id = 61;\n",
       "                var nbb_unformatted_code = \"df[\\\"30yrmort_rate\\\"].hist(bins=15)\";\n",
       "                var nbb_formatted_code = \"df[\\\"30yrmort_rate\\\"].hist(bins=15)\";\n",
       "                var nbb_cells = Jupyter.notebook.get_cells();\n",
       "                for (var i = 0; i < nbb_cells.length; ++i) {\n",
       "                    if (nbb_cells[i].input_prompt_number == nbb_cell_id) {\n",
       "                        if (nbb_cells[i].get_text() == nbb_unformatted_code) {\n",
       "                             nbb_cells[i].set_text(nbb_formatted_code);\n",
       "                        }\n",
       "                        break;\n",
       "                    }\n",
       "                }\n",
       "            }, 500);\n",
       "            "
      ],
      "text/plain": [
       "<IPython.core.display.Javascript object>"
      ]
     },
     "metadata": {},
     "output_type": "display_data"
    }
   ],
   "source": [
    "df[\"30yrmort_rate\"].hist(bins=15)"
   ]
  },
  {
   "cell_type": "code",
   "execution_count": 62,
   "metadata": {},
   "outputs": [
    {
     "data": {
      "application/javascript": [
       "\n",
       "            setTimeout(function() {\n",
       "                var nbb_cell_id = 62;\n",
       "                var nbb_unformatted_code = \"df = pd.concat(\\n    [df, pd.get_dummies(df.condition1, prefix=\\\"condition1\\\", drop_first=True)], axis=1\\n)\\ndf = pd.concat(\\n    [df, pd.get_dummies(df.condition2, prefix=\\\"condition2\\\", drop_first=True)], axis=1\\n)\\ndummy_cols = list(\\n    pd.get_dummies(df.condition1, prefix=\\\"condition1\\\", drop_first=True).columns\\n)\\ndummy_cols = dummy_cols + list(\\n    pd.get_dummies(df.condition2, prefix=\\\"condition2\\\", drop_first=True).columns\\n)\";\n",
       "                var nbb_formatted_code = \"df = pd.concat(\\n    [df, pd.get_dummies(df.condition1, prefix=\\\"condition1\\\", drop_first=True)], axis=1\\n)\\ndf = pd.concat(\\n    [df, pd.get_dummies(df.condition2, prefix=\\\"condition2\\\", drop_first=True)], axis=1\\n)\\ndummy_cols = list(\\n    pd.get_dummies(df.condition1, prefix=\\\"condition1\\\", drop_first=True).columns\\n)\\ndummy_cols = dummy_cols + list(\\n    pd.get_dummies(df.condition2, prefix=\\\"condition2\\\", drop_first=True).columns\\n)\";\n",
       "                var nbb_cells = Jupyter.notebook.get_cells();\n",
       "                for (var i = 0; i < nbb_cells.length; ++i) {\n",
       "                    if (nbb_cells[i].input_prompt_number == nbb_cell_id) {\n",
       "                        if (nbb_cells[i].get_text() == nbb_unformatted_code) {\n",
       "                             nbb_cells[i].set_text(nbb_formatted_code);\n",
       "                        }\n",
       "                        break;\n",
       "                    }\n",
       "                }\n",
       "            }, 500);\n",
       "            "
      ],
      "text/plain": [
       "<IPython.core.display.Javascript object>"
      ]
     },
     "metadata": {},
     "output_type": "display_data"
    }
   ],
   "source": [
    "df = pd.concat(\n",
    "    [df, pd.get_dummies(df.condition1, prefix=\"condition1\", drop_first=True)], axis=1\n",
    ")\n",
    "df = pd.concat(\n",
    "    [df, pd.get_dummies(df.condition2, prefix=\"condition2\", drop_first=True)], axis=1\n",
    ")\n",
    "dummy_cols = list(\n",
    "    pd.get_dummies(df.condition1, prefix=\"condition1\", drop_first=True).columns\n",
    ")\n",
    "dummy_cols = dummy_cols + list(\n",
    "    pd.get_dummies(df.condition2, prefix=\"condition2\", drop_first=True).columns\n",
    ")"
   ]
  },
  {
   "cell_type": "code",
   "execution_count": 67,
   "metadata": {},
   "outputs": [
    {
     "data": {
      "application/javascript": [
       "\n",
       "            setTimeout(function() {\n",
       "                var nbb_cell_id = 67;\n",
       "                var nbb_unformatted_code = \"X = df[\\n    [\\n        \\\"overallqual\\\",\\n        \\\"grlivarea\\\",\\n        \\\"garagecars\\\",\\n        \\\"totalbsmtsf\\\",\\n        '30yrmort_rate',\\n    ]\\n    + dummy_cols\\n]\";\n",
       "                var nbb_formatted_code = \"X = df[\\n    [\\n        \\\"overallqual\\\",\\n        \\\"grlivarea\\\",\\n        \\\"garagecars\\\",\\n        \\\"totalbsmtsf\\\",\\n        \\\"30yrmort_rate\\\",\\n    ]\\n    + dummy_cols\\n]\";\n",
       "                var nbb_cells = Jupyter.notebook.get_cells();\n",
       "                for (var i = 0; i < nbb_cells.length; ++i) {\n",
       "                    if (nbb_cells[i].input_prompt_number == nbb_cell_id) {\n",
       "                        if (nbb_cells[i].get_text() == nbb_unformatted_code) {\n",
       "                             nbb_cells[i].set_text(nbb_formatted_code);\n",
       "                        }\n",
       "                        break;\n",
       "                    }\n",
       "                }\n",
       "            }, 500);\n",
       "            "
      ],
      "text/plain": [
       "<IPython.core.display.Javascript object>"
      ]
     },
     "metadata": {},
     "output_type": "display_data"
    }
   ],
   "source": [
    "X = df[\n",
    "    [\n",
    "        \"overallqual\",\n",
    "        \"grlivarea\",\n",
    "        \"garagecars\",\n",
    "        \"totalbsmtsf\",\n",
    "        \"30yrmort_rate\",\n",
    "    ]\n",
    "    + dummy_cols\n",
    "]"
   ]
  },
  {
   "cell_type": "code",
   "execution_count": 68,
   "metadata": {},
   "outputs": [
    {
     "data": {
      "application/javascript": [
       "\n",
       "            setTimeout(function() {\n",
       "                var nbb_cell_id = 68;\n",
       "                var nbb_unformatted_code = \"droplist = [\\n    \\\"condition1_PosN\\\",\\n    \\\"condition1_RRAn\\\",\\n    \\\"condition1_Feedr\\\",\\n    \\\"condition1_PosA\\\",\\n    \\\"condition1_RRAe\\\",\\n    \\\"condition1_RRNe\\\",\\n    \\\"condition1_RRNn\\\",\\n    \\\"condition2_Feedr\\\",\\n    \\\"condition2_Norm\\\",\\n    \\\"condition2_PosA\\\",\\n    \\\"condition2_RRAe\\\",\\n    \\\"condition2_RRAn\\\",\\n    \\\"condition2_RRNn\\\",\\n]\";\n",
       "                var nbb_formatted_code = \"droplist = [\\n    \\\"condition1_PosN\\\",\\n    \\\"condition1_RRAn\\\",\\n    \\\"condition1_Feedr\\\",\\n    \\\"condition1_PosA\\\",\\n    \\\"condition1_RRAe\\\",\\n    \\\"condition1_RRNe\\\",\\n    \\\"condition1_RRNn\\\",\\n    \\\"condition2_Feedr\\\",\\n    \\\"condition2_Norm\\\",\\n    \\\"condition2_PosA\\\",\\n    \\\"condition2_RRAe\\\",\\n    \\\"condition2_RRAn\\\",\\n    \\\"condition2_RRNn\\\",\\n]\";\n",
       "                var nbb_cells = Jupyter.notebook.get_cells();\n",
       "                for (var i = 0; i < nbb_cells.length; ++i) {\n",
       "                    if (nbb_cells[i].input_prompt_number == nbb_cell_id) {\n",
       "                        if (nbb_cells[i].get_text() == nbb_unformatted_code) {\n",
       "                             nbb_cells[i].set_text(nbb_formatted_code);\n",
       "                        }\n",
       "                        break;\n",
       "                    }\n",
       "                }\n",
       "            }, 500);\n",
       "            "
      ],
      "text/plain": [
       "<IPython.core.display.Javascript object>"
      ]
     },
     "metadata": {},
     "output_type": "display_data"
    }
   ],
   "source": [
    "droplist = [\n",
    "    \"condition1_PosN\",\n",
    "    \"condition1_RRAn\",\n",
    "    \"condition1_Feedr\",\n",
    "    \"condition1_PosA\",\n",
    "    \"condition1_RRAe\",\n",
    "    \"condition1_RRNe\",\n",
    "    \"condition1_RRNn\",\n",
    "    \"condition2_Feedr\",\n",
    "    \"condition2_Norm\",\n",
    "    \"condition2_PosA\",\n",
    "    \"condition2_RRAe\",\n",
    "    \"condition2_RRAn\",\n",
    "    \"condition2_RRNn\",\n",
    "]"
   ]
  },
  {
   "cell_type": "code",
   "execution_count": 69,
   "metadata": {},
   "outputs": [
    {
     "data": {
      "application/javascript": [
       "\n",
       "            setTimeout(function() {\n",
       "                var nbb_cell_id = 69;\n",
       "                var nbb_unformatted_code = \"df[\\\"totalsf\\\"] = df[\\\"totalbsmtsf\\\"] + df[\\\"firstflrsf\\\"] + df[\\\"secondflrsf\\\"]\\ndf[\\\"inter_qual_sf\\\"] = df[\\\"totalsf\\\"] * df[\\\"overallqual\\\"]\\nX = X.drop(droplist, axis=1)\\ny = np.log1p(df.saleprice)\\nX = pd.concat([X, df[\\\"totalsf\\\"], df[\\\"inter_qual_sf\\\"]], axis=1)\\nX = X.drop(columns=[\\\"totalbsmtsf\\\"])\\n\\nX_train, X_test, y_train, y_test = train_test_split(\\n    X, y, test_size=0.2, random_state=42\\n)\";\n",
       "                var nbb_formatted_code = \"df[\\\"totalsf\\\"] = df[\\\"totalbsmtsf\\\"] + df[\\\"firstflrsf\\\"] + df[\\\"secondflrsf\\\"]\\ndf[\\\"inter_qual_sf\\\"] = df[\\\"totalsf\\\"] * df[\\\"overallqual\\\"]\\nX = X.drop(droplist, axis=1)\\ny = np.log1p(df.saleprice)\\nX = pd.concat([X, df[\\\"totalsf\\\"], df[\\\"inter_qual_sf\\\"]], axis=1)\\nX = X.drop(columns=[\\\"totalbsmtsf\\\"])\\n\\nX_train, X_test, y_train, y_test = train_test_split(\\n    X, y, test_size=0.2, random_state=42\\n)\";\n",
       "                var nbb_cells = Jupyter.notebook.get_cells();\n",
       "                for (var i = 0; i < nbb_cells.length; ++i) {\n",
       "                    if (nbb_cells[i].input_prompt_number == nbb_cell_id) {\n",
       "                        if (nbb_cells[i].get_text() == nbb_unformatted_code) {\n",
       "                             nbb_cells[i].set_text(nbb_formatted_code);\n",
       "                        }\n",
       "                        break;\n",
       "                    }\n",
       "                }\n",
       "            }, 500);\n",
       "            "
      ],
      "text/plain": [
       "<IPython.core.display.Javascript object>"
      ]
     },
     "metadata": {},
     "output_type": "display_data"
    }
   ],
   "source": [
    "df[\"totalsf\"] = df[\"totalbsmtsf\"] + df[\"firstflrsf\"] + df[\"secondflrsf\"]\n",
    "df[\"inter_qual_sf\"] = df[\"totalsf\"] * df[\"overallqual\"]\n",
    "X = X.drop(droplist, axis=1)\n",
    "y = np.log1p(df.saleprice)\n",
    "X = pd.concat([X, df[\"totalsf\"], df[\"inter_qual_sf\"]], axis=1)\n",
    "X = X.drop(columns=[\"totalbsmtsf\"])\n",
    "\n",
    "X_train, X_test, y_train, y_test = train_test_split(\n",
    "    X, y, test_size=0.2, random_state=42\n",
    ")"
   ]
  },
  {
   "cell_type": "code",
   "execution_count": 70,
   "metadata": {},
   "outputs": [
    {
     "data": {
      "application/javascript": [
       "\n",
       "            setTimeout(function() {\n",
       "                var nbb_cell_id = 70;\n",
       "                var nbb_unformatted_code = \"model = LinearRegression()\\nmodel.fit(X_train, y_train)\\n\\ny_pred_train = model.predict(X_train)\\ny_pred_test = model.predict(X_test)\";\n",
       "                var nbb_formatted_code = \"model = LinearRegression()\\nmodel.fit(X_train, y_train)\\n\\ny_pred_train = model.predict(X_train)\\ny_pred_test = model.predict(X_test)\";\n",
       "                var nbb_cells = Jupyter.notebook.get_cells();\n",
       "                for (var i = 0; i < nbb_cells.length; ++i) {\n",
       "                    if (nbb_cells[i].input_prompt_number == nbb_cell_id) {\n",
       "                        if (nbb_cells[i].get_text() == nbb_unformatted_code) {\n",
       "                             nbb_cells[i].set_text(nbb_formatted_code);\n",
       "                        }\n",
       "                        break;\n",
       "                    }\n",
       "                }\n",
       "            }, 500);\n",
       "            "
      ],
      "text/plain": [
       "<IPython.core.display.Javascript object>"
      ]
     },
     "metadata": {},
     "output_type": "display_data"
    }
   ],
   "source": [
    "model = LinearRegression()\n",
    "model.fit(X_train, y_train)\n",
    "\n",
    "y_pred_train = model.predict(X_train)\n",
    "y_pred_test = model.predict(X_test)"
   ]
  },
  {
   "cell_type": "code",
   "execution_count": 71,
   "metadata": {},
   "outputs": [
    {
     "name": "stdout",
     "output_type": "stream",
     "text": [
      "R-squared for training: 0.8058361787443409\n",
      "-------Test Set Stats-------\n",
      "R-squared for testing: 0.8270812436226724\n",
      "MAE: 0.1285019679845263\n",
      "MSE: 0.03166197125711756\n",
      "RMSE: 0.1779381107495456\n",
      "MAPE: 1.0840428391488137\n"
     ]
    },
    {
     "data": {
      "application/javascript": [
       "\n",
       "            setTimeout(function() {\n",
       "                var nbb_cell_id = 71;\n",
       "                var nbb_unformatted_code = \"print(\\\"R-squared for training: {}\\\".format(model.score(X_train, y_train)))\\nprint(\\\"-------Test Set Stats-------\\\")\\nprint(\\\"R-squared for testing: {}\\\".format(model.score(X_test, y_test)))\\nprint(\\\"MAE: {}\\\".format(mean_absolute_error(y_test, y_pred_test)))\\nprint(\\\"MSE: {}\\\".format(mse(y_test, y_pred_test)))\\nprint(\\\"RMSE: {}\\\".format(rmse(y_test, y_pred_test)))\\nprint(\\\"MAPE: {}\\\".format(np.mean(np.abs((y_test - y_pred_test) / y_test)) * 100))\";\n",
       "                var nbb_formatted_code = \"print(\\\"R-squared for training: {}\\\".format(model.score(X_train, y_train)))\\nprint(\\\"-------Test Set Stats-------\\\")\\nprint(\\\"R-squared for testing: {}\\\".format(model.score(X_test, y_test)))\\nprint(\\\"MAE: {}\\\".format(mean_absolute_error(y_test, y_pred_test)))\\nprint(\\\"MSE: {}\\\".format(mse(y_test, y_pred_test)))\\nprint(\\\"RMSE: {}\\\".format(rmse(y_test, y_pred_test)))\\nprint(\\\"MAPE: {}\\\".format(np.mean(np.abs((y_test - y_pred_test) / y_test)) * 100))\";\n",
       "                var nbb_cells = Jupyter.notebook.get_cells();\n",
       "                for (var i = 0; i < nbb_cells.length; ++i) {\n",
       "                    if (nbb_cells[i].input_prompt_number == nbb_cell_id) {\n",
       "                        if (nbb_cells[i].get_text() == nbb_unformatted_code) {\n",
       "                             nbb_cells[i].set_text(nbb_formatted_code);\n",
       "                        }\n",
       "                        break;\n",
       "                    }\n",
       "                }\n",
       "            }, 500);\n",
       "            "
      ],
      "text/plain": [
       "<IPython.core.display.Javascript object>"
      ]
     },
     "metadata": {},
     "output_type": "display_data"
    }
   ],
   "source": [
    "print(\"R-squared for training: {}\".format(model.score(X_train, y_train)))\n",
    "print(\"-------Test Set Stats-------\")\n",
    "print(\"R-squared for testing: {}\".format(model.score(X_test, y_test)))\n",
    "print(\"MAE: {}\".format(mean_absolute_error(y_test, y_pred_test)))\n",
    "print(\"MSE: {}\".format(mse(y_test, y_pred_test)))\n",
    "print(\"RMSE: {}\".format(rmse(y_test, y_pred_test)))\n",
    "print(\"MAPE: {}\".format(np.mean(np.abs((y_test - y_pred_test) / y_test)) * 100))"
   ]
  },
  {
   "cell_type": "code",
   "execution_count": 72,
   "metadata": {},
   "outputs": [
    {
     "name": "stdout",
     "output_type": "stream",
     "text": [
      "Best alpha: 0.001\n",
      "R-squared for training: 0.8033088199957802\n",
      "-------Test Set Stats-------\n",
      "R-squared for testing: 0.825231921853152\n",
      "MAE: 0.12886359725020835\n",
      "MSE: 0.03200058792276111\n",
      "RMSE: 0.17888708148650956\n",
      "MAPE: 1.086592114794052\n"
     ]
    },
    {
     "data": {
      "application/javascript": [
       "\n",
       "            setTimeout(function() {\n",
       "                var nbb_cell_id = 72;\n",
       "                var nbb_unformatted_code = \"alphas = [np.power(10.0, p) for p in np.arange(-10, 40, 1)]\\nmodel_lasso = LassoCV(alphas=alphas, cv=5)\\nmodel_lasso.fit(X_train, y_train)\\n\\ny_pred = model_lasso.predict(X_test)\\nprint(\\\"Best alpha: {}\\\".format(model_lasso.alpha_))\\nprint(\\\"R-squared for training: {}\\\".format(model_lasso.score(X_train, y_train)))\\nprint(\\\"-------Test Set Stats-------\\\")\\nprint(\\\"R-squared for testing: {}\\\".format(model_lasso.score(X_test, y_test)))\\nprint(\\\"MAE: {}\\\".format(mean_absolute_error(y_test, y_pred)))\\nprint(\\\"MSE: {}\\\".format(mse(y_test, y_pred)))\\nprint(\\\"RMSE: {}\\\".format(rmse(y_test, y_pred)))\\nprint(\\\"MAPE: {}\\\".format(np.mean(np.abs((y_test - y_pred) / y_test)) * 100))\";\n",
       "                var nbb_formatted_code = \"alphas = [np.power(10.0, p) for p in np.arange(-10, 40, 1)]\\nmodel_lasso = LassoCV(alphas=alphas, cv=5)\\nmodel_lasso.fit(X_train, y_train)\\n\\ny_pred = model_lasso.predict(X_test)\\nprint(\\\"Best alpha: {}\\\".format(model_lasso.alpha_))\\nprint(\\\"R-squared for training: {}\\\".format(model_lasso.score(X_train, y_train)))\\nprint(\\\"-------Test Set Stats-------\\\")\\nprint(\\\"R-squared for testing: {}\\\".format(model_lasso.score(X_test, y_test)))\\nprint(\\\"MAE: {}\\\".format(mean_absolute_error(y_test, y_pred)))\\nprint(\\\"MSE: {}\\\".format(mse(y_test, y_pred)))\\nprint(\\\"RMSE: {}\\\".format(rmse(y_test, y_pred)))\\nprint(\\\"MAPE: {}\\\".format(np.mean(np.abs((y_test - y_pred) / y_test)) * 100))\";\n",
       "                var nbb_cells = Jupyter.notebook.get_cells();\n",
       "                for (var i = 0; i < nbb_cells.length; ++i) {\n",
       "                    if (nbb_cells[i].input_prompt_number == nbb_cell_id) {\n",
       "                        if (nbb_cells[i].get_text() == nbb_unformatted_code) {\n",
       "                             nbb_cells[i].set_text(nbb_formatted_code);\n",
       "                        }\n",
       "                        break;\n",
       "                    }\n",
       "                }\n",
       "            }, 500);\n",
       "            "
      ],
      "text/plain": [
       "<IPython.core.display.Javascript object>"
      ]
     },
     "metadata": {},
     "output_type": "display_data"
    }
   ],
   "source": [
    "alphas = [np.power(10.0, p) for p in np.arange(-10, 40, 1)]\n",
    "model_lasso = LassoCV(alphas=alphas, cv=5)\n",
    "model_lasso.fit(X_train, y_train)\n",
    "\n",
    "y_pred = model_lasso.predict(X_test)\n",
    "print(\"Best alpha: {}\".format(model_lasso.alpha_))\n",
    "print(\"R-squared for training: {}\".format(model_lasso.score(X_train, y_train)))\n",
    "print(\"-------Test Set Stats-------\")\n",
    "print(\"R-squared for testing: {}\".format(model_lasso.score(X_test, y_test)))\n",
    "print(\"MAE: {}\".format(mean_absolute_error(y_test, y_pred)))\n",
    "print(\"MSE: {}\".format(mse(y_test, y_pred)))\n",
    "print(\"RMSE: {}\".format(rmse(y_test, y_pred)))\n",
    "print(\"MAPE: {}\".format(np.mean(np.abs((y_test - y_pred) / y_test)) * 100))"
   ]
  },
  {
   "cell_type": "code",
   "execution_count": 73,
   "metadata": {},
   "outputs": [
    {
     "name": "stdout",
     "output_type": "stream",
     "text": [
      "Best alpha: 10.0\n",
      "R-squared for training: 0.8040449194525011\n",
      "-------Test Set Stats-------\n",
      "R-squared for testing: 0.8261573163516575\n",
      "MAE: 0.12851616992499937\n",
      "MSE: 0.03183114526294207\n",
      "RMSE: 0.17841285061043688\n",
      "MAPE: 1.083839689264795\n"
     ]
    },
    {
     "data": {
      "application/javascript": [
       "\n",
       "            setTimeout(function() {\n",
       "                var nbb_cell_id = 73;\n",
       "                var nbb_unformatted_code = \"model_ridge = RidgeCV(alphas=alphas, cv=5)\\nmodel_ridge.fit(X_train, y_train)\\n\\ny_pred = model_ridge.predict(X_test)\\nprint(\\\"Best alpha: {}\\\".format(model_ridge.alpha_))\\nprint(\\\"R-squared for training: {}\\\".format(model_ridge.score(X_train, y_train)))\\nprint(\\\"-------Test Set Stats-------\\\")\\nprint(\\\"R-squared for testing: {}\\\".format(model_ridge.score(X_test, y_test)))\\nprint(\\\"MAE: {}\\\".format(mean_absolute_error(y_test, y_pred)))\\nprint(\\\"MSE: {}\\\".format(mse(y_test, y_pred)))\\nprint(\\\"RMSE: {}\\\".format(rmse(y_test, y_pred)))\\nprint(\\\"MAPE: {}\\\".format(np.mean(np.abs((y_test - y_pred) / y_test)) * 100))\";\n",
       "                var nbb_formatted_code = \"model_ridge = RidgeCV(alphas=alphas, cv=5)\\nmodel_ridge.fit(X_train, y_train)\\n\\ny_pred = model_ridge.predict(X_test)\\nprint(\\\"Best alpha: {}\\\".format(model_ridge.alpha_))\\nprint(\\\"R-squared for training: {}\\\".format(model_ridge.score(X_train, y_train)))\\nprint(\\\"-------Test Set Stats-------\\\")\\nprint(\\\"R-squared for testing: {}\\\".format(model_ridge.score(X_test, y_test)))\\nprint(\\\"MAE: {}\\\".format(mean_absolute_error(y_test, y_pred)))\\nprint(\\\"MSE: {}\\\".format(mse(y_test, y_pred)))\\nprint(\\\"RMSE: {}\\\".format(rmse(y_test, y_pred)))\\nprint(\\\"MAPE: {}\\\".format(np.mean(np.abs((y_test - y_pred) / y_test)) * 100))\";\n",
       "                var nbb_cells = Jupyter.notebook.get_cells();\n",
       "                for (var i = 0; i < nbb_cells.length; ++i) {\n",
       "                    if (nbb_cells[i].input_prompt_number == nbb_cell_id) {\n",
       "                        if (nbb_cells[i].get_text() == nbb_unformatted_code) {\n",
       "                             nbb_cells[i].set_text(nbb_formatted_code);\n",
       "                        }\n",
       "                        break;\n",
       "                    }\n",
       "                }\n",
       "            }, 500);\n",
       "            "
      ],
      "text/plain": [
       "<IPython.core.display.Javascript object>"
      ]
     },
     "metadata": {},
     "output_type": "display_data"
    }
   ],
   "source": [
    "model_ridge = RidgeCV(alphas=alphas, cv=5)\n",
    "model_ridge.fit(X_train, y_train)\n",
    "\n",
    "y_pred = model_ridge.predict(X_test)\n",
    "print(\"Best alpha: {}\".format(model_ridge.alpha_))\n",
    "print(\"R-squared for training: {}\".format(model_ridge.score(X_train, y_train)))\n",
    "print(\"-------Test Set Stats-------\")\n",
    "print(\"R-squared for testing: {}\".format(model_ridge.score(X_test, y_test)))\n",
    "print(\"MAE: {}\".format(mean_absolute_error(y_test, y_pred)))\n",
    "print(\"MSE: {}\".format(mse(y_test, y_pred)))\n",
    "print(\"RMSE: {}\".format(rmse(y_test, y_pred)))\n",
    "print(\"MAPE: {}\".format(np.mean(np.abs((y_test - y_pred) / y_test)) * 100))"
   ]
  },
  {
   "cell_type": "code",
   "execution_count": 74,
   "metadata": {},
   "outputs": [
    {
     "name": "stdout",
     "output_type": "stream",
     "text": [
      "Best alpha: 0.001\n",
      "R-squared for training: 0.8045127385693089\n",
      "-------Test Set Stats-------\n",
      "R-squared for testing: 0.8258345336538371\n",
      "MAE: 0.12874842121520763\n",
      "MSE: 0.031890247795916454\n",
      "RMSE: 0.17857840797788643\n",
      "MAPE: 1.0857655009595566\n"
     ]
    },
    {
     "data": {
      "application/javascript": [
       "\n",
       "            setTimeout(function() {\n",
       "                var nbb_cell_id = 74;\n",
       "                var nbb_unformatted_code = \"model_elastic = ElasticNetCV(alphas=alphas, cv=5)\\nmodel_elastic.fit(X_train, y_train)\\n\\ny_pred = model_elastic.predict(X_test)\\nprint(\\\"Best alpha: {}\\\".format(model_elastic.alpha_))\\nprint(\\\"R-squared for training: {}\\\".format(model_elastic.score(X_train, y_train)))\\nprint(\\\"-------Test Set Stats-------\\\")\\nprint(\\\"R-squared for testing: {}\\\".format(model_elastic.score(X_test, y_test)))\\nprint(\\\"MAE: {}\\\".format(mean_absolute_error(y_test, y_pred)))\\nprint(\\\"MSE: {}\\\".format(mse(y_test, y_pred)))\\nprint(\\\"RMSE: {}\\\".format(rmse(y_test, y_pred)))\\nprint(\\\"MAPE: {}\\\".format(np.mean(np.abs((y_test - y_pred) / y_test)) * 100))\";\n",
       "                var nbb_formatted_code = \"model_elastic = ElasticNetCV(alphas=alphas, cv=5)\\nmodel_elastic.fit(X_train, y_train)\\n\\ny_pred = model_elastic.predict(X_test)\\nprint(\\\"Best alpha: {}\\\".format(model_elastic.alpha_))\\nprint(\\\"R-squared for training: {}\\\".format(model_elastic.score(X_train, y_train)))\\nprint(\\\"-------Test Set Stats-------\\\")\\nprint(\\\"R-squared for testing: {}\\\".format(model_elastic.score(X_test, y_test)))\\nprint(\\\"MAE: {}\\\".format(mean_absolute_error(y_test, y_pred)))\\nprint(\\\"MSE: {}\\\".format(mse(y_test, y_pred)))\\nprint(\\\"RMSE: {}\\\".format(rmse(y_test, y_pred)))\\nprint(\\\"MAPE: {}\\\".format(np.mean(np.abs((y_test - y_pred) / y_test)) * 100))\";\n",
       "                var nbb_cells = Jupyter.notebook.get_cells();\n",
       "                for (var i = 0; i < nbb_cells.length; ++i) {\n",
       "                    if (nbb_cells[i].input_prompt_number == nbb_cell_id) {\n",
       "                        if (nbb_cells[i].get_text() == nbb_unformatted_code) {\n",
       "                             nbb_cells[i].set_text(nbb_formatted_code);\n",
       "                        }\n",
       "                        break;\n",
       "                    }\n",
       "                }\n",
       "            }, 500);\n",
       "            "
      ],
      "text/plain": [
       "<IPython.core.display.Javascript object>"
      ]
     },
     "metadata": {},
     "output_type": "display_data"
    }
   ],
   "source": [
    "model_elastic = ElasticNetCV(alphas=alphas, cv=5)\n",
    "model_elastic.fit(X_train, y_train)\n",
    "\n",
    "y_pred = model_elastic.predict(X_test)\n",
    "print(\"Best alpha: {}\".format(model_elastic.alpha_))\n",
    "print(\"R-squared for training: {}\".format(model_elastic.score(X_train, y_train)))\n",
    "print(\"-------Test Set Stats-------\")\n",
    "print(\"R-squared for testing: {}\".format(model_elastic.score(X_test, y_test)))\n",
    "print(\"MAE: {}\".format(mean_absolute_error(y_test, y_pred)))\n",
    "print(\"MSE: {}\".format(mse(y_test, y_pred)))\n",
    "print(\"RMSE: {}\".format(rmse(y_test, y_pred)))\n",
    "print(\"MAPE: {}\".format(np.mean(np.abs((y_test - y_pred) / y_test)) * 100))"
   ]
  },
  {
   "cell_type": "markdown",
   "metadata": {},
   "source": [
    "In these model's, the national average 30 year mortage rate corresponding to the month and year sold was added as a feature. the improvement to the model was negligalbe."
   ]
  },
  {
   "cell_type": "code",
   "execution_count": null,
   "metadata": {},
   "outputs": [],
   "source": []
  }
 ],
 "metadata": {
  "kernelspec": {
   "display_name": "Python 3",
   "language": "python",
   "name": "python3"
  },
  "language_info": {
   "codemirror_mode": {
    "name": "ipython",
    "version": 3
   },
   "file_extension": ".py",
   "mimetype": "text/x-python",
   "name": "python",
   "nbconvert_exporter": "python",
   "pygments_lexer": "ipython3",
   "version": "3.8.3"
  }
 },
 "nbformat": 4,
 "nbformat_minor": 4
}
