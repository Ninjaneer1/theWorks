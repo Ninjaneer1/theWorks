{
 "cells": [
  {
   "cell_type": "code",
   "execution_count": 1,
   "metadata": {},
   "outputs": [],
   "source": [
    "\n",
    "# Numpy and pandas as usual\n",
    "import numpy as np\n",
    "import pandas as pd\n",
    "\n",
    "# Scikit-Learn for fitting models\n",
    "from sklearn.preprocessing import PolynomialFeatures\n",
    "from sklearn.linear_model import LinearRegression\n",
    "from sklearn.model_selection import cross_val_score\n",
    "from sklearn.metrics import mean_squared_error\n",
    "\n",
    "# For plotting in the notebook\n",
    "import matplotlib\n",
    "import matplotlib.pyplot as plt\n",
    "%matplotlib inline\n",
    "\n",
    "# Default parameters for plots\n",
    "matplotlib.rcParams['font.size'] = 12\n",
    "matplotlib.rcParams['figure.titlesize'] = 16\n",
    "matplotlib.rcParams['figure.figsize'] = [9, 7]"
   ]
  },
  {
   "cell_type": "code",
   "execution_count": 16,
   "metadata": {},
   "outputs": [],
   "source": [
    "\n",
    "# Set the random seed for reproducible results\n",
    "np.random.seed(42)\n",
    "\n",
    "# \"True\" generating function representing a process in real life\n",
    "def true_gen(x):\n",
    "    y = np.sin(1.2 * x * np.pi) \n",
    "    return(y)\n",
    "\n",
    "# x values and y value with a small amount of random noise\n",
    "x = np.sort(np.random.rand(120))\n",
    "y = true_gen(x) + 0.1 * np.random.randn(len(x))"
   ]
  },
  {
   "cell_type": "code",
   "execution_count": 17,
   "metadata": {},
   "outputs": [],
   "source": [
    "# Random indices for creating training and testing sets\n",
    "random_ind = np.random.choice(list(range(120)), size = 120, replace=False)\n",
    "xt = x[random_ind]\n",
    "yt = y[random_ind]\n",
    "\n",
    "# Training and testing observations\n",
    "train = xt[:int(0.7 * len(x))]\n",
    "test = xt[int(0.7 * len(x)):]\n",
    "\n",
    "y_train = yt[:int(0.7 * len(y))]\n",
    "y_test = yt[int(0.7 * len(y)):]\n",
    "\n",
    "# Model the true curve\n",
    "x_linspace = np.linspace(0, 1, 1000)\n",
    "y_true = true_gen(x_linspace)"
   ]
  },
  {
   "cell_type": "code",
   "execution_count": 20,
   "metadata": {},
   "outputs": [
    {
     "data": {
      "text/plain": [
       "array([0.00552212, 0.02058449, 0.02541913, 0.03142919, 0.03438852,\n",
       "       0.04522729, 0.04645041, 0.05808361, 0.06355835, 0.06505159,\n",
       "       0.07404465, 0.07455064, 0.07697991, 0.0884925 , 0.09767211,\n",
       "       0.10789143, 0.11586906, 0.11959425, 0.12203823, 0.13949386,\n",
       "       0.14092422, 0.15599452, 0.15601864, 0.16122129, 0.17052412,\n",
       "       0.18182497, 0.18340451, 0.18485446, 0.18657006, 0.19598286,\n",
       "       0.19871568, 0.19967378, 0.21233911, 0.22879817, 0.24929223,\n",
       "       0.25877998, 0.27134903, 0.28093451, 0.28975145, 0.29122914,\n",
       "       0.29214465, 0.30424224, 0.30461377, 0.31098232, 0.31171108,\n",
       "       0.31435598, 0.32518332, 0.32533033, 0.33089802, 0.35675333,\n",
       "       0.35846573, 0.36636184, 0.37454012, 0.38867729, 0.41038292,\n",
       "       0.42754102, 0.43194502, 0.44015249, 0.45606998, 0.47221493,\n",
       "       0.4937956 , 0.49517691, 0.50857069, 0.51423444, 0.52006802,\n",
       "       0.52273283, 0.52475643, 0.53934224, 0.54269608, 0.54671028,\n",
       "       0.5612772 , 0.59241457, 0.59789998, 0.59865848, 0.60111501,\n",
       "       0.60754485, 0.61185289, 0.62329813, 0.63340376, 0.63641041,\n",
       "       0.63755747, 0.66252228, 0.68423303, 0.70685734, 0.70807258,\n",
       "       0.71324479, 0.72900717, 0.72960618, 0.73199394, 0.75555114,\n",
       "       0.76078505, 0.77096718, 0.77127035, 0.77224477, 0.77513282,\n",
       "       0.78517596, 0.80219698, 0.80367208, 0.80812038, 0.80839735,\n",
       "       0.81546143, 0.82873751, 0.83244264, 0.86310343, 0.86617615,\n",
       "       0.87146059, 0.88721274, 0.892559  , 0.89482735, 0.90756647,\n",
       "       0.9093204 , 0.92187424, 0.92969765, 0.93949894, 0.94888554,\n",
       "       0.95071431, 0.96563203, 0.96958463, 0.96990985, 0.98688694])"
      ]
     },
     "execution_count": 20,
     "metadata": {},
     "output_type": "execute_result"
    }
   ],
   "source": [
    "x"
   ]
  },
  {
   "cell_type": "code",
   "execution_count": null,
   "metadata": {},
   "outputs": [],
   "source": []
  }
 ],
 "metadata": {
  "kernelspec": {
   "display_name": "Python 3",
   "language": "python",
   "name": "python3"
  },
  "language_info": {
   "codemirror_mode": {
    "name": "ipython",
    "version": 3
   },
   "file_extension": ".py",
   "mimetype": "text/x-python",
   "name": "python",
   "nbconvert_exporter": "python",
   "pygments_lexer": "ipython3",
   "version": "3.8.3"
  }
 },
 "nbformat": 4,
 "nbformat_minor": 4
}
