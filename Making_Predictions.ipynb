{
 "cells": [
  {
   "cell_type": "code",
   "execution_count": 1,
   "metadata": {},
   "outputs": [
    {
     "data": {
      "application/javascript": [
       "\n",
       "            setTimeout(function() {\n",
       "                var nbb_cell_id = 1;\n",
       "                var nbb_unformatted_code = \"%reload_ext nb_black\";\n",
       "                var nbb_formatted_code = \"%reload_ext nb_black\";\n",
       "                var nbb_cells = Jupyter.notebook.get_cells();\n",
       "                for (var i = 0; i < nbb_cells.length; ++i) {\n",
       "                    if (nbb_cells[i].input_prompt_number == nbb_cell_id) {\n",
       "                        if (nbb_cells[i].get_text() == nbb_unformatted_code) {\n",
       "                             nbb_cells[i].set_text(nbb_formatted_code);\n",
       "                        }\n",
       "                        break;\n",
       "                    }\n",
       "                }\n",
       "            }, 500);\n",
       "            "
      ],
      "text/plain": [
       "<IPython.core.display.Javascript object>"
      ]
     },
     "metadata": {},
     "output_type": "display_data"
    }
   ],
   "source": [
    "%reload_ext nb_black"
   ]
  },
  {
   "cell_type": "markdown",
   "metadata": {},
   "source": [
    "* Load the houseprices data from Thinkful's database.\n",
    "* Split your data into train and test sets.\n",
    "* Estimate your model from the previous checkpoint in the training set. Assess the goodness of fit of your model.\n",
    "* Predict the house prices in the test set, and evaluate the performance of your model using the metrics previously mentioned in this checkpoint.\n",
    "* Is the performance of your model satisfactory? Why or why not?\n",
    "* Try to improve your model in terms of predictive performance by adding or removing some variables."
   ]
  },
  {
   "cell_type": "code",
   "execution_count": 18,
   "metadata": {},
   "outputs": [
    {
     "data": {
      "application/javascript": [
       "\n",
       "            setTimeout(function() {\n",
       "                var nbb_cell_id = 18;\n",
       "                var nbb_unformatted_code = \"import numpy as np\\nimport pandas as pd\\nimport matplotlib.pyplot as plt\\nfrom sqlalchemy import create_engine\\nimport statsmodels.api as sm\\nfrom sklearn.model_selection import train_test_split\\nfrom sklearn.metrics import mean_absolute_error\\nfrom statsmodels.tools.eval_measures import mse, rmse\\nimport seaborn as sns\\nimport warnings\\n\\nwarnings.filterwarnings(\\\"ignore\\\")\\nimport config\";\n",
       "                var nbb_formatted_code = \"import numpy as np\\nimport pandas as pd\\nimport matplotlib.pyplot as plt\\nfrom sqlalchemy import create_engine\\nimport statsmodels.api as sm\\nfrom sklearn.model_selection import train_test_split\\nfrom sklearn.metrics import mean_absolute_error\\nfrom statsmodels.tools.eval_measures import mse, rmse\\nimport seaborn as sns\\nimport warnings\\n\\nwarnings.filterwarnings(\\\"ignore\\\")\\nimport config\";\n",
       "                var nbb_cells = Jupyter.notebook.get_cells();\n",
       "                for (var i = 0; i < nbb_cells.length; ++i) {\n",
       "                    if (nbb_cells[i].input_prompt_number == nbb_cell_id) {\n",
       "                        if (nbb_cells[i].get_text() == nbb_unformatted_code) {\n",
       "                             nbb_cells[i].set_text(nbb_formatted_code);\n",
       "                        }\n",
       "                        break;\n",
       "                    }\n",
       "                }\n",
       "            }, 500);\n",
       "            "
      ],
      "text/plain": [
       "<IPython.core.display.Javascript object>"
      ]
     },
     "metadata": {},
     "output_type": "display_data"
    }
   ],
   "source": [
    "import numpy as np\n",
    "import pandas as pd\n",
    "import matplotlib.pyplot as plt\n",
    "from sqlalchemy import create_engine\n",
    "import statsmodels.api as sm\n",
    "from sklearn.model_selection import train_test_split\n",
    "from sklearn.metrics import mean_absolute_error\n",
    "from statsmodels.tools.eval_measures import mse, rmse\n",
    "import seaborn as sns\n",
    "import warnings\n",
    "\n",
    "warnings.filterwarnings(\"ignore\")\n",
    "import config"
   ]
  },
  {
   "cell_type": "code",
   "execution_count": 36,
   "metadata": {},
   "outputs": [
    {
     "data": {
      "application/javascript": [
       "\n",
       "            setTimeout(function() {\n",
       "                var nbb_cell_id = 36;\n",
       "                var nbb_unformatted_code = \"postgres_user = config.user\\npostgres_pw = config.password\\npostgres_host = config.host\\npostgres_port = config.port\\npostgres_db = \\\"houseprices\\\"\\n\\nengine = create_engine(\\n    \\\"postgresql://{}:{}@{}:{}/{}\\\".format(\\n        postgres_user, postgres_pw, postgres_host, postgres_port, postgres_db\\n    )\\n)\\n\\ndf = pd.read_sql_query(\\\"select * from houseprices\\\", con=engine)\\n\\n# No need for an open connection,\\n# because you're only doing a single query\\nengine.dispose()\";\n",
       "                var nbb_formatted_code = \"postgres_user = config.user\\npostgres_pw = config.password\\npostgres_host = config.host\\npostgres_port = config.port\\npostgres_db = \\\"houseprices\\\"\\n\\nengine = create_engine(\\n    \\\"postgresql://{}:{}@{}:{}/{}\\\".format(\\n        postgres_user, postgres_pw, postgres_host, postgres_port, postgres_db\\n    )\\n)\\n\\ndf = pd.read_sql_query(\\\"select * from houseprices\\\", con=engine)\\n\\n# No need for an open connection,\\n# because you're only doing a single query\\nengine.dispose()\";\n",
       "                var nbb_cells = Jupyter.notebook.get_cells();\n",
       "                for (var i = 0; i < nbb_cells.length; ++i) {\n",
       "                    if (nbb_cells[i].input_prompt_number == nbb_cell_id) {\n",
       "                        if (nbb_cells[i].get_text() == nbb_unformatted_code) {\n",
       "                             nbb_cells[i].set_text(nbb_formatted_code);\n",
       "                        }\n",
       "                        break;\n",
       "                    }\n",
       "                }\n",
       "            }, 500);\n",
       "            "
      ],
      "text/plain": [
       "<IPython.core.display.Javascript object>"
      ]
     },
     "metadata": {},
     "output_type": "display_data"
    }
   ],
   "source": [
    "postgres_user = config.user\n",
    "postgres_pw = config.password\n",
    "postgres_host = config.host\n",
    "postgres_port = config.port\n",
    "postgres_db = \"houseprices\"\n",
    "\n",
    "engine = create_engine(\n",
    "    \"postgresql://{}:{}@{}:{}/{}\".format(\n",
    "        postgres_user, postgres_pw, postgres_host, postgres_port, postgres_db\n",
    "    )\n",
    ")\n",
    "\n",
    "df = pd.read_sql_query(\"select * from houseprices\", con=engine)\n",
    "\n",
    "# No need for an open connection,\n",
    "# because you're only doing a single query\n",
    "engine.dispose()"
   ]
  },
  {
   "cell_type": "code",
   "execution_count": 37,
   "metadata": {},
   "outputs": [
    {
     "data": {
      "application/javascript": [
       "\n",
       "            setTimeout(function() {\n",
       "                var nbb_cell_id = 37;\n",
       "                var nbb_unformatted_code = \"df = pd.concat(\\n    [df, pd.get_dummies(df.condition1, prefix=\\\"condition1\\\", drop_first=True)], axis=1\\n)\\ndf = pd.concat(\\n    [df, pd.get_dummies(df.condition2, prefix=\\\"condition2\\\", drop_first=True)], axis=1\\n)\\ndummy_cols = list(\\n    pd.get_dummies(df.condition1, prefix=\\\"condition1\\\", drop_first=True).columns\\n)\\ndummy_cols = dummy_cols + list(\\n    pd.get_dummies(df.condition2, prefix=\\\"condition2\\\", drop_first=True).columns\\n)\";\n",
       "                var nbb_formatted_code = \"df = pd.concat(\\n    [df, pd.get_dummies(df.condition1, prefix=\\\"condition1\\\", drop_first=True)], axis=1\\n)\\ndf = pd.concat(\\n    [df, pd.get_dummies(df.condition2, prefix=\\\"condition2\\\", drop_first=True)], axis=1\\n)\\ndummy_cols = list(\\n    pd.get_dummies(df.condition1, prefix=\\\"condition1\\\", drop_first=True).columns\\n)\\ndummy_cols = dummy_cols + list(\\n    pd.get_dummies(df.condition2, prefix=\\\"condition2\\\", drop_first=True).columns\\n)\";\n",
       "                var nbb_cells = Jupyter.notebook.get_cells();\n",
       "                for (var i = 0; i < nbb_cells.length; ++i) {\n",
       "                    if (nbb_cells[i].input_prompt_number == nbb_cell_id) {\n",
       "                        if (nbb_cells[i].get_text() == nbb_unformatted_code) {\n",
       "                             nbb_cells[i].set_text(nbb_formatted_code);\n",
       "                        }\n",
       "                        break;\n",
       "                    }\n",
       "                }\n",
       "            }, 500);\n",
       "            "
      ],
      "text/plain": [
       "<IPython.core.display.Javascript object>"
      ]
     },
     "metadata": {},
     "output_type": "display_data"
    }
   ],
   "source": [
    "df = pd.concat(\n",
    "    [df, pd.get_dummies(df.condition1, prefix=\"condition1\", drop_first=True)], axis=1\n",
    ")\n",
    "df = pd.concat(\n",
    "    [df, pd.get_dummies(df.condition2, prefix=\"condition2\", drop_first=True)], axis=1\n",
    ")\n",
    "dummy_cols = list(\n",
    "    pd.get_dummies(df.condition1, prefix=\"condition1\", drop_first=True).columns\n",
    ")\n",
    "dummy_cols = dummy_cols + list(\n",
    "    pd.get_dummies(df.condition2, prefix=\"condition2\", drop_first=True).columns\n",
    ")"
   ]
  },
  {
   "cell_type": "code",
   "execution_count": 38,
   "metadata": {},
   "outputs": [
    {
     "data": {
      "application/javascript": [
       "\n",
       "            setTimeout(function() {\n",
       "                var nbb_cell_id = 38;\n",
       "                var nbb_unformatted_code = \"X = df[\\n    [\\n        \\\"overallqual\\\",\\n        \\\"grlivarea\\\",\\n        \\\"garagecars\\\",\\n        \\\"totalbsmtsf\\\",\\n    ]\\n    + dummy_cols\\n]\";\n",
       "                var nbb_formatted_code = \"X = df[\\n    [\\n        \\\"overallqual\\\",\\n        \\\"grlivarea\\\",\\n        \\\"garagecars\\\",\\n        \\\"totalbsmtsf\\\",\\n    ]\\n    + dummy_cols\\n]\";\n",
       "                var nbb_cells = Jupyter.notebook.get_cells();\n",
       "                for (var i = 0; i < nbb_cells.length; ++i) {\n",
       "                    if (nbb_cells[i].input_prompt_number == nbb_cell_id) {\n",
       "                        if (nbb_cells[i].get_text() == nbb_unformatted_code) {\n",
       "                             nbb_cells[i].set_text(nbb_formatted_code);\n",
       "                        }\n",
       "                        break;\n",
       "                    }\n",
       "                }\n",
       "            }, 500);\n",
       "            "
      ],
      "text/plain": [
       "<IPython.core.display.Javascript object>"
      ]
     },
     "metadata": {},
     "output_type": "display_data"
    }
   ],
   "source": [
    "X = df[\n",
    "    [\n",
    "        \"overallqual\",\n",
    "        \"grlivarea\",\n",
    "        \"garagecars\",\n",
    "        \"totalbsmtsf\",\n",
    "    ]\n",
    "    + dummy_cols\n",
    "]"
   ]
  },
  {
   "cell_type": "code",
   "execution_count": 39,
   "metadata": {},
   "outputs": [
    {
     "data": {
      "application/javascript": [
       "\n",
       "            setTimeout(function() {\n",
       "                var nbb_cell_id = 39;\n",
       "                var nbb_unformatted_code = \"droplist = [\\n    \\\"condition1_PosN\\\",\\n    \\\"condition1_RRAn\\\",\\n    \\\"condition1_Feedr\\\",\\n    \\\"condition1_PosA\\\",\\n    \\\"condition1_RRAe\\\",\\n    \\\"condition1_RRNe\\\",\\n    \\\"condition1_RRNn\\\",\\n    \\\"condition2_Feedr\\\",\\n    \\\"condition2_Norm\\\",\\n    \\\"condition2_PosA\\\",\\n    \\\"condition2_RRAe\\\",\\n    \\\"condition2_RRAn\\\",\\n    \\\"condition2_RRNn\\\",\\n]\";\n",
       "                var nbb_formatted_code = \"droplist = [\\n    \\\"condition1_PosN\\\",\\n    \\\"condition1_RRAn\\\",\\n    \\\"condition1_Feedr\\\",\\n    \\\"condition1_PosA\\\",\\n    \\\"condition1_RRAe\\\",\\n    \\\"condition1_RRNe\\\",\\n    \\\"condition1_RRNn\\\",\\n    \\\"condition2_Feedr\\\",\\n    \\\"condition2_Norm\\\",\\n    \\\"condition2_PosA\\\",\\n    \\\"condition2_RRAe\\\",\\n    \\\"condition2_RRAn\\\",\\n    \\\"condition2_RRNn\\\",\\n]\";\n",
       "                var nbb_cells = Jupyter.notebook.get_cells();\n",
       "                for (var i = 0; i < nbb_cells.length; ++i) {\n",
       "                    if (nbb_cells[i].input_prompt_number == nbb_cell_id) {\n",
       "                        if (nbb_cells[i].get_text() == nbb_unformatted_code) {\n",
       "                             nbb_cells[i].set_text(nbb_formatted_code);\n",
       "                        }\n",
       "                        break;\n",
       "                    }\n",
       "                }\n",
       "            }, 500);\n",
       "            "
      ],
      "text/plain": [
       "<IPython.core.display.Javascript object>"
      ]
     },
     "metadata": {},
     "output_type": "display_data"
    }
   ],
   "source": [
    "droplist = [\n",
    "    \"condition1_PosN\",\n",
    "    \"condition1_RRAn\",\n",
    "    \"condition1_Feedr\",\n",
    "    \"condition1_PosA\",\n",
    "    \"condition1_RRAe\",\n",
    "    \"condition1_RRNe\",\n",
    "    \"condition1_RRNn\",\n",
    "    \"condition2_Feedr\",\n",
    "    \"condition2_Norm\",\n",
    "    \"condition2_PosA\",\n",
    "    \"condition2_RRAe\",\n",
    "    \"condition2_RRAn\",\n",
    "    \"condition2_RRNn\",\n",
    "]"
   ]
  },
  {
   "cell_type": "code",
   "execution_count": 40,
   "metadata": {},
   "outputs": [
    {
     "data": {
      "application/javascript": [
       "\n",
       "            setTimeout(function() {\n",
       "                var nbb_cell_id = 40;\n",
       "                var nbb_unformatted_code = \"y = df.saleprice\\nX = X.drop(droplist, axis=1)\\nX = sm.add_constant(X)\\nX_train, X_test, y_train, y_test = train_test_split(\\n    X, y, test_size=0.2, random_state=42\\n)\";\n",
       "                var nbb_formatted_code = \"y = df.saleprice\\nX = X.drop(droplist, axis=1)\\nX = sm.add_constant(X)\\nX_train, X_test, y_train, y_test = train_test_split(\\n    X, y, test_size=0.2, random_state=42\\n)\";\n",
       "                var nbb_cells = Jupyter.notebook.get_cells();\n",
       "                for (var i = 0; i < nbb_cells.length; ++i) {\n",
       "                    if (nbb_cells[i].input_prompt_number == nbb_cell_id) {\n",
       "                        if (nbb_cells[i].get_text() == nbb_unformatted_code) {\n",
       "                             nbb_cells[i].set_text(nbb_formatted_code);\n",
       "                        }\n",
       "                        break;\n",
       "                    }\n",
       "                }\n",
       "            }, 500);\n",
       "            "
      ],
      "text/plain": [
       "<IPython.core.display.Javascript object>"
      ]
     },
     "metadata": {},
     "output_type": "display_data"
    }
   ],
   "source": [
    "y = df.saleprice\n",
    "X = X.drop(droplist, axis=1)\n",
    "X = sm.add_constant(X)\n",
    "X_train, X_test, y_train, y_test = train_test_split(\n",
    "    X, y, test_size=0.2, random_state=42\n",
    ")"
   ]
  },
  {
   "cell_type": "code",
   "execution_count": 41,
   "metadata": {},
   "outputs": [
    {
     "data": {
      "text/html": [
       "<table class=\"simpletable\">\n",
       "<caption>OLS Regression Results</caption>\n",
       "<tr>\n",
       "  <th>Dep. Variable:</th>        <td>saleprice</td>    <th>  R-squared:         </th> <td>   0.760</td> \n",
       "</tr>\n",
       "<tr>\n",
       "  <th>Model:</th>                   <td>OLS</td>       <th>  Adj. R-squared:    </th> <td>   0.758</td> \n",
       "</tr>\n",
       "<tr>\n",
       "  <th>Method:</th>             <td>Least Squares</td>  <th>  F-statistic:       </th> <td>   611.1</td> \n",
       "</tr>\n",
       "<tr>\n",
       "  <th>Date:</th>             <td>Sun, 20 Dec 2020</td> <th>  Prob (F-statistic):</th>  <td>  0.00</td>  \n",
       "</tr>\n",
       "<tr>\n",
       "  <th>Time:</th>                 <td>16:05:36</td>     <th>  Log-Likelihood:    </th> <td> -13976.</td> \n",
       "</tr>\n",
       "<tr>\n",
       "  <th>No. Observations:</th>      <td>  1168</td>      <th>  AIC:               </th> <td>2.797e+04</td>\n",
       "</tr>\n",
       "<tr>\n",
       "  <th>Df Residuals:</th>          <td>  1161</td>      <th>  BIC:               </th> <td>2.800e+04</td>\n",
       "</tr>\n",
       "<tr>\n",
       "  <th>Df Model:</th>              <td>     6</td>      <th>                     </th>     <td> </td>    \n",
       "</tr>\n",
       "<tr>\n",
       "  <th>Covariance Type:</th>      <td>nonrobust</td>    <th>                     </th>     <td> </td>    \n",
       "</tr>\n",
       "</table>\n",
       "<table class=\"simpletable\">\n",
       "<tr>\n",
       "         <td></td>            <th>coef</th>     <th>std err</th>      <th>t</th>      <th>P>|t|</th>  <th>[0.025</th>    <th>0.975]</th>  \n",
       "</tr>\n",
       "<tr>\n",
       "  <th>const</th>           <td>-1.093e+05</td> <td> 5719.257</td> <td>  -19.118</td> <td> 0.000</td> <td>-1.21e+05</td> <td>-9.81e+04</td>\n",
       "</tr>\n",
       "<tr>\n",
       "  <th>overallqual</th>     <td> 2.382e+04</td> <td> 1176.831</td> <td>   20.241</td> <td> 0.000</td> <td> 2.15e+04</td> <td> 2.61e+04</td>\n",
       "</tr>\n",
       "<tr>\n",
       "  <th>grlivarea</th>       <td>   45.1131</td> <td>    2.731</td> <td>   16.520</td> <td> 0.000</td> <td>   39.755</td> <td>   50.471</td>\n",
       "</tr>\n",
       "<tr>\n",
       "  <th>garagecars</th>      <td> 1.909e+04</td> <td> 1928.064</td> <td>    9.900</td> <td> 0.000</td> <td> 1.53e+04</td> <td> 2.29e+04</td>\n",
       "</tr>\n",
       "<tr>\n",
       "  <th>totalbsmtsf</th>     <td>   29.1718</td> <td>    3.049</td> <td>    9.567</td> <td> 0.000</td> <td>   23.189</td> <td>   35.155</td>\n",
       "</tr>\n",
       "<tr>\n",
       "  <th>condition1_Norm</th> <td> 1.357e+04</td> <td> 3261.066</td> <td>    4.161</td> <td> 0.000</td> <td> 7170.199</td> <td>    2e+04</td>\n",
       "</tr>\n",
       "<tr>\n",
       "  <th>condition2_PosN</th> <td>-1.298e+05</td> <td> 2.76e+04</td> <td>   -4.709</td> <td> 0.000</td> <td>-1.84e+05</td> <td>-7.57e+04</td>\n",
       "</tr>\n",
       "</table>\n",
       "<table class=\"simpletable\">\n",
       "<tr>\n",
       "  <th>Omnibus:</th>       <td>319.495</td> <th>  Durbin-Watson:     </th> <td>   2.081</td> \n",
       "</tr>\n",
       "<tr>\n",
       "  <th>Prob(Omnibus):</th> <td> 0.000</td>  <th>  Jarque-Bera (JB):  </th> <td>21259.964</td>\n",
       "</tr>\n",
       "<tr>\n",
       "  <th>Skew:</th>          <td>-0.256</td>  <th>  Prob(JB):          </th> <td>    0.00</td> \n",
       "</tr>\n",
       "<tr>\n",
       "  <th>Kurtosis:</th>      <td>23.895</td>  <th>  Cond. No.          </th> <td>4.82e+04</td> \n",
       "</tr>\n",
       "</table><br/><br/>Warnings:<br/>[1] Standard Errors assume that the covariance matrix of the errors is correctly specified.<br/>[2] The condition number is large, 4.82e+04. This might indicate that there are<br/>strong multicollinearity or other numerical problems."
      ],
      "text/plain": [
       "<class 'statsmodels.iolib.summary.Summary'>\n",
       "\"\"\"\n",
       "                            OLS Regression Results                            \n",
       "==============================================================================\n",
       "Dep. Variable:              saleprice   R-squared:                       0.760\n",
       "Model:                            OLS   Adj. R-squared:                  0.758\n",
       "Method:                 Least Squares   F-statistic:                     611.1\n",
       "Date:                Sun, 20 Dec 2020   Prob (F-statistic):               0.00\n",
       "Time:                        16:05:36   Log-Likelihood:                -13976.\n",
       "No. Observations:                1168   AIC:                         2.797e+04\n",
       "Df Residuals:                    1161   BIC:                         2.800e+04\n",
       "Df Model:                           6                                         \n",
       "Covariance Type:            nonrobust                                         \n",
       "===================================================================================\n",
       "                      coef    std err          t      P>|t|      [0.025      0.975]\n",
       "-----------------------------------------------------------------------------------\n",
       "const           -1.093e+05   5719.257    -19.118      0.000   -1.21e+05   -9.81e+04\n",
       "overallqual      2.382e+04   1176.831     20.241      0.000    2.15e+04    2.61e+04\n",
       "grlivarea          45.1131      2.731     16.520      0.000      39.755      50.471\n",
       "garagecars       1.909e+04   1928.064      9.900      0.000    1.53e+04    2.29e+04\n",
       "totalbsmtsf        29.1718      3.049      9.567      0.000      23.189      35.155\n",
       "condition1_Norm  1.357e+04   3261.066      4.161      0.000    7170.199       2e+04\n",
       "condition2_PosN -1.298e+05   2.76e+04     -4.709      0.000   -1.84e+05   -7.57e+04\n",
       "==============================================================================\n",
       "Omnibus:                      319.495   Durbin-Watson:                   2.081\n",
       "Prob(Omnibus):                  0.000   Jarque-Bera (JB):            21259.964\n",
       "Skew:                          -0.256   Prob(JB):                         0.00\n",
       "Kurtosis:                      23.895   Cond. No.                     4.82e+04\n",
       "==============================================================================\n",
       "\n",
       "Warnings:\n",
       "[1] Standard Errors assume that the covariance matrix of the errors is correctly specified.\n",
       "[2] The condition number is large, 4.82e+04. This might indicate that there are\n",
       "strong multicollinearity or other numerical problems.\n",
       "\"\"\""
      ]
     },
     "execution_count": 41,
     "metadata": {},
     "output_type": "execute_result"
    },
    {
     "data": {
      "application/javascript": [
       "\n",
       "            setTimeout(function() {\n",
       "                var nbb_cell_id = 41;\n",
       "                var nbb_unformatted_code = \"model = sm.OLS(y_train, X_train).fit()\\nmodel.summary()\";\n",
       "                var nbb_formatted_code = \"model = sm.OLS(y_train, X_train).fit()\\nmodel.summary()\";\n",
       "                var nbb_cells = Jupyter.notebook.get_cells();\n",
       "                for (var i = 0; i < nbb_cells.length; ++i) {\n",
       "                    if (nbb_cells[i].input_prompt_number == nbb_cell_id) {\n",
       "                        if (nbb_cells[i].get_text() == nbb_unformatted_code) {\n",
       "                             nbb_cells[i].set_text(nbb_formatted_code);\n",
       "                        }\n",
       "                        break;\n",
       "                    }\n",
       "                }\n",
       "            }, 500);\n",
       "            "
      ],
      "text/plain": [
       "<IPython.core.display.Javascript object>"
      ]
     },
     "metadata": {},
     "output_type": "display_data"
    }
   ],
   "source": [
    "model = sm.OLS(y_train, X_train).fit()\n",
    "model.summary()"
   ]
  },
  {
   "cell_type": "code",
   "execution_count": 43,
   "metadata": {},
   "outputs": [
    {
     "data": {
      "image/png": "[encoded data removed]",
      "text/plain": [
       "<Figure size 432x288 with 1 Axes>"
      ]
     },
     "metadata": {
      "needs_background": "light"
     },
     "output_type": "display_data"
    },
    {
     "name": "stdout",
     "output_type": "stream",
     "text": [
      "MAE: 25304.279492856378\n",
      "MSE: 1504341237.99686\n",
      "RMSE: 38785.83811131145\n",
      "MAPE: 16.35396801485015\n"
     ]
    },
    {
     "data": {
      "application/javascript": [
       "\n",
       "            setTimeout(function() {\n",
       "                var nbb_cell_id = 43;\n",
       "                var nbb_unformatted_code = \"y_pred = model.predict(X_test)\\n\\nplt.scatter(y_test, y_pred)\\nplt.plot(y_test, y_test, color = 'r')\\nplt.xlabel('True Values')\\nplt.ylabel('Predicted Values')\\nplt.show()\\n\\nprint('MAE: {}'.format(mean_absolute_error(y_test, y_pred)))\\nprint('MSE: {}'.format(mse(y_test, y_pred)))\\nprint('RMSE: {}'.format(rmse(y_test, y_pred)))\\nprint('MAPE: {}'.format(np.mean(np.abs(((y_test-y_pred)/y_test)*100))))\";\n",
       "                var nbb_formatted_code = \"y_pred = model.predict(X_test)\\n\\nplt.scatter(y_test, y_pred)\\nplt.plot(y_test, y_test, color=\\\"r\\\")\\nplt.xlabel(\\\"True Values\\\")\\nplt.ylabel(\\\"Predicted Values\\\")\\nplt.show()\\n\\nprint(\\\"MAE: {}\\\".format(mean_absolute_error(y_test, y_pred)))\\nprint(\\\"MSE: {}\\\".format(mse(y_test, y_pred)))\\nprint(\\\"RMSE: {}\\\".format(rmse(y_test, y_pred)))\\nprint(\\\"MAPE: {}\\\".format(np.mean(np.abs(((y_test - y_pred) / y_test) * 100))))\";\n",
       "                var nbb_cells = Jupyter.notebook.get_cells();\n",
       "                for (var i = 0; i < nbb_cells.length; ++i) {\n",
       "                    if (nbb_cells[i].input_prompt_number == nbb_cell_id) {\n",
       "                        if (nbb_cells[i].get_text() == nbb_unformatted_code) {\n",
       "                             nbb_cells[i].set_text(nbb_formatted_code);\n",
       "                        }\n",
       "                        break;\n",
       "                    }\n",
       "                }\n",
       "            }, 500);\n",
       "            "
      ],
      "text/plain": [
       "<IPython.core.display.Javascript object>"
      ]
     },
     "metadata": {},
     "output_type": "display_data"
    }
   ],
   "source": [
    "y_pred = model.predict(X_test)\n",
    "\n",
    "plt.scatter(y_test, y_pred)\n",
    "plt.plot(y_test, y_test, color = 'r')\n",
    "plt.xlabel('True Values')\n",
    "plt.ylabel('Predicted Values')\n",
    "plt.show()\n",
    "\n",
    "print('MAE: {}'.format(mean_absolute_error(y_test, y_pred)))\n",
    "print('MSE: {}'.format(mse(y_test, y_pred)))\n",
    "print('RMSE: {}'.format(rmse(y_test, y_pred)))\n",
    "print('MAPE: {}'.format(np.mean(np.abs(((y_test-y_pred)/y_test)*100))))\n"
   ]
  },
  {
   "cell_type": "code",
   "execution_count": 44,
   "metadata": {},
   "outputs": [
    {
     "data": {
      "application/javascript": [
       "\n",
       "            setTimeout(function() {\n",
       "                var nbb_cell_id = 44;\n",
       "                var nbb_unformatted_code = \"df[\\\"totalsf\\\"] = df[\\\"totalbsmtsf\\\"] + df[\\\"firstflrsf\\\"] + df[\\\"secondflrsf\\\"]\\ndf[\\\"inter_qual_sf\\\"] = df[\\\"totalsf\\\"] * df[\\\"overallqual\\\"]\\n\\ny = np.log1p(df.saleprice)\\nX = pd.concat([X, df[\\\"totalsf\\\"], df[\\\"inter_qual_sf\\\"]], axis=1)\\nX = X.drop(columns=[\\\"totalbsmtsf\\\"])\";\n",
       "                var nbb_formatted_code = \"df[\\\"totalsf\\\"] = df[\\\"totalbsmtsf\\\"] + df[\\\"firstflrsf\\\"] + df[\\\"secondflrsf\\\"]\\ndf[\\\"inter_qual_sf\\\"] = df[\\\"totalsf\\\"] * df[\\\"overallqual\\\"]\\n\\ny = np.log1p(df.saleprice)\\nX = pd.concat([X, df[\\\"totalsf\\\"], df[\\\"inter_qual_sf\\\"]], axis=1)\\nX = X.drop(columns=[\\\"totalbsmtsf\\\"])\";\n",
       "                var nbb_cells = Jupyter.notebook.get_cells();\n",
       "                for (var i = 0; i < nbb_cells.length; ++i) {\n",
       "                    if (nbb_cells[i].input_prompt_number == nbb_cell_id) {\n",
       "                        if (nbb_cells[i].get_text() == nbb_unformatted_code) {\n",
       "                             nbb_cells[i].set_text(nbb_formatted_code);\n",
       "                        }\n",
       "                        break;\n",
       "                    }\n",
       "                }\n",
       "            }, 500);\n",
       "            "
      ],
      "text/plain": [
       "<IPython.core.display.Javascript object>"
      ]
     },
     "metadata": {},
     "output_type": "display_data"
    }
   ],
   "source": [
    "df[\"totalsf\"] = df[\"totalbsmtsf\"] + df[\"firstflrsf\"] + df[\"secondflrsf\"]\n",
    "df[\"inter_qual_sf\"] = df[\"totalsf\"] * df[\"overallqual\"]\n",
    "\n",
    "y = np.log1p(df.saleprice)\n",
    "X = pd.concat([X, df[\"totalsf\"], df[\"inter_qual_sf\"]], axis=1)\n",
    "X = X.drop(columns=[\"totalbsmtsf\"])"
   ]
  },
  {
   "cell_type": "code",
   "execution_count": 45,
   "metadata": {
    "scrolled": true
   },
   "outputs": [
    {
     "data": {
      "text/html": [
       "<table class=\"simpletable\">\n",
       "<caption>OLS Regression Results</caption>\n",
       "<tr>\n",
       "  <th>Dep. Variable:</th>        <td>saleprice</td>    <th>  R-squared:         </th> <td>   0.806</td>\n",
       "</tr>\n",
       "<tr>\n",
       "  <th>Model:</th>                   <td>OLS</td>       <th>  Adj. R-squared:    </th> <td>   0.804</td>\n",
       "</tr>\n",
       "<tr>\n",
       "  <th>Method:</th>             <td>Least Squares</td>  <th>  F-statistic:       </th> <td>   686.5</td>\n",
       "</tr>\n",
       "<tr>\n",
       "  <th>Date:</th>             <td>Sun, 20 Dec 2020</td> <th>  Prob (F-statistic):</th>  <td>  0.00</td> \n",
       "</tr>\n",
       "<tr>\n",
       "  <th>Time:</th>                 <td>16:06:26</td>     <th>  Log-Likelihood:    </th> <td>  395.70</td>\n",
       "</tr>\n",
       "<tr>\n",
       "  <th>No. Observations:</th>      <td>  1168</td>      <th>  AIC:               </th> <td>  -775.4</td>\n",
       "</tr>\n",
       "<tr>\n",
       "  <th>Df Residuals:</th>          <td>  1160</td>      <th>  BIC:               </th> <td>  -734.9</td>\n",
       "</tr>\n",
       "<tr>\n",
       "  <th>Df Model:</th>              <td>     7</td>      <th>                     </th>     <td> </td>   \n",
       "</tr>\n",
       "<tr>\n",
       "  <th>Covariance Type:</th>      <td>nonrobust</td>    <th>                     </th>     <td> </td>   \n",
       "</tr>\n",
       "</table>\n",
       "<table class=\"simpletable\">\n",
       "<tr>\n",
       "         <td></td>            <th>coef</th>     <th>std err</th>      <th>t</th>      <th>P>|t|</th>  <th>[0.025</th>    <th>0.975]</th>  \n",
       "</tr>\n",
       "<tr>\n",
       "  <th>const</th>           <td>   10.1380</td> <td>    0.060</td> <td>  169.316</td> <td> 0.000</td> <td>   10.021</td> <td>   10.256</td>\n",
       "</tr>\n",
       "<tr>\n",
       "  <th>overallqual</th>     <td>    0.1851</td> <td>    0.010</td> <td>   19.220</td> <td> 0.000</td> <td>    0.166</td> <td>    0.204</td>\n",
       "</tr>\n",
       "<tr>\n",
       "  <th>grlivarea</th>       <td> 6.524e-05</td> <td> 1.96e-05</td> <td>    3.333</td> <td> 0.001</td> <td> 2.68e-05</td> <td>    0.000</td>\n",
       "</tr>\n",
       "<tr>\n",
       "  <th>garagecars</th>      <td>    0.1177</td> <td>    0.009</td> <td>   13.367</td> <td> 0.000</td> <td>    0.100</td> <td>    0.135</td>\n",
       "</tr>\n",
       "<tr>\n",
       "  <th>condition1_Norm</th> <td>    0.0631</td> <td>    0.015</td> <td>    4.263</td> <td> 0.000</td> <td>    0.034</td> <td>    0.092</td>\n",
       "</tr>\n",
       "<tr>\n",
       "  <th>condition2_PosN</th> <td>   -0.4829</td> <td>    0.129</td> <td>   -3.753</td> <td> 0.000</td> <td>   -0.735</td> <td>   -0.230</td>\n",
       "</tr>\n",
       "<tr>\n",
       "  <th>totalsf</th>         <td>    0.0003</td> <td> 2.74e-05</td> <td>   11.166</td> <td> 0.000</td> <td>    0.000</td> <td>    0.000</td>\n",
       "</tr>\n",
       "<tr>\n",
       "  <th>inter_qual_sf</th>   <td>-2.371e-05</td> <td> 3.21e-06</td> <td>   -7.383</td> <td> 0.000</td> <td>   -3e-05</td> <td>-1.74e-05</td>\n",
       "</tr>\n",
       "</table>\n",
       "<table class=\"simpletable\">\n",
       "<tr>\n",
       "  <th>Omnibus:</th>       <td>334.236</td> <th>  Durbin-Watson:     </th> <td>   2.068</td>\n",
       "</tr>\n",
       "<tr>\n",
       "  <th>Prob(Omnibus):</th> <td> 0.000</td>  <th>  Jarque-Bera (JB):  </th> <td>1954.446</td>\n",
       "</tr>\n",
       "<tr>\n",
       "  <th>Skew:</th>          <td>-1.189</td>  <th>  Prob(JB):          </th> <td>    0.00</td>\n",
       "</tr>\n",
       "<tr>\n",
       "  <th>Kurtosis:</th>      <td> 8.874</td>  <th>  Cond. No.          </th> <td>4.84e+05</td>\n",
       "</tr>\n",
       "</table><br/><br/>Warnings:<br/>[1] Standard Errors assume that the covariance matrix of the errors is correctly specified.<br/>[2] The condition number is large, 4.84e+05. This might indicate that there are<br/>strong multicollinearity or other numerical problems."
      ],
      "text/plain": [
       "<class 'statsmodels.iolib.summary.Summary'>\n",
       "\"\"\"\n",
       "                            OLS Regression Results                            \n",
       "==============================================================================\n",
       "Dep. Variable:              saleprice   R-squared:                       0.806\n",
       "Model:                            OLS   Adj. R-squared:                  0.804\n",
       "Method:                 Least Squares   F-statistic:                     686.5\n",
       "Date:                Sun, 20 Dec 2020   Prob (F-statistic):               0.00\n",
       "Time:                        16:06:26   Log-Likelihood:                 395.70\n",
       "No. Observations:                1168   AIC:                            -775.4\n",
       "Df Residuals:                    1160   BIC:                            -734.9\n",
       "Df Model:                           7                                         \n",
       "Covariance Type:            nonrobust                                         \n",
       "===================================================================================\n",
       "                      coef    std err          t      P>|t|      [0.025      0.975]\n",
       "-----------------------------------------------------------------------------------\n",
       "const              10.1380      0.060    169.316      0.000      10.021      10.256\n",
       "overallqual         0.1851      0.010     19.220      0.000       0.166       0.204\n",
       "grlivarea        6.524e-05   1.96e-05      3.333      0.001    2.68e-05       0.000\n",
       "garagecars          0.1177      0.009     13.367      0.000       0.100       0.135\n",
       "condition1_Norm     0.0631      0.015      4.263      0.000       0.034       0.092\n",
       "condition2_PosN    -0.4829      0.129     -3.753      0.000      -0.735      -0.230\n",
       "totalsf             0.0003   2.74e-05     11.166      0.000       0.000       0.000\n",
       "inter_qual_sf   -2.371e-05   3.21e-06     -7.383      0.000      -3e-05   -1.74e-05\n",
       "==============================================================================\n",
       "Omnibus:                      334.236   Durbin-Watson:                   2.068\n",
       "Prob(Omnibus):                  0.000   Jarque-Bera (JB):             1954.446\n",
       "Skew:                          -1.189   Prob(JB):                         0.00\n",
       "Kurtosis:                       8.874   Cond. No.                     4.84e+05\n",
       "==============================================================================\n",
       "\n",
       "Warnings:\n",
       "[1] Standard Errors assume that the covariance matrix of the errors is correctly specified.\n",
       "[2] The condition number is large, 4.84e+05. This might indicate that there are\n",
       "strong multicollinearity or other numerical problems.\n",
       "\"\"\""
      ]
     },
     "execution_count": 45,
     "metadata": {},
     "output_type": "execute_result"
    },
    {
     "data": {
      "application/javascript": [
       "\n",
       "            setTimeout(function() {\n",
       "                var nbb_cell_id = 45;\n",
       "                var nbb_unformatted_code = \"X_train, X_test, y_train, y_test = train_test_split(\\n    X, y, test_size=0.2, random_state=42\\n)\\nmodel = sm.OLS(y_train, X_train).fit()\\nmodel.summary()\";\n",
       "                var nbb_formatted_code = \"X_train, X_test, y_train, y_test = train_test_split(\\n    X, y, test_size=0.2, random_state=42\\n)\\nmodel = sm.OLS(y_train, X_train).fit()\\nmodel.summary()\";\n",
       "                var nbb_cells = Jupyter.notebook.get_cells();\n",
       "                for (var i = 0; i < nbb_cells.length; ++i) {\n",
       "                    if (nbb_cells[i].input_prompt_number == nbb_cell_id) {\n",
       "                        if (nbb_cells[i].get_text() == nbb_unformatted_code) {\n",
       "                             nbb_cells[i].set_text(nbb_formatted_code);\n",
       "                        }\n",
       "                        break;\n",
       "                    }\n",
       "                }\n",
       "            }, 500);\n",
       "            "
      ],
      "text/plain": [
       "<IPython.core.display.Javascript object>"
      ]
     },
     "metadata": {},
     "output_type": "display_data"
    }
   ],
   "source": [
    "X_train, X_test, y_train, y_test = train_test_split(\n",
    "    X, y, test_size=0.2, random_state=42\n",
    ")\n",
    "model = sm.OLS(y_train, X_train).fit()\n",
    "model.summary()"
   ]
  },
  {
   "cell_type": "code",
   "execution_count": 46,
   "metadata": {},
   "outputs": [
    {
     "data": {
      "image/png": "[encoded data removed]",
      "text/plain": [
       "<Figure size 432x288 with 1 Axes>"
      ]
     },
     "metadata": {
      "needs_background": "light"
     },
     "output_type": "display_data"
    },
    {
     "name": "stdout",
     "output_type": "stream",
     "text": [
      "MAE: 0.12830411924850998\n",
      "MSE: 0.03179558079843568\n",
      "RMSE: 0.17831315374485326\n",
      "MAPE: 1.0823455824120902\n"
     ]
    },
    {
     "data": {
      "application/javascript": [
       "\n",
       "            setTimeout(function() {\n",
       "                var nbb_cell_id = 46;\n",
       "                var nbb_unformatted_code = \"y_pred = model.predict(X_test)\\n\\nplt.scatter(y_test, y_pred)\\nplt.plot(y_test, y_test, color=\\\"r\\\")\\nplt.xlabel(\\\"True Values\\\")\\nplt.ylabel(\\\"Predicted Values\\\")\\nplt.show()\\n\\nprint(\\\"MAE: {}\\\".format(mean_absolute_error(y_test, y_pred)))\\nprint(\\\"MSE: {}\\\".format(mse(y_test, y_pred)))\\nprint(\\\"RMSE: {}\\\".format(rmse(y_test, y_pred)))\\nprint(\\\"MAPE: {}\\\".format(np.mean(np.abs(((y_test - y_pred) / y_test) * 100))))\";\n",
       "                var nbb_formatted_code = \"y_pred = model.predict(X_test)\\n\\nplt.scatter(y_test, y_pred)\\nplt.plot(y_test, y_test, color=\\\"r\\\")\\nplt.xlabel(\\\"True Values\\\")\\nplt.ylabel(\\\"Predicted Values\\\")\\nplt.show()\\n\\nprint(\\\"MAE: {}\\\".format(mean_absolute_error(y_test, y_pred)))\\nprint(\\\"MSE: {}\\\".format(mse(y_test, y_pred)))\\nprint(\\\"RMSE: {}\\\".format(rmse(y_test, y_pred)))\\nprint(\\\"MAPE: {}\\\".format(np.mean(np.abs(((y_test - y_pred) / y_test) * 100))))\";\n",
       "                var nbb_cells = Jupyter.notebook.get_cells();\n",
       "                for (var i = 0; i < nbb_cells.length; ++i) {\n",
       "                    if (nbb_cells[i].input_prompt_number == nbb_cell_id) {\n",
       "                        if (nbb_cells[i].get_text() == nbb_unformatted_code) {\n",
       "                             nbb_cells[i].set_text(nbb_formatted_code);\n",
       "                        }\n",
       "                        break;\n",
       "                    }\n",
       "                }\n",
       "            }, 500);\n",
       "            "
      ],
      "text/plain": [
       "<IPython.core.display.Javascript object>"
      ]
     },
     "metadata": {},
     "output_type": "display_data"
    }
   ],
   "source": [
    "y_pred = model.predict(X_test)\n",
    "\n",
    "plt.scatter(y_test, y_pred)\n",
    "plt.plot(y_test, y_test, color=\"r\")\n",
    "plt.xlabel(\"True Values\")\n",
    "plt.ylabel(\"Predicted Values\")\n",
    "plt.show()\n",
    "\n",
    "print(\"MAE: {}\".format(mean_absolute_error(y_test, y_pred)))\n",
    "print(\"MSE: {}\".format(mse(y_test, y_pred)))\n",
    "print(\"RMSE: {}\".format(rmse(y_test, y_pred)))\n",
    "print(\"MAPE: {}\".format(np.mean(np.abs(((y_test - y_pred) / y_test) * 100))))"
   ]
  },
  {
   "cell_type": "markdown",
   "metadata": {},
   "source": [
    "The evaluation parameters for both models show the 2nd model performance is an improvement over the 1st model."
   ]
  },
  {
   "cell_type": "code",
   "execution_count": null,
   "metadata": {},
   "outputs": [],
   "source": []
  }
 ],
 "metadata": {
  "kernelspec": {
   "display_name": "Python 3",
   "language": "python",
   "name": "python3"
  },
  "language_info": {
   "codemirror_mode": {
    "name": "ipython",
    "version": 3
   },
   "file_extension": ".py",
   "mimetype": "text/x-python",
   "name": "python",
   "nbconvert_exporter": "python",
   "pygments_lexer": "ipython3",
   "version": "3.8.3"
  }
 },
 "nbformat": 4,
 "nbformat_minor": 4
}
