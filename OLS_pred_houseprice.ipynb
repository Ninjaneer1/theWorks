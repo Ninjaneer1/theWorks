{
 "cells": [
  {
   "cell_type": "code",
   "execution_count": 1,
   "metadata": {},
   "outputs": [
    {
     "data": {
      "application/javascript": [
       "\n",
       "            setTimeout(function() {\n",
       "                var nbb_cell_id = 1;\n",
       "                var nbb_unformatted_code = \"%reload_ext nb_black\";\n",
       "                var nbb_formatted_code = \"%reload_ext nb_black\";\n",
       "                var nbb_cells = Jupyter.notebook.get_cells();\n",
       "                for (var i = 0; i < nbb_cells.length; ++i) {\n",
       "                    if (nbb_cells[i].input_prompt_number == nbb_cell_id) {\n",
       "                        if (nbb_cells[i].get_text() == nbb_unformatted_code) {\n",
       "                             nbb_cells[i].set_text(nbb_formatted_code);\n",
       "                        }\n",
       "                        break;\n",
       "                    }\n",
       "                }\n",
       "            }, 500);\n",
       "            "
      ],
      "text/plain": [
       "<IPython.core.display.Javascript object>"
      ]
     },
     "metadata": {},
     "output_type": "display_data"
    }
   ],
   "source": [
    "%reload_ext nb_black"
   ]
  },
  {
   "cell_type": "code",
   "execution_count": 2,
   "metadata": {},
   "outputs": [
    {
     "data": {
      "application/javascript": [
       "\n",
       "            setTimeout(function() {\n",
       "                var nbb_cell_id = 2;\n",
       "                var nbb_unformatted_code = \"import matplotlib.pyplot as plt\\nimport seaborn as sns\\nimport numpy as np\\nimport pandas as pd\\nfrom sklearn import linear_model\\n\\nfrom sqlalchemy import create_engine\\nimport statsmodels.api as sm\\n\\n%matplotlib inline\\npd.options.display.float_format = '{:.3f}'.format\\n\\nimport warnings\\nwarnings.filterwarnings(action=\\\"ignore\\\")\\n\\nimport config\";\n",
       "                var nbb_formatted_code = \"import matplotlib.pyplot as plt\\nimport seaborn as sns\\nimport numpy as np\\nimport pandas as pd\\nfrom sklearn import linear_model\\n\\nfrom sqlalchemy import create_engine\\nimport statsmodels.api as sm\\n\\n%matplotlib inline\\npd.options.display.float_format = \\\"{:.3f}\\\".format\\n\\nimport warnings\\n\\nwarnings.filterwarnings(action=\\\"ignore\\\")\\n\\nimport config\";\n",
       "                var nbb_cells = Jupyter.notebook.get_cells();\n",
       "                for (var i = 0; i < nbb_cells.length; ++i) {\n",
       "                    if (nbb_cells[i].input_prompt_number == nbb_cell_id) {\n",
       "                        if (nbb_cells[i].get_text() == nbb_unformatted_code) {\n",
       "                             nbb_cells[i].set_text(nbb_formatted_code);\n",
       "                        }\n",
       "                        break;\n",
       "                    }\n",
       "                }\n",
       "            }, 500);\n",
       "            "
      ],
      "text/plain": [
       "<IPython.core.display.Javascript object>"
      ]
     },
     "metadata": {},
     "output_type": "display_data"
    }
   ],
   "source": [
    "import matplotlib.pyplot as plt\n",
    "import seaborn as sns\n",
    "import numpy as np\n",
    "import pandas as pd\n",
    "from sklearn import linear_model\n",
    "\n",
    "from sqlalchemy import create_engine\n",
    "import statsmodels.api as sm\n",
    "\n",
    "%matplotlib inline\n",
    "pd.options.display.float_format = \"{:.3f}\".format\n",
    "\n",
    "import warnings\n",
    "\n",
    "warnings.filterwarnings(action=\"ignore\")\n",
    "\n",
    "import config"
   ]
  },
  {
   "cell_type": "code",
   "execution_count": 3,
   "metadata": {},
   "outputs": [
    {
     "data": {
      "application/javascript": [
       "\n",
       "            setTimeout(function() {\n",
       "                var nbb_cell_id = 3;\n",
       "                var nbb_unformatted_code = \"postgres_user = config.user\\npostgres_pw = config.password\\npostgres_host = config.host\\npostgres_port = config.port\\npostgres_db = \\\"houseprices\\\"\\n\\nengine = create_engine(\\n    \\\"postgresql://{}:{}@{}:{}/{}\\\".format(\\n        postgres_user, postgres_pw, postgres_host, postgres_port, postgres_db\\n    )\\n)\\n\\ndf = pd.read_sql_query(\\\"select * from houseprices\\\", con=engine)\\n\\n# No need for an open connection,\\n# because you're only doing a single query\\nengine.dispose()\";\n",
       "                var nbb_formatted_code = \"postgres_user = config.user\\npostgres_pw = config.password\\npostgres_host = config.host\\npostgres_port = config.port\\npostgres_db = \\\"houseprices\\\"\\n\\nengine = create_engine(\\n    \\\"postgresql://{}:{}@{}:{}/{}\\\".format(\\n        postgres_user, postgres_pw, postgres_host, postgres_port, postgres_db\\n    )\\n)\\n\\ndf = pd.read_sql_query(\\\"select * from houseprices\\\", con=engine)\\n\\n# No need for an open connection,\\n# because you're only doing a single query\\nengine.dispose()\";\n",
       "                var nbb_cells = Jupyter.notebook.get_cells();\n",
       "                for (var i = 0; i < nbb_cells.length; ++i) {\n",
       "                    if (nbb_cells[i].input_prompt_number == nbb_cell_id) {\n",
       "                        if (nbb_cells[i].get_text() == nbb_unformatted_code) {\n",
       "                             nbb_cells[i].set_text(nbb_formatted_code);\n",
       "                        }\n",
       "                        break;\n",
       "                    }\n",
       "                }\n",
       "            }, 500);\n",
       "            "
      ],
      "text/plain": [
       "<IPython.core.display.Javascript object>"
      ]
     },
     "metadata": {},
     "output_type": "display_data"
    }
   ],
   "source": [
    "postgres_user = config.user\n",
    "postgres_pw = config.password\n",
    "postgres_host = config.host\n",
    "postgres_port = config.port\n",
    "postgres_db = \"houseprices\"\n",
    "\n",
    "engine = create_engine(\n",
    "    \"postgresql://{}:{}@{}:{}/{}\".format(\n",
    "        postgres_user, postgres_pw, postgres_host, postgres_port, postgres_db\n",
    "    )\n",
    ")\n",
    "\n",
    "df = pd.read_sql_query(\"select * from houseprices\", con=engine)\n",
    "\n",
    "# No need for an open connection,\n",
    "# because you're only doing a single query\n",
    "engine.dispose()"
   ]
  },
  {
   "cell_type": "code",
   "execution_count": 4,
   "metadata": {},
   "outputs": [
    {
     "data": {
      "text/html": [
       "<div>\n",
       "<style scoped>\n",
       "    .dataframe tbody tr th:only-of-type {\n",
       "        vertical-align: middle;\n",
       "    }\n",
       "\n",
       "    .dataframe tbody tr th {\n",
       "        vertical-align: top;\n",
       "    }\n",
       "\n",
       "    .dataframe thead th {\n",
       "        text-align: right;\n",
       "    }\n",
       "</style>\n",
       "<table border=\"1\" class=\"dataframe\">\n",
       "  <thead>\n",
       "    <tr style=\"text-align: right;\">\n",
       "      <th></th>\n",
       "      <th>id</th>\n",
       "      <th>mssubclass</th>\n",
       "      <th>mszoning</th>\n",
       "      <th>lotfrontage</th>\n",
       "      <th>lotarea</th>\n",
       "      <th>street</th>\n",
       "      <th>alley</th>\n",
       "      <th>lotshape</th>\n",
       "      <th>landcontour</th>\n",
       "      <th>utilities</th>\n",
       "      <th>...</th>\n",
       "      <th>poolarea</th>\n",
       "      <th>poolqc</th>\n",
       "      <th>fence</th>\n",
       "      <th>miscfeature</th>\n",
       "      <th>miscval</th>\n",
       "      <th>mosold</th>\n",
       "      <th>yrsold</th>\n",
       "      <th>saletype</th>\n",
       "      <th>salecondition</th>\n",
       "      <th>saleprice</th>\n",
       "    </tr>\n",
       "  </thead>\n",
       "  <tbody>\n",
       "    <tr>\n",
       "      <th>0</th>\n",
       "      <td>1</td>\n",
       "      <td>60</td>\n",
       "      <td>RL</td>\n",
       "      <td>65.000</td>\n",
       "      <td>8450</td>\n",
       "      <td>Pave</td>\n",
       "      <td>None</td>\n",
       "      <td>Reg</td>\n",
       "      <td>Lvl</td>\n",
       "      <td>AllPub</td>\n",
       "      <td>...</td>\n",
       "      <td>0</td>\n",
       "      <td>None</td>\n",
       "      <td>None</td>\n",
       "      <td>None</td>\n",
       "      <td>0</td>\n",
       "      <td>2</td>\n",
       "      <td>2008</td>\n",
       "      <td>WD</td>\n",
       "      <td>Normal</td>\n",
       "      <td>208500</td>\n",
       "    </tr>\n",
       "    <tr>\n",
       "      <th>1</th>\n",
       "      <td>2</td>\n",
       "      <td>20</td>\n",
       "      <td>RL</td>\n",
       "      <td>80.000</td>\n",
       "      <td>9600</td>\n",
       "      <td>Pave</td>\n",
       "      <td>None</td>\n",
       "      <td>Reg</td>\n",
       "      <td>Lvl</td>\n",
       "      <td>AllPub</td>\n",
       "      <td>...</td>\n",
       "      <td>0</td>\n",
       "      <td>None</td>\n",
       "      <td>None</td>\n",
       "      <td>None</td>\n",
       "      <td>0</td>\n",
       "      <td>5</td>\n",
       "      <td>2007</td>\n",
       "      <td>WD</td>\n",
       "      <td>Normal</td>\n",
       "      <td>181500</td>\n",
       "    </tr>\n",
       "    <tr>\n",
       "      <th>2</th>\n",
       "      <td>3</td>\n",
       "      <td>60</td>\n",
       "      <td>RL</td>\n",
       "      <td>68.000</td>\n",
       "      <td>11250</td>\n",
       "      <td>Pave</td>\n",
       "      <td>None</td>\n",
       "      <td>IR1</td>\n",
       "      <td>Lvl</td>\n",
       "      <td>AllPub</td>\n",
       "      <td>...</td>\n",
       "      <td>0</td>\n",
       "      <td>None</td>\n",
       "      <td>None</td>\n",
       "      <td>None</td>\n",
       "      <td>0</td>\n",
       "      <td>9</td>\n",
       "      <td>2008</td>\n",
       "      <td>WD</td>\n",
       "      <td>Normal</td>\n",
       "      <td>223500</td>\n",
       "    </tr>\n",
       "  </tbody>\n",
       "</table>\n",
       "<p>3 rows × 81 columns</p>\n",
       "</div>"
      ],
      "text/plain": [
       "   id  mssubclass mszoning  lotfrontage  lotarea street alley lotshape  \\\n",
       "0   1          60       RL       65.000     8450   Pave  None      Reg   \n",
       "1   2          20       RL       80.000     9600   Pave  None      Reg   \n",
       "2   3          60       RL       68.000    11250   Pave  None      IR1   \n",
       "\n",
       "  landcontour utilities  ... poolarea poolqc fence miscfeature miscval mosold  \\\n",
       "0         Lvl    AllPub  ...        0   None  None        None       0      2   \n",
       "1         Lvl    AllPub  ...        0   None  None        None       0      5   \n",
       "2         Lvl    AllPub  ...        0   None  None        None       0      9   \n",
       "\n",
       "  yrsold  saletype  salecondition  saleprice  \n",
       "0   2008        WD         Normal     208500  \n",
       "1   2007        WD         Normal     181500  \n",
       "2   2008        WD         Normal     223500  \n",
       "\n",
       "[3 rows x 81 columns]"
      ]
     },
     "execution_count": 4,
     "metadata": {},
     "output_type": "execute_result"
    },
    {
     "data": {
      "application/javascript": [
       "\n",
       "            setTimeout(function() {\n",
       "                var nbb_cell_id = 4;\n",
       "                var nbb_unformatted_code = \"df.head(3)\";\n",
       "                var nbb_formatted_code = \"df.head(3)\";\n",
       "                var nbb_cells = Jupyter.notebook.get_cells();\n",
       "                for (var i = 0; i < nbb_cells.length; ++i) {\n",
       "                    if (nbb_cells[i].input_prompt_number == nbb_cell_id) {\n",
       "                        if (nbb_cells[i].get_text() == nbb_unformatted_code) {\n",
       "                             nbb_cells[i].set_text(nbb_formatted_code);\n",
       "                        }\n",
       "                        break;\n",
       "                    }\n",
       "                }\n",
       "            }, 500);\n",
       "            "
      ],
      "text/plain": [
       "<IPython.core.display.Javascript object>"
      ]
     },
     "metadata": {},
     "output_type": "display_data"
    }
   ],
   "source": [
    "df.head(3)"
   ]
  },
  {
   "cell_type": "code",
   "execution_count": 5,
   "metadata": {},
   "outputs": [
    {
     "data": {
      "application/javascript": [
       "\n",
       "            setTimeout(function() {\n",
       "                var nbb_cell_id = 5;\n",
       "                var nbb_unformatted_code = \"df = pd.concat(\\n    [df, pd.get_dummies(df.condition1, prefix=\\\"condition1\\\", drop_first=True)], axis=1\\n)\\ndf = pd.concat(\\n    [df, pd.get_dummies(df.condition2, prefix=\\\"condition2\\\", drop_first=True)], axis=1\\n)\\ndummy_cols = list(\\n    pd.get_dummies(df.condition1, prefix=\\\"condition1\\\", drop_first=True).columns\\n)\\ndummy_cols = dummy_cols + list(\\n    pd.get_dummies(df.condition2, prefix=\\\"condition2\\\", drop_first=True).columns\\n)\";\n",
       "                var nbb_formatted_code = \"df = pd.concat(\\n    [df, pd.get_dummies(df.condition1, prefix=\\\"condition1\\\", drop_first=True)], axis=1\\n)\\ndf = pd.concat(\\n    [df, pd.get_dummies(df.condition2, prefix=\\\"condition2\\\", drop_first=True)], axis=1\\n)\\ndummy_cols = list(\\n    pd.get_dummies(df.condition1, prefix=\\\"condition1\\\", drop_first=True).columns\\n)\\ndummy_cols = dummy_cols + list(\\n    pd.get_dummies(df.condition2, prefix=\\\"condition2\\\", drop_first=True).columns\\n)\";\n",
       "                var nbb_cells = Jupyter.notebook.get_cells();\n",
       "                for (var i = 0; i < nbb_cells.length; ++i) {\n",
       "                    if (nbb_cells[i].input_prompt_number == nbb_cell_id) {\n",
       "                        if (nbb_cells[i].get_text() == nbb_unformatted_code) {\n",
       "                             nbb_cells[i].set_text(nbb_formatted_code);\n",
       "                        }\n",
       "                        break;\n",
       "                    }\n",
       "                }\n",
       "            }, 500);\n",
       "            "
      ],
      "text/plain": [
       "<IPython.core.display.Javascript object>"
      ]
     },
     "metadata": {},
     "output_type": "display_data"
    }
   ],
   "source": [
    "df = pd.concat(\n",
    "    [df, pd.get_dummies(df.condition1, prefix=\"condition1\", drop_first=True)], axis=1\n",
    ")\n",
    "df = pd.concat(\n",
    "    [df, pd.get_dummies(df.condition2, prefix=\"condition2\", drop_first=True)], axis=1\n",
    ")\n",
    "dummy_cols = list(\n",
    "    pd.get_dummies(df.condition1, prefix=\"condition1\", drop_first=True).columns\n",
    ")\n",
    "dummy_cols = dummy_cols + list(\n",
    "    pd.get_dummies(df.condition2, prefix=\"condition2\", drop_first=True).columns\n",
    ")"
   ]
  },
  {
   "cell_type": "code",
   "execution_count": 10,
   "metadata": {},
   "outputs": [
    {
     "data": {
      "application/javascript": [
       "\n",
       "            setTimeout(function() {\n",
       "                var nbb_cell_id = 10;\n",
       "                var nbb_unformatted_code = \"X = df[\\n    [\\\"overallqual\\\", \\\"grlivarea\\\", \\\"garagecars\\\", \\\"garagearea\\\", \\\"totalbsmtsf\\\"] + dummy_cols\\n]\\ny = df.saleprice\";\n",
       "                var nbb_formatted_code = \"X = df[\\n    [\\\"overallqual\\\", \\\"grlivarea\\\", \\\"garagecars\\\", \\\"garagearea\\\", \\\"totalbsmtsf\\\"] + dummy_cols\\n]\\ny = df.saleprice\";\n",
       "                var nbb_cells = Jupyter.notebook.get_cells();\n",
       "                for (var i = 0; i < nbb_cells.length; ++i) {\n",
       "                    if (nbb_cells[i].input_prompt_number == nbb_cell_id) {\n",
       "                        if (nbb_cells[i].get_text() == nbb_unformatted_code) {\n",
       "                             nbb_cells[i].set_text(nbb_formatted_code);\n",
       "                        }\n",
       "                        break;\n",
       "                    }\n",
       "                }\n",
       "            }, 500);\n",
       "            "
      ],
      "text/plain": [
       "<IPython.core.display.Javascript object>"
      ]
     },
     "metadata": {},
     "output_type": "display_data"
    }
   ],
   "source": [
    "X = df[\n",
    "    [\"overallqual\", \"grlivarea\", \"garagecars\", \"garagearea\", \"totalbsmtsf\"] + dummy_cols\n",
    "]\n",
    "y = df.saleprice"
   ]
  },
  {
   "cell_type": "code",
   "execution_count": 11,
   "metadata": {},
   "outputs": [
    {
     "data": {
      "text/html": [
       "<table class=\"simpletable\">\n",
       "<caption>OLS Regression Results</caption>\n",
       "<tr>\n",
       "  <th>Dep. Variable:</th>        <td>saleprice</td>    <th>  R-squared:         </th> <td>   0.772</td> \n",
       "</tr>\n",
       "<tr>\n",
       "  <th>Model:</th>                   <td>OLS</td>       <th>  Adj. R-squared:    </th> <td>   0.769</td> \n",
       "</tr>\n",
       "<tr>\n",
       "  <th>Method:</th>             <td>Least Squares</td>  <th>  F-statistic:       </th> <td>   243.5</td> \n",
       "</tr>\n",
       "<tr>\n",
       "  <th>Date:</th>             <td>Wed, 16 Dec 2020</td> <th>  Prob (F-statistic):</th>  <td>  0.00</td>  \n",
       "</tr>\n",
       "<tr>\n",
       "  <th>Time:</th>                 <td>14:13:06</td>     <th>  Log-Likelihood:    </th> <td> -17465.</td> \n",
       "</tr>\n",
       "<tr>\n",
       "  <th>No. Observations:</th>      <td>  1460</td>      <th>  AIC:               </th> <td>3.497e+04</td>\n",
       "</tr>\n",
       "<tr>\n",
       "  <th>Df Residuals:</th>          <td>  1439</td>      <th>  BIC:               </th> <td>3.508e+04</td>\n",
       "</tr>\n",
       "<tr>\n",
       "  <th>Df Model:</th>              <td>    20</td>      <th>                     </th>     <td> </td>    \n",
       "</tr>\n",
       "<tr>\n",
       "  <th>Covariance Type:</th>      <td>nonrobust</td>    <th>                     </th>     <td> </td>    \n",
       "</tr>\n",
       "</table>\n",
       "<table class=\"simpletable\">\n",
       "<tr>\n",
       "          <td></td>            <th>coef</th>     <th>std err</th>      <th>t</th>      <th>P>|t|</th>  <th>[0.025</th>    <th>0.975]</th>  \n",
       "</tr>\n",
       "<tr>\n",
       "  <th>const</th>            <td>-1.093e+05</td> <td> 2.72e+04</td> <td>   -4.015</td> <td> 0.000</td> <td>-1.63e+05</td> <td>-5.59e+04</td>\n",
       "</tr>\n",
       "<tr>\n",
       "  <th>overallqual</th>      <td> 2.293e+04</td> <td> 1075.527</td> <td>   21.322</td> <td> 0.000</td> <td> 2.08e+04</td> <td>  2.5e+04</td>\n",
       "</tr>\n",
       "<tr>\n",
       "  <th>grlivarea</th>        <td>   48.2718</td> <td>    2.499</td> <td>   19.320</td> <td> 0.000</td> <td>   43.371</td> <td>   53.173</td>\n",
       "</tr>\n",
       "<tr>\n",
       "  <th>garagecars</th>       <td> 1.239e+04</td> <td> 3006.773</td> <td>    4.120</td> <td> 0.000</td> <td> 6489.918</td> <td> 1.83e+04</td>\n",
       "</tr>\n",
       "<tr>\n",
       "  <th>garagearea</th>       <td>   23.6586</td> <td>   10.385</td> <td>    2.278</td> <td> 0.023</td> <td>    3.288</td> <td>   44.029</td>\n",
       "</tr>\n",
       "<tr>\n",
       "  <th>totalbsmtsf</th>      <td>   31.6301</td> <td>    2.881</td> <td>   10.980</td> <td> 0.000</td> <td>   25.979</td> <td>   37.281</td>\n",
       "</tr>\n",
       "<tr>\n",
       "  <th>condition1_Feedr</th> <td> 1.064e+04</td> <td> 7192.319</td> <td>    1.480</td> <td> 0.139</td> <td>-3465.783</td> <td> 2.48e+04</td>\n",
       "</tr>\n",
       "<tr>\n",
       "  <th>condition1_Norm</th>  <td> 2.518e+04</td> <td> 5843.632</td> <td>    4.309</td> <td> 0.000</td> <td> 1.37e+04</td> <td> 3.66e+04</td>\n",
       "</tr>\n",
       "<tr>\n",
       "  <th>condition1_PosA</th>  <td> 1.861e+04</td> <td> 1.47e+04</td> <td>    1.265</td> <td> 0.206</td> <td>-1.02e+04</td> <td> 4.75e+04</td>\n",
       "</tr>\n",
       "<tr>\n",
       "  <th>condition1_PosN</th>  <td> 1.916e+04</td> <td> 1.09e+04</td> <td>    1.754</td> <td> 0.080</td> <td>-2266.670</td> <td> 4.06e+04</td>\n",
       "</tr>\n",
       "<tr>\n",
       "  <th>condition1_RRAe</th>  <td> 4081.2714</td> <td> 1.29e+04</td> <td>    0.317</td> <td> 0.751</td> <td>-2.12e+04</td> <td> 2.94e+04</td>\n",
       "</tr>\n",
       "<tr>\n",
       "  <th>condition1_RRAn</th>  <td> 2.037e+04</td> <td> 9806.080</td> <td>    2.078</td> <td> 0.038</td> <td> 1138.066</td> <td> 3.96e+04</td>\n",
       "</tr>\n",
       "<tr>\n",
       "  <th>condition1_RRNe</th>  <td> 1.475e+04</td> <td> 2.76e+04</td> <td>    0.534</td> <td> 0.594</td> <td>-3.94e+04</td> <td> 6.89e+04</td>\n",
       "</tr>\n",
       "<tr>\n",
       "  <th>condition1_RRNn</th>  <td> 2.495e+04</td> <td> 1.84e+04</td> <td>    1.356</td> <td> 0.175</td> <td>-1.12e+04</td> <td>  6.1e+04</td>\n",
       "</tr>\n",
       "<tr>\n",
       "  <th>condition2_Feedr</th> <td>  -3.6e+04</td> <td> 3.24e+04</td> <td>   -1.111</td> <td> 0.267</td> <td>-9.96e+04</td> <td> 2.76e+04</td>\n",
       "</tr>\n",
       "<tr>\n",
       "  <th>condition2_Norm</th>  <td>-1.216e+04</td> <td> 2.77e+04</td> <td>   -0.439</td> <td> 0.661</td> <td>-6.65e+04</td> <td> 4.22e+04</td>\n",
       "</tr>\n",
       "<tr>\n",
       "  <th>condition2_PosA</th>  <td>-1.366e+04</td> <td> 4.73e+04</td> <td>   -0.289</td> <td> 0.773</td> <td>-1.06e+05</td> <td> 7.92e+04</td>\n",
       "</tr>\n",
       "<tr>\n",
       "  <th>condition2_PosN</th>  <td> -1.62e+05</td> <td> 4.01e+04</td> <td>   -4.041</td> <td> 0.000</td> <td>-2.41e+05</td> <td>-8.33e+04</td>\n",
       "</tr>\n",
       "<tr>\n",
       "  <th>condition2_RRAe</th>  <td>-3.445e+04</td> <td> 4.74e+04</td> <td>   -0.726</td> <td> 0.468</td> <td>-1.27e+05</td> <td> 5.86e+04</td>\n",
       "</tr>\n",
       "<tr>\n",
       "  <th>condition2_RRAn</th>  <td>-5.056e+04</td> <td> 4.74e+04</td> <td>   -1.068</td> <td> 0.286</td> <td>-1.43e+05</td> <td> 4.23e+04</td>\n",
       "</tr>\n",
       "<tr>\n",
       "  <th>condition2_RRNn</th>  <td> 8585.1105</td> <td>  3.9e+04</td> <td>    0.220</td> <td> 0.826</td> <td>-6.79e+04</td> <td> 8.51e+04</td>\n",
       "</tr>\n",
       "</table>\n",
       "<table class=\"simpletable\">\n",
       "<tr>\n",
       "  <th>Omnibus:</th>       <td>411.281</td> <th>  Durbin-Watson:     </th> <td>   1.979</td> \n",
       "</tr>\n",
       "<tr>\n",
       "  <th>Prob(Omnibus):</th> <td> 0.000</td>  <th>  Jarque-Bera (JB):  </th> <td>39247.829</td>\n",
       "</tr>\n",
       "<tr>\n",
       "  <th>Skew:</th>          <td>-0.100</td>  <th>  Prob(JB):          </th> <td>    0.00</td> \n",
       "</tr>\n",
       "<tr>\n",
       "  <th>Kurtosis:</th>      <td>28.399</td>  <th>  Cond. No.          </th> <td>1.66e+05</td> \n",
       "</tr>\n",
       "</table><br/><br/>Warnings:<br/>[1] Standard Errors assume that the covariance matrix of the errors is correctly specified.<br/>[2] The condition number is large, 1.66e+05. This might indicate that there are<br/>strong multicollinearity or other numerical problems."
      ],
      "text/plain": [
       "<class 'statsmodels.iolib.summary.Summary'>\n",
       "\"\"\"\n",
       "                            OLS Regression Results                            \n",
       "==============================================================================\n",
       "Dep. Variable:              saleprice   R-squared:                       0.772\n",
       "Model:                            OLS   Adj. R-squared:                  0.769\n",
       "Method:                 Least Squares   F-statistic:                     243.5\n",
       "Date:                Wed, 16 Dec 2020   Prob (F-statistic):               0.00\n",
       "Time:                        14:13:06   Log-Likelihood:                -17465.\n",
       "No. Observations:                1460   AIC:                         3.497e+04\n",
       "Df Residuals:                    1439   BIC:                         3.508e+04\n",
       "Df Model:                          20                                         \n",
       "Covariance Type:            nonrobust                                         \n",
       "====================================================================================\n",
       "                       coef    std err          t      P>|t|      [0.025      0.975]\n",
       "------------------------------------------------------------------------------------\n",
       "const            -1.093e+05   2.72e+04     -4.015      0.000   -1.63e+05   -5.59e+04\n",
       "overallqual       2.293e+04   1075.527     21.322      0.000    2.08e+04     2.5e+04\n",
       "grlivarea           48.2718      2.499     19.320      0.000      43.371      53.173\n",
       "garagecars        1.239e+04   3006.773      4.120      0.000    6489.918    1.83e+04\n",
       "garagearea          23.6586     10.385      2.278      0.023       3.288      44.029\n",
       "totalbsmtsf         31.6301      2.881     10.980      0.000      25.979      37.281\n",
       "condition1_Feedr  1.064e+04   7192.319      1.480      0.139   -3465.783    2.48e+04\n",
       "condition1_Norm   2.518e+04   5843.632      4.309      0.000    1.37e+04    3.66e+04\n",
       "condition1_PosA   1.861e+04   1.47e+04      1.265      0.206   -1.02e+04    4.75e+04\n",
       "condition1_PosN   1.916e+04   1.09e+04      1.754      0.080   -2266.670    4.06e+04\n",
       "condition1_RRAe   4081.2714   1.29e+04      0.317      0.751   -2.12e+04    2.94e+04\n",
       "condition1_RRAn   2.037e+04   9806.080      2.078      0.038    1138.066    3.96e+04\n",
       "condition1_RRNe   1.475e+04   2.76e+04      0.534      0.594   -3.94e+04    6.89e+04\n",
       "condition1_RRNn   2.495e+04   1.84e+04      1.356      0.175   -1.12e+04     6.1e+04\n",
       "condition2_Feedr   -3.6e+04   3.24e+04     -1.111      0.267   -9.96e+04    2.76e+04\n",
       "condition2_Norm  -1.216e+04   2.77e+04     -0.439      0.661   -6.65e+04    4.22e+04\n",
       "condition2_PosA  -1.366e+04   4.73e+04     -0.289      0.773   -1.06e+05    7.92e+04\n",
       "condition2_PosN   -1.62e+05   4.01e+04     -4.041      0.000   -2.41e+05   -8.33e+04\n",
       "condition2_RRAe  -3.445e+04   4.74e+04     -0.726      0.468   -1.27e+05    5.86e+04\n",
       "condition2_RRAn  -5.056e+04   4.74e+04     -1.068      0.286   -1.43e+05    4.23e+04\n",
       "condition2_RRNn   8585.1105    3.9e+04      0.220      0.826   -6.79e+04    8.51e+04\n",
       "==============================================================================\n",
       "Omnibus:                      411.281   Durbin-Watson:                   1.979\n",
       "Prob(Omnibus):                  0.000   Jarque-Bera (JB):            39247.829\n",
       "Skew:                          -0.100   Prob(JB):                         0.00\n",
       "Kurtosis:                      28.399   Cond. No.                     1.66e+05\n",
       "==============================================================================\n",
       "\n",
       "Warnings:\n",
       "[1] Standard Errors assume that the covariance matrix of the errors is correctly specified.\n",
       "[2] The condition number is large, 1.66e+05. This might indicate that there are\n",
       "strong multicollinearity or other numerical problems.\n",
       "\"\"\""
      ]
     },
     "execution_count": 11,
     "metadata": {},
     "output_type": "execute_result"
    },
    {
     "data": {
      "application/javascript": [
       "\n",
       "            setTimeout(function() {\n",
       "                var nbb_cell_id = 11;\n",
       "                var nbb_unformatted_code = \"X = sm.add_constant(X)\\nmodel = sm.OLS(y, X).fit()\\nmodel.summary()\";\n",
       "                var nbb_formatted_code = \"X = sm.add_constant(X)\\nmodel = sm.OLS(y, X).fit()\\nmodel.summary()\";\n",
       "                var nbb_cells = Jupyter.notebook.get_cells();\n",
       "                for (var i = 0; i < nbb_cells.length; ++i) {\n",
       "                    if (nbb_cells[i].input_prompt_number == nbb_cell_id) {\n",
       "                        if (nbb_cells[i].get_text() == nbb_unformatted_code) {\n",
       "                             nbb_cells[i].set_text(nbb_formatted_code);\n",
       "                        }\n",
       "                        break;\n",
       "                    }\n",
       "                }\n",
       "            }, 500);\n",
       "            "
      ],
      "text/plain": [
       "<IPython.core.display.Javascript object>"
      ]
     },
     "metadata": {},
     "output_type": "display_data"
    }
   ],
   "source": [
    "X = sm.add_constant(X)\n",
    "model = sm.OLS(y, X).fit()\n",
    "model.summary()"
   ]
  },
  {
   "cell_type": "code",
   "execution_count": 14,
   "metadata": {},
   "outputs": [
    {
     "name": "stdout",
     "output_type": "stream",
     "text": [
      "Mean of the errors in the model is : -1.2107073865218522e-08\n"
     ]
    },
    {
     "data": {
      "application/javascript": [
       "\n",
       "            setTimeout(function() {\n",
       "                var nbb_cell_id = 14;\n",
       "                var nbb_unformatted_code = \"predictions = model.predict()\\nerrors = y - predictions\\nprint(\\\"Mean of the errors in the model is : {}\\\".format(np.mean(errors)))\";\n",
       "                var nbb_formatted_code = \"predictions = model.predict()\\nerrors = y - predictions\\nprint(\\\"Mean of the errors in the model is : {}\\\".format(np.mean(errors)))\";\n",
       "                var nbb_cells = Jupyter.notebook.get_cells();\n",
       "                for (var i = 0; i < nbb_cells.length; ++i) {\n",
       "                    if (nbb_cells[i].input_prompt_number == nbb_cell_id) {\n",
       "                        if (nbb_cells[i].get_text() == nbb_unformatted_code) {\n",
       "                             nbb_cells[i].set_text(nbb_formatted_code);\n",
       "                        }\n",
       "                        break;\n",
       "                    }\n",
       "                }\n",
       "            }, 500);\n",
       "            "
      ],
      "text/plain": [
       "<IPython.core.display.Javascript object>"
      ]
     },
     "metadata": {},
     "output_type": "display_data"
    }
   ],
   "source": [
    "predictions = model.predict()\n",
    "errors = y - predictions\n",
    "print(\"Mean of the errors in the model is : {}\".format(np.mean(errors)))"
   ]
  },
  {
   "cell_type": "code",
   "execution_count": 15,
   "metadata": {},
   "outputs": [
    {
     "data": {
      "image/png": "[encoded data removed]",
      "text/plain": [
       "<Figure size 432x288 with 1 Axes>"
      ]
     },
     "metadata": {
      "needs_background": "light"
     },
     "output_type": "display_data"
    },
    {
     "data": {
      "application/javascript": [
       "\n",
       "            setTimeout(function() {\n",
       "                var nbb_cell_id = 15;\n",
       "                var nbb_unformatted_code = \"plt.scatter(predictions, errors)\\nplt.xlabel('Predicted')\\nplt.ylabel('Residual')\\nplt.axhline(y=0)\\nplt.title('Residual vs. Predicted')\\nplt.show()\";\n",
       "                var nbb_formatted_code = \"plt.scatter(predictions, errors)\\nplt.xlabel(\\\"Predicted\\\")\\nplt.ylabel(\\\"Residual\\\")\\nplt.axhline(y=0)\\nplt.title(\\\"Residual vs. Predicted\\\")\\nplt.show()\";\n",
       "                var nbb_cells = Jupyter.notebook.get_cells();\n",
       "                for (var i = 0; i < nbb_cells.length; ++i) {\n",
       "                    if (nbb_cells[i].input_prompt_number == nbb_cell_id) {\n",
       "                        if (nbb_cells[i].get_text() == nbb_unformatted_code) {\n",
       "                             nbb_cells[i].set_text(nbb_formatted_code);\n",
       "                        }\n",
       "                        break;\n",
       "                    }\n",
       "                }\n",
       "            }, 500);\n",
       "            "
      ],
      "text/plain": [
       "<IPython.core.display.Javascript object>"
      ]
     },
     "metadata": {},
     "output_type": "display_data"
    }
   ],
   "source": [
    "plt.scatter(predictions, errors)\n",
    "plt.xlabel(\"Predicted\")\n",
    "plt.ylabel(\"Residual\")\n",
    "plt.axhline(y=0)\n",
    "plt.title(\"Residual vs. Predicted\")\n",
    "plt.show()"
   ]
  },
  {
   "cell_type": "code",
   "execution_count": 16,
   "metadata": {},
   "outputs": [
    {
     "name": "stdout",
     "output_type": "stream",
     "text": [
      "Bartlett test statistic value is 511.323 and p value is 3.27e-113\n",
      "Levene test statistic value is 494.466 and p value is 2.52e-101\n"
     ]
    },
    {
     "data": {
      "application/javascript": [
       "\n",
       "            setTimeout(function() {\n",
       "                var nbb_cell_id = 16;\n",
       "                var nbb_unformatted_code = \"from scipy.stats import bartlett\\nfrom scipy.stats import levene\\n\\nbart_stats = bartlett(predictions, errors)\\nlev_stats = levene(predictions, errors)\\n\\nprint(\\\"Bartlett test statistic value is {0:3g} and p value is {1:.3g}\\\".format(bart_stats[0], bart_stats[1]))\\nprint(\\\"Levene test statistic value is {0:3g} and p value is {1:.3g}\\\".format(lev_stats[0], lev_stats[1]))\";\n",
       "                var nbb_formatted_code = \"from scipy.stats import bartlett\\nfrom scipy.stats import levene\\n\\nbart_stats = bartlett(predictions, errors)\\nlev_stats = levene(predictions, errors)\\n\\nprint(\\n    \\\"Bartlett test statistic value is {0:3g} and p value is {1:.3g}\\\".format(\\n        bart_stats[0], bart_stats[1]\\n    )\\n)\\nprint(\\n    \\\"Levene test statistic value is {0:3g} and p value is {1:.3g}\\\".format(\\n        lev_stats[0], lev_stats[1]\\n    )\\n)\";\n",
       "                var nbb_cells = Jupyter.notebook.get_cells();\n",
       "                for (var i = 0; i < nbb_cells.length; ++i) {\n",
       "                    if (nbb_cells[i].input_prompt_number == nbb_cell_id) {\n",
       "                        if (nbb_cells[i].get_text() == nbb_unformatted_code) {\n",
       "                             nbb_cells[i].set_text(nbb_formatted_code);\n",
       "                        }\n",
       "                        break;\n",
       "                    }\n",
       "                }\n",
       "            }, 500);\n",
       "            "
      ],
      "text/plain": [
       "<IPython.core.display.Javascript object>"
      ]
     },
     "metadata": {},
     "output_type": "display_data"
    }
   ],
   "source": [
    "from scipy.stats import bartlett\n",
    "from scipy.stats import levene\n",
    "\n",
    "bart_stats = bartlett(predictions, errors)\n",
    "lev_stats = levene(predictions, errors)\n",
    "\n",
    "print(\n",
    "    \"Bartlett test statistic value is {0:3g} and p value is {1:.3g}\".format(\n",
    "        bart_stats[0], bart_stats[1]\n",
    "    )\n",
    ")\n",
    "print(\n",
    "    \"Levene test statistic value is {0:3g} and p value is {1:.3g}\".format(\n",
    "        lev_stats[0], lev_stats[1]\n",
    "    )\n",
    ")"
   ]
  },
  {
   "cell_type": "markdown",
   "metadata": {},
   "source": [
    "Another set of p-values < 0.05. Proof of heteroscedastic errors"
   ]
  },
  {
   "cell_type": "code",
   "execution_count": 19,
   "metadata": {},
   "outputs": [
    {
     "data": {
      "image/png": "[encoded data removed]",
      "text/plain": [
       "<Figure size 432x288 with 2 Axes>"
      ]
     },
     "metadata": {
      "needs_background": "light"
     },
     "output_type": "display_data"
    },
    {
     "data": {
      "application/javascript": [
       "\n",
       "            setTimeout(function() {\n",
       "                var nbb_cell_id = 19;\n",
       "                var nbb_unformatted_code = \"sns.heatmap(X.corr())\\nplt.show()\";\n",
       "                var nbb_formatted_code = \"sns.heatmap(X.corr())\\nplt.show()\";\n",
       "                var nbb_cells = Jupyter.notebook.get_cells();\n",
       "                for (var i = 0; i < nbb_cells.length; ++i) {\n",
       "                    if (nbb_cells[i].input_prompt_number == nbb_cell_id) {\n",
       "                        if (nbb_cells[i].get_text() == nbb_unformatted_code) {\n",
       "                             nbb_cells[i].set_text(nbb_formatted_code);\n",
       "                        }\n",
       "                        break;\n",
       "                    }\n",
       "                }\n",
       "            }, 500);\n",
       "            "
      ],
      "text/plain": [
       "<IPython.core.display.Javascript object>"
      ]
     },
     "metadata": {},
     "output_type": "display_data"
    }
   ],
   "source": [
    "sns.heatmap(X.corr())\n",
    "plt.show()"
   ]
  },
  {
   "cell_type": "code",
   "execution_count": 20,
   "metadata": {},
   "outputs": [
    {
     "data": {
      "image/png": "[encoded data removed]",
      "text/plain": [
       "<Figure size 432x288 with 1 Axes>"
      ]
     },
     "metadata": {
      "needs_background": "light"
     },
     "output_type": "display_data"
    },
    {
     "data": {
      "application/javascript": [
       "\n",
       "            setTimeout(function() {\n",
       "                var nbb_cell_id = 20;\n",
       "                var nbb_unformatted_code = \"plt.plot(errors)\\nplt.show()\";\n",
       "                var nbb_formatted_code = \"plt.plot(errors)\\nplt.show()\";\n",
       "                var nbb_cells = Jupyter.notebook.get_cells();\n",
       "                for (var i = 0; i < nbb_cells.length; ++i) {\n",
       "                    if (nbb_cells[i].input_prompt_number == nbb_cell_id) {\n",
       "                        if (nbb_cells[i].get_text() == nbb_unformatted_code) {\n",
       "                             nbb_cells[i].set_text(nbb_formatted_code);\n",
       "                        }\n",
       "                        break;\n",
       "                    }\n",
       "                }\n",
       "            }, 500);\n",
       "            "
      ],
      "text/plain": [
       "<IPython.core.display.Javascript object>"
      ]
     },
     "metadata": {},
     "output_type": "display_data"
    }
   ],
   "source": [
    "plt.plot(errors)\n",
    "plt.show()"
   ]
  },
  {
   "cell_type": "code",
   "execution_count": 21,
   "metadata": {},
   "outputs": [
    {
     "data": {
      "image/png": "[encoded data removed]",
      "text/plain": [
       "<Figure size 432x288 with 1 Axes>"
      ]
     },
     "metadata": {
      "needs_background": "light"
     },
     "output_type": "display_data"
    },
    {
     "data": {
      "application/javascript": [
       "\n",
       "            setTimeout(function() {\n",
       "                var nbb_cell_id = 21;\n",
       "                var nbb_unformatted_code = \"from statsmodels.tsa.stattools import acf\\n\\nacf_data = acf(errors)\\n\\nplt.plot(acf_data[1:])\\nplt.show()\";\n",
       "                var nbb_formatted_code = \"from statsmodels.tsa.stattools import acf\\n\\nacf_data = acf(errors)\\n\\nplt.plot(acf_data[1:])\\nplt.show()\";\n",
       "                var nbb_cells = Jupyter.notebook.get_cells();\n",
       "                for (var i = 0; i < nbb_cells.length; ++i) {\n",
       "                    if (nbb_cells[i].input_prompt_number == nbb_cell_id) {\n",
       "                        if (nbb_cells[i].get_text() == nbb_unformatted_code) {\n",
       "                             nbb_cells[i].set_text(nbb_formatted_code);\n",
       "                        }\n",
       "                        break;\n",
       "                    }\n",
       "                }\n",
       "            }, 500);\n",
       "            "
      ],
      "text/plain": [
       "<IPython.core.display.Javascript object>"
      ]
     },
     "metadata": {},
     "output_type": "display_data"
    }
   ],
   "source": [
    "from statsmodels.tsa.stattools import acf\n",
    "\n",
    "acf_data = acf(errors)\n",
    "\n",
    "plt.plot(acf_data[1:])\n",
    "plt.show()"
   ]
  },
  {
   "cell_type": "markdown",
   "metadata": {},
   "source": [
    "This error data is not autocorellated."
   ]
  },
  {
   "cell_type": "code",
   "execution_count": 22,
   "metadata": {},
   "outputs": [
    {
     "data": {
      "image/png": "[encoded data removed]",
      "text/plain": [
       "<Figure size 864x360 with 2 Axes>"
      ]
     },
     "metadata": {
      "needs_background": "light"
     },
     "output_type": "display_data"
    },
    {
     "data": {
      "application/javascript": [
       "\n",
       "            setTimeout(function() {\n",
       "                var nbb_cell_id = 22;\n",
       "                var nbb_unformatted_code = \"rand_nums = np.random.normal(np.mean(errors), np.std(errors), len(errors))\\n\\nplt.figure(figsize=(12,5))\\n\\nplt.subplot(1,2,1)\\nplt.scatter(np.sort(rand_nums), np.sort(errors)) # Sort the arrays\\nplt.xlabel(\\\"the normally distributed random variable\\\")\\nplt.ylabel(\\\"errors of the model\\\")\\nplt.title(\\\"QQ plot\\\")\\n\\nplt.subplot(1,2,2)\\nplt.hist(errors)\\nplt.xlabel(\\\"errors\\\")\\nplt.title(\\\"Histogram of the errors\\\")\\n\\nplt.tight_layout()\\nplt.show()\";\n",
       "                var nbb_formatted_code = \"rand_nums = np.random.normal(np.mean(errors), np.std(errors), len(errors))\\n\\nplt.figure(figsize=(12, 5))\\n\\nplt.subplot(1, 2, 1)\\nplt.scatter(np.sort(rand_nums), np.sort(errors))  # Sort the arrays\\nplt.xlabel(\\\"the normally distributed random variable\\\")\\nplt.ylabel(\\\"errors of the model\\\")\\nplt.title(\\\"QQ plot\\\")\\n\\nplt.subplot(1, 2, 2)\\nplt.hist(errors)\\nplt.xlabel(\\\"errors\\\")\\nplt.title(\\\"Histogram of the errors\\\")\\n\\nplt.tight_layout()\\nplt.show()\";\n",
       "                var nbb_cells = Jupyter.notebook.get_cells();\n",
       "                for (var i = 0; i < nbb_cells.length; ++i) {\n",
       "                    if (nbb_cells[i].input_prompt_number == nbb_cell_id) {\n",
       "                        if (nbb_cells[i].get_text() == nbb_unformatted_code) {\n",
       "                             nbb_cells[i].set_text(nbb_formatted_code);\n",
       "                        }\n",
       "                        break;\n",
       "                    }\n",
       "                }\n",
       "            }, 500);\n",
       "            "
      ],
      "text/plain": [
       "<IPython.core.display.Javascript object>"
      ]
     },
     "metadata": {},
     "output_type": "display_data"
    }
   ],
   "source": [
    "rand_nums = np.random.normal(np.mean(errors), np.std(errors), len(errors))\n",
    "\n",
    "plt.figure(figsize=(12, 5))\n",
    "\n",
    "plt.subplot(1, 2, 1)\n",
    "plt.scatter(np.sort(rand_nums), np.sort(errors))  # Sort the arrays\n",
    "plt.xlabel(\"the normally distributed random variable\")\n",
    "plt.ylabel(\"errors of the model\")\n",
    "plt.title(\"QQ plot\")\n",
    "\n",
    "plt.subplot(1, 2, 2)\n",
    "plt.hist(errors)\n",
    "plt.xlabel(\"errors\")\n",
    "plt.title(\"Histogram of the errors\")\n",
    "\n",
    "plt.tight_layout()\n",
    "plt.show()"
   ]
  },
  {
   "cell_type": "code",
   "execution_count": 24,
   "metadata": {},
   "outputs": [
    {
     "data": {
      "application/javascript": [
       "\n",
       "            setTimeout(function() {\n",
       "                var nbb_cell_id = 24;\n",
       "                var nbb_unformatted_code = \"from scipy.stats import jarque_bera\\nfrom scipy.stats import normaltest\";\n",
       "                var nbb_formatted_code = \"from scipy.stats import jarque_bera\\nfrom scipy.stats import normaltest\";\n",
       "                var nbb_cells = Jupyter.notebook.get_cells();\n",
       "                for (var i = 0; i < nbb_cells.length; ++i) {\n",
       "                    if (nbb_cells[i].input_prompt_number == nbb_cell_id) {\n",
       "                        if (nbb_cells[i].get_text() == nbb_unformatted_code) {\n",
       "                             nbb_cells[i].set_text(nbb_formatted_code);\n",
       "                        }\n",
       "                        break;\n",
       "                    }\n",
       "                }\n",
       "            }, 500);\n",
       "            "
      ],
      "text/plain": [
       "<IPython.core.display.Javascript object>"
      ]
     },
     "metadata": {},
     "output_type": "display_data"
    }
   ],
   "source": [
    "from scipy.stats import jarque_bera\n",
    "from scipy.stats import normaltest"
   ]
  },
  {
   "cell_type": "code",
   "execution_count": 25,
   "metadata": {},
   "outputs": [
    {
     "name": "stdout",
     "output_type": "stream",
     "text": [
      "Jarque-Bera test statistics is 39247.829260178325 and p value is 0.0\n",
      "Normality test statistics is 411.28107313076634 and p value is 4.914164769093635e-90\n"
     ]
    },
    {
     "data": {
      "application/javascript": [
       "\n",
       "            setTimeout(function() {\n",
       "                var nbb_cell_id = 25;\n",
       "                var nbb_unformatted_code = \"jb_stats = jarque_bera(errors)\\nnorm_stats = normaltest(errors)\\n\\nprint(\\n    \\\"Jarque-Bera test statistics is {0} and p value is {1}\\\".format(\\n        jb_stats[0], jb_stats[1]\\n    )\\n)\\nprint(\\n    \\\"Normality test statistics is {0} and p value is {1}\\\".format(\\n        norm_stats[0], norm_stats[1]\\n    )\\n)\";\n",
       "                var nbb_formatted_code = \"jb_stats = jarque_bera(errors)\\nnorm_stats = normaltest(errors)\\n\\nprint(\\n    \\\"Jarque-Bera test statistics is {0} and p value is {1}\\\".format(\\n        jb_stats[0], jb_stats[1]\\n    )\\n)\\nprint(\\n    \\\"Normality test statistics is {0} and p value is {1}\\\".format(\\n        norm_stats[0], norm_stats[1]\\n    )\\n)\";\n",
       "                var nbb_cells = Jupyter.notebook.get_cells();\n",
       "                for (var i = 0; i < nbb_cells.length; ++i) {\n",
       "                    if (nbb_cells[i].input_prompt_number == nbb_cell_id) {\n",
       "                        if (nbb_cells[i].get_text() == nbb_unformatted_code) {\n",
       "                             nbb_cells[i].set_text(nbb_formatted_code);\n",
       "                        }\n",
       "                        break;\n",
       "                    }\n",
       "                }\n",
       "            }, 500);\n",
       "            "
      ],
      "text/plain": [
       "<IPython.core.display.Javascript object>"
      ]
     },
     "metadata": {},
     "output_type": "display_data"
    }
   ],
   "source": [
    "jb_stats = jarque_bera(errors)\n",
    "norm_stats = normaltest(errors)\n",
    "\n",
    "print(\n",
    "    \"Jarque-Bera test statistics is {0} and p value is {1}\".format(\n",
    "        jb_stats[0], jb_stats[1]\n",
    "    )\n",
    ")\n",
    "print(\n",
    "    \"Normality test statistics is {0} and p value is {1}\".format(\n",
    "        norm_stats[0], norm_stats[1]\n",
    "    )\n",
    ")"
   ]
  },
  {
   "cell_type": "markdown",
   "metadata": {},
   "source": [
    "As suspected. The errors are not normally distributed. As shown by both these p-values coming in at < 0.05."
   ]
  },
  {
   "cell_type": "code",
   "execution_count": null,
   "metadata": {},
   "outputs": [],
   "source": []
  }
 ],
 "metadata": {
  "kernelspec": {
   "display_name": "Python 3",
   "language": "python",
   "name": "python3"
  },
  "language_info": {
   "codemirror_mode": {
    "name": "ipython",
    "version": 3
   },
   "file_extension": ".py",
   "mimetype": "text/x-python",
   "name": "python",
   "nbconvert_exporter": "python",
   "pygments_lexer": "ipython3",
   "version": "3.8.3"
  }
 },
 "nbformat": 4,
 "nbformat_minor": 4
}
