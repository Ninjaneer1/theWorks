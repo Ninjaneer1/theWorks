{
 "cells": [
  {
   "cell_type": "code",
   "execution_count": 1,
   "metadata": {},
   "outputs": [
    {
     "data": {
      "application/javascript": [
       "\n",
       "            setTimeout(function() {\n",
       "                var nbb_cell_id = 1;\n",
       "                var nbb_unformatted_code = \"%reload_ext nb_black\";\n",
       "                var nbb_formatted_code = \"%reload_ext nb_black\";\n",
       "                var nbb_cells = Jupyter.notebook.get_cells();\n",
       "                for (var i = 0; i < nbb_cells.length; ++i) {\n",
       "                    if (nbb_cells[i].input_prompt_number == nbb_cell_id) {\n",
       "                        if (nbb_cells[i].get_text() == nbb_unformatted_code) {\n",
       "                             nbb_cells[i].set_text(nbb_formatted_code);\n",
       "                        }\n",
       "                        break;\n",
       "                    }\n",
       "                }\n",
       "            }, 500);\n",
       "            "
      ],
      "text/plain": [
       "<IPython.core.display.Javascript object>"
      ]
     },
     "metadata": {},
     "output_type": "display_data"
    }
   ],
   "source": [
    "%reload_ext nb_black"
   ]
  },
  {
   "cell_type": "code",
   "execution_count": 2,
   "metadata": {},
   "outputs": [
    {
     "data": {
      "application/javascript": [
       "\n",
       "            setTimeout(function() {\n",
       "                var nbb_cell_id = 2;\n",
       "                var nbb_unformatted_code = \"import pandas as pd\\nimport numpy as np\\nimport seaborn as sns\\nimport matplotlib.pyplot as plt\\nimport config\\nimport random\\nfrom itertools import chain\\nfrom scipy.stats.stats import ttest_ind\\nfrom scipy import stats\\nfrom scipy.stats.mstats import winsorize\\nfrom scipy.stats import boxcox\\nfrom scipy.stats import jarque_bera\\nfrom scipy.stats import normaltest\\n\\n%matplotlib inline\\nfrom sqlalchemy import create_engine\\nimport warnings\\n\\nwarnings.filterwarnings(\\\"ignore\\\")\";\n",
       "                var nbb_formatted_code = \"import pandas as pd\\nimport numpy as np\\nimport seaborn as sns\\nimport matplotlib.pyplot as plt\\nimport config\\nimport random\\nfrom itertools import chain\\nfrom scipy.stats.stats import ttest_ind\\nfrom scipy import stats\\nfrom scipy.stats.mstats import winsorize\\nfrom scipy.stats import boxcox\\nfrom scipy.stats import jarque_bera\\nfrom scipy.stats import normaltest\\n\\n%matplotlib inline\\nfrom sqlalchemy import create_engine\\nimport warnings\\n\\nwarnings.filterwarnings(\\\"ignore\\\")\";\n",
       "                var nbb_cells = Jupyter.notebook.get_cells();\n",
       "                for (var i = 0; i < nbb_cells.length; ++i) {\n",
       "                    if (nbb_cells[i].input_prompt_number == nbb_cell_id) {\n",
       "                        if (nbb_cells[i].get_text() == nbb_unformatted_code) {\n",
       "                             nbb_cells[i].set_text(nbb_formatted_code);\n",
       "                        }\n",
       "                        break;\n",
       "                    }\n",
       "                }\n",
       "            }, 500);\n",
       "            "
      ],
      "text/plain": [
       "<IPython.core.display.Javascript object>"
      ]
     },
     "metadata": {},
     "output_type": "display_data"
    }
   ],
   "source": [
    "import pandas as pd\n",
    "import numpy as np\n",
    "import seaborn as sns\n",
    "import matplotlib.pyplot as plt\n",
    "import config\n",
    "import random\n",
    "from itertools import chain\n",
    "from scipy.stats.stats import ttest_ind\n",
    "from scipy import stats\n",
    "from scipy.stats.mstats import winsorize\n",
    "from scipy.stats import boxcox\n",
    "from scipy.stats import jarque_bera\n",
    "from scipy.stats import normaltest\n",
    "\n",
    "%matplotlib inline\n",
    "from sqlalchemy import create_engine\n",
    "import warnings\n",
    "\n",
    "warnings.filterwarnings(\"ignore\")"
   ]
  },
  {
   "cell_type": "code",
   "execution_count": 3,
   "metadata": {},
   "outputs": [
    {
     "data": {
      "application/javascript": [
       "\n",
       "            setTimeout(function() {\n",
       "                var nbb_cell_id = 3;\n",
       "                var nbb_unformatted_code = \"postgres_user = config.user\\npostgres_pw = config.password\\npostgres_host = config.host\\npostgres_port = config.port\\npostgres_db = \\\"lifeexpectancy\\\"\\ntable_name = \\\"lifeexpectancy\\\"\\n\\nengine = create_engine(\\n    \\\"postgresql://{}:{}@{}:{}/{}\\\".format(\\n        postgres_user, postgres_pw, postgres_host, postgres_port, postgres_db\\n    )\\n)\\n\\ndf = pd.read_sql_query(\\\"select * from lifeexpectancy\\\", con=engine)\\n\\n# No need for an open connection,\\n# because you're only doing a single query\\nengine.dispose()\";\n",
       "                var nbb_formatted_code = \"postgres_user = config.user\\npostgres_pw = config.password\\npostgres_host = config.host\\npostgres_port = config.port\\npostgres_db = \\\"lifeexpectancy\\\"\\ntable_name = \\\"lifeexpectancy\\\"\\n\\nengine = create_engine(\\n    \\\"postgresql://{}:{}@{}:{}/{}\\\".format(\\n        postgres_user, postgres_pw, postgres_host, postgres_port, postgres_db\\n    )\\n)\\n\\ndf = pd.read_sql_query(\\\"select * from lifeexpectancy\\\", con=engine)\\n\\n# No need for an open connection,\\n# because you're only doing a single query\\nengine.dispose()\";\n",
       "                var nbb_cells = Jupyter.notebook.get_cells();\n",
       "                for (var i = 0; i < nbb_cells.length; ++i) {\n",
       "                    if (nbb_cells[i].input_prompt_number == nbb_cell_id) {\n",
       "                        if (nbb_cells[i].get_text() == nbb_unformatted_code) {\n",
       "                             nbb_cells[i].set_text(nbb_formatted_code);\n",
       "                        }\n",
       "                        break;\n",
       "                    }\n",
       "                }\n",
       "            }, 500);\n",
       "            "
      ],
      "text/plain": [
       "<IPython.core.display.Javascript object>"
      ]
     },
     "metadata": {},
     "output_type": "display_data"
    }
   ],
   "source": [
    "postgres_user = config.user\n",
    "postgres_pw = config.password\n",
    "postgres_host = config.host\n",
    "postgres_port = config.port\n",
    "postgres_db = \"lifeexpectancy\"\n",
    "table_name = \"lifeexpectancy\"\n",
    "\n",
    "engine = create_engine(\n",
    "    \"postgresql://{}:{}@{}:{}/{}\".format(\n",
    "        postgres_user, postgres_pw, postgres_host, postgres_port, postgres_db\n",
    "    )\n",
    ")\n",
    "\n",
    "df = pd.read_sql_query(\"select * from lifeexpectancy\", con=engine)\n",
    "\n",
    "# No need for an open connection,\n",
    "# because you're only doing a single query\n",
    "engine.dispose()"
   ]
  },
  {
   "cell_type": "code",
   "execution_count": 4,
   "metadata": {},
   "outputs": [
    {
     "data": {
      "text/html": [
       "<div>\n",
       "<style scoped>\n",
       "    .dataframe tbody tr th:only-of-type {\n",
       "        vertical-align: middle;\n",
       "    }\n",
       "\n",
       "    .dataframe tbody tr th {\n",
       "        vertical-align: top;\n",
       "    }\n",
       "\n",
       "    .dataframe thead th {\n",
       "        text-align: right;\n",
       "    }\n",
       "</style>\n",
       "<table border=\"1\" class=\"dataframe\">\n",
       "  <thead>\n",
       "    <tr style=\"text-align: right;\">\n",
       "      <th></th>\n",
       "      <th>Country</th>\n",
       "      <th>Year</th>\n",
       "      <th>Status</th>\n",
       "      <th>Life expectancy</th>\n",
       "      <th>Adult Mortality</th>\n",
       "      <th>infant deaths</th>\n",
       "      <th>Alcohol</th>\n",
       "      <th>percentage expenditure</th>\n",
       "      <th>Hepatitis B</th>\n",
       "      <th>Measles</th>\n",
       "      <th>...</th>\n",
       "      <th>Polio</th>\n",
       "      <th>Total expenditure</th>\n",
       "      <th>Diphtheria</th>\n",
       "      <th>HIV/AIDS</th>\n",
       "      <th>GDP</th>\n",
       "      <th>Population</th>\n",
       "      <th>thinness  1-19 years</th>\n",
       "      <th>thinness 5-9 years</th>\n",
       "      <th>Income composition of resources</th>\n",
       "      <th>Schooling</th>\n",
       "    </tr>\n",
       "  </thead>\n",
       "  <tbody>\n",
       "    <tr>\n",
       "      <th>0</th>\n",
       "      <td>Afghanistan</td>\n",
       "      <td>2015</td>\n",
       "      <td>Developing</td>\n",
       "      <td>65.0</td>\n",
       "      <td>263.0</td>\n",
       "      <td>62</td>\n",
       "      <td>0.01</td>\n",
       "      <td>71.279624</td>\n",
       "      <td>65.0</td>\n",
       "      <td>1154</td>\n",
       "      <td>...</td>\n",
       "      <td>6.0</td>\n",
       "      <td>8.16</td>\n",
       "      <td>65.0</td>\n",
       "      <td>0.1</td>\n",
       "      <td>584.259210</td>\n",
       "      <td>33736494.0</td>\n",
       "      <td>17.2</td>\n",
       "      <td>17.3</td>\n",
       "      <td>0.479</td>\n",
       "      <td>10.1</td>\n",
       "    </tr>\n",
       "    <tr>\n",
       "      <th>1</th>\n",
       "      <td>Afghanistan</td>\n",
       "      <td>2014</td>\n",
       "      <td>Developing</td>\n",
       "      <td>59.9</td>\n",
       "      <td>271.0</td>\n",
       "      <td>64</td>\n",
       "      <td>0.01</td>\n",
       "      <td>73.523582</td>\n",
       "      <td>62.0</td>\n",
       "      <td>492</td>\n",
       "      <td>...</td>\n",
       "      <td>58.0</td>\n",
       "      <td>8.18</td>\n",
       "      <td>62.0</td>\n",
       "      <td>0.1</td>\n",
       "      <td>612.696514</td>\n",
       "      <td>327582.0</td>\n",
       "      <td>17.5</td>\n",
       "      <td>17.5</td>\n",
       "      <td>0.476</td>\n",
       "      <td>10.0</td>\n",
       "    </tr>\n",
       "    <tr>\n",
       "      <th>2</th>\n",
       "      <td>Afghanistan</td>\n",
       "      <td>2013</td>\n",
       "      <td>Developing</td>\n",
       "      <td>59.9</td>\n",
       "      <td>268.0</td>\n",
       "      <td>66</td>\n",
       "      <td>0.01</td>\n",
       "      <td>73.219243</td>\n",
       "      <td>64.0</td>\n",
       "      <td>430</td>\n",
       "      <td>...</td>\n",
       "      <td>62.0</td>\n",
       "      <td>8.13</td>\n",
       "      <td>64.0</td>\n",
       "      <td>0.1</td>\n",
       "      <td>631.744976</td>\n",
       "      <td>31731688.0</td>\n",
       "      <td>17.7</td>\n",
       "      <td>17.7</td>\n",
       "      <td>0.470</td>\n",
       "      <td>9.9</td>\n",
       "    </tr>\n",
       "    <tr>\n",
       "      <th>3</th>\n",
       "      <td>Afghanistan</td>\n",
       "      <td>2012</td>\n",
       "      <td>Developing</td>\n",
       "      <td>59.5</td>\n",
       "      <td>272.0</td>\n",
       "      <td>69</td>\n",
       "      <td>0.01</td>\n",
       "      <td>78.184215</td>\n",
       "      <td>67.0</td>\n",
       "      <td>2787</td>\n",
       "      <td>...</td>\n",
       "      <td>67.0</td>\n",
       "      <td>8.52</td>\n",
       "      <td>67.0</td>\n",
       "      <td>0.1</td>\n",
       "      <td>669.959000</td>\n",
       "      <td>3696958.0</td>\n",
       "      <td>17.9</td>\n",
       "      <td>18.0</td>\n",
       "      <td>0.463</td>\n",
       "      <td>9.8</td>\n",
       "    </tr>\n",
       "    <tr>\n",
       "      <th>4</th>\n",
       "      <td>Afghanistan</td>\n",
       "      <td>2011</td>\n",
       "      <td>Developing</td>\n",
       "      <td>59.2</td>\n",
       "      <td>275.0</td>\n",
       "      <td>71</td>\n",
       "      <td>0.01</td>\n",
       "      <td>7.097109</td>\n",
       "      <td>68.0</td>\n",
       "      <td>3013</td>\n",
       "      <td>...</td>\n",
       "      <td>68.0</td>\n",
       "      <td>7.87</td>\n",
       "      <td>68.0</td>\n",
       "      <td>0.1</td>\n",
       "      <td>63.537231</td>\n",
       "      <td>2978599.0</td>\n",
       "      <td>18.2</td>\n",
       "      <td>18.2</td>\n",
       "      <td>0.454</td>\n",
       "      <td>9.5</td>\n",
       "    </tr>\n",
       "  </tbody>\n",
       "</table>\n",
       "<p>5 rows × 22 columns</p>\n",
       "</div>"
      ],
      "text/plain": [
       "       Country  Year      Status  Life expectancy   Adult Mortality  \\\n",
       "0  Afghanistan  2015  Developing              65.0            263.0   \n",
       "1  Afghanistan  2014  Developing              59.9            271.0   \n",
       "2  Afghanistan  2013  Developing              59.9            268.0   \n",
       "3  Afghanistan  2012  Developing              59.5            272.0   \n",
       "4  Afghanistan  2011  Developing              59.2            275.0   \n",
       "\n",
       "   infant deaths  Alcohol  percentage expenditure  Hepatitis B  Measles   ...  \\\n",
       "0             62     0.01               71.279624         65.0      1154  ...   \n",
       "1             64     0.01               73.523582         62.0       492  ...   \n",
       "2             66     0.01               73.219243         64.0       430  ...   \n",
       "3             69     0.01               78.184215         67.0      2787  ...   \n",
       "4             71     0.01                7.097109         68.0      3013  ...   \n",
       "\n",
       "   Polio  Total expenditure  Diphtheria    HIV/AIDS         GDP  Population  \\\n",
       "0    6.0               8.16         65.0        0.1  584.259210  33736494.0   \n",
       "1   58.0               8.18         62.0        0.1  612.696514    327582.0   \n",
       "2   62.0               8.13         64.0        0.1  631.744976  31731688.0   \n",
       "3   67.0               8.52         67.0        0.1  669.959000   3696958.0   \n",
       "4   68.0               7.87         68.0        0.1   63.537231   2978599.0   \n",
       "\n",
       "    thinness  1-19 years   thinness 5-9 years  \\\n",
       "0                   17.2                 17.3   \n",
       "1                   17.5                 17.5   \n",
       "2                   17.7                 17.7   \n",
       "3                   17.9                 18.0   \n",
       "4                   18.2                 18.2   \n",
       "\n",
       "   Income composition of resources  Schooling  \n",
       "0                            0.479       10.1  \n",
       "1                            0.476       10.0  \n",
       "2                            0.470        9.9  \n",
       "3                            0.463        9.8  \n",
       "4                            0.454        9.5  \n",
       "\n",
       "[5 rows x 22 columns]"
      ]
     },
     "execution_count": 4,
     "metadata": {},
     "output_type": "execute_result"
    },
    {
     "data": {
      "application/javascript": [
       "\n",
       "            setTimeout(function() {\n",
       "                var nbb_cell_id = 4;\n",
       "                var nbb_unformatted_code = \"df.head()\";\n",
       "                var nbb_formatted_code = \"df.head()\";\n",
       "                var nbb_cells = Jupyter.notebook.get_cells();\n",
       "                for (var i = 0; i < nbb_cells.length; ++i) {\n",
       "                    if (nbb_cells[i].input_prompt_number == nbb_cell_id) {\n",
       "                        if (nbb_cells[i].get_text() == nbb_unformatted_code) {\n",
       "                             nbb_cells[i].set_text(nbb_formatted_code);\n",
       "                        }\n",
       "                        break;\n",
       "                    }\n",
       "                }\n",
       "            }, 500);\n",
       "            "
      ],
      "text/plain": [
       "<IPython.core.display.Javascript object>"
      ]
     },
     "metadata": {},
     "output_type": "display_data"
    }
   ],
   "source": [
    "df.head()"
   ]
  },
  {
   "cell_type": "markdown",
   "metadata": {},
   "source": [
    "Your goal in this challenge is to find the factors that affect life expectancy. Specifically, you need to find out which factors increase the expected life in the countries and which factors decrease it.\n",
    "\n",
    "1. First, load the dataset.\n",
    "\n",
    "2. Detect the problems with the data, such as missing values and outliers. Are there any nonsense values that seem to be stemmed from the data collection? For the missing values, discuss which technique would be the most suitable for filling out these values. Regarding the outliers, discuss their potential effects on your analysis and select an appropriate method to deal with them.\n",
    "\n",
    "3. Explore the data using univariate and multivariate exploration techniques. Be sure to pay special attention to your target variable. In this regard, focus on finding the relevant variables that may affect life expectancy.\n",
    "\n",
    "4. In the feature-engineering step, you need to select a suite of variables that you think would be ideal in the modeling phase. More concretely, you may discard some variables that are highly correlated with the other ones or the variables that you think are irrelevant with the life expectancy.\n",
    "\n",
    "5. Summarize your findings. One of the most important skills of a data scientist is to convey ideas and findings to nontechnical people using understandable language. In this regard, one of the most effective ways to communicate your ideas is to do it using effective visualization"
   ]
  },
  {
   "cell_type": "markdown",
   "metadata": {},
   "source": [
    "## 2. Detect the problems with the data, such as missing values and outliers. Are there any nonsense values that seem to be stemmed from the data collection? For the missing values, discuss which technique would be the most suitable for filling out these values. Regarding the outliers, discuss their potential effects on your analysis and select an appropriate method to deal with them."
   ]
  },
  {
   "cell_type": "code",
   "execution_count": 5,
   "metadata": {},
   "outputs": [
    {
     "name": "stdout",
     "output_type": "stream",
     "text": [
      "<class 'pandas.core.frame.DataFrame'>\n",
      "RangeIndex: 2938 entries, 0 to 2937\n",
      "Data columns (total 22 columns):\n",
      " #   Column                           Non-Null Count  Dtype  \n",
      "---  ------                           --------------  -----  \n",
      " 0   Country                          2938 non-null   object \n",
      " 1   Year                             2938 non-null   int64  \n",
      " 2   Status                           2938 non-null   object \n",
      " 3   Life expectancy                  2928 non-null   float64\n",
      " 4   Adult Mortality                  2928 non-null   float64\n",
      " 5   infant deaths                    2938 non-null   int64  \n",
      " 6   Alcohol                          2744 non-null   float64\n",
      " 7   percentage expenditure           2938 non-null   float64\n",
      " 8   Hepatitis B                      2385 non-null   float64\n",
      " 9   Measles                          2938 non-null   int64  \n",
      " 10   BMI                             2904 non-null   float64\n",
      " 11  under-five deaths                2938 non-null   int64  \n",
      " 12  Polio                            2919 non-null   float64\n",
      " 13  Total expenditure                2712 non-null   float64\n",
      " 14  Diphtheria                       2919 non-null   float64\n",
      " 15   HIV/AIDS                        2938 non-null   float64\n",
      " 16  GDP                              2490 non-null   float64\n",
      " 17  Population                       2286 non-null   float64\n",
      " 18   thinness  1-19 years            2904 non-null   float64\n",
      " 19   thinness 5-9 years              2904 non-null   float64\n",
      " 20  Income composition of resources  2771 non-null   float64\n",
      " 21  Schooling                        2775 non-null   float64\n",
      "dtypes: float64(16), int64(4), object(2)\n",
      "memory usage: 505.1+ KB\n"
     ]
    },
    {
     "data": {
      "application/javascript": [
       "\n",
       "            setTimeout(function() {\n",
       "                var nbb_cell_id = 5;\n",
       "                var nbb_unformatted_code = \"df.info()\";\n",
       "                var nbb_formatted_code = \"df.info()\";\n",
       "                var nbb_cells = Jupyter.notebook.get_cells();\n",
       "                for (var i = 0; i < nbb_cells.length; ++i) {\n",
       "                    if (nbb_cells[i].input_prompt_number == nbb_cell_id) {\n",
       "                        if (nbb_cells[i].get_text() == nbb_unformatted_code) {\n",
       "                             nbb_cells[i].set_text(nbb_formatted_code);\n",
       "                        }\n",
       "                        break;\n",
       "                    }\n",
       "                }\n",
       "            }, 500);\n",
       "            "
      ],
      "text/plain": [
       "<IPython.core.display.Javascript object>"
      ]
     },
     "metadata": {},
     "output_type": "display_data"
    }
   ],
   "source": [
    "df.info()"
   ]
  },
  {
   "cell_type": "code",
   "execution_count": 6,
   "metadata": {},
   "outputs": [
    {
     "data": {
      "text/plain": [
       "Population                         0.221920\n",
       "Hepatitis B                        0.188223\n",
       "GDP                                0.152485\n",
       "Total expenditure                  0.076923\n",
       "Alcohol                            0.066031\n",
       "Income composition of resources    0.056841\n",
       "Schooling                          0.055480\n",
       " BMI                               0.011572\n",
       " thinness  1-19 years              0.011572\n",
       " thinness 5-9 years                0.011572\n",
       "Diphtheria                         0.006467\n",
       "Polio                              0.006467\n",
       "Adult Mortality                    0.003404\n",
       "Life expectancy                    0.003404\n",
       "under-five deaths                  0.000000\n",
       " HIV/AIDS                          0.000000\n",
       "Measles                            0.000000\n",
       "percentage expenditure             0.000000\n",
       "infant deaths                      0.000000\n",
       "Status                             0.000000\n",
       "Year                               0.000000\n",
       "Country                            0.000000\n",
       "dtype: float64"
      ]
     },
     "execution_count": 6,
     "metadata": {},
     "output_type": "execute_result"
    },
    {
     "data": {
      "application/javascript": [
       "\n",
       "            setTimeout(function() {\n",
       "                var nbb_cell_id = 6;\n",
       "                var nbb_unformatted_code = \"df.isnull().sum().sort_values(ascending=False) / len(df)\";\n",
       "                var nbb_formatted_code = \"df.isnull().sum().sort_values(ascending=False) / len(df)\";\n",
       "                var nbb_cells = Jupyter.notebook.get_cells();\n",
       "                for (var i = 0; i < nbb_cells.length; ++i) {\n",
       "                    if (nbb_cells[i].input_prompt_number == nbb_cell_id) {\n",
       "                        if (nbb_cells[i].get_text() == nbb_unformatted_code) {\n",
       "                             nbb_cells[i].set_text(nbb_formatted_code);\n",
       "                        }\n",
       "                        break;\n",
       "                    }\n",
       "                }\n",
       "            }, 500);\n",
       "            "
      ],
      "text/plain": [
       "<IPython.core.display.Javascript object>"
      ]
     },
     "metadata": {},
     "output_type": "display_data"
    }
   ],
   "source": [
    "df.isnull().sum().sort_values(ascending=False) / len(df)"
   ]
  },
  {
   "cell_type": "code",
   "execution_count": 7,
   "metadata": {},
   "outputs": [
    {
     "data": {
      "application/javascript": [
       "\n",
       "            setTimeout(function() {\n",
       "                var nbb_cell_id = 7;\n",
       "                var nbb_unformatted_code = \"year = df[\\\"Year\\\"].unique()\\np = \\\"Population\\\"\\n\\ndf1 = df.copy()\\nfor i in year:\\n    df1.loc[df1[\\\"Year\\\"] == i, p] = df1.loc[df1[\\\"Year\\\"] == i, p].fillna(\\n        df1[df1[\\\"Year\\\"] == i][p].mean()\\n    )\\ndf2 = df.copy()\\nfor i in year:\\n    df2.loc[df2[\\\"Year\\\"] == i, p] = df2.loc[df2[\\\"Year\\\"] == i, p].fillna(\\n        df2[df2[\\\"Year\\\"] == i][p].interpolate()\\n    )\\ndf3 = df.copy()\\nfor i in year:\\n    df3.loc[df3[\\\"Year\\\"] == i, p] = df3.loc[df3[\\\"Year\\\"] == i, p].fillna(\\n        df3[df3[\\\"Year\\\"] == i][p].median()\\n    )\";\n",
       "                var nbb_formatted_code = \"year = df[\\\"Year\\\"].unique()\\np = \\\"Population\\\"\\n\\ndf1 = df.copy()\\nfor i in year:\\n    df1.loc[df1[\\\"Year\\\"] == i, p] = df1.loc[df1[\\\"Year\\\"] == i, p].fillna(\\n        df1[df1[\\\"Year\\\"] == i][p].mean()\\n    )\\ndf2 = df.copy()\\nfor i in year:\\n    df2.loc[df2[\\\"Year\\\"] == i, p] = df2.loc[df2[\\\"Year\\\"] == i, p].fillna(\\n        df2[df2[\\\"Year\\\"] == i][p].interpolate()\\n    )\\ndf3 = df.copy()\\nfor i in year:\\n    df3.loc[df3[\\\"Year\\\"] == i, p] = df3.loc[df3[\\\"Year\\\"] == i, p].fillna(\\n        df3[df3[\\\"Year\\\"] == i][p].median()\\n    )\";\n",
       "                var nbb_cells = Jupyter.notebook.get_cells();\n",
       "                for (var i = 0; i < nbb_cells.length; ++i) {\n",
       "                    if (nbb_cells[i].input_prompt_number == nbb_cell_id) {\n",
       "                        if (nbb_cells[i].get_text() == nbb_unformatted_code) {\n",
       "                             nbb_cells[i].set_text(nbb_formatted_code);\n",
       "                        }\n",
       "                        break;\n",
       "                    }\n",
       "                }\n",
       "            }, 500);\n",
       "            "
      ],
      "text/plain": [
       "<IPython.core.display.Javascript object>"
      ]
     },
     "metadata": {},
     "output_type": "display_data"
    }
   ],
   "source": [
    "year = df[\"Year\"].unique()\n",
    "p = \"Population\"\n",
    "\n",
    "df1 = df.copy()\n",
    "for i in year:\n",
    "    df1.loc[df1[\"Year\"] == i, p] = df1.loc[df1[\"Year\"] == i, p].fillna(\n",
    "        df1[df1[\"Year\"] == i][p].mean()\n",
    "    )\n",
    "df2 = df.copy()\n",
    "for i in year:\n",
    "    df2.loc[df2[\"Year\"] == i, p] = df2.loc[df2[\"Year\"] == i, p].fillna(\n",
    "        df2[df2[\"Year\"] == i][p].interpolate()\n",
    "    )\n",
    "df3 = df.copy()\n",
    "for i in year:\n",
    "    df3.loc[df3[\"Year\"] == i, p] = df3.loc[df3[\"Year\"] == i, p].fillna(\n",
    "        df3[df3[\"Year\"] == i][p].median()\n",
    "    )"
   ]
  },
  {
   "cell_type": "code",
   "execution_count": 8,
   "metadata": {},
   "outputs": [
    {
     "data": {
      "image/png": "[encoded data removed]",
      "text/plain": [
       "<Figure size 1080x576 with 4 Axes>"
      ]
     },
     "metadata": {
      "needs_background": "light"
     },
     "output_type": "display_data"
    },
    {
     "data": {
      "application/javascript": [
       "\n",
       "            setTimeout(function() {\n",
       "                var nbb_cell_id = 8;\n",
       "                var nbb_unformatted_code = \"plt.figure(figsize=(15, 8))\\nplt.subplot(221)\\nplt.hist(x=np.log(df[p]), bins=50)\\nplt.title(\\\"Original LOG(Population)\\\")\\n\\nplt.subplot(222)\\nplt.hist(x=np.log(df1[p]), bins=50)\\nplt.title(\\\"Fill by yearly mean: LOG(Population)\\\")\\n\\nplt.subplot(223)\\nplt.hist(x=np.log(df2[p]), bins=50)\\nplt.title(\\\"Fill by yearly interpolation: LOG(Population)\\\")\\n\\nplt.subplot(224)\\nplt.hist(x=np.log(df3[p]), bins=50)\\nplt.title(\\\"Fill by yearly median: LOG(Population)\\\")\\nplt.show()\";\n",
       "                var nbb_formatted_code = \"plt.figure(figsize=(15, 8))\\nplt.subplot(221)\\nplt.hist(x=np.log(df[p]), bins=50)\\nplt.title(\\\"Original LOG(Population)\\\")\\n\\nplt.subplot(222)\\nplt.hist(x=np.log(df1[p]), bins=50)\\nplt.title(\\\"Fill by yearly mean: LOG(Population)\\\")\\n\\nplt.subplot(223)\\nplt.hist(x=np.log(df2[p]), bins=50)\\nplt.title(\\\"Fill by yearly interpolation: LOG(Population)\\\")\\n\\nplt.subplot(224)\\nplt.hist(x=np.log(df3[p]), bins=50)\\nplt.title(\\\"Fill by yearly median: LOG(Population)\\\")\\nplt.show()\";\n",
       "                var nbb_cells = Jupyter.notebook.get_cells();\n",
       "                for (var i = 0; i < nbb_cells.length; ++i) {\n",
       "                    if (nbb_cells[i].input_prompt_number == nbb_cell_id) {\n",
       "                        if (nbb_cells[i].get_text() == nbb_unformatted_code) {\n",
       "                             nbb_cells[i].set_text(nbb_formatted_code);\n",
       "                        }\n",
       "                        break;\n",
       "                    }\n",
       "                }\n",
       "            }, 500);\n",
       "            "
      ],
      "text/plain": [
       "<IPython.core.display.Javascript object>"
      ]
     },
     "metadata": {},
     "output_type": "display_data"
    }
   ],
   "source": [
    "plt.figure(figsize=(15, 8))\n",
    "plt.subplot(221)\n",
    "plt.hist(x=np.log(df[p]), bins=50)\n",
    "plt.title(\"Original LOG(Population)\")\n",
    "\n",
    "plt.subplot(222)\n",
    "plt.hist(x=np.log(df1[p]), bins=50)\n",
    "plt.title(\"Fill by yearly mean: LOG(Population)\")\n",
    "\n",
    "plt.subplot(223)\n",
    "plt.hist(x=np.log(df2[p]), bins=50)\n",
    "plt.title(\"Fill by yearly interpolation: LOG(Population)\")\n",
    "\n",
    "plt.subplot(224)\n",
    "plt.hist(x=np.log(df3[p]), bins=50)\n",
    "plt.title(\"Fill by yearly median: LOG(Population)\")\n",
    "plt.show()"
   ]
  },
  {
   "cell_type": "code",
   "execution_count": 9,
   "metadata": {},
   "outputs": [
    {
     "data": {
      "application/javascript": [
       "\n",
       "            setTimeout(function() {\n",
       "                var nbb_cell_id = 9;\n",
       "                var nbb_unformatted_code = \"df2 = df.copy()\\n\\nfill_list = [\\n    \\\"Population\\\",\\n    \\\"Hepatitis B\\\",\\n    \\\"GDP\\\",\\n    \\\"Total expenditure\\\",\\n    \\\"Alcohol\\\",\\n    \\\"Income composition of resources\\\",\\n    \\\"Schooling\\\",\\n    \\\" BMI \\\",\\n    \\\" thinness  1-19 years\\\",\\n    \\\" thinness 5-9 years\\\",\\n    \\\"Diphtheria \\\",\\n    \\\"Polio\\\",\\n    \\\"Adult Mortality\\\",\\n    \\\"Life expectancy \\\",\\n    \\\" HIV/AIDS\\\",\\n]\\n\\nfor col in fill_list:\\n    for i in year:\\n        df2.loc[df2[\\\"Year\\\"] == i, col] = df2.loc[df2[\\\"Year\\\"] == i, col].fillna(\\n            df2[df2[\\\"Year\\\"] == i][col].interpolate()\\n        )\";\n",
       "                var nbb_formatted_code = \"df2 = df.copy()\\n\\nfill_list = [\\n    \\\"Population\\\",\\n    \\\"Hepatitis B\\\",\\n    \\\"GDP\\\",\\n    \\\"Total expenditure\\\",\\n    \\\"Alcohol\\\",\\n    \\\"Income composition of resources\\\",\\n    \\\"Schooling\\\",\\n    \\\" BMI \\\",\\n    \\\" thinness  1-19 years\\\",\\n    \\\" thinness 5-9 years\\\",\\n    \\\"Diphtheria \\\",\\n    \\\"Polio\\\",\\n    \\\"Adult Mortality\\\",\\n    \\\"Life expectancy \\\",\\n    \\\" HIV/AIDS\\\",\\n]\\n\\nfor col in fill_list:\\n    for i in year:\\n        df2.loc[df2[\\\"Year\\\"] == i, col] = df2.loc[df2[\\\"Year\\\"] == i, col].fillna(\\n            df2[df2[\\\"Year\\\"] == i][col].interpolate()\\n        )\";\n",
       "                var nbb_cells = Jupyter.notebook.get_cells();\n",
       "                for (var i = 0; i < nbb_cells.length; ++i) {\n",
       "                    if (nbb_cells[i].input_prompt_number == nbb_cell_id) {\n",
       "                        if (nbb_cells[i].get_text() == nbb_unformatted_code) {\n",
       "                             nbb_cells[i].set_text(nbb_formatted_code);\n",
       "                        }\n",
       "                        break;\n",
       "                    }\n",
       "                }\n",
       "            }, 500);\n",
       "            "
      ],
      "text/plain": [
       "<IPython.core.display.Javascript object>"
      ]
     },
     "metadata": {},
     "output_type": "display_data"
    }
   ],
   "source": [
    "df2 = df.copy()\n",
    "\n",
    "fill_list = [\n",
    "    \"Population\",\n",
    "    \"Hepatitis B\",\n",
    "    \"GDP\",\n",
    "    \"Total expenditure\",\n",
    "    \"Alcohol\",\n",
    "    \"Income composition of resources\",\n",
    "    \"Schooling\",\n",
    "    \" BMI \",\n",
    "    \" thinness  1-19 years\",\n",
    "    \" thinness 5-9 years\",\n",
    "    \"Diphtheria \",\n",
    "    \"Polio\",\n",
    "    \"Adult Mortality\",\n",
    "    \"Life expectancy \",\n",
    "    \" HIV/AIDS\",\n",
    "]\n",
    "\n",
    "for col in fill_list:\n",
    "    for i in year:\n",
    "        df2.loc[df2[\"Year\"] == i, col] = df2.loc[df2[\"Year\"] == i, col].fillna(\n",
    "            df2[df2[\"Year\"] == i][col].interpolate()\n",
    "        )"
   ]
  },
  {
   "cell_type": "code",
   "execution_count": 10,
   "metadata": {},
   "outputs": [
    {
     "data": {
      "text/plain": [
       "Schooling                          0.0\n",
       "Income composition of resources    0.0\n",
       "Year                               0.0\n",
       "Status                             0.0\n",
       "Life expectancy                    0.0\n",
       "Adult Mortality                    0.0\n",
       "infant deaths                      0.0\n",
       "Alcohol                            0.0\n",
       "percentage expenditure             0.0\n",
       "Hepatitis B                        0.0\n",
       "Measles                            0.0\n",
       " BMI                               0.0\n",
       "under-five deaths                  0.0\n",
       "Polio                              0.0\n",
       "Total expenditure                  0.0\n",
       "Diphtheria                         0.0\n",
       " HIV/AIDS                          0.0\n",
       "GDP                                0.0\n",
       "Population                         0.0\n",
       " thinness  1-19 years              0.0\n",
       " thinness 5-9 years                0.0\n",
       "Country                            0.0\n",
       "dtype: float64"
      ]
     },
     "execution_count": 10,
     "metadata": {},
     "output_type": "execute_result"
    },
    {
     "data": {
      "application/javascript": [
       "\n",
       "            setTimeout(function() {\n",
       "                var nbb_cell_id = 10;\n",
       "                var nbb_unformatted_code = \"df2.isnull().sum().sort_values(ascending=False) / len(df)\";\n",
       "                var nbb_formatted_code = \"df2.isnull().sum().sort_values(ascending=False) / len(df)\";\n",
       "                var nbb_cells = Jupyter.notebook.get_cells();\n",
       "                for (var i = 0; i < nbb_cells.length; ++i) {\n",
       "                    if (nbb_cells[i].input_prompt_number == nbb_cell_id) {\n",
       "                        if (nbb_cells[i].get_text() == nbb_unformatted_code) {\n",
       "                             nbb_cells[i].set_text(nbb_formatted_code);\n",
       "                        }\n",
       "                        break;\n",
       "                    }\n",
       "                }\n",
       "            }, 500);\n",
       "            "
      ],
      "text/plain": [
       "<IPython.core.display.Javascript object>"
      ]
     },
     "metadata": {},
     "output_type": "display_data"
    }
   ],
   "source": [
    "df2.isnull().sum().sort_values(ascending=False) / len(df)"
   ]
  },
  {
   "cell_type": "code",
   "execution_count": 36,
   "metadata": {},
   "outputs": [
    {
     "data": {
      "image/png": "[encoded data removed]",
      "text/plain": [
       "<Figure size 1152x648 with 5 Axes>"
      ]
     },
     "metadata": {
      "needs_background": "light"
     },
     "output_type": "display_data"
    },
    {
     "data": {
      "application/javascript": [
       "\n",
       "            setTimeout(function() {\n",
       "                var nbb_cell_id = 36;\n",
       "                var nbb_unformatted_code = \"plt.figure(figsize=(16, 9))\\nplt.subplot(231)\\nplt.hist(x=df2[\\\"Life expectancy \\\"], bins=30)\\nplt.title(\\\"Original Life Expectancy\\\")\\n\\ndf2[\\\"LOG(Life Expectancy)\\\"] = np.log(df2[\\\"Life expectancy \\\"])\\n\\nplt.subplot(232)\\nplt.hist(x=np.log(df2[\\\"Life expectancy \\\"]), bins=30)\\nplt.title(\\\"LOG(Life Expectancy)\\\")\\n\\ndf2[\\\"Win_LOG(Life Expectancy)\\\"] = winsorize(df2[\\\"LOG(Life Expectancy)\\\"], (0.05, 0.05))\\n\\nplt.subplot(233)\\nplt.hist(x=np.log(df2[\\\"Life expectancy \\\"]), bins=30)\\nplt.title(\\\"Winsorized LOG(Life Expectancy)\\\")\\n\\ndf2[\\\"LifeEx_boxcox\\\"], _ = boxcox(df2[\\\"Life expectancy \\\"])\\n\\nplt.subplot(234)\\nplt.hist(x=df2[\\\"LifeEx_boxcox\\\"], bins=30)\\nplt.title(\\\"BoxCox(Life Expectancy)\\\")\\n\\ndf2[\\\"Win_boxcox(LifeEx)\\\"] = winsorize(df2[\\\"LifeEx_boxcox\\\"], (0.02, 0.0))\\n\\nplt.subplot(235)\\nplt.hist(x=df2[\\\"Win_boxcox(LifeEx)\\\"], bins=30)\\nplt.title(\\\"Winsorized BoxCox(Life Expectancy)\\\")\\nplt.show()\";\n",
       "                var nbb_formatted_code = \"plt.figure(figsize=(16, 9))\\nplt.subplot(231)\\nplt.hist(x=df2[\\\"Life expectancy \\\"], bins=30)\\nplt.title(\\\"Original Life Expectancy\\\")\\n\\ndf2[\\\"LOG(Life Expectancy)\\\"] = np.log(df2[\\\"Life expectancy \\\"])\\n\\nplt.subplot(232)\\nplt.hist(x=np.log(df2[\\\"Life expectancy \\\"]), bins=30)\\nplt.title(\\\"LOG(Life Expectancy)\\\")\\n\\ndf2[\\\"Win_LOG(Life Expectancy)\\\"] = winsorize(df2[\\\"LOG(Life Expectancy)\\\"], (0.05, 0.05))\\n\\nplt.subplot(233)\\nplt.hist(x=np.log(df2[\\\"Life expectancy \\\"]), bins=30)\\nplt.title(\\\"Winsorized LOG(Life Expectancy)\\\")\\n\\ndf2[\\\"LifeEx_boxcox\\\"], _ = boxcox(df2[\\\"Life expectancy \\\"])\\n\\nplt.subplot(234)\\nplt.hist(x=df2[\\\"LifeEx_boxcox\\\"], bins=30)\\nplt.title(\\\"BoxCox(Life Expectancy)\\\")\\n\\ndf2[\\\"Win_boxcox(LifeEx)\\\"] = winsorize(df2[\\\"LifeEx_boxcox\\\"], (0.02, 0.0))\\n\\nplt.subplot(235)\\nplt.hist(x=df2[\\\"Win_boxcox(LifeEx)\\\"], bins=30)\\nplt.title(\\\"Winsorized BoxCox(Life Expectancy)\\\")\\nplt.show()\";\n",
       "                var nbb_cells = Jupyter.notebook.get_cells();\n",
       "                for (var i = 0; i < nbb_cells.length; ++i) {\n",
       "                    if (nbb_cells[i].input_prompt_number == nbb_cell_id) {\n",
       "                        if (nbb_cells[i].get_text() == nbb_unformatted_code) {\n",
       "                             nbb_cells[i].set_text(nbb_formatted_code);\n",
       "                        }\n",
       "                        break;\n",
       "                    }\n",
       "                }\n",
       "            }, 500);\n",
       "            "
      ],
      "text/plain": [
       "<IPython.core.display.Javascript object>"
      ]
     },
     "metadata": {},
     "output_type": "display_data"
    }
   ],
   "source": [
    "plt.figure(figsize=(16, 9))\n",
    "plt.subplot(231)\n",
    "plt.hist(x=df2[\"Life expectancy \"], bins=30)\n",
    "plt.title(\"Original Life Expectancy\")\n",
    "\n",
    "df2[\"LOG(Life Expectancy)\"] = np.log(df2[\"Life expectancy \"])\n",
    "\n",
    "plt.subplot(232)\n",
    "plt.hist(x=np.log(df2[\"Life expectancy \"]), bins=30)\n",
    "plt.title(\"LOG(Life Expectancy)\")\n",
    "\n",
    "df2[\"Win_LOG(Life Expectancy)\"] = winsorize(df2[\"LOG(Life Expectancy)\"], (0.05, 0.05))\n",
    "\n",
    "plt.subplot(233)\n",
    "plt.hist(x=np.log(df2[\"Life expectancy \"]), bins=30)\n",
    "plt.title(\"Winsorized LOG(Life Expectancy)\")\n",
    "\n",
    "df2[\"LifeEx_boxcox\"], _ = boxcox(df2[\"Life expectancy \"])\n",
    "\n",
    "plt.subplot(234)\n",
    "plt.hist(x=df2[\"LifeEx_boxcox\"], bins=30)\n",
    "plt.title(\"BoxCox(Life Expectancy)\")\n",
    "\n",
    "df2[\"Win_boxcox(LifeEx)\"] = winsorize(df2[\"LifeEx_boxcox\"], (0.02, 0.0))\n",
    "\n",
    "plt.subplot(235)\n",
    "plt.hist(x=df2[\"Win_boxcox(LifeEx)\"], bins=30)\n",
    "plt.title(\"Winsorized BoxCox(Life Expectancy)\")\n",
    "plt.show()"
   ]
  },
  {
   "cell_type": "code",
   "execution_count": 34,
   "metadata": {},
   "outputs": [
    {
     "data": {
      "image/png": "[encoded data removed]",
      "text/plain": [
       "<Figure size 1152x1440 with 25 Axes>"
      ]
     },
     "metadata": {
      "needs_background": "light"
     },
     "output_type": "display_data"
    },
    {
     "data": {
      "application/javascript": [
       "\n",
       "            setTimeout(function() {\n",
       "                var nbb_cell_id = 34;\n",
       "                var nbb_unformatted_code = \"df2.hist(figsize=(16, 20), bins=50, xlabelsize=8, ylabelsize=8)\\nplt.show()\";\n",
       "                var nbb_formatted_code = \"df2.hist(figsize=(16, 20), bins=50, xlabelsize=8, ylabelsize=8)\\nplt.show()\";\n",
       "                var nbb_cells = Jupyter.notebook.get_cells();\n",
       "                for (var i = 0; i < nbb_cells.length; ++i) {\n",
       "                    if (nbb_cells[i].input_prompt_number == nbb_cell_id) {\n",
       "                        if (nbb_cells[i].get_text() == nbb_unformatted_code) {\n",
       "                             nbb_cells[i].set_text(nbb_formatted_code);\n",
       "                        }\n",
       "                        break;\n",
       "                    }\n",
       "                }\n",
       "            }, 500);\n",
       "            "
      ],
      "text/plain": [
       "<IPython.core.display.Javascript object>"
      ]
     },
     "metadata": {},
     "output_type": "display_data"
    }
   ],
   "source": [
    "df2.hist(figsize=(16, 20), bins=50, xlabelsize=8, ylabelsize=8)\n",
    "plt.show()"
   ]
  },
  {
   "cell_type": "code",
   "execution_count": 35,
   "metadata": {},
   "outputs": [
    {
     "name": "stdout",
     "output_type": "stream",
     "text": [
      "There is 6 strongly correlated values with a column:\n",
      "Life expectancy                    1.000000\n",
      "Schooling                          0.751975\n",
      "Income composition of resources    0.724776\n",
      " BMI                               0.567694\n",
      " HIV/AIDS                         -0.556556\n",
      "Adult Mortality                   -0.696359\n",
      "Name: Life expectancy , dtype: float64\n"
     ]
    },
    {
     "data": {
      "application/javascript": [
       "\n",
       "            setTimeout(function() {\n",
       "                var nbb_cell_id = 35;\n",
       "                var nbb_unformatted_code = \"df_num_corr = df.corr()[\\\"Life expectancy \\\"][:]  # -1 if 'a column'\\ngolden_feature_list = df_num_corr[abs(df_num_corr) > 0.5].sort_values(ascending=False)\\nprint(\\n    \\\"There is {} strongly correlated values with a column:\\\\n{}\\\".format(\\n        len(golden_feature_list), golden_feature_list\\n    )\\n)\";\n",
       "                var nbb_formatted_code = \"df_num_corr = df.corr()[\\\"Life expectancy \\\"][:]  # -1 if 'a column'\\ngolden_feature_list = df_num_corr[abs(df_num_corr) > 0.5].sort_values(ascending=False)\\nprint(\\n    \\\"There is {} strongly correlated values with a column:\\\\n{}\\\".format(\\n        len(golden_feature_list), golden_feature_list\\n    )\\n)\";\n",
       "                var nbb_cells = Jupyter.notebook.get_cells();\n",
       "                for (var i = 0; i < nbb_cells.length; ++i) {\n",
       "                    if (nbb_cells[i].input_prompt_number == nbb_cell_id) {\n",
       "                        if (nbb_cells[i].get_text() == nbb_unformatted_code) {\n",
       "                             nbb_cells[i].set_text(nbb_formatted_code);\n",
       "                        }\n",
       "                        break;\n",
       "                    }\n",
       "                }\n",
       "            }, 500);\n",
       "            "
      ],
      "text/plain": [
       "<IPython.core.display.Javascript object>"
      ]
     },
     "metadata": {},
     "output_type": "display_data"
    }
   ],
   "source": [
    "df_num_corr = df.corr()[\"Life expectancy \"][:]  # -1 if 'a column'\n",
    "golden_feature_list = df_num_corr[abs(df_num_corr) > 0.5].sort_values(ascending=False)\n",
    "print(\n",
    "    \"There is {} strongly correlated values with a column:\\n{}\".format(\n",
    "        len(golden_feature_list), golden_feature_list\n",
    "    )\n",
    ")"
   ]
  },
  {
   "cell_type": "markdown",
   "metadata": {},
   "source": [
    "## 3. Explore the data using univariate and multivariate exploration techniques. Be sure to pay special attention to your target variable. In this regard, focus on finding the relevant variables that may affect life expectancy."
   ]
  },
  {
   "cell_type": "code",
   "execution_count": 17,
   "metadata": {},
   "outputs": [
    {
     "data": {
      "text/plain": [
       "KruskalResult(statistic=873.6932239423763, pvalue=5.136790999904708e-192)"
      ]
     },
     "execution_count": 17,
     "metadata": {},
     "output_type": "execute_result"
    },
    {
     "data": {
      "application/javascript": [
       "\n",
       "            setTimeout(function() {\n",
       "                var nbb_cell_id = 17;\n",
       "                var nbb_unformatted_code = \"stats.kruskal(\\n    df2[df2[\\\"Status\\\"] == \\\"Developing\\\"][\\\"Life expectancy \\\"],\\n    df2[df2[\\\"Status\\\"] == \\\"Developed\\\"][\\\"Life expectancy \\\"],\\n)\";\n",
       "                var nbb_formatted_code = \"stats.kruskal(\\n    df2[df2[\\\"Status\\\"] == \\\"Developing\\\"][\\\"Life expectancy \\\"],\\n    df2[df2[\\\"Status\\\"] == \\\"Developed\\\"][\\\"Life expectancy \\\"],\\n)\";\n",
       "                var nbb_cells = Jupyter.notebook.get_cells();\n",
       "                for (var i = 0; i < nbb_cells.length; ++i) {\n",
       "                    if (nbb_cells[i].input_prompt_number == nbb_cell_id) {\n",
       "                        if (nbb_cells[i].get_text() == nbb_unformatted_code) {\n",
       "                             nbb_cells[i].set_text(nbb_formatted_code);\n",
       "                        }\n",
       "                        break;\n",
       "                    }\n",
       "                }\n",
       "            }, 500);\n",
       "            "
      ],
      "text/plain": [
       "<IPython.core.display.Javascript object>"
      ]
     },
     "metadata": {},
     "output_type": "display_data"
    }
   ],
   "source": [
    "stats.kruskal(\n",
    "    df2[df2[\"Status\"] == \"Developing\"][\"Life expectancy \"],\n",
    "    df2[df2[\"Status\"] == \"Developed\"][\"Life expectancy \"],\n",
    ")"
   ]
  },
  {
   "cell_type": "code",
   "execution_count": 37,
   "metadata": {},
   "outputs": [
    {
     "data": {
      "text/plain": [
       "KruskalResult(statistic=873.6932375853953, pvalue=5.136755919340867e-192)"
      ]
     },
     "execution_count": 37,
     "metadata": {},
     "output_type": "execute_result"
    },
    {
     "data": {
      "application/javascript": [
       "\n",
       "            setTimeout(function() {\n",
       "                var nbb_cell_id = 37;\n",
       "                var nbb_unformatted_code = \"stats.kruskal(\\n    df2[df2[\\\"Status\\\"] == \\\"Developing\\\"][\\\"LifeEx_boxcox\\\"],\\n    df2[df2[\\\"Status\\\"] == \\\"Developed\\\"][\\\"LifeEx_boxcox\\\"],\\n)\";\n",
       "                var nbb_formatted_code = \"stats.kruskal(\\n    df2[df2[\\\"Status\\\"] == \\\"Developing\\\"][\\\"LifeEx_boxcox\\\"],\\n    df2[df2[\\\"Status\\\"] == \\\"Developed\\\"][\\\"LifeEx_boxcox\\\"],\\n)\";\n",
       "                var nbb_cells = Jupyter.notebook.get_cells();\n",
       "                for (var i = 0; i < nbb_cells.length; ++i) {\n",
       "                    if (nbb_cells[i].input_prompt_number == nbb_cell_id) {\n",
       "                        if (nbb_cells[i].get_text() == nbb_unformatted_code) {\n",
       "                             nbb_cells[i].set_text(nbb_formatted_code);\n",
       "                        }\n",
       "                        break;\n",
       "                    }\n",
       "                }\n",
       "            }, 500);\n",
       "            "
      ],
      "text/plain": [
       "<IPython.core.display.Javascript object>"
      ]
     },
     "metadata": {},
     "output_type": "display_data"
    }
   ],
   "source": [
    "stats.kruskal(\n",
    "    df2[df2[\"Status\"] == \"Developing\"][\"LifeEx_boxcox\"],\n",
    "    df2[df2[\"Status\"] == \"Developed\"][\"LifeEx_boxcox\"],\n",
    ")"
   ]
  },
  {
   "cell_type": "markdown",
   "metadata": {},
   "source": [
    "This Kruskal-Wallis test shows that there is a significant difference in 'Life expenctancy' between the 'developing' and 'developed' countries."
   ]
  },
  {
   "cell_type": "code",
   "execution_count": 18,
   "metadata": {},
   "outputs": [
    {
     "name": "stdout",
     "output_type": "stream",
     "text": [
      "There is 6 strongly correlated values with a column:\n",
      "Life expectancy                    1.000000\n",
      "Schooling                          0.713798\n",
      "Income composition of resources    0.694386\n",
      " BMI                               0.555353\n",
      " HIV/AIDS                         -0.556433\n",
      "Adult Mortality                   -0.696291\n",
      "Name: Life expectancy , dtype: float64\n"
     ]
    },
    {
     "data": {
      "application/javascript": [
       "\n",
       "            setTimeout(function() {\n",
       "                var nbb_cell_id = 18;\n",
       "                var nbb_unformatted_code = \"df_num_corr = df2.corr()[\\\"Life expectancy \\\"][:]  # -1 if 'a column'\\ngolden_feature_list = df_num_corr[abs(df_num_corr) > 0.5].sort_values(ascending=False)\\nprint(\\n    \\\"There is {} strongly correlated values with a column:\\\\n{}\\\".format(\\n        len(golden_feature_list), golden_feature_list\\n    )\\n)\";\n",
       "                var nbb_formatted_code = \"df_num_corr = df2.corr()[\\\"Life expectancy \\\"][:]  # -1 if 'a column'\\ngolden_feature_list = df_num_corr[abs(df_num_corr) > 0.5].sort_values(ascending=False)\\nprint(\\n    \\\"There is {} strongly correlated values with a column:\\\\n{}\\\".format(\\n        len(golden_feature_list), golden_feature_list\\n    )\\n)\";\n",
       "                var nbb_cells = Jupyter.notebook.get_cells();\n",
       "                for (var i = 0; i < nbb_cells.length; ++i) {\n",
       "                    if (nbb_cells[i].input_prompt_number == nbb_cell_id) {\n",
       "                        if (nbb_cells[i].get_text() == nbb_unformatted_code) {\n",
       "                             nbb_cells[i].set_text(nbb_formatted_code);\n",
       "                        }\n",
       "                        break;\n",
       "                    }\n",
       "                }\n",
       "            }, 500);\n",
       "            "
      ],
      "text/plain": [
       "<IPython.core.display.Javascript object>"
      ]
     },
     "metadata": {},
     "output_type": "display_data"
    }
   ],
   "source": [
    "df_num_corr = df2.corr()[\"Life expectancy \"][:]  # -1 if 'a column'\n",
    "golden_feature_list = df_num_corr[abs(df_num_corr) > 0.5].sort_values(ascending=False)\n",
    "print(\n",
    "    \"There is {} strongly correlated values with a column:\\n{}\".format(\n",
    "        len(golden_feature_list), golden_feature_list\n",
    "    )\n",
    ")"
   ]
  },
  {
   "cell_type": "code",
   "execution_count": 19,
   "metadata": {},
   "outputs": [
    {
     "data": {
      "image/png": "[encoded data removed]",
      "text/plain": [
       "<Figure size 432x288 with 1 Axes>"
      ]
     },
     "metadata": {
      "needs_background": "light"
     },
     "output_type": "display_data"
    },
    {
     "data": {
      "application/javascript": [
       "\n",
       "            setTimeout(function() {\n",
       "                var nbb_cell_id = 19;\n",
       "                var nbb_unformatted_code = \"plt.hist(x=df2[\\\"Schooling\\\"], bins=25)\\nplt.show()\";\n",
       "                var nbb_formatted_code = \"plt.hist(x=df2[\\\"Schooling\\\"], bins=25)\\nplt.show()\";\n",
       "                var nbb_cells = Jupyter.notebook.get_cells();\n",
       "                for (var i = 0; i < nbb_cells.length; ++i) {\n",
       "                    if (nbb_cells[i].input_prompt_number == nbb_cell_id) {\n",
       "                        if (nbb_cells[i].get_text() == nbb_unformatted_code) {\n",
       "                             nbb_cells[i].set_text(nbb_formatted_code);\n",
       "                        }\n",
       "                        break;\n",
       "                    }\n",
       "                }\n",
       "            }, 500);\n",
       "            "
      ],
      "text/plain": [
       "<IPython.core.display.Javascript object>"
      ]
     },
     "metadata": {},
     "output_type": "display_data"
    }
   ],
   "source": [
    "plt.hist(x=df2[\"Schooling\"], bins=25)\n",
    "plt.show()"
   ]
  },
  {
   "cell_type": "code",
   "execution_count": 20,
   "metadata": {},
   "outputs": [
    {
     "name": "stdout",
     "output_type": "stream",
     "text": [
      "The score threshold is: 1.0\n",
      "Number of outliers is: 249\n",
      "The score threshold is: 1.5\n",
      "Number of outliers is: 153\n",
      "The score threshold is: 2.0\n",
      "Number of outliers is: 92\n",
      "The score threshold is: 2.5\n",
      "Number of outliers is: 55\n",
      "The score threshold is: 3.0\n",
      "Number of outliers is: 43\n",
      "The score threshold is: 3.5\n",
      "Number of outliers is: 35\n",
      "The score threshold is: 4.0\n",
      "Number of outliers is: 28\n",
      "The score threshold is: 4.5\n",
      "Number of outliers is: 28\n"
     ]
    },
    {
     "data": {
      "application/javascript": [
       "\n",
       "            setTimeout(function() {\n",
       "                var nbb_cell_id = 20;\n",
       "                var nbb_unformatted_code = \"# Take the log of the Schooling and calculate\\n# the quartiles accordingly.\\nq75, q25 = np.percentile(np.log(df2[\\\"Schooling\\\"]), [75, 25])\\niqr = q75 - q25\\n\\nfor threshold in np.arange(1, 5, 0.5):\\n    min_val = q25 - (iqr * threshold)\\n    max_val = q75 + (iqr * threshold)\\n    print(\\\"The score threshold is: {}\\\".format(threshold))\\n    print(\\n        \\\"Number of outliers is: {}\\\".format(\\n            len(\\n                (\\n                    np.where(\\n                        (np.log(df2[\\\"Schooling\\\"]) > max_val)\\n                        | (np.log(df2[\\\"Schooling\\\"]) < min_val)\\n                    )[0]\\n                )\\n            )\\n        )\\n    )\";\n",
       "                var nbb_formatted_code = \"# Take the log of the Schooling and calculate\\n# the quartiles accordingly.\\nq75, q25 = np.percentile(np.log(df2[\\\"Schooling\\\"]), [75, 25])\\niqr = q75 - q25\\n\\nfor threshold in np.arange(1, 5, 0.5):\\n    min_val = q25 - (iqr * threshold)\\n    max_val = q75 + (iqr * threshold)\\n    print(\\\"The score threshold is: {}\\\".format(threshold))\\n    print(\\n        \\\"Number of outliers is: {}\\\".format(\\n            len(\\n                (\\n                    np.where(\\n                        (np.log(df2[\\\"Schooling\\\"]) > max_val)\\n                        | (np.log(df2[\\\"Schooling\\\"]) < min_val)\\n                    )[0]\\n                )\\n            )\\n        )\\n    )\";\n",
       "                var nbb_cells = Jupyter.notebook.get_cells();\n",
       "                for (var i = 0; i < nbb_cells.length; ++i) {\n",
       "                    if (nbb_cells[i].input_prompt_number == nbb_cell_id) {\n",
       "                        if (nbb_cells[i].get_text() == nbb_unformatted_code) {\n",
       "                             nbb_cells[i].set_text(nbb_formatted_code);\n",
       "                        }\n",
       "                        break;\n",
       "                    }\n",
       "                }\n",
       "            }, 500);\n",
       "            "
      ],
      "text/plain": [
       "<IPython.core.display.Javascript object>"
      ]
     },
     "metadata": {},
     "output_type": "display_data"
    }
   ],
   "source": [
    "# Take the log of the Schooling and calculate\n",
    "# the quartiles accordingly.\n",
    "q75, q25 = np.percentile(np.log(df2[\"Schooling\"]), [75, 25])\n",
    "iqr = q75 - q25\n",
    "\n",
    "for threshold in np.arange(1, 5, 0.5):\n",
    "    min_val = q25 - (iqr * threshold)\n",
    "    max_val = q75 + (iqr * threshold)\n",
    "    print(\"The score threshold is: {}\".format(threshold))\n",
    "    print(\n",
    "        \"Number of outliers is: {}\".format(\n",
    "            len(\n",
    "                (\n",
    "                    np.where(\n",
    "                        (np.log(df2[\"Schooling\"]) > max_val)\n",
    "                        | (np.log(df2[\"Schooling\"]) < min_val)\n",
    "                    )[0]\n",
    "                )\n",
    "            )\n",
    "        )\n",
    "    )"
   ]
  },
  {
   "cell_type": "code",
   "execution_count": 21,
   "metadata": {},
   "outputs": [
    {
     "name": "stdout",
     "output_type": "stream",
     "text": [
      "The score threshold is: 1\n",
      "The indices of the outliers:\n",
      "(array([  81,   82,   83,   84,   85,   86,   87,   88,   89,   90,   91,\n",
      "         92,   93,   94,   95,  113,  114,  115,  116,  117,  118,  119,\n",
      "        120,  121,  122,  123,  124,  125,  126,  127,  128,  129,  130,\n",
      "        131,  132,  133,  134,  142,  143,  144,  213,  214,  215,  225,\n",
      "        226,  227,  228,  229,  230,  231,  241,  242,  243,  244,  245,\n",
      "        246,  247,  248,  249,  250,  251,  252,  253,  254,  255,  256,\n",
      "        496,  497,  498,  499,  500,  501,  502,  503,  504,  505,  506,\n",
      "        507,  508,  509,  510,  511,  544,  545,  546,  547,  548,  660,\n",
      "        661,  662,  663,  664,  665,  689,  705,  706,  707,  708,  710,\n",
      "        711,  721,  722,  723,  724,  725,  726,  727,  728,  729,  730,\n",
      "        731,  732,  733,  734,  736,  737,  738,  739,  740,  741,  742,\n",
      "        743,  744,  745,  746,  747,  748,  749,  750,  751,  752,  867,\n",
      "        868,  869,  870,  871,  872,  873,  874,  875,  876,  877,  878,\n",
      "        879,  880,  915,  916,  917,  918,  919,  920,  921,  922,  923,\n",
      "        924,  925,  926,  927,  928,  929,  930,  931,  932,  933,  934,\n",
      "        935,  936,  937,  938,  939,  940,  941,  942,  943,  944,  945,\n",
      "        946,  995,  996,  997,  998,  999, 1000, 1001, 1002, 1003, 1004,\n",
      "       1005, 1006, 1007, 1008, 1009, 1010, 1027, 1028, 1029, 1030, 1031,\n",
      "       1032, 1033, 1034, 1035, 1036, 1037, 1043, 1044, 1045, 1046, 1047,\n",
      "       1048, 1049, 1050, 1155, 1156, 1157, 1158, 1159, 1171, 1172, 1173,\n",
      "       1174, 1175, 1176, 1177, 1178, 1179, 1180, 1181, 1182, 1183, 1184,\n",
      "       1185, 1186, 1251, 1252, 1253, 1254, 1255, 1256, 1257, 1258, 1259,\n",
      "       1260, 1261, 1262, 1263, 1264, 1265, 1266, 1267, 1268, 1269, 1270,\n",
      "       1271, 1272, 1273, 1274, 1275, 1276, 1277, 1278, 1279, 1283, 1284,\n",
      "       1285, 1286, 1287, 1288, 1289, 1290, 1291, 1292, 1293, 1294, 1295,\n",
      "       1443, 1444, 1445, 1446, 1447, 1448, 1449, 1450, 1451, 1452, 1453,\n",
      "       1454, 1516, 1517, 1518, 1519, 1520, 1521, 1522, 1523, 1524, 1525,\n",
      "       1526, 1527, 1528, 1529, 1530, 1531, 1532, 1533, 1534, 1535, 1830,\n",
      "       1831, 1832, 1833, 1834, 1835, 1836, 1837, 1838, 1839, 1840, 1841,\n",
      "       1842, 1843, 1844, 1845, 1846, 1847, 1848, 1849, 1850, 1851, 1852,\n",
      "       1853, 1854, 1855, 1856, 1857, 1858, 1859, 1860, 1861, 1911, 1912,\n",
      "       1913, 1914, 1915, 1916, 1917, 1918, 1919, 1920, 1921, 1922, 1923,\n",
      "       1924, 1925, 1926, 2040, 2041, 2042, 2044, 2051, 2056, 2057, 2058,\n",
      "       2059, 2060, 2061, 2062, 2063, 2064, 2065, 2066, 2067, 2068, 2069,\n",
      "       2070, 2071, 2124, 2125, 2126, 2234, 2235, 2314, 2315, 2316, 2317,\n",
      "       2345, 2346, 2347, 2348, 2349, 2350, 2351, 2352, 2353, 2354, 2355,\n",
      "       2356, 2357, 2358, 2425, 2426, 2427, 2428, 2429, 2430, 2431, 2432,\n",
      "       2433, 2434, 2435, 2436, 2437, 2438, 2439, 2440, 2505, 2506, 2507,\n",
      "       2508, 2509, 2510, 2511, 2512, 2513, 2514, 2515, 2516, 2517, 2518,\n",
      "       2519, 2520, 2521, 2522, 2523, 2524, 2525, 2526, 2810, 2811, 2812,\n",
      "       2813, 2814, 2815, 2816, 2817, 2820, 2821], dtype=int64),)\n",
      "Number of outliers is: 447\n",
      "The score threshold is: 2\n",
      "The indices of the outliers:\n",
      "(array([ 113,  114,  115,  116,  117,  118,  119,  120,  121,  122,  123,\n",
      "        124,  125,  126,  127,  128,  252,  254,  737,  738, 1171, 1172,\n",
      "       1173, 1846, 1847, 1848, 1849, 1850, 1851, 1852, 1853, 1854, 1855,\n",
      "       1856], dtype=int64),)\n",
      "Number of outliers is: 34\n",
      "The score threshold is: 3\n",
      "The indices of the outliers:\n",
      "(array([], dtype=int64),)\n",
      "Number of outliers is: 0\n",
      "The score threshold is: 4\n",
      "The indices of the outliers:\n",
      "(array([], dtype=int64),)\n",
      "Number of outliers is: 0\n"
     ]
    },
    {
     "data": {
      "application/javascript": [
       "\n",
       "            setTimeout(function() {\n",
       "                var nbb_cell_id = 21;\n",
       "                var nbb_unformatted_code = \"from scipy.stats import zscore\\n\\nz_scores = zscore(df2[\\\"Schooling\\\"])\\nfor threshold in range(1, 5):\\n    print(\\\"The score threshold is: {}\\\".format(threshold))\\n    print(\\\"The indices of the outliers:\\\")\\n    print(np.where(z_scores > threshold))\\n    print(\\\"Number of outliers is: {}\\\".format(len((np.where(z_scores > threshold)[0]))))\";\n",
       "                var nbb_formatted_code = \"from scipy.stats import zscore\\n\\nz_scores = zscore(df2[\\\"Schooling\\\"])\\nfor threshold in range(1, 5):\\n    print(\\\"The score threshold is: {}\\\".format(threshold))\\n    print(\\\"The indices of the outliers:\\\")\\n    print(np.where(z_scores > threshold))\\n    print(\\\"Number of outliers is: {}\\\".format(len((np.where(z_scores > threshold)[0]))))\";\n",
       "                var nbb_cells = Jupyter.notebook.get_cells();\n",
       "                for (var i = 0; i < nbb_cells.length; ++i) {\n",
       "                    if (nbb_cells[i].input_prompt_number == nbb_cell_id) {\n",
       "                        if (nbb_cells[i].get_text() == nbb_unformatted_code) {\n",
       "                             nbb_cells[i].set_text(nbb_formatted_code);\n",
       "                        }\n",
       "                        break;\n",
       "                    }\n",
       "                }\n",
       "            }, 500);\n",
       "            "
      ],
      "text/plain": [
       "<IPython.core.display.Javascript object>"
      ]
     },
     "metadata": {},
     "output_type": "display_data"
    }
   ],
   "source": [
    "from scipy.stats import zscore\n",
    "\n",
    "z_scores = zscore(df2[\"Schooling\"])\n",
    "for threshold in range(1, 5):\n",
    "    print(\"The score threshold is: {}\".format(threshold))\n",
    "    print(\"The indices of the outliers:\")\n",
    "    print(np.where(z_scores > threshold))\n",
    "    print(\"Number of outliers is: {}\".format(len((np.where(z_scores > threshold)[0]))))"
   ]
  },
  {
   "cell_type": "markdown",
   "metadata": {},
   "source": [
    "For this variable, the outliers discovered with z-scores greater than a threshold of 2 will be dropped."
   ]
  },
  {
   "cell_type": "code",
   "execution_count": 38,
   "metadata": {},
   "outputs": [
    {
     "data": {
      "application/javascript": [
       "\n",
       "            setTimeout(function() {\n",
       "                var nbb_cell_id = 38;\n",
       "                var nbb_unformatted_code = \"dlist = list(np.where(z_scores > 2)[0])\";\n",
       "                var nbb_formatted_code = \"dlist = list(np.where(z_scores > 2)[0])\";\n",
       "                var nbb_cells = Jupyter.notebook.get_cells();\n",
       "                for (var i = 0; i < nbb_cells.length; ++i) {\n",
       "                    if (nbb_cells[i].input_prompt_number == nbb_cell_id) {\n",
       "                        if (nbb_cells[i].get_text() == nbb_unformatted_code) {\n",
       "                             nbb_cells[i].set_text(nbb_formatted_code);\n",
       "                        }\n",
       "                        break;\n",
       "                    }\n",
       "                }\n",
       "            }, 500);\n",
       "            "
      ],
      "text/plain": [
       "<IPython.core.display.Javascript object>"
      ]
     },
     "metadata": {},
     "output_type": "display_data"
    }
   ],
   "source": [
    "dlist = list(np.where(z_scores > 2)[0])"
   ]
  },
  {
   "cell_type": "code",
   "execution_count": 39,
   "metadata": {},
   "outputs": [
    {
     "data": {
      "application/javascript": [
       "\n",
       "            setTimeout(function() {\n",
       "                var nbb_cell_id = 39;\n",
       "                var nbb_unformatted_code = \"df2_2 = df2.copy()\\ndf2_2 = df2_2.drop(dlist)\";\n",
       "                var nbb_formatted_code = \"df2_2 = df2.copy()\\ndf2_2 = df2_2.drop(dlist)\";\n",
       "                var nbb_cells = Jupyter.notebook.get_cells();\n",
       "                for (var i = 0; i < nbb_cells.length; ++i) {\n",
       "                    if (nbb_cells[i].input_prompt_number == nbb_cell_id) {\n",
       "                        if (nbb_cells[i].get_text() == nbb_unformatted_code) {\n",
       "                             nbb_cells[i].set_text(nbb_formatted_code);\n",
       "                        }\n",
       "                        break;\n",
       "                    }\n",
       "                }\n",
       "            }, 500);\n",
       "            "
      ],
      "text/plain": [
       "<IPython.core.display.Javascript object>"
      ]
     },
     "metadata": {},
     "output_type": "display_data"
    }
   ],
   "source": [
    "df2_2 = df2.copy()\n",
    "df2_2 = df2_2.drop(dlist)"
   ]
  },
  {
   "cell_type": "code",
   "execution_count": null,
   "metadata": {},
   "outputs": [],
   "source": []
  },
  {
   "cell_type": "code",
   "execution_count": 45,
   "metadata": {},
   "outputs": [
    {
     "data": {
      "text/plain": [
       "0       0.479\n",
       "1       0.476\n",
       "2       0.470\n",
       "3       0.463\n",
       "4       0.454\n",
       "        ...  \n",
       "2933    0.407\n",
       "2934    0.418\n",
       "2935    0.427\n",
       "2936    0.427\n",
       "2937    0.434\n",
       "Name: BoxCox_ICOR, Length: 2938, dtype: float64"
      ]
     },
     "execution_count": 45,
     "metadata": {},
     "output_type": "execute_result"
    },
    {
     "data": {
      "application/javascript": [
       "\n",
       "            setTimeout(function() {\n",
       "                var nbb_cell_id = 45;\n",
       "                var nbb_unformatted_code = \"df2_2.iloc[:, 26]\";\n",
       "                var nbb_formatted_code = \"df2_2.iloc[:, 26]\";\n",
       "                var nbb_cells = Jupyter.notebook.get_cells();\n",
       "                for (var i = 0; i < nbb_cells.length; ++i) {\n",
       "                    if (nbb_cells[i].input_prompt_number == nbb_cell_id) {\n",
       "                        if (nbb_cells[i].get_text() == nbb_unformatted_code) {\n",
       "                             nbb_cells[i].set_text(nbb_formatted_code);\n",
       "                        }\n",
       "                        break;\n",
       "                    }\n",
       "                }\n",
       "            }, 500);\n",
       "            "
      ],
      "text/plain": [
       "<IPython.core.display.Javascript object>"
      ]
     },
     "metadata": {},
     "output_type": "display_data"
    }
   ],
   "source": [
    "df2_2.iloc[:, 26]"
   ]
  },
  {
   "cell_type": "code",
   "execution_count": 49,
   "metadata": {},
   "outputs": [
    {
     "name": "stdout",
     "output_type": "stream",
     "text": [
      "<class 'pandas.core.frame.DataFrame'>\n",
      "Int64Index: 2938 entries, 0 to 2937\n",
      "Data columns (total 27 columns):\n",
      " #   Column                           Non-Null Count  Dtype  \n",
      "---  ------                           --------------  -----  \n",
      " 0   Country                          2938 non-null   object \n",
      " 1   Year                             2938 non-null   int64  \n",
      " 2   Status                           2938 non-null   object \n",
      " 3   Life expectancy                  2938 non-null   float64\n",
      " 4   Adult Mortality                  2938 non-null   float64\n",
      " 5   infant deaths                    2938 non-null   int64  \n",
      " 6   Alcohol                          2938 non-null   float64\n",
      " 7   percentage expenditure           2938 non-null   float64\n",
      " 8   Hepatitis B                      2938 non-null   float64\n",
      " 9   Measles                          2938 non-null   int64  \n",
      " 10   BMI                             2938 non-null   float64\n",
      " 11  under-five deaths                2938 non-null   int64  \n",
      " 12  Polio                            2938 non-null   float64\n",
      " 13  Total expenditure                2938 non-null   float64\n",
      " 14  Diphtheria                       2938 non-null   float64\n",
      " 15   HIV/AIDS                        2938 non-null   float64\n",
      " 16  GDP                              2938 non-null   float64\n",
      " 17  Population                       2938 non-null   float64\n",
      " 18   thinness  1-19 years            2938 non-null   float64\n",
      " 19   thinness 5-9 years              2938 non-null   float64\n",
      " 20  Income composition of resources  2938 non-null   float64\n",
      " 21  Schooling                        2938 non-null   float64\n",
      " 22  LOG(Life Expectancy)             2938 non-null   float64\n",
      " 23  Win_LOG(Life Expectancy)         2938 non-null   float64\n",
      " 24  LifeEx_boxcox                    2938 non-null   float64\n",
      " 25  Win_boxcox(LifeEx)               2938 non-null   float64\n",
      " 26  BoxCox_ICOR                      2938 non-null   float64\n",
      "dtypes: float64(21), int64(4), object(2)\n",
      "memory usage: 642.7+ KB\n"
     ]
    },
    {
     "data": {
      "application/javascript": [
       "\n",
       "            setTimeout(function() {\n",
       "                var nbb_cell_id = 49;\n",
       "                var nbb_unformatted_code = \"# filling via an extapolation of sorts\\n# discuss this possible method with mentor/instructor\\n\\ndf2_2[\\\"BoxCox_ICOR\\\"] = df2_2[\\\"Income composition of resources\\\"].apply(\\n    lambda x: x\\n    if x > 0.0000\\n    else random.choice(\\n        np.multiply(\\n            list(\\n                chain(\\n                    range(10, 80, 10),\\n                    range(80, 140, 7),\\n                    range(140, 190, 5),\\n                    range(180, 215, 3),\\n                    range(215, 235, 2),\\n                    range(235, 250, 2),\\n                )\\n            ),\\n            0.001,\\n        )\\n    )\\n)\\n\\n\\ndf2_2[\\\"BoxCox_ICOR\\\"], _ = boxcox(x=df2_2[\\\"BoxCox_ICOR\\\"])\\n\\n# for i in range(0, 2773):\\n#     df2_2.iat[i, 26] = ICOR_boxcox[i]\\n\\ndf2_2[\\\"BoxCox_ICOR\\\"] = pd.to_numeric(df2_2[\\\"BoxCox_ICOR\\\"], errors=\\\"coerce\\\")\\ndf2_2.info()\";\n",
       "                var nbb_formatted_code = \"# filling via an extapolation of sorts\\n# discuss this possible method with mentor/instructor\\n\\ndf2_2[\\\"BoxCox_ICOR\\\"] = df2_2[\\\"Income composition of resources\\\"].apply(\\n    lambda x: x\\n    if x > 0.0000\\n    else random.choice(\\n        np.multiply(\\n            list(\\n                chain(\\n                    range(10, 80, 10),\\n                    range(80, 140, 7),\\n                    range(140, 190, 5),\\n                    range(180, 215, 3),\\n                    range(215, 235, 2),\\n                    range(235, 250, 2),\\n                )\\n            ),\\n            0.001,\\n        )\\n    )\\n)\\n\\n\\ndf2_2[\\\"BoxCox_ICOR\\\"], _ = boxcox(x=df2_2[\\\"BoxCox_ICOR\\\"])\\n\\n# for i in range(0, 2773):\\n#     df2_2.iat[i, 26] = ICOR_boxcox[i]\\n\\ndf2_2[\\\"BoxCox_ICOR\\\"] = pd.to_numeric(df2_2[\\\"BoxCox_ICOR\\\"], errors=\\\"coerce\\\")\\ndf2_2.info()\";\n",
       "                var nbb_cells = Jupyter.notebook.get_cells();\n",
       "                for (var i = 0; i < nbb_cells.length; ++i) {\n",
       "                    if (nbb_cells[i].input_prompt_number == nbb_cell_id) {\n",
       "                        if (nbb_cells[i].get_text() == nbb_unformatted_code) {\n",
       "                             nbb_cells[i].set_text(nbb_formatted_code);\n",
       "                        }\n",
       "                        break;\n",
       "                    }\n",
       "                }\n",
       "            }, 500);\n",
       "            "
      ],
      "text/plain": [
       "<IPython.core.display.Javascript object>"
      ]
     },
     "metadata": {},
     "output_type": "display_data"
    }
   ],
   "source": [
    "# filling via an extapolation of sorts\n",
    "# discuss this possible method with mentor/instructor\n",
    "\n",
    "df2_2[\"BoxCox_ICOR\"] = df2_2[\"Income composition of resources\"].apply(\n",
    "    lambda x: x\n",
    "    if x > 0.0000\n",
    "    else random.choice(\n",
    "        np.multiply(\n",
    "            list(\n",
    "                chain(\n",
    "                    range(10, 80, 10),\n",
    "                    range(80, 140, 7),\n",
    "                    range(140, 190, 5),\n",
    "                    range(180, 215, 3),\n",
    "                    range(215, 235, 2),\n",
    "                    range(235, 250, 2),\n",
    "                )\n",
    "            ),\n",
    "            0.001,\n",
    "        )\n",
    "    )\n",
    ")\n",
    "\n",
    "\n",
    "df2_2[\"BoxCox_ICOR\"], _ = boxcox(x=df2_2[\"BoxCox_ICOR\"])\n",
    "\n",
    "# for i in range(0, 2773):\n",
    "#     df2_2.iat[i, 26] = ICOR_boxcox[i]\n",
    "\n",
    "df2_2[\"BoxCox_ICOR\"] = pd.to_numeric(df2_2[\"BoxCox_ICOR\"], errors=\"coerce\")\n",
    "df2_2.info()"
   ]
  },
  {
   "cell_type": "code",
   "execution_count": 56,
   "metadata": {},
   "outputs": [
    {
     "data": {
      "image/png": "[encoded data removed]",
      "text/plain": [
       "<Figure size 432x288 with 1 Axes>"
      ]
     },
     "metadata": {
      "needs_background": "light"
     },
     "output_type": "display_data"
    },
    {
     "data": {
      "application/javascript": [
       "\n",
       "            setTimeout(function() {\n",
       "                var nbb_cell_id = 56;\n",
       "                var nbb_unformatted_code = \"df2_2[\\\"Income composition of resources\\\"].hist()\\nplt.show()\";\n",
       "                var nbb_formatted_code = \"df2_2[\\\"Income composition of resources\\\"].hist()\\nplt.show()\";\n",
       "                var nbb_cells = Jupyter.notebook.get_cells();\n",
       "                for (var i = 0; i < nbb_cells.length; ++i) {\n",
       "                    if (nbb_cells[i].input_prompt_number == nbb_cell_id) {\n",
       "                        if (nbb_cells[i].get_text() == nbb_unformatted_code) {\n",
       "                             nbb_cells[i].set_text(nbb_formatted_code);\n",
       "                        }\n",
       "                        break;\n",
       "                    }\n",
       "                }\n",
       "            }, 500);\n",
       "            "
      ],
      "text/plain": [
       "<IPython.core.display.Javascript object>"
      ]
     },
     "metadata": {},
     "output_type": "display_data"
    }
   ],
   "source": [
    "df2_2[\"Income composition of resources\"].hist()\n",
    "plt.show()"
   ]
  },
  {
   "cell_type": "code",
   "execution_count": 58,
   "metadata": {},
   "outputs": [
    {
     "data": {
      "text/plain": [
       "count    2938.00000\n",
       "mean        0.63474\n",
       "std         0.20940\n",
       "min         0.00000\n",
       "25%         0.50100\n",
       "50%         0.68400\n",
       "75%         0.78800\n",
       "max         0.94800\n",
       "Name: Income composition of resources, dtype: float64"
      ]
     },
     "execution_count": 58,
     "metadata": {},
     "output_type": "execute_result"
    },
    {
     "data": {
      "application/javascript": [
       "\n",
       "            setTimeout(function() {\n",
       "                var nbb_cell_id = 58;\n",
       "                var nbb_unformatted_code = \"df2_2[\\\"Income composition of resources\\\"].describe()\";\n",
       "                var nbb_formatted_code = \"df2_2[\\\"Income composition of resources\\\"].describe()\";\n",
       "                var nbb_cells = Jupyter.notebook.get_cells();\n",
       "                for (var i = 0; i < nbb_cells.length; ++i) {\n",
       "                    if (nbb_cells[i].input_prompt_number == nbb_cell_id) {\n",
       "                        if (nbb_cells[i].get_text() == nbb_unformatted_code) {\n",
       "                             nbb_cells[i].set_text(nbb_formatted_code);\n",
       "                        }\n",
       "                        break;\n",
       "                    }\n",
       "                }\n",
       "            }, 500);\n",
       "            "
      ],
      "text/plain": [
       "<IPython.core.display.Javascript object>"
      ]
     },
     "metadata": {},
     "output_type": "display_data"
    }
   ],
   "source": [
    "df2_2[\"Income composition of resources\"].describe()"
   ]
  },
  {
   "cell_type": "code",
   "execution_count": 63,
   "metadata": {},
   "outputs": [
    {
     "name": "stdout",
     "output_type": "stream",
     "text": [
      "<class 'pandas.core.frame.DataFrame'>\n",
      "Int64Index: 2938 entries, 0 to 2937\n",
      "Data columns (total 31 columns):\n",
      " #   Column                           Non-Null Count  Dtype  \n",
      "---  ------                           --------------  -----  \n",
      " 0   Country                          2938 non-null   object \n",
      " 1   Year                             2938 non-null   int64  \n",
      " 2   Status                           2938 non-null   object \n",
      " 3   Life expectancy                  2938 non-null   float64\n",
      " 4   Adult Mortality                  2938 non-null   float64\n",
      " 5   infant deaths                    2938 non-null   int64  \n",
      " 6   Alcohol                          2938 non-null   float64\n",
      " 7   percentage expenditure           2938 non-null   float64\n",
      " 8   Hepatitis B                      2938 non-null   float64\n",
      " 9   Measles                          2938 non-null   int64  \n",
      " 10   BMI                             2938 non-null   float64\n",
      " 11  under-five deaths                2938 non-null   int64  \n",
      " 12  Polio                            2938 non-null   float64\n",
      " 13  Total expenditure                2938 non-null   float64\n",
      " 14  Diphtheria                       2938 non-null   float64\n",
      " 15   HIV/AIDS                        2938 non-null   float64\n",
      " 16  GDP                              2938 non-null   float64\n",
      " 17  Population                       2938 non-null   float64\n",
      " 18   thinness  1-19 years            2938 non-null   float64\n",
      " 19   thinness 5-9 years              2938 non-null   float64\n",
      " 20  Income composition of resources  2938 non-null   float64\n",
      " 21  Schooling                        2938 non-null   float64\n",
      " 22  LOG(Life Expectancy)             2938 non-null   float64\n",
      " 23  Win_LOG(Life Expectancy)         2938 non-null   float64\n",
      " 24  LifeEx_boxcox                    2938 non-null   float64\n",
      " 25  Win_boxcox(LifeEx)               2938 non-null   float64\n",
      " 26  BoxCox_ICOR                      2938 non-null   float64\n",
      " 27  LOG(ICOR)                        2938 non-null   float64\n",
      " 28  winsor_ICOR                      2938 non-null   float64\n",
      " 29  Win_bcox_ICOR                    2938 non-null   float64\n",
      " 30  Win_LOG(ICOR)                    2938 non-null   float64\n",
      "dtypes: float64(25), int64(4), object(2)\n",
      "memory usage: 734.5+ KB\n"
     ]
    },
    {
     "data": {
      "image/png": "[encoded data removed]",
      "text/plain": [
       "<Figure size 864x504 with 6 Axes>"
      ]
     },
     "metadata": {
      "needs_background": "light"
     },
     "output_type": "display_data"
    },
    {
     "data": {
      "application/javascript": [
       "\n",
       "            setTimeout(function() {\n",
       "                var nbb_cell_id = 63;\n",
       "                var nbb_unformatted_code = \"df2_2[\\\"LOG(ICOR)\\\"] = df2_2[\\\"Income composition of resources\\\"].apply(\\n    lambda x: x\\n    if x > 0.0000\\n    else random.choice(\\n        np.multiply(\\n            list(\\n                chain(\\n                    range(1, 80, 10),\\n                    range(80, 140, 7),\\n                    range(140, 190, 5),\\n                    range(180, 215, 3),\\n                    range(215, 235, 2),\\n                    range(235, 250, 2),\\n                )\\n            ),\\n            0.001,\\n        )\\n    )\\n)\\n\\ndf2_2[\\\"LOG(ICOR)\\\"], _ = boxcox(x=df2_2[\\\"LOG(ICOR)\\\"])\\n\\n# for i in range(0, 2773):\\n#     df2_2.iat[i, 26] = ICOR_boxcox[i]\\n\\ndf2_2[\\\"LOG(ICOR)\\\"] = pd.to_numeric(df2_2[\\\"LOG(ICOR)\\\"], errors=\\\"coerce\\\")\\ndf2_2.info()\\n\\ndf2_2[\\\"winsor_ICOR\\\"] = winsorize(df2_2[\\\"Income composition of resources\\\"], (0.05, 0.0))\\ndf2_2[\\\"Win_bcox_ICOR\\\"] = winsorize(df2_2[\\\"BoxCox_ICOR\\\"], (0.05, 0.0))\\ndf2_2[\\\"Win_LOG(ICOR)\\\"] = winsorize(df2_2[\\\"LOG(ICOR)\\\"], (0.05, 0.0))\\n\\nplt.figure(figsize=(12, 7))\\nplt.subplot(231)\\nplt.hist(x=df2_2[\\\"Income composition of resources\\\"], bins=50)\\nplt.title(\\\"Original ICOR\\\")\\nplt.subplot(232)\\nplt.hist(x=df2_2[\\\"winsor_ICOR\\\"], bins=50)\\nplt.title(\\\"Winsorized(ICOR)\\\")\\nplt.subplot(233)\\nplt.hist(x=df2_2[\\\"LOG(ICOR)\\\"], bins=50)\\nplt.title(\\\"LOG(ICOR)\\\")\\nplt.subplot(234)\\nplt.hist(x=df2_2[\\\"BoxCox_ICOR\\\"], bins=50)\\nplt.title(\\\"Winsorized LOG(ICOR)\\\")\\nplt.subplot(235)\\nplt.hist(x=df2_2[\\\"BoxCox_ICOR\\\"], bins=50)\\nplt.title(\\\"BoxCox(ICOR)\\\")\\nplt.subplot(236)\\nplt.hist(x=df2_2[\\\"Win_bcox_ICOR\\\"], bins=50)\\nplt.title(\\\"Winsorized BoxCox(ICOR)\\\")\\nplt.show()\";\n",
       "                var nbb_formatted_code = \"df2_2[\\\"LOG(ICOR)\\\"] = df2_2[\\\"Income composition of resources\\\"].apply(\\n    lambda x: x\\n    if x > 0.0000\\n    else random.choice(\\n        np.multiply(\\n            list(\\n                chain(\\n                    range(1, 80, 10),\\n                    range(80, 140, 7),\\n                    range(140, 190, 5),\\n                    range(180, 215, 3),\\n                    range(215, 235, 2),\\n                    range(235, 250, 2),\\n                )\\n            ),\\n            0.001,\\n        )\\n    )\\n)\\n\\ndf2_2[\\\"LOG(ICOR)\\\"], _ = boxcox(x=df2_2[\\\"LOG(ICOR)\\\"])\\n\\n# for i in range(0, 2773):\\n#     df2_2.iat[i, 26] = ICOR_boxcox[i]\\n\\ndf2_2[\\\"LOG(ICOR)\\\"] = pd.to_numeric(df2_2[\\\"LOG(ICOR)\\\"], errors=\\\"coerce\\\")\\ndf2_2.info()\\n\\ndf2_2[\\\"winsor_ICOR\\\"] = winsorize(df2_2[\\\"Income composition of resources\\\"], (0.05, 0.0))\\ndf2_2[\\\"Win_bcox_ICOR\\\"] = winsorize(df2_2[\\\"BoxCox_ICOR\\\"], (0.05, 0.0))\\ndf2_2[\\\"Win_LOG(ICOR)\\\"] = winsorize(df2_2[\\\"LOG(ICOR)\\\"], (0.05, 0.0))\\n\\nplt.figure(figsize=(12, 7))\\nplt.subplot(231)\\nplt.hist(x=df2_2[\\\"Income composition of resources\\\"], bins=50)\\nplt.title(\\\"Original ICOR\\\")\\nplt.subplot(232)\\nplt.hist(x=df2_2[\\\"winsor_ICOR\\\"], bins=50)\\nplt.title(\\\"Winsorized(ICOR)\\\")\\nplt.subplot(233)\\nplt.hist(x=df2_2[\\\"LOG(ICOR)\\\"], bins=50)\\nplt.title(\\\"LOG(ICOR)\\\")\\nplt.subplot(234)\\nplt.hist(x=df2_2[\\\"BoxCox_ICOR\\\"], bins=50)\\nplt.title(\\\"Winsorized LOG(ICOR)\\\")\\nplt.subplot(235)\\nplt.hist(x=df2_2[\\\"BoxCox_ICOR\\\"], bins=50)\\nplt.title(\\\"BoxCox(ICOR)\\\")\\nplt.subplot(236)\\nplt.hist(x=df2_2[\\\"Win_bcox_ICOR\\\"], bins=50)\\nplt.title(\\\"Winsorized BoxCox(ICOR)\\\")\\nplt.show()\";\n",
       "                var nbb_cells = Jupyter.notebook.get_cells();\n",
       "                for (var i = 0; i < nbb_cells.length; ++i) {\n",
       "                    if (nbb_cells[i].input_prompt_number == nbb_cell_id) {\n",
       "                        if (nbb_cells[i].get_text() == nbb_unformatted_code) {\n",
       "                             nbb_cells[i].set_text(nbb_formatted_code);\n",
       "                        }\n",
       "                        break;\n",
       "                    }\n",
       "                }\n",
       "            }, 500);\n",
       "            "
      ],
      "text/plain": [
       "<IPython.core.display.Javascript object>"
      ]
     },
     "metadata": {},
     "output_type": "display_data"
    }
   ],
   "source": [
    "df2_2[\"LOG(ICOR)\"] = df2_2[\"Income composition of resources\"].apply(\n",
    "    lambda x: x\n",
    "    if x > 0.0000\n",
    "    else random.choice(\n",
    "        np.multiply(\n",
    "            list(\n",
    "                chain(\n",
    "                    range(1, 80, 10),\n",
    "                    range(80, 140, 7),\n",
    "                    range(140, 190, 5),\n",
    "                    range(180, 215, 3),\n",
    "                    range(215, 235, 2),\n",
    "                    range(235, 250, 2),\n",
    "                )\n",
    "            ),\n",
    "            0.001,\n",
    "        )\n",
    "    )\n",
    ")\n",
    "\n",
    "df2_2[\"LOG(ICOR)\"], _ = boxcox(x=df2_2[\"LOG(ICOR)\"])\n",
    "\n",
    "# for i in range(0, 2773):\n",
    "#     df2_2.iat[i, 26] = ICOR_boxcox[i]\n",
    "\n",
    "df2_2[\"LOG(ICOR)\"] = pd.to_numeric(df2_2[\"LOG(ICOR)\"], errors=\"coerce\")\n",
    "df2_2.info()\n",
    "\n",
    "df2_2[\"winsor_ICOR\"] = winsorize(df2_2[\"Income composition of resources\"], (0.05, 0.0))\n",
    "df2_2[\"Win_bcox_ICOR\"] = winsorize(df2_2[\"BoxCox_ICOR\"], (0.05, 0.0))\n",
    "df2_2[\"Win_LOG(ICOR)\"] = winsorize(df2_2[\"LOG(ICOR)\"], (0.05, 0.0))\n",
    "\n",
    "plt.figure(figsize=(12, 7))\n",
    "plt.subplot(231)\n",
    "plt.hist(x=df2_2[\"Income composition of resources\"], bins=50)\n",
    "plt.title(\"Original ICOR\")\n",
    "plt.subplot(232)\n",
    "plt.hist(x=df2_2[\"winsor_ICOR\"], bins=50)\n",
    "plt.title(\"Winsorized(ICOR)\")\n",
    "plt.subplot(233)\n",
    "plt.hist(x=df2_2[\"LOG(ICOR)\"], bins=50)\n",
    "plt.title(\"LOG(ICOR)\")\n",
    "plt.subplot(234)\n",
    "plt.hist(x=df2_2[\"BoxCox_ICOR\"], bins=50)\n",
    "plt.title(\"Winsorized LOG(ICOR)\")\n",
    "plt.subplot(235)\n",
    "plt.hist(x=df2_2[\"BoxCox_ICOR\"], bins=50)\n",
    "plt.title(\"BoxCox(ICOR)\")\n",
    "plt.subplot(236)\n",
    "plt.hist(x=df2_2[\"Win_bcox_ICOR\"], bins=50)\n",
    "plt.title(\"Winsorized BoxCox(ICOR)\")\n",
    "plt.show()"
   ]
  },
  {
   "cell_type": "code",
   "execution_count": null,
   "metadata": {},
   "outputs": [],
   "source": [
    "plt.hist(x=df2_2[\" BMI \"], bins=50)\n",
    "plt.show()"
   ]
  },
  {
   "cell_type": "code",
   "execution_count": null,
   "metadata": {},
   "outputs": [],
   "source": [
    "plt.figure(figsize=(15, 8))\n",
    "plt.subplot(231)\n",
    "plt.title('Original HIV/AIDS')\n",
    "plt.hist(x=df2_2[\" HIV/AIDS\"], bins=50)\n",
    "\n",
    "df2_2['Win_HIV/AIDS'] = winsorize(df2_2[\" HIV/AIDS\"], (0.05, 0.05))\n",
    "df2_2['LOG(HIV/AIDS)'] = winsorize(df2_2[\" HIV/AIDS\"], (0.05, 0.05))\n",
    "df2_2['Win_LOG(HIV/AIDS)'] = winsorize(df2_2[\" HIV/AIDS\"], (0.05, 0.05))\n",
    "df2_2['BOXCOX(HIV/AIDS)'] = winsorize(df2_2[\" HIV/AIDS\"], (0.05, 0.05))\n",
    "df2_2['Win_BOXCOX(HIV/AIDS)\n",
    "      '] = winsorize(df2_2[\" HIV/AIDS\"], (0.05, 0.05))\n",
    "\n",
    "\n",
    "\n",
    "plt.subplot(232)\n",
    "plt.title('Winsorized HIV/AIDS')\n",
    "plt.hist(x=np.log(df2_2[\" HIV/AIDS\"]), bins=50)\n",
    "\n",
    "plt.subplot(233)\n",
    "plt.title('LOG(HIV/AIDS)')\n",
    "plt.hist(x=winsorize(np.log(df2_2[\" HIV/AIDS\"]), (0.05, 0.05)), bins=50)\n",
    "\n",
    "plt.subplot(234)\n",
    "plt.title('Winsorized LOG(HIV/AIDS)')\n",
    "plt.hist(x=np.log(winsorize(df2_2[\" HIV/AIDS\"], (0.05, 0.05))), bins=50)\n",
    "\n",
    "plt.subplot(235)\n",
    "plt.title('BOXCOX(HIV/AIDS)')\n",
    "plt.hist(x=np.log(winsorize(df2_2[\" HIV/AIDS\"], (0.05, 0.05))), bins=50)\n",
    "\n",
    "plt.subplot(235)\n",
    "plt.title('Winsorized BOXCOX(HIV/AIDS')\n",
    "plt.hist(x=np.log(winsorize(df2_2[\" HIV/AIDS\"], (0.05, 0.05))), bins=50)\n",
    "\n",
    "plt.show()"
   ]
  },
  {
   "cell_type": "code",
   "execution_count": null,
   "metadata": {},
   "outputs": [],
   "source": [
    "winlog_hiv_aids = winsorize(np.log(df2_2[\" HIV/AIDS\"]), (0.05, 0.05))\n",
    "plt.boxplot(winlog_hiv_aids)\n",
    "plt.show()"
   ]
  },
  {
   "cell_type": "code",
   "execution_count": null,
   "metadata": {},
   "outputs": [],
   "source": [
    "df2_2[\"win_log_HIV\"] = winsorize(np.log(df2_2[\" HIV/AIDS\"]), (0.05, 0.05))\n",
    "df2_2[\"win_log_Ad_Mort\"] = winsorize(np.log(df2_2[\"Adult Mortality\"]), (0.05, 0.05))"
   ]
  },
  {
   "cell_type": "code",
   "execution_count": null,
   "metadata": {},
   "outputs": [],
   "source": []
  },
  {
   "cell_type": "code",
   "execution_count": null,
   "metadata": {},
   "outputs": [],
   "source": []
  },
  {
   "cell_type": "code",
   "execution_count": null,
   "metadata": {},
   "outputs": [],
   "source": [
    "df2_2[\"Boxcox_Adult_Mort\"], _ = boxcox(x=df2_2[\"Adult Mortality\"])\n",
    "\n",
    "plt.subplot(231)\n",
    "plt.hist(x=df2_2[\"Adult Mortality\"], bins=25)\n",
    "plt.title(\"Original Adult Mortality\")\n",
    "\n",
    "plt.subplot(232)\n",
    "plt.hist(x=df2_2[\"Boxcox_Adult_Mort\"], bins=25)\n",
    "plt.title(\"Boxcox(Adult Mortality)\")\n",
    "\n",
    "plt.subplot(233)\n",
    "plt.hist(x=np.log(df2_2[\"Adult Mortality\"]), bins=25)\n",
    "plt.title(\"LOG(Adult Mortality)\")\n",
    "\n",
    "plt.subplot(234)\n",
    "plt.hist(x=df2_2[\"Boxcox_Adult_Mort\"], bins=25)\n",
    "plt.title(\"Winsorized Boxcox(Adult Mortality)\")\n",
    "\n",
    "plt.subplot(235)\n",
    "plt.hist(x=df2_2[\"Boxcox_Adult_Mort\"], bins=25)\n",
    "plt.title(\"Winsorized LOG(Adult Mortality)\")\n",
    "\n",
    "plt.show()\n",
    "print(df2_2[\"Adult Mortality\"].describe())\n",
    "print(df2_2[\"Boxcox_Adult_Mort\"].describe())\n",
    "print(np.log(df2_2[\"Adult Mortality\"]).describe())\n",
    "print(winsorize(df2_2[\"Boxcox_Adult_Mort\"], (0.05, 0.05)).describe())\n"
   ]
  },
  {
   "cell_type": "code",
   "execution_count": null,
   "metadata": {},
   "outputs": [],
   "source": [
    "sns.pairplot(data=df2_2, hue=\"Status\")\n",
    "plt.show()"
   ]
  },
  {
   "cell_type": "markdown",
   "metadata": {},
   "source": [
    "## 4. In the feature-engineering step, you need to select a suite of variables that you think would be ideal in the modeling phase. More concretely, you may discard some variables that are highly correlated with the other ones or the variables that you think are irrelevant with the life expectancy."
   ]
  },
  {
   "cell_type": "code",
   "execution_count": null,
   "metadata": {},
   "outputs": [],
   "source": [
    "df2_2.corr()"
   ]
  },
  {
   "cell_type": "code",
   "execution_count": null,
   "metadata": {},
   "outputs": [],
   "source": [
    "df_num_corr = df2_2.corr()[\"Life expectancy \"][:]  # -1 if 'a column'\n",
    "golden_feature_list = df_num_corr[abs(df_num_corr) > 0.5].sort_values(ascending=False)\n",
    "print(\n",
    "    \"There is {} strongly correlated values with a column:\\n{}\".format(\n",
    "        len(golden_feature_list), golden_feature_list\n",
    "    )\n",
    ")"
   ]
  },
  {
   "cell_type": "code",
   "execution_count": null,
   "metadata": {},
   "outputs": [],
   "source": [
    "HIV_boxcox,_ = boxcox(x=df2_2[' HIV/AIDS'])\n"
   ]
  },
  {
   "cell_type": "code",
   "execution_count": null,
   "metadata": {},
   "outputs": [],
   "source": []
  },
  {
   "cell_type": "code",
   "execution_count": null,
   "metadata": {},
   "outputs": [],
   "source": []
  }
 ],
 "metadata": {
  "kernelspec": {
   "display_name": "Python 3",
   "language": "python",
   "name": "python3"
  },
  "language_info": {
   "codemirror_mode": {
    "name": "ipython",
    "version": 3
   },
   "file_extension": ".py",
   "mimetype": "text/x-python",
   "name": "python",
   "nbconvert_exporter": "python",
   "pygments_lexer": "ipython3",
   "version": "3.8.3"
  }
 },
 "nbformat": 4,
 "nbformat_minor": 4
}
