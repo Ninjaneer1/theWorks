{
 "cells": [
  {
   "cell_type": "code",
   "execution_count": 1,
   "metadata": {},
   "outputs": [
    {
     "data": {
      "application/javascript": [
       "\n",
       "            setTimeout(function() {\n",
       "                var nbb_cell_id = 1;\n",
       "                var nbb_unformatted_code = \"%reload_ext nb_black\";\n",
       "                var nbb_formatted_code = \"%reload_ext nb_black\";\n",
       "                var nbb_cells = Jupyter.notebook.get_cells();\n",
       "                for (var i = 0; i < nbb_cells.length; ++i) {\n",
       "                    if (nbb_cells[i].input_prompt_number == nbb_cell_id) {\n",
       "                        if (nbb_cells[i].get_text() == nbb_unformatted_code) {\n",
       "                             nbb_cells[i].set_text(nbb_formatted_code);\n",
       "                        }\n",
       "                        break;\n",
       "                    }\n",
       "                }\n",
       "            }, 500);\n",
       "            "
      ],
      "text/plain": [
       "<IPython.core.display.Javascript object>"
      ]
     },
     "metadata": {},
     "output_type": "display_data"
    }
   ],
   "source": [
    "%reload_ext nb_black"
   ]
  },
  {
   "cell_type": "markdown",
   "metadata": {},
   "source": [
    "* Load the houseprices data from Thinkful's database.\n",
    "* Reimplement your model from the previous checkpoint.\n",
    "* Try OLS, lasso, ridge, and elastic net regression using the same model specification. This time, you need to do k-fold cross-validation to choose the best hyperparameter values for your models. Scikit-learn has RidgeCV, LassoCV, and ElasticNetCV that you can utilize to do this. Which model is the best? Why?"
   ]
  },
  {
   "cell_type": "code",
   "execution_count": 8,
   "metadata": {},
   "outputs": [
    {
     "data": {
      "application/javascript": [
       "\n",
       "            setTimeout(function() {\n",
       "                var nbb_cell_id = 8;\n",
       "                var nbb_unformatted_code = \"import numpy as np\\nimport pandas as pd\\nimport matplotlib.pyplot as plt\\nfrom sqlalchemy import create_engine\\nfrom sklearn.linear_model import LinearRegression, LassoCV, RidgeCV, ElasticNetCV\\nfrom sklearn.model_selection import train_test_split, cross_val_score\\nfrom sklearn.metrics import mean_absolute_error\\nfrom statsmodels.tools.eval_measures import mse, rmse\\nimport seaborn as sns\\nimport warnings\\n\\nwarnings.filterwarnings(\\\"ignore\\\")\\nimport config\";\n",
       "                var nbb_formatted_code = \"import numpy as np\\nimport pandas as pd\\nimport matplotlib.pyplot as plt\\nfrom sqlalchemy import create_engine\\nfrom sklearn.linear_model import LinearRegression, LassoCV, RidgeCV, ElasticNetCV\\nfrom sklearn.model_selection import train_test_split, cross_val_score\\nfrom sklearn.metrics import mean_absolute_error\\nfrom statsmodels.tools.eval_measures import mse, rmse\\nimport seaborn as sns\\nimport warnings\\n\\nwarnings.filterwarnings(\\\"ignore\\\")\\nimport config\";\n",
       "                var nbb_cells = Jupyter.notebook.get_cells();\n",
       "                for (var i = 0; i < nbb_cells.length; ++i) {\n",
       "                    if (nbb_cells[i].input_prompt_number == nbb_cell_id) {\n",
       "                        if (nbb_cells[i].get_text() == nbb_unformatted_code) {\n",
       "                             nbb_cells[i].set_text(nbb_formatted_code);\n",
       "                        }\n",
       "                        break;\n",
       "                    }\n",
       "                }\n",
       "            }, 500);\n",
       "            "
      ],
      "text/plain": [
       "<IPython.core.display.Javascript object>"
      ]
     },
     "metadata": {},
     "output_type": "display_data"
    }
   ],
   "source": [
    "import numpy as np\n",
    "import pandas as pd\n",
    "from sqlalchemy import create_engine\n",
    "\n",
    "import matplotlib.pyplot as plt\n",
    "import seaborn as sns\n",
    "\n",
    "import statsmodels.api as sm\n",
    "from sklearn.linear_model import LinearRegression, LassoCV, RidgeCV, ElasticNetCV\n",
    "\n",
    "from sklearn.model_selection import train_test_split, cross_val_score\n",
    "from sklearn.metrics import mean_absolute_error\n",
    "from statsmodels.tools.eval_measures import mse, rmse\n",
    "\n",
    "import warnings\n",
    "\n",
    "warnings.filterwarnings(\"ignore\")\n",
    "import config"
   ]
  },
  {
   "cell_type": "code",
   "execution_count": 21,
   "metadata": {},
   "outputs": [
    {
     "data": {
      "application/javascript": [
       "\n",
       "            setTimeout(function() {\n",
       "                var nbb_cell_id = 21;\n",
       "                var nbb_unformatted_code = \"postgres_user = config.user\\npostgres_pw = config.password\\npostgres_host = config.host\\npostgres_port = config.port\\npostgres_db = \\\"houseprices\\\"\\n\\nengine = create_engine(\\n    \\\"postgresql://{}:{}@{}:{}/{}\\\".format(\\n        postgres_user, postgres_pw, postgres_host, postgres_port, postgres_db\\n    )\\n)\\n\\ndf = pd.read_sql_query(\\\"select * from houseprices\\\", con=engine)\\n\\n# No need for an open connection,\\n# because you're only doing a single query\\nengine.dispose()\";\n",
       "                var nbb_formatted_code = \"postgres_user = config.user\\npostgres_pw = config.password\\npostgres_host = config.host\\npostgres_port = config.port\\npostgres_db = \\\"houseprices\\\"\\n\\nengine = create_engine(\\n    \\\"postgresql://{}:{}@{}:{}/{}\\\".format(\\n        postgres_user, postgres_pw, postgres_host, postgres_port, postgres_db\\n    )\\n)\\n\\ndf = pd.read_sql_query(\\\"select * from houseprices\\\", con=engine)\\n\\n# No need for an open connection,\\n# because you're only doing a single query\\nengine.dispose()\";\n",
       "                var nbb_cells = Jupyter.notebook.get_cells();\n",
       "                for (var i = 0; i < nbb_cells.length; ++i) {\n",
       "                    if (nbb_cells[i].input_prompt_number == nbb_cell_id) {\n",
       "                        if (nbb_cells[i].get_text() == nbb_unformatted_code) {\n",
       "                             nbb_cells[i].set_text(nbb_formatted_code);\n",
       "                        }\n",
       "                        break;\n",
       "                    }\n",
       "                }\n",
       "            }, 500);\n",
       "            "
      ],
      "text/plain": [
       "<IPython.core.display.Javascript object>"
      ]
     },
     "metadata": {},
     "output_type": "display_data"
    }
   ],
   "source": [
    "postgres_user = config.user\n",
    "postgres_pw = config.password\n",
    "postgres_host = config.host\n",
    "postgres_port = config.port\n",
    "postgres_db = \"houseprices\"\n",
    "\n",
    "engine = create_engine(\n",
    "    \"postgresql://{}:{}@{}:{}/{}\".format(\n",
    "        postgres_user, postgres_pw, postgres_host, postgres_port, postgres_db\n",
    "    )\n",
    ")\n",
    "\n",
    "df = pd.read_sql_query(\"select * from houseprices\", con=engine)\n",
    "\n",
    "# No need for an open connection,\n",
    "# because you're only doing a single query\n",
    "engine.dispose()"
   ]
  },
  {
   "cell_type": "code",
   "execution_count": 22,
   "metadata": {},
   "outputs": [
    {
     "data": {
      "application/javascript": [
       "\n",
       "            setTimeout(function() {\n",
       "                var nbb_cell_id = 22;\n",
       "                var nbb_unformatted_code = \"df = pd.concat(\\n    [df, pd.get_dummies(df.condition1, prefix=\\\"condition1\\\", drop_first=True)], axis=1\\n)\\ndf = pd.concat(\\n    [df, pd.get_dummies(df.condition2, prefix=\\\"condition2\\\", drop_first=True)], axis=1\\n)\\ndummy_cols = list(\\n    pd.get_dummies(df.condition1, prefix=\\\"condition1\\\", drop_first=True).columns\\n)\\ndummy_cols = dummy_cols + list(\\n    pd.get_dummies(df.condition2, prefix=\\\"condition2\\\", drop_first=True).columns\\n)\";\n",
       "                var nbb_formatted_code = \"df = pd.concat(\\n    [df, pd.get_dummies(df.condition1, prefix=\\\"condition1\\\", drop_first=True)], axis=1\\n)\\ndf = pd.concat(\\n    [df, pd.get_dummies(df.condition2, prefix=\\\"condition2\\\", drop_first=True)], axis=1\\n)\\ndummy_cols = list(\\n    pd.get_dummies(df.condition1, prefix=\\\"condition1\\\", drop_first=True).columns\\n)\\ndummy_cols = dummy_cols + list(\\n    pd.get_dummies(df.condition2, prefix=\\\"condition2\\\", drop_first=True).columns\\n)\";\n",
       "                var nbb_cells = Jupyter.notebook.get_cells();\n",
       "                for (var i = 0; i < nbb_cells.length; ++i) {\n",
       "                    if (nbb_cells[i].input_prompt_number == nbb_cell_id) {\n",
       "                        if (nbb_cells[i].get_text() == nbb_unformatted_code) {\n",
       "                             nbb_cells[i].set_text(nbb_formatted_code);\n",
       "                        }\n",
       "                        break;\n",
       "                    }\n",
       "                }\n",
       "            }, 500);\n",
       "            "
      ],
      "text/plain": [
       "<IPython.core.display.Javascript object>"
      ]
     },
     "metadata": {},
     "output_type": "display_data"
    }
   ],
   "source": [
    "df = pd.concat(\n",
    "    [df, pd.get_dummies(df.condition1, prefix=\"condition1\", drop_first=True)], axis=1\n",
    ")\n",
    "df = pd.concat(\n",
    "    [df, pd.get_dummies(df.condition2, prefix=\"condition2\", drop_first=True)], axis=1\n",
    ")\n",
    "dummy_cols = list(\n",
    "    pd.get_dummies(df.condition1, prefix=\"condition1\", drop_first=True).columns\n",
    ")\n",
    "dummy_cols = dummy_cols + list(\n",
    "    pd.get_dummies(df.condition2, prefix=\"condition2\", drop_first=True).columns\n",
    ")"
   ]
  },
  {
   "cell_type": "code",
   "execution_count": 23,
   "metadata": {},
   "outputs": [
    {
     "data": {
      "application/javascript": [
       "\n",
       "            setTimeout(function() {\n",
       "                var nbb_cell_id = 23;\n",
       "                var nbb_unformatted_code = \"X = df[\\n    [\\n        \\\"overallqual\\\",\\n        \\\"grlivarea\\\",\\n        \\\"garagecars\\\",\\n        \\\"totalbsmtsf\\\",\\n    ]\\n    + dummy_cols\\n]\";\n",
       "                var nbb_formatted_code = \"X = df[\\n    [\\n        \\\"overallqual\\\",\\n        \\\"grlivarea\\\",\\n        \\\"garagecars\\\",\\n        \\\"totalbsmtsf\\\",\\n    ]\\n    + dummy_cols\\n]\";\n",
       "                var nbb_cells = Jupyter.notebook.get_cells();\n",
       "                for (var i = 0; i < nbb_cells.length; ++i) {\n",
       "                    if (nbb_cells[i].input_prompt_number == nbb_cell_id) {\n",
       "                        if (nbb_cells[i].get_text() == nbb_unformatted_code) {\n",
       "                             nbb_cells[i].set_text(nbb_formatted_code);\n",
       "                        }\n",
       "                        break;\n",
       "                    }\n",
       "                }\n",
       "            }, 500);\n",
       "            "
      ],
      "text/plain": [
       "<IPython.core.display.Javascript object>"
      ]
     },
     "metadata": {},
     "output_type": "display_data"
    }
   ],
   "source": [
    "X = df[\n",
    "    [\n",
    "        \"overallqual\",\n",
    "        \"grlivarea\",\n",
    "        \"garagecars\",\n",
    "        \"totalbsmtsf\",\n",
    "    ]\n",
    "    + dummy_cols\n",
    "]"
   ]
  },
  {
   "cell_type": "code",
   "execution_count": 24,
   "metadata": {},
   "outputs": [
    {
     "data": {
      "application/javascript": [
       "\n",
       "            setTimeout(function() {\n",
       "                var nbb_cell_id = 24;\n",
       "                var nbb_unformatted_code = \"droplist = [\\n    \\\"condition1_PosN\\\",\\n    \\\"condition1_RRAn\\\",\\n    \\\"condition1_Feedr\\\",\\n    \\\"condition1_PosA\\\",\\n    \\\"condition1_RRAe\\\",\\n    \\\"condition1_RRNe\\\",\\n    \\\"condition1_RRNn\\\",\\n    \\\"condition2_Feedr\\\",\\n    \\\"condition2_Norm\\\",\\n    \\\"condition2_PosA\\\",\\n    \\\"condition2_RRAe\\\",\\n    \\\"condition2_RRAn\\\",\\n    \\\"condition2_RRNn\\\",\\n]\";\n",
       "                var nbb_formatted_code = \"droplist = [\\n    \\\"condition1_PosN\\\",\\n    \\\"condition1_RRAn\\\",\\n    \\\"condition1_Feedr\\\",\\n    \\\"condition1_PosA\\\",\\n    \\\"condition1_RRAe\\\",\\n    \\\"condition1_RRNe\\\",\\n    \\\"condition1_RRNn\\\",\\n    \\\"condition2_Feedr\\\",\\n    \\\"condition2_Norm\\\",\\n    \\\"condition2_PosA\\\",\\n    \\\"condition2_RRAe\\\",\\n    \\\"condition2_RRAn\\\",\\n    \\\"condition2_RRNn\\\",\\n]\";\n",
       "                var nbb_cells = Jupyter.notebook.get_cells();\n",
       "                for (var i = 0; i < nbb_cells.length; ++i) {\n",
       "                    if (nbb_cells[i].input_prompt_number == nbb_cell_id) {\n",
       "                        if (nbb_cells[i].get_text() == nbb_unformatted_code) {\n",
       "                             nbb_cells[i].set_text(nbb_formatted_code);\n",
       "                        }\n",
       "                        break;\n",
       "                    }\n",
       "                }\n",
       "            }, 500);\n",
       "            "
      ],
      "text/plain": [
       "<IPython.core.display.Javascript object>"
      ]
     },
     "metadata": {},
     "output_type": "display_data"
    }
   ],
   "source": [
    "droplist = [\n",
    "    \"condition1_PosN\",\n",
    "    \"condition1_RRAn\",\n",
    "    \"condition1_Feedr\",\n",
    "    \"condition1_PosA\",\n",
    "    \"condition1_RRAe\",\n",
    "    \"condition1_RRNe\",\n",
    "    \"condition1_RRNn\",\n",
    "    \"condition2_Feedr\",\n",
    "    \"condition2_Norm\",\n",
    "    \"condition2_PosA\",\n",
    "    \"condition2_RRAe\",\n",
    "    \"condition2_RRAn\",\n",
    "    \"condition2_RRNn\",\n",
    "]"
   ]
  },
  {
   "cell_type": "code",
   "execution_count": 25,
   "metadata": {},
   "outputs": [
    {
     "data": {
      "application/javascript": [
       "\n",
       "            setTimeout(function() {\n",
       "                var nbb_cell_id = 25;\n",
       "                var nbb_unformatted_code = \"df[\\\"totalsf\\\"] = df[\\\"totalbsmtsf\\\"] + df[\\\"firstflrsf\\\"] + df[\\\"secondflrsf\\\"]\\ndf[\\\"inter_qual_sf\\\"] = df[\\\"totalsf\\\"] * df[\\\"overallqual\\\"]\\nX = X.drop(droplist, axis=1)\\ny = np.log1p(df.saleprice)\\nX = pd.concat([X, df[\\\"totalsf\\\"], df[\\\"inter_qual_sf\\\"]], axis=1)\\nX = X.drop(columns=[\\\"totalbsmtsf\\\"])\\n\\nX_train, X_test, y_train, y_test = train_test_split(\\n    X, y, test_size=0.2, random_state=42\\n)\";\n",
       "                var nbb_formatted_code = \"df[\\\"totalsf\\\"] = df[\\\"totalbsmtsf\\\"] + df[\\\"firstflrsf\\\"] + df[\\\"secondflrsf\\\"]\\ndf[\\\"inter_qual_sf\\\"] = df[\\\"totalsf\\\"] * df[\\\"overallqual\\\"]\\nX = X.drop(droplist, axis=1)\\ny = np.log1p(df.saleprice)\\nX = pd.concat([X, df[\\\"totalsf\\\"], df[\\\"inter_qual_sf\\\"]], axis=1)\\nX = X.drop(columns=[\\\"totalbsmtsf\\\"])\\n\\nX_train, X_test, y_train, y_test = train_test_split(\\n    X, y, test_size=0.2, random_state=42\\n)\";\n",
       "                var nbb_cells = Jupyter.notebook.get_cells();\n",
       "                for (var i = 0; i < nbb_cells.length; ++i) {\n",
       "                    if (nbb_cells[i].input_prompt_number == nbb_cell_id) {\n",
       "                        if (nbb_cells[i].get_text() == nbb_unformatted_code) {\n",
       "                             nbb_cells[i].set_text(nbb_formatted_code);\n",
       "                        }\n",
       "                        break;\n",
       "                    }\n",
       "                }\n",
       "            }, 500);\n",
       "            "
      ],
      "text/plain": [
       "<IPython.core.display.Javascript object>"
      ]
     },
     "metadata": {},
     "output_type": "display_data"
    }
   ],
   "source": [
    "df[\"totalsf\"] = df[\"totalbsmtsf\"] + df[\"firstflrsf\"] + df[\"secondflrsf\"]\n",
    "df[\"inter_qual_sf\"] = df[\"totalsf\"] * df[\"overallqual\"]\n",
    "X = X.drop(droplist, axis=1)\n",
    "y = np.log1p(df.saleprice)\n",
    "X = pd.concat([X, df[\"totalsf\"], df[\"inter_qual_sf\"]], axis=1)\n",
    "X = X.drop(columns=[\"totalbsmtsf\"])\n",
    "\n",
    "X_train, X_test, y_train, y_test = train_test_split(\n",
    "    X, y, test_size=0.2, random_state=42\n",
    ")"
   ]
  },
  {
   "cell_type": "code",
   "execution_count": 26,
   "metadata": {},
   "outputs": [
    {
     "data": {
      "application/javascript": [
       "\n",
       "            setTimeout(function() {\n",
       "                var nbb_cell_id = 26;\n",
       "                var nbb_unformatted_code = \"model = LinearRegression()\\nmodel.fit(X_train, y_train)\\n\\ny_pred_train = model.predict(X_train)\\ny_pred_test = model.predict(X_test)\";\n",
       "                var nbb_formatted_code = \"model = LinearRegression()\\nmodel.fit(X_train, y_train)\\n\\ny_pred_train = model.predict(X_train)\\ny_pred_test = model.predict(X_test)\";\n",
       "                var nbb_cells = Jupyter.notebook.get_cells();\n",
       "                for (var i = 0; i < nbb_cells.length; ++i) {\n",
       "                    if (nbb_cells[i].input_prompt_number == nbb_cell_id) {\n",
       "                        if (nbb_cells[i].get_text() == nbb_unformatted_code) {\n",
       "                             nbb_cells[i].set_text(nbb_formatted_code);\n",
       "                        }\n",
       "                        break;\n",
       "                    }\n",
       "                }\n",
       "            }, 500);\n",
       "            "
      ],
      "text/plain": [
       "<IPython.core.display.Javascript object>"
      ]
     },
     "metadata": {},
     "output_type": "display_data"
    }
   ],
   "source": [
    "model = LinearRegression()\n",
    "model.fit(X_train, y_train)\n",
    "\n",
    "y_pred_train = model.predict(X_train)\n",
    "y_pred_test = model.predict(X_test)"
   ]
  },
  {
   "cell_type": "code",
   "execution_count": 27,
   "metadata": {},
   "outputs": [
    {
     "name": "stdout",
     "output_type": "stream",
     "text": [
      "R-squared for training: 0.8055560580981167\n",
      "-------Test Set Stats-------\n",
      "R-squared for testing: 0.8263515481931782\n",
      "MAE: 0.12830411924832696\n",
      "MSE: 0.031795580798379124\n",
      "RMSE: 0.1783131537446947\n",
      "MAPE: 1.0823455824107318\n"
     ]
    },
    {
     "data": {
      "application/javascript": [
       "\n",
       "            setTimeout(function() {\n",
       "                var nbb_cell_id = 27;\n",
       "                var nbb_unformatted_code = \"print(\\\"R-squared for training: {}\\\".format(model.score(X_train, y_train)))\\nprint(\\\"-------Test Set Stats-------\\\")\\nprint(\\\"R-squared for testing: {}\\\".format(model.score(X_test, y_test)))\\nprint(\\\"MAE: {}\\\".format(mean_absolute_error(y_test, y_pred_test)))\\nprint(\\\"MSE: {}\\\".format(mse(y_test, y_pred_test)))\\nprint(\\\"RMSE: {}\\\".format(rmse(y_test, y_pred_test)))\\nprint(\\\"MAPE: {}\\\".format(np.mean(np.abs((y_test - y_pred_test) / y_test)) * 100))\";\n",
       "                var nbb_formatted_code = \"print(\\\"R-squared for training: {}\\\".format(model.score(X_train, y_train)))\\nprint(\\\"-------Test Set Stats-------\\\")\\nprint(\\\"R-squared for testing: {}\\\".format(model.score(X_test, y_test)))\\nprint(\\\"MAE: {}\\\".format(mean_absolute_error(y_test, y_pred_test)))\\nprint(\\\"MSE: {}\\\".format(mse(y_test, y_pred_test)))\\nprint(\\\"RMSE: {}\\\".format(rmse(y_test, y_pred_test)))\\nprint(\\\"MAPE: {}\\\".format(np.mean(np.abs((y_test - y_pred_test) / y_test)) * 100))\";\n",
       "                var nbb_cells = Jupyter.notebook.get_cells();\n",
       "                for (var i = 0; i < nbb_cells.length; ++i) {\n",
       "                    if (nbb_cells[i].input_prompt_number == nbb_cell_id) {\n",
       "                        if (nbb_cells[i].get_text() == nbb_unformatted_code) {\n",
       "                             nbb_cells[i].set_text(nbb_formatted_code);\n",
       "                        }\n",
       "                        break;\n",
       "                    }\n",
       "                }\n",
       "            }, 500);\n",
       "            "
      ],
      "text/plain": [
       "<IPython.core.display.Javascript object>"
      ]
     },
     "metadata": {},
     "output_type": "display_data"
    }
   ],
   "source": [
    "print(\"R-squared for training: {}\".format(model.score(X_train, y_train)))\n",
    "print(\"-------Test Set Stats-------\")\n",
    "print(\"R-squared for testing: {}\".format(model.score(X_test, y_test)))\n",
    "print(\"MAE: {}\".format(mean_absolute_error(y_test, y_pred_test)))\n",
    "print(\"MSE: {}\".format(mse(y_test, y_pred_test)))\n",
    "print(\"RMSE: {}\".format(rmse(y_test, y_pred_test)))\n",
    "print(\"MAPE: {}\".format(np.mean(np.abs((y_test - y_pred_test) / y_test)) * 100))"
   ]
  },
  {
   "cell_type": "code",
   "execution_count": 35,
   "metadata": {},
   "outputs": [
    {
     "name": "stdout",
     "output_type": "stream",
     "text": [
      "Best alpha: 0.001\n",
      "R-squared for training: 0.8031161829794807\n",
      "-------Test Set Stats-------\n",
      "R-squared for testing: 0.8247308238237335\n",
      "MAE: 0.12880626346603025\n",
      "MSE: 0.032092340556985614\n",
      "RMSE: 0.17914335197540995\n",
      "MAPE: 1.0860708717647505\n"
     ]
    },
    {
     "data": {
      "application/javascript": [
       "\n",
       "            setTimeout(function() {\n",
       "                var nbb_cell_id = 35;\n",
       "                var nbb_unformatted_code = \"alphas = [np.power(10.0, p) for p in np.arange(-10, 40, 1)]\\nmodel_lasso = LassoCV(alphas=alphas, cv=5)\\nmodel_lasso.fit(X_train, y_train)\\n\\ny_pred = model_lasso.predict(X_test)\\nprint(\\\"Best alpha: {}\\\".format(model_lasso.alpha_))\\nprint(\\\"R-squared for training: {}\\\".format(model_lasso.score(X_train, y_train)))\\nprint(\\\"-------Test Set Stats-------\\\")\\nprint(\\\"R-squared for testing: {}\\\".format(model_lasso.score(X_test, y_test)))\\nprint(\\\"MAE: {}\\\".format(mean_absolute_error(y_test, y_pred)))\\nprint(\\\"MSE: {}\\\".format(mse(y_test, y_pred)))\\nprint(\\\"RMSE: {}\\\".format(rmse(y_test, y_pred)))\\nprint(\\\"MAPE: {}\\\".format(np.mean(np.abs((y_test - y_pred) / y_test)) * 100))\";\n",
       "                var nbb_formatted_code = \"alphas = [np.power(10.0, p) for p in np.arange(-10, 40, 1)]\\nmodel_lasso = LassoCV(alphas=alphas, cv=5)\\nmodel_lasso.fit(X_train, y_train)\\n\\ny_pred = model_lasso.predict(X_test)\\nprint(\\\"Best alpha: {}\\\".format(model_lasso.alpha_))\\nprint(\\\"R-squared for training: {}\\\".format(model_lasso.score(X_train, y_train)))\\nprint(\\\"-------Test Set Stats-------\\\")\\nprint(\\\"R-squared for testing: {}\\\".format(model_lasso.score(X_test, y_test)))\\nprint(\\\"MAE: {}\\\".format(mean_absolute_error(y_test, y_pred)))\\nprint(\\\"MSE: {}\\\".format(mse(y_test, y_pred)))\\nprint(\\\"RMSE: {}\\\".format(rmse(y_test, y_pred)))\\nprint(\\\"MAPE: {}\\\".format(np.mean(np.abs((y_test - y_pred) / y_test)) * 100))\";\n",
       "                var nbb_cells = Jupyter.notebook.get_cells();\n",
       "                for (var i = 0; i < nbb_cells.length; ++i) {\n",
       "                    if (nbb_cells[i].input_prompt_number == nbb_cell_id) {\n",
       "                        if (nbb_cells[i].get_text() == nbb_unformatted_code) {\n",
       "                             nbb_cells[i].set_text(nbb_formatted_code);\n",
       "                        }\n",
       "                        break;\n",
       "                    }\n",
       "                }\n",
       "            }, 500);\n",
       "            "
      ],
      "text/plain": [
       "<IPython.core.display.Javascript object>"
      ]
     },
     "metadata": {},
     "output_type": "display_data"
    }
   ],
   "source": [
    "alphas = [np.power(10.0, p) for p in np.arange(-10, 40, 1)]\n",
    "model_lasso = LassoCV(alphas=alphas, cv=5)\n",
    "model_lasso.fit(X_train, y_train)\n",
    "\n",
    "y_pred = model_lasso.predict(X_test)\n",
    "print(\"Best alpha: {}\".format(model_lasso.alpha_))\n",
    "print(\"R-squared for training: {}\".format(model_lasso.score(X_train, y_train)))\n",
    "print(\"-------Test Set Stats-------\")\n",
    "print(\"R-squared for testing: {}\".format(model_lasso.score(X_test, y_test)))\n",
    "print(\"MAE: {}\".format(mean_absolute_error(y_test, y_pred)))\n",
    "print(\"MSE: {}\".format(mse(y_test, y_pred)))\n",
    "print(\"RMSE: {}\".format(rmse(y_test, y_pred)))\n",
    "print(\"MAPE: {}\".format(np.mean(np.abs((y_test - y_pred) / y_test)) * 100))"
   ]
  },
  {
   "cell_type": "code",
   "execution_count": 36,
   "metadata": {},
   "outputs": [
    {
     "name": "stdout",
     "output_type": "stream",
     "text": [
      "Best alpha: 10.0\n",
      "R-squared for training: 0.8038168452724259\n",
      "-------Test Set Stats-------\n",
      "R-squared for testing: 0.8255006993749661\n",
      "MAE: 0.1284405133762482\n",
      "MSE: 0.03195137390833882\n",
      "RMSE: 0.1787494724700994\n",
      "MAPE: 1.0831546205326443\n"
     ]
    },
    {
     "data": {
      "application/javascript": [
       "\n",
       "            setTimeout(function() {\n",
       "                var nbb_cell_id = 36;\n",
       "                var nbb_unformatted_code = \"model_ridge = RidgeCV(alphas=alphas, cv=5)\\nmodel_ridge.fit(X_train, y_train)\\n\\ny_pred = model_ridge.predict(X_test)\\nprint(\\\"Best alpha: {}\\\".format(model_ridge.alpha_))\\nprint(\\\"R-squared for training: {}\\\".format(model_ridge.score(X_train, y_train)))\\nprint(\\\"-------Test Set Stats-------\\\")\\nprint(\\\"R-squared for testing: {}\\\".format(model_ridge.score(X_test, y_test)))\\nprint(\\\"MAE: {}\\\".format(mean_absolute_error(y_test, y_pred)))\\nprint(\\\"MSE: {}\\\".format(mse(y_test, y_pred)))\\nprint(\\\"RMSE: {}\\\".format(rmse(y_test, y_pred)))\\nprint(\\\"MAPE: {}\\\".format(np.mean(np.abs((y_test - y_pred) / y_test)) * 100))\";\n",
       "                var nbb_formatted_code = \"model_ridge = RidgeCV(alphas=alphas, cv=5)\\nmodel_ridge.fit(X_train, y_train)\\n\\ny_pred = model_ridge.predict(X_test)\\nprint(\\\"Best alpha: {}\\\".format(model_ridge.alpha_))\\nprint(\\\"R-squared for training: {}\\\".format(model_ridge.score(X_train, y_train)))\\nprint(\\\"-------Test Set Stats-------\\\")\\nprint(\\\"R-squared for testing: {}\\\".format(model_ridge.score(X_test, y_test)))\\nprint(\\\"MAE: {}\\\".format(mean_absolute_error(y_test, y_pred)))\\nprint(\\\"MSE: {}\\\".format(mse(y_test, y_pred)))\\nprint(\\\"RMSE: {}\\\".format(rmse(y_test, y_pred)))\\nprint(\\\"MAPE: {}\\\".format(np.mean(np.abs((y_test - y_pred) / y_test)) * 100))\";\n",
       "                var nbb_cells = Jupyter.notebook.get_cells();\n",
       "                for (var i = 0; i < nbb_cells.length; ++i) {\n",
       "                    if (nbb_cells[i].input_prompt_number == nbb_cell_id) {\n",
       "                        if (nbb_cells[i].get_text() == nbb_unformatted_code) {\n",
       "                             nbb_cells[i].set_text(nbb_formatted_code);\n",
       "                        }\n",
       "                        break;\n",
       "                    }\n",
       "                }\n",
       "            }, 500);\n",
       "            "
      ],
      "text/plain": [
       "<IPython.core.display.Javascript object>"
      ]
     },
     "metadata": {},
     "output_type": "display_data"
    }
   ],
   "source": [
    "model_ridge = RidgeCV(alphas=alphas, cv=5)\n",
    "model_ridge.fit(X_train, y_train)\n",
    "\n",
    "y_pred = model_ridge.predict(X_test)\n",
    "print(\"Best alpha: {}\".format(model_ridge.alpha_))\n",
    "print(\"R-squared for training: {}\".format(model_ridge.score(X_train, y_train)))\n",
    "print(\"-------Test Set Stats-------\")\n",
    "print(\"R-squared for testing: {}\".format(model_ridge.score(X_test, y_test)))\n",
    "print(\"MAE: {}\".format(mean_absolute_error(y_test, y_pred)))\n",
    "print(\"MSE: {}\".format(mse(y_test, y_pred)))\n",
    "print(\"RMSE: {}\".format(rmse(y_test, y_pred)))\n",
    "print(\"MAPE: {}\".format(np.mean(np.abs((y_test - y_pred) / y_test)) * 100))"
   ]
  },
  {
   "cell_type": "code",
   "execution_count": 37,
   "metadata": {},
   "outputs": [
    {
     "name": "stdout",
     "output_type": "stream",
     "text": [
      "Best alpha: 0.001\n",
      "R-squared for training: 0.804256841850514\n",
      "-------Test Set Stats-------\n",
      "R-squared for testing: 0.8252211838955797\n",
      "MAE: 0.12865483959782825\n",
      "MSE: 0.032002554076758144\n",
      "RMSE: 0.17889257691910568\n",
      "MAPE: 1.084926413100304\n"
     ]
    },
    {
     "data": {
      "application/javascript": [
       "\n",
       "            setTimeout(function() {\n",
       "                var nbb_cell_id = 37;\n",
       "                var nbb_unformatted_code = \"model_elastic = ElasticNetCV(alphas=alphas, cv=5)\\nmodel_elastic.fit(X_train, y_train)\\n\\ny_pred = model_elastic.predict(X_test)\\nprint(\\\"Best alpha: {}\\\".format(model_elastic.alpha_))\\nprint(\\\"R-squared for training: {}\\\".format(model_elastic.score(X_train, y_train)))\\nprint(\\\"-------Test Set Stats-------\\\")\\nprint(\\\"R-squared for testing: {}\\\".format(model_elastic.score(X_test, y_test)))\\nprint(\\\"MAE: {}\\\".format(mean_absolute_error(y_test, y_pred)))\\nprint(\\\"MSE: {}\\\".format(mse(y_test, y_pred)))\\nprint(\\\"RMSE: {}\\\".format(rmse(y_test, y_pred)))\\nprint(\\\"MAPE: {}\\\".format(np.mean(np.abs((y_test - y_pred) / y_test)) * 100))\";\n",
       "                var nbb_formatted_code = \"model_elastic = ElasticNetCV(alphas=alphas, cv=5)\\nmodel_elastic.fit(X_train, y_train)\\n\\ny_pred = model_elastic.predict(X_test)\\nprint(\\\"Best alpha: {}\\\".format(model_elastic.alpha_))\\nprint(\\\"R-squared for training: {}\\\".format(model_elastic.score(X_train, y_train)))\\nprint(\\\"-------Test Set Stats-------\\\")\\nprint(\\\"R-squared for testing: {}\\\".format(model_elastic.score(X_test, y_test)))\\nprint(\\\"MAE: {}\\\".format(mean_absolute_error(y_test, y_pred)))\\nprint(\\\"MSE: {}\\\".format(mse(y_test, y_pred)))\\nprint(\\\"RMSE: {}\\\".format(rmse(y_test, y_pred)))\\nprint(\\\"MAPE: {}\\\".format(np.mean(np.abs((y_test - y_pred) / y_test)) * 100))\";\n",
       "                var nbb_cells = Jupyter.notebook.get_cells();\n",
       "                for (var i = 0; i < nbb_cells.length; ++i) {\n",
       "                    if (nbb_cells[i].input_prompt_number == nbb_cell_id) {\n",
       "                        if (nbb_cells[i].get_text() == nbb_unformatted_code) {\n",
       "                             nbb_cells[i].set_text(nbb_formatted_code);\n",
       "                        }\n",
       "                        break;\n",
       "                    }\n",
       "                }\n",
       "            }, 500);\n",
       "            "
      ],
      "text/plain": [
       "<IPython.core.display.Javascript object>"
      ]
     },
     "metadata": {},
     "output_type": "display_data"
    }
   ],
   "source": [
    "model_elastic = ElasticNetCV(alphas=alphas, cv=5)\n",
    "model_elastic.fit(X_train, y_train)\n",
    "\n",
    "y_pred = model_elastic.predict(X_test)\n",
    "print(\"Best alpha: {}\".format(model_elastic.alpha_))\n",
    "print(\"R-squared for training: {}\".format(model_elastic.score(X_train, y_train)))\n",
    "print(\"-------Test Set Stats-------\")\n",
    "print(\"R-squared for testing: {}\".format(model_elastic.score(X_test, y_test)))\n",
    "print(\"MAE: {}\".format(mean_absolute_error(y_test, y_pred)))\n",
    "print(\"MSE: {}\".format(mse(y_test, y_pred)))\n",
    "print(\"RMSE: {}\".format(rmse(y_test, y_pred)))\n",
    "print(\"MAPE: {}\".format(np.mean(np.abs((y_test - y_pred) / y_test)) * 100))"
   ]
  },
  {
   "cell_type": "markdown",
   "metadata": {},
   "source": [
    "Linear Regression is the best model according to the results."
   ]
  }
 ],
 "metadata": {
  "kernelspec": {
   "display_name": "Python 3",
   "language": "python",
   "name": "python3"
  },
  "language_info": {
   "codemirror_mode": {
    "name": "ipython",
    "version": 3
   },
   "file_extension": ".py",
   "mimetype": "text/x-python",
   "name": "python",
   "nbconvert_exporter": "python",
   "pygments_lexer": "ipython3",
   "version": "3.8.3"
  }
 },
 "nbformat": 4,
 "nbformat_minor": 4
}
